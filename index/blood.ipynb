{
 "cells": [
  {
   "cell_type": "code",
   "execution_count": 1,
   "metadata": {},
   "outputs": [],
   "source": [
    "hg19tohg38='http://hgdownload.soe.ucsc.edu/goldenPath/hg19/liftOver/hg19ToHg38.over.chain.gz'\n",
    "#!CrossMap.py bigwig hg19ToHg38.over.chain.gz $y1 y1"
   ]
  },
  {
   "cell_type": "code",
   "execution_count": 1,
   "metadata": {},
   "outputs": [],
   "source": [
    "import pandas as pd\n",
    "import pyBigWig\n",
    "import numpy as np\n",
    "import seaborn as sns\n",
    "import re\n",
    "from liftover import get_lifter\n",
    "data='/labs/mpsnyder/moqri/data/index/'\n",
    "\n",
    "v='38'\n",
    "h9_bw='http://smithdata.usc.edu/methbase/data/Xie-Human-2013/Human_H9/tracks_hg'+v+'/Human_H9.meth.bw'\n",
    "ips_bw='http://smithdata.usc.edu/methbase/data/Lister-iPSC-2011/Human_FFiPSC69/tracks_hg'+v+'/Human_FFiPSC69.meth.bw'\n",
    "ezh_pk='https://ftp.ncbi.nlm.nih.gov/geo/series/GSE76nnn/GSE76626/suppl/GSE76626_ChIP-Seq_RPM.txt.gz' ## hg38\n",
    "\n",
    "ct_bw='http://smithdata.usc.edu/methbase/data/Heyn-Human-NewbornCentenarian-2012/Human_CD4T-100yr/tracks_hg'+v+'/Human_CD4T-100yr.meth.bw'\n",
    "nb_bw='http://smithdata.usc.edu/methbase/data/Heyn-Human-NewbornCentenarian-2012/Human_CD4T-Newborn/tracks_hg'+v+'/Human_CD4T-Newborn.meth.bw'\n",
    "\n",
    "def bw2df(cell,ch):\n",
    "    df=bws[cell].intervals(\"chr\"+str(ch))\n",
    "    print(len(df))\n",
    "    df=pd.DataFrame(df)\n",
    "    df.index=df[0]\n",
    "    df=df[2]\n",
    "    dfs.append(df)    \n",
    "    return(dfs)\n"
   ]
  },
  {
   "cell_type": "code",
   "execution_count": 2,
   "metadata": {},
   "outputs": [
    {
     "name": "stdout",
     "output_type": "stream",
     "text": [
      "(25259, 9)\n"
     ]
    },
    {
     "data": {
      "text/plain": [
       "27.115971"
      ]
     },
     "execution_count": 2,
     "metadata": {},
     "output_type": "execute_result"
    }
   ],
   "source": [
    "ezh=pd.read_table('ezh2_38',skiprows=1)\n",
    "ezh['chrom']=ezh.chrom.str.strip('chr')\n",
    "ezh['chrom']=pd.to_numeric(ezh.chrom,errors='coerce')\n",
    "ezh=ezh.dropna()\n",
    "ezh['chrom']=ezh.chrom.astype(int).astype(str)\n",
    "print(ezh.shape)\n",
    "ezh['d']=ezh.chromEnd-ezh.chromStart\n",
    "ezh.d.sum()/1000000"
   ]
  },
  {
   "cell_type": "code",
   "execution_count": 19,
   "metadata": {},
   "outputs": [
    {
     "name": "stdout",
     "output_type": "stream",
     "text": [
      "(1219, 4)\n"
     ]
    },
    {
     "name": "stderr",
     "output_type": "stream",
     "text": [
      "/home/moqri/anaconda3/envs/stem/lib/python3.9/site-packages/IPython/core/interactiveshell.py:3437: DtypeWarning: Columns (1) have mixed types.Specify dtype option on import or set low_memory=False.\n",
      "  exec(code_obj, self.user_global_ns, self.user_ns)\n"
     ]
    },
    {
     "data": {
      "text/plain": [
       "6.095"
      ]
     },
     "execution_count": 19,
     "metadata": {},
     "output_type": "execute_result"
    }
   ],
   "source": [
    "ezh=pd.read_table(ezh_pk,index_col=0)\n",
    "ezh=ezh[ezh.Chromosome!='MT']\n",
    "ezh=ezh[['Chromosome','Start','End','WT_EZH2']][ezh['WT_EZH2']>2]\n",
    "ezh.columns=['chrom', 'chromStart', 'chromEnd', 'value']\n",
    "ezh['chrom']=ezh.chrom.astype(str)\n",
    "print(ezh.shape)\n",
    "ezh['d']=ezh.chromEnd-ezh.chromStart\n",
    "ezh.d.sum()/1000000"
   ]
  },
  {
   "cell_type": "code",
   "execution_count": 16,
   "metadata": {},
   "outputs": [],
   "source": [
    "blood=[ips_bw,h9_bw,nb_bw,ct_bw]\n",
    "#skin=[ips_bw,h9_bw,young_bw,old_bw]"
   ]
  },
  {
   "cell_type": "code",
   "execution_count": 17,
   "metadata": {},
   "outputs": [],
   "source": [
    "cells=blood\n",
    "bws={}\n",
    "for cell in cells:\n",
    "    bws[cell]=pyBigWig.open(cell)"
   ]
  },
  {
   "cell_type": "code",
   "execution_count": 20,
   "metadata": {},
   "outputs": [
    {
     "name": "stderr",
     "output_type": "stream",
     "text": [
      "/home/moqri/anaconda3/envs/stem/lib/python3.9/site-packages/pandas/core/frame.py:3607: SettingWithCopyWarning: \n",
      "A value is trying to be set on a copy of a slice from a DataFrame.\n",
      "Try using .loc[row_indexer,col_indexer] = value instead\n",
      "\n",
      "See the caveats in the documentation: https://pandas.pydata.org/pandas-docs/stable/user_guide/indexing.html#returning-a-view-versus-a-copy\n",
      "  self._set_item(key, value)\n"
     ]
    },
    {
     "name": "stdout",
     "output_type": "stream",
     "text": [
      "22\n",
      "575094\n",
      "576289\n",
      "576289\n",
      "576289\n"
     ]
    },
    {
     "name": "stderr",
     "output_type": "stream",
     "text": [
      "<ipython-input-20-6291a55c25fe>:14: FutureWarning: In a future version of pandas all arguments of concat except for the argument 'objs' will be keyword-only\n",
      "  df=pd.concat(dfs,1)\n"
     ]
    },
    {
     "name": "stdout",
     "output_type": "stream",
     "text": [
      "(2208, 6)\n"
     ]
    },
    {
     "name": "stderr",
     "output_type": "stream",
     "text": [
      "<ipython-input-20-6291a55c25fe>:20: UserWarning: Boolean Series key will be reindexed to match DataFrame index.\n",
      "  ez=df[df.h<.5][df['ez']]\n"
     ]
    },
    {
     "data": {
      "text/plain": [
       "<AxesSubplot:>"
      ]
     },
     "execution_count": 20,
     "metadata": {},
     "output_type": "execute_result"
    },
    {
     "data": {
      "image/png": "[encoded data removed]",
      "text/plain": [
       "<Figure size 432x288 with 1 Axes>"
      ]
     },
     "metadata": {
      "needs_background": "light"
     },
     "output_type": "display_data"
    },
    {
     "data": {
      "image/png": "[encoded data removed]",
      "text/plain": [
       "<Figure size 432x288 with 1 Axes>"
      ]
     },
     "metadata": {
      "needs_background": "light"
     },
     "output_type": "display_data"
    }
   ],
   "source": [
    "ggs=[]\n",
    "ezs=[]\n",
    "for ch in range(22,23):\n",
    "    print(ch,end='\\n')\n",
    "    dfs=[]\n",
    "    ez=ezh[ezh.chrom==str(ch)]\n",
    "    #ez=ezh[ezh.chrom=='chr'+str(ch)][ezh.sourceCount>1]\n",
    "    ez['r']=ez.apply(lambda x:range(x['chromStart'],x['chromEnd']),1)\n",
    "    ez=ez['r'].tolist()\n",
    "    ez1=set([item for sublist in ez for item in sublist])\n",
    "    ez=ez1#.intersection(ez2)#.intersection(ez1)\n",
    "    for cell in cells:\n",
    "        dfs=bw2df(cell,ch)\n",
    "    df=pd.concat(dfs,1)\n",
    "    df.columns=['i','h','n','c']\n",
    "    df['ind']=df.index\n",
    "    df['ez']=df.ind.apply(lambda x: x in(ez))\n",
    "    gg=df[~df['ez']].mean()\n",
    "    ggs.append(gg)\n",
    "    ez=df[df.h<.5][df['ez']]\n",
    "    print(ez.shape)\n",
    "    ezs.append(ez.mean())   \n",
    "ggs=pd.DataFrame(ggs)\n",
    "ggs[['h','i','n','c']].plot(kind='bar')\n",
    "ezs=pd.DataFrame(ezs)\n",
    "ezs[['h','i','n','c']].plot(kind='bar')\n",
    "#ggs.to_csv('ggs_skin')\n",
    "#ezs.to_csv('ezs_skin')"
   ]
  },
  {
   "cell_type": "code",
   "execution_count": 11,
   "metadata": {},
   "outputs": [
    {
     "data": {
      "text/plain": [
       "(1, 3)"
      ]
     },
     "execution_count": 11,
     "metadata": {},
     "output_type": "execute_result"
    }
   ],
   "source": [
    "df=pd.read_table(data+'GSE52972_BS_dat.txt',sep=' ',nrows=100000000,usecols=['chr','start'],index_col=0)\n",
    "df.shape"
   ]
  },
  {
   "cell_type": "code",
   "execution_count": null,
   "metadata": {},
   "outputs": [],
   "source": [
    "df['end']=df['start']"
   ]
  },
  {
   "cell_type": "code",
   "execution_count": 4,
   "metadata": {},
   "outputs": [],
   "source": [
    "df.columns=['chrom','chromStart','chromEnd']"
   ]
  },
  {
   "cell_type": "code",
   "execution_count": 5,
   "metadata": {},
   "outputs": [],
   "source": [
    "df.to_csv('hg19.txt',index=False,sep='\\t',header=False)"
   ]
  },
  {
   "cell_type": "code",
   "execution_count": 6,
   "metadata": {},
   "outputs": [
    {
     "name": "stdout",
     "output_type": "stream",
     "text": [
      "2021-11-12 01:55:19 [INFO]  Read the chain file \"hg19ToHg38.over.chain.gz\" \n"
     ]
    }
   ],
   "source": [
    "!CrossMap.py bed hg19ToHg38.over.chain.gz hg19.txt hg38.txt"
   ]
  },
  {
   "cell_type": "code",
   "execution_count": 7,
   "metadata": {},
   "outputs": [
    {
     "data": {
      "text/plain": [
       "(9262, 4)"
      ]
     },
     "execution_count": 7,
     "metadata": {},
     "output_type": "execute_result"
    }
   ],
   "source": [
    "un=pd.read_table('hg38.txt.unmap',header=None)\n",
    "un.shape"
   ]
  },
  {
   "cell_type": "code",
   "execution_count": 8,
   "metadata": {},
   "outputs": [
    {
     "name": "stderr",
     "output_type": "stream",
     "text": [
      "<ipython-input-8-c847f56dbb89>:1: FutureWarning: In a future version of pandas all arguments of DataFrame.drop except for the argument 'labels' will be keyword-only\n",
      "  un=un.drop(3,1)\n"
     ]
    }
   ],
   "source": [
    "un=un.drop(3,1)\n",
    "un.columns=df.columns"
   ]
  },
  {
   "cell_type": "code",
   "execution_count": 9,
   "metadata": {},
   "outputs": [],
   "source": [
    "un['un']=1"
   ]
  },
  {
   "cell_type": "code",
   "execution_count": 10,
   "metadata": {},
   "outputs": [],
   "source": [
    "df=df.merge(un,how='left')"
   ]
  },
  {
   "cell_type": "code",
   "execution_count": 11,
   "metadata": {},
   "outputs": [],
   "source": [
    "df=df[df.un!=1]"
   ]
  },
  {
   "cell_type": "code",
   "execution_count": 12,
   "metadata": {},
   "outputs": [
    {
     "name": "stderr",
     "output_type": "stream",
     "text": [
      "<ipython-input-12-bcd04c511161>:1: FutureWarning: In a future version of pandas all arguments of DataFrame.drop except for the argument 'labels' will be keyword-only\n",
      "  df=df.drop('un',1)\n"
     ]
    }
   ],
   "source": [
    "df=df.drop('un',1)"
   ]
  },
  {
   "cell_type": "code",
   "execution_count": 13,
   "metadata": {},
   "outputs": [
    {
     "data": {
      "text/plain": [
       "(28208186, 3)"
      ]
     },
     "execution_count": 13,
     "metadata": {},
     "output_type": "execute_result"
    }
   ],
   "source": [
    "df.shape"
   ]
  },
  {
   "cell_type": "code",
   "execution_count": 72,
   "metadata": {},
   "outputs": [],
   "source": [
    "df.to_csv('index', columns=[], header=False)"
   ]
  },
  {
   "cell_type": "code",
   "execution_count": 2,
   "metadata": {},
   "outputs": [
    {
     "data": {
      "text/plain": [
       "(28217448, 6)"
      ]
     },
     "execution_count": 2,
     "metadata": {},
     "output_type": "execute_result"
    }
   ],
   "source": [
    "cols=['Sample_E41','Sample_E43',\n",
    "       'Sample_E45', 'Sample_E47', 'Sample_E49', 'Sample_E51',]# 'Sample_P41','Sample_P43', 'Sample_P45', 'Sample_P47', 'Sample_P49', 'Sample_P51']\n",
    "df=pd.read_table(data+'GSE52972_BS_dat.txt',sep=' ',nrows=100000000,usecols=cols,index_col=0)\n",
    "df.shape"
   ]
  },
  {
   "cell_type": "code",
   "execution_count": 3,
   "metadata": {},
   "outputs": [],
   "source": [
    "df=df.reset_index(drop=1)"
   ]
  },
  {
   "cell_type": "code",
   "execution_count": 4,
   "metadata": {},
   "outputs": [
    {
     "name": "stderr",
     "output_type": "stream",
     "text": [
      "/home/moqri/anaconda3/envs/stem/lib/python3.9/site-packages/numpy/lib/arraysetops.py:583: FutureWarning: elementwise comparison failed; returning scalar instead, but in the future will perform elementwise comparison\n",
      "  mask |= (ar1 == a)\n"
     ]
    }
   ],
   "source": [
    "ind=pd.read_table('index',index_col=0,header=None)"
   ]
  },
  {
   "cell_type": "code",
   "execution_count": 5,
   "metadata": {},
   "outputs": [],
   "source": [
    "df=df.loc[ind.index]"
   ]
  },
  {
   "cell_type": "code",
   "execution_count": 6,
   "metadata": {},
   "outputs": [
    {
     "data": {
      "text/plain": [
       "(28208186, 6)"
      ]
     },
     "execution_count": 6,
     "metadata": {},
     "output_type": "execute_result"
    }
   ],
   "source": [
    "df.shape"
   ]
  },
  {
   "cell_type": "code",
   "execution_count": 7,
   "metadata": {},
   "outputs": [
    {
     "data": {
      "text/plain": [
       "(28208186, 3)"
      ]
     },
     "execution_count": 7,
     "metadata": {},
     "output_type": "execute_result"
    }
   ],
   "source": [
    "df38=pd.read_table('hg38.txt',header=None)\n",
    "df38.shape"
   ]
  },
  {
   "cell_type": "code",
   "execution_count": 8,
   "metadata": {},
   "outputs": [],
   "source": [
    "df=df.reset_index(drop=1)"
   ]
  },
  {
   "cell_type": "code",
   "execution_count": 9,
   "metadata": {},
   "outputs": [],
   "source": [
    "df[['chrom','chromStart']]=df38[[0,1]]"
   ]
  },
  {
   "cell_type": "code",
   "execution_count": 15,
   "metadata": {},
   "outputs": [
    {
     "data": {
      "text/plain": [
       "<AxesSubplot:xlabel='Sample_E41', ylabel='Sample_E43'>"
      ]
     },
     "execution_count": 15,
     "metadata": {},
     "output_type": "execute_result"
    },
    {
     "data": {
      "image/png": "[encoded data removed]",
      "text/plain": [
       "<Figure size 432x288 with 1 Axes>"
      ]
     },
     "metadata": {
      "needs_background": "light"
     },
     "output_type": "display_data"
    }
   ],
   "source": [
    "df[df.chrom=='chr6'][['Sample_E41','Sample_E43']].plot.scatter('Sample_E41','Sample_E43',s=1)"
   ]
  },
  {
   "cell_type": "code",
   "execution_count": 14,
   "metadata": {},
   "outputs": [
    {
     "name": "stderr",
     "output_type": "stream",
     "text": [
      "<ipython-input-14-b1811e13ad0f>:1: UserWarning: Boolean Series key will be reindexed to match DataFrame index.\n",
      "  df[df.chrom=='chr6'][df.chromStart>11044685].sort_values('chromStart').head(50)\n"
     ]
    },
    {
     "data": {
      "text/html": [
       "<div>\n",
       "<style scoped>\n",
       "    .dataframe tbody tr th:only-of-type {\n",
       "        vertical-align: middle;\n",
       "    }\n",
       "\n",
       "    .dataframe tbody tr th {\n",
       "        vertical-align: top;\n",
       "    }\n",
       "\n",
       "    .dataframe thead th {\n",
       "        text-align: right;\n",
       "    }\n",
       "</style>\n",
       "<table border=\"1\" class=\"dataframe\">\n",
       "  <thead>\n",
       "    <tr style=\"text-align: right;\">\n",
       "      <th></th>\n",
       "      <th>Sample_E41</th>\n",
       "      <th>Sample_E43</th>\n",
       "      <th>Sample_E45</th>\n",
       "      <th>Sample_E47</th>\n",
       "      <th>Sample_E49</th>\n",
       "      <th>Sample_E51</th>\n",
       "      <th>chrom</th>\n",
       "      <th>chromStart</th>\n",
       "    </tr>\n",
       "  </thead>\n",
       "  <tbody>\n",
       "    <tr>\n",
       "      <th>21297718</th>\n",
       "      <td>0.576762</td>\n",
       "      <td>0.537080</td>\n",
       "      <td>0.554169</td>\n",
       "      <td>0.635020</td>\n",
       "      <td>0.466186</td>\n",
       "      <td>0.462107</td>\n",
       "      <td>chr6</td>\n",
       "      <td>11044695</td>\n",
       "    </tr>\n",
       "    <tr>\n",
       "      <th>21297719</th>\n",
       "      <td>0.576781</td>\n",
       "      <td>0.537159</td>\n",
       "      <td>0.554194</td>\n",
       "      <td>0.635066</td>\n",
       "      <td>0.466158</td>\n",
       "      <td>0.462133</td>\n",
       "      <td>chr6</td>\n",
       "      <td>11044702</td>\n",
       "    </tr>\n",
       "    <tr>\n",
       "      <th>21297720</th>\n",
       "      <td>0.576803</td>\n",
       "      <td>0.537250</td>\n",
       "      <td>0.554223</td>\n",
       "      <td>0.635120</td>\n",
       "      <td>0.466127</td>\n",
       "      <td>0.462164</td>\n",
       "      <td>chr6</td>\n",
       "      <td>11044710</td>\n",
       "    </tr>\n",
       "    <tr>\n",
       "      <th>21297721</th>\n",
       "      <td>0.576847</td>\n",
       "      <td>0.537433</td>\n",
       "      <td>0.554282</td>\n",
       "      <td>0.635227</td>\n",
       "      <td>0.466065</td>\n",
       "      <td>0.462228</td>\n",
       "      <td>chr6</td>\n",
       "      <td>11044726</td>\n",
       "    </tr>\n",
       "    <tr>\n",
       "      <th>21297722</th>\n",
       "      <td>0.576873</td>\n",
       "      <td>0.537538</td>\n",
       "      <td>0.554315</td>\n",
       "      <td>0.635287</td>\n",
       "      <td>0.466031</td>\n",
       "      <td>0.462264</td>\n",
       "      <td>chr6</td>\n",
       "      <td>11044735</td>\n",
       "    </tr>\n",
       "    <tr>\n",
       "      <th>21297723</th>\n",
       "      <td>0.576891</td>\n",
       "      <td>0.537608</td>\n",
       "      <td>0.554338</td>\n",
       "      <td>0.635327</td>\n",
       "      <td>0.466008</td>\n",
       "      <td>0.462289</td>\n",
       "      <td>chr6</td>\n",
       "      <td>11044741</td>\n",
       "    </tr>\n",
       "    <tr>\n",
       "      <th>21297724</th>\n",
       "      <td>0.576969</td>\n",
       "      <td>0.537915</td>\n",
       "      <td>0.554438</td>\n",
       "      <td>0.635503</td>\n",
       "      <td>0.465914</td>\n",
       "      <td>0.462401</td>\n",
       "      <td>chr6</td>\n",
       "      <td>11044767</td>\n",
       "    </tr>\n",
       "    <tr>\n",
       "      <th>21297725</th>\n",
       "      <td>0.577140</td>\n",
       "      <td>0.538562</td>\n",
       "      <td>0.554652</td>\n",
       "      <td>0.635865</td>\n",
       "      <td>0.465737</td>\n",
       "      <td>0.462649</td>\n",
       "      <td>chr6</td>\n",
       "      <td>11044820</td>\n",
       "    </tr>\n",
       "    <tr>\n",
       "      <th>21297726</th>\n",
       "      <td>0.577323</td>\n",
       "      <td>0.539223</td>\n",
       "      <td>0.554877</td>\n",
       "      <td>0.636225</td>\n",
       "      <td>0.465583</td>\n",
       "      <td>0.462917</td>\n",
       "      <td>chr6</td>\n",
       "      <td>11044872</td>\n",
       "    </tr>\n",
       "    <tr>\n",
       "      <th>21297727</th>\n",
       "      <td>0.577360</td>\n",
       "      <td>0.539353</td>\n",
       "      <td>0.554922</td>\n",
       "      <td>0.636295</td>\n",
       "      <td>0.465556</td>\n",
       "      <td>0.462972</td>\n",
       "      <td>chr6</td>\n",
       "      <td>11044882</td>\n",
       "    </tr>\n",
       "    <tr>\n",
       "      <th>21297728</th>\n",
       "      <td>0.577398</td>\n",
       "      <td>0.539485</td>\n",
       "      <td>0.554967</td>\n",
       "      <td>0.636365</td>\n",
       "      <td>0.465530</td>\n",
       "      <td>0.463028</td>\n",
       "      <td>chr6</td>\n",
       "      <td>11044892</td>\n",
       "    </tr>\n",
       "    <tr>\n",
       "      <th>21297729</th>\n",
       "      <td>0.577425</td>\n",
       "      <td>0.539577</td>\n",
       "      <td>0.554999</td>\n",
       "      <td>0.636414</td>\n",
       "      <td>0.465511</td>\n",
       "      <td>0.463068</td>\n",
       "      <td>chr6</td>\n",
       "      <td>11044899</td>\n",
       "    </tr>\n",
       "    <tr>\n",
       "      <th>21297730</th>\n",
       "      <td>0.577523</td>\n",
       "      <td>0.539911</td>\n",
       "      <td>0.555116</td>\n",
       "      <td>0.636590</td>\n",
       "      <td>0.465449</td>\n",
       "      <td>0.463218</td>\n",
       "      <td>chr6</td>\n",
       "      <td>11044924</td>\n",
       "    </tr>\n",
       "    <tr>\n",
       "      <th>21297731</th>\n",
       "      <td>0.577547</td>\n",
       "      <td>0.539992</td>\n",
       "      <td>0.555145</td>\n",
       "      <td>0.636632</td>\n",
       "      <td>0.465435</td>\n",
       "      <td>0.463256</td>\n",
       "      <td>chr6</td>\n",
       "      <td>11044930</td>\n",
       "    </tr>\n",
       "    <tr>\n",
       "      <th>21297732</th>\n",
       "      <td>0.577580</td>\n",
       "      <td>0.540101</td>\n",
       "      <td>0.555183</td>\n",
       "      <td>0.636689</td>\n",
       "      <td>0.465417</td>\n",
       "      <td>0.463308</td>\n",
       "      <td>chr6</td>\n",
       "      <td>11044938</td>\n",
       "    </tr>\n",
       "    <tr>\n",
       "      <th>21297733</th>\n",
       "      <td>0.577588</td>\n",
       "      <td>0.540128</td>\n",
       "      <td>0.555192</td>\n",
       "      <td>0.636703</td>\n",
       "      <td>0.465412</td>\n",
       "      <td>0.463321</td>\n",
       "      <td>chr6</td>\n",
       "      <td>11044940</td>\n",
       "    </tr>\n",
       "    <tr>\n",
       "      <th>21297734</th>\n",
       "      <td>0.577637</td>\n",
       "      <td>0.540292</td>\n",
       "      <td>0.555251</td>\n",
       "      <td>0.636789</td>\n",
       "      <td>0.465386</td>\n",
       "      <td>0.463401</td>\n",
       "      <td>chr6</td>\n",
       "      <td>11044952</td>\n",
       "    </tr>\n",
       "    <tr>\n",
       "      <th>21297735</th>\n",
       "      <td>0.577662</td>\n",
       "      <td>0.540375</td>\n",
       "      <td>0.555280</td>\n",
       "      <td>0.636832</td>\n",
       "      <td>0.465373</td>\n",
       "      <td>0.463442</td>\n",
       "      <td>chr6</td>\n",
       "      <td>11044958</td>\n",
       "    </tr>\n",
       "    <tr>\n",
       "      <th>21297736</th>\n",
       "      <td>0.577692</td>\n",
       "      <td>0.540472</td>\n",
       "      <td>0.555314</td>\n",
       "      <td>0.636882</td>\n",
       "      <td>0.465358</td>\n",
       "      <td>0.463490</td>\n",
       "      <td>chr6</td>\n",
       "      <td>11044965</td>\n",
       "    </tr>\n",
       "    <tr>\n",
       "      <th>21297737</th>\n",
       "      <td>0.577722</td>\n",
       "      <td>0.540569</td>\n",
       "      <td>0.555349</td>\n",
       "      <td>0.636932</td>\n",
       "      <td>0.465343</td>\n",
       "      <td>0.463539</td>\n",
       "      <td>chr6</td>\n",
       "      <td>11044972</td>\n",
       "    </tr>\n",
       "    <tr>\n",
       "      <th>21297738</th>\n",
       "      <td>0.577831</td>\n",
       "      <td>0.540921</td>\n",
       "      <td>0.555475</td>\n",
       "      <td>0.637112</td>\n",
       "      <td>0.465295</td>\n",
       "      <td>0.463723</td>\n",
       "      <td>chr6</td>\n",
       "      <td>11044997</td>\n",
       "    </tr>\n",
       "    <tr>\n",
       "      <th>21297739</th>\n",
       "      <td>0.577921</td>\n",
       "      <td>0.541210</td>\n",
       "      <td>0.555579</td>\n",
       "      <td>0.637256</td>\n",
       "      <td>0.465260</td>\n",
       "      <td>0.463878</td>\n",
       "      <td>chr6</td>\n",
       "      <td>11045017</td>\n",
       "    </tr>\n",
       "    <tr>\n",
       "      <th>21297740</th>\n",
       "      <td>0.578122</td>\n",
       "      <td>0.541853</td>\n",
       "      <td>0.555809</td>\n",
       "      <td>0.637570</td>\n",
       "      <td>0.465194</td>\n",
       "      <td>0.464235</td>\n",
       "      <td>chr6</td>\n",
       "      <td>11045060</td>\n",
       "    </tr>\n",
       "    <tr>\n",
       "      <th>21297741</th>\n",
       "      <td>0.578137</td>\n",
       "      <td>0.541899</td>\n",
       "      <td>0.555825</td>\n",
       "      <td>0.637592</td>\n",
       "      <td>0.465189</td>\n",
       "      <td>0.464261</td>\n",
       "      <td>chr6</td>\n",
       "      <td>11045063</td>\n",
       "    </tr>\n",
       "    <tr>\n",
       "      <th>21297742</th>\n",
       "      <td>0.578490</td>\n",
       "      <td>0.543019</td>\n",
       "      <td>0.556221</td>\n",
       "      <td>0.638111</td>\n",
       "      <td>0.465113</td>\n",
       "      <td>0.464916</td>\n",
       "      <td>chr6</td>\n",
       "      <td>11045133</td>\n",
       "    </tr>\n",
       "    <tr>\n",
       "      <th>21297743</th>\n",
       "      <td>0.578511</td>\n",
       "      <td>0.543086</td>\n",
       "      <td>0.556245</td>\n",
       "      <td>0.638141</td>\n",
       "      <td>0.465110</td>\n",
       "      <td>0.464956</td>\n",
       "      <td>chr6</td>\n",
       "      <td>11045137</td>\n",
       "    </tr>\n",
       "    <tr>\n",
       "      <th>21297744</th>\n",
       "      <td>0.578778</td>\n",
       "      <td>0.543923</td>\n",
       "      <td>0.556539</td>\n",
       "      <td>0.638510</td>\n",
       "      <td>0.465081</td>\n",
       "      <td>0.465468</td>\n",
       "      <td>chr6</td>\n",
       "      <td>11045186</td>\n",
       "    </tr>\n",
       "    <tr>\n",
       "      <th>21297745</th>\n",
       "      <td>0.578909</td>\n",
       "      <td>0.544330</td>\n",
       "      <td>0.556682</td>\n",
       "      <td>0.638685</td>\n",
       "      <td>0.465073</td>\n",
       "      <td>0.465723</td>\n",
       "      <td>chr6</td>\n",
       "      <td>11045209</td>\n",
       "    </tr>\n",
       "    <tr>\n",
       "      <th>21297746</th>\n",
       "      <td>0.579042</td>\n",
       "      <td>0.544746</td>\n",
       "      <td>0.556828</td>\n",
       "      <td>0.638862</td>\n",
       "      <td>0.465070</td>\n",
       "      <td>0.465987</td>\n",
       "      <td>chr6</td>\n",
       "      <td>11045232</td>\n",
       "    </tr>\n",
       "    <tr>\n",
       "      <th>21297747</th>\n",
       "      <td>0.579090</td>\n",
       "      <td>0.544893</td>\n",
       "      <td>0.556879</td>\n",
       "      <td>0.638923</td>\n",
       "      <td>0.465069</td>\n",
       "      <td>0.466081</td>\n",
       "      <td>chr6</td>\n",
       "      <td>11045240</td>\n",
       "    </tr>\n",
       "    <tr>\n",
       "      <th>21297748</th>\n",
       "      <td>0.579376</td>\n",
       "      <td>0.545778</td>\n",
       "      <td>0.557189</td>\n",
       "      <td>0.639287</td>\n",
       "      <td>0.465078</td>\n",
       "      <td>0.466655</td>\n",
       "      <td>chr6</td>\n",
       "      <td>11045287</td>\n",
       "    </tr>\n",
       "    <tr>\n",
       "      <th>21297749</th>\n",
       "      <td>0.579502</td>\n",
       "      <td>0.546165</td>\n",
       "      <td>0.557324</td>\n",
       "      <td>0.639443</td>\n",
       "      <td>0.465087</td>\n",
       "      <td>0.466910</td>\n",
       "      <td>chr6</td>\n",
       "      <td>11045307</td>\n",
       "    </tr>\n",
       "    <tr>\n",
       "      <th>21297750</th>\n",
       "      <td>0.579861</td>\n",
       "      <td>0.547265</td>\n",
       "      <td>0.557708</td>\n",
       "      <td>0.639877</td>\n",
       "      <td>0.465128</td>\n",
       "      <td>0.467648</td>\n",
       "      <td>chr6</td>\n",
       "      <td>11045362</td>\n",
       "    </tr>\n",
       "    <tr>\n",
       "      <th>21297751</th>\n",
       "      <td>0.579915</td>\n",
       "      <td>0.547429</td>\n",
       "      <td>0.557765</td>\n",
       "      <td>0.639940</td>\n",
       "      <td>0.465136</td>\n",
       "      <td>0.467760</td>\n",
       "      <td>chr6</td>\n",
       "      <td>11045370</td>\n",
       "    </tr>\n",
       "    <tr>\n",
       "      <th>21297752</th>\n",
       "      <td>0.580066</td>\n",
       "      <td>0.547885</td>\n",
       "      <td>0.557924</td>\n",
       "      <td>0.640116</td>\n",
       "      <td>0.465160</td>\n",
       "      <td>0.468072</td>\n",
       "      <td>chr6</td>\n",
       "      <td>11045392</td>\n",
       "    </tr>\n",
       "    <tr>\n",
       "      <th>21297753</th>\n",
       "      <td>0.580812</td>\n",
       "      <td>0.550127</td>\n",
       "      <td>0.558707</td>\n",
       "      <td>0.640950</td>\n",
       "      <td>0.465325</td>\n",
       "      <td>0.469640</td>\n",
       "      <td>chr6</td>\n",
       "      <td>11045495</td>\n",
       "    </tr>\n",
       "    <tr>\n",
       "      <th>21297754</th>\n",
       "      <td>0.580919</td>\n",
       "      <td>0.550445</td>\n",
       "      <td>0.558818</td>\n",
       "      <td>0.641066</td>\n",
       "      <td>0.465354</td>\n",
       "      <td>0.469867</td>\n",
       "      <td>chr6</td>\n",
       "      <td>11045509</td>\n",
       "    </tr>\n",
       "    <tr>\n",
       "      <th>21297755</th>\n",
       "      <td>0.581247</td>\n",
       "      <td>0.551416</td>\n",
       "      <td>0.559159</td>\n",
       "      <td>0.641413</td>\n",
       "      <td>0.465451</td>\n",
       "      <td>0.470566</td>\n",
       "      <td>chr6</td>\n",
       "      <td>11045551</td>\n",
       "    </tr>\n",
       "    <tr>\n",
       "      <th>21297756</th>\n",
       "      <td>0.581712</td>\n",
       "      <td>0.552779</td>\n",
       "      <td>0.559637</td>\n",
       "      <td>0.641891</td>\n",
       "      <td>0.465605</td>\n",
       "      <td>0.471560</td>\n",
       "      <td>chr6</td>\n",
       "      <td>11045608</td>\n",
       "    </tr>\n",
       "    <tr>\n",
       "      <th>21297757</th>\n",
       "      <td>0.582825</td>\n",
       "      <td>0.555995</td>\n",
       "      <td>0.560772</td>\n",
       "      <td>0.642980</td>\n",
       "      <td>0.466045</td>\n",
       "      <td>0.473962</td>\n",
       "      <td>chr6</td>\n",
       "      <td>11045735</td>\n",
       "    </tr>\n",
       "    <tr>\n",
       "      <th>21297758</th>\n",
       "      <td>0.584079</td>\n",
       "      <td>0.559536</td>\n",
       "      <td>0.562035</td>\n",
       "      <td>0.644129</td>\n",
       "      <td>0.466635</td>\n",
       "      <td>0.476681</td>\n",
       "      <td>chr6</td>\n",
       "      <td>11045865</td>\n",
       "    </tr>\n",
       "    <tr>\n",
       "      <th>21297759</th>\n",
       "      <td>0.587039</td>\n",
       "      <td>0.567594</td>\n",
       "      <td>0.564969</td>\n",
       "      <td>0.646612</td>\n",
       "      <td>0.468309</td>\n",
       "      <td>0.483090</td>\n",
       "      <td>chr6</td>\n",
       "      <td>11046133</td>\n",
       "    </tr>\n",
       "    <tr>\n",
       "      <th>21297760</th>\n",
       "      <td>0.588506</td>\n",
       "      <td>0.571450</td>\n",
       "      <td>0.566405</td>\n",
       "      <td>0.647754</td>\n",
       "      <td>0.469247</td>\n",
       "      <td>0.486243</td>\n",
       "      <td>chr6</td>\n",
       "      <td>11046251</td>\n",
       "    </tr>\n",
       "    <tr>\n",
       "      <th>21297761</th>\n",
       "      <td>0.589559</td>\n",
       "      <td>0.574165</td>\n",
       "      <td>0.567430</td>\n",
       "      <td>0.648546</td>\n",
       "      <td>0.469955</td>\n",
       "      <td>0.488491</td>\n",
       "      <td>chr6</td>\n",
       "      <td>11046331</td>\n",
       "    </tr>\n",
       "    <tr>\n",
       "      <th>21297762</th>\n",
       "      <td>0.590035</td>\n",
       "      <td>0.575379</td>\n",
       "      <td>0.567892</td>\n",
       "      <td>0.648896</td>\n",
       "      <td>0.470283</td>\n",
       "      <td>0.489503</td>\n",
       "      <td>chr6</td>\n",
       "      <td>11046366</td>\n",
       "    </tr>\n",
       "    <tr>\n",
       "      <th>21297763</th>\n",
       "      <td>0.593715</td>\n",
       "      <td>0.584510</td>\n",
       "      <td>0.571440</td>\n",
       "      <td>0.651491</td>\n",
       "      <td>0.472967</td>\n",
       "      <td>0.497237</td>\n",
       "      <td>chr6</td>\n",
       "      <td>11046617</td>\n",
       "    </tr>\n",
       "    <tr>\n",
       "      <th>21297764</th>\n",
       "      <td>0.597914</td>\n",
       "      <td>0.594426</td>\n",
       "      <td>0.575448</td>\n",
       "      <td>0.654248</td>\n",
       "      <td>0.476278</td>\n",
       "      <td>0.505848</td>\n",
       "      <td>chr6</td>\n",
       "      <td>11046870</td>\n",
       "    </tr>\n",
       "    <tr>\n",
       "      <th>21297765</th>\n",
       "      <td>0.598232</td>\n",
       "      <td>0.595156</td>\n",
       "      <td>0.575750</td>\n",
       "      <td>0.654450</td>\n",
       "      <td>0.476537</td>\n",
       "      <td>0.506491</td>\n",
       "      <td>chr6</td>\n",
       "      <td>11046888</td>\n",
       "    </tr>\n",
       "    <tr>\n",
       "      <th>21297766</th>\n",
       "      <td>0.603389</td>\n",
       "      <td>0.606660</td>\n",
       "      <td>0.580629</td>\n",
       "      <td>0.657612</td>\n",
       "      <td>0.480886</td>\n",
       "      <td>0.516729</td>\n",
       "      <td>chr6</td>\n",
       "      <td>11047162</td>\n",
       "    </tr>\n",
       "    <tr>\n",
       "      <th>21297767</th>\n",
       "      <td>0.604824</td>\n",
       "      <td>0.609749</td>\n",
       "      <td>0.581980</td>\n",
       "      <td>0.658460</td>\n",
       "      <td>0.482167</td>\n",
       "      <td>0.519517</td>\n",
       "      <td>chr6</td>\n",
       "      <td>11047233</td>\n",
       "    </tr>\n",
       "  </tbody>\n",
       "</table>\n",
       "</div>"
      ],
      "text/plain": [
       "          Sample_E41  Sample_E43  Sample_E45  Sample_E47  Sample_E49  \\\n",
       "21297718    0.576762    0.537080    0.554169    0.635020    0.466186   \n",
       "21297719    0.576781    0.537159    0.554194    0.635066    0.466158   \n",
       "21297720    0.576803    0.537250    0.554223    0.635120    0.466127   \n",
       "21297721    0.576847    0.537433    0.554282    0.635227    0.466065   \n",
       "21297722    0.576873    0.537538    0.554315    0.635287    0.466031   \n",
       "21297723    0.576891    0.537608    0.554338    0.635327    0.466008   \n",
       "21297724    0.576969    0.537915    0.554438    0.635503    0.465914   \n",
       "21297725    0.577140    0.538562    0.554652    0.635865    0.465737   \n",
       "21297726    0.577323    0.539223    0.554877    0.636225    0.465583   \n",
       "21297727    0.577360    0.539353    0.554922    0.636295    0.465556   \n",
       "21297728    0.577398    0.539485    0.554967    0.636365    0.465530   \n",
       "21297729    0.577425    0.539577    0.554999    0.636414    0.465511   \n",
       "21297730    0.577523    0.539911    0.555116    0.636590    0.465449   \n",
       "21297731    0.577547    0.539992    0.555145    0.636632    0.465435   \n",
       "21297732    0.577580    0.540101    0.555183    0.636689    0.465417   \n",
       "21297733    0.577588    0.540128    0.555192    0.636703    0.465412   \n",
       "21297734    0.577637    0.540292    0.555251    0.636789    0.465386   \n",
       "21297735    0.577662    0.540375    0.555280    0.636832    0.465373   \n",
       "21297736    0.577692    0.540472    0.555314    0.636882    0.465358   \n",
       "21297737    0.577722    0.540569    0.555349    0.636932    0.465343   \n",
       "21297738    0.577831    0.540921    0.555475    0.637112    0.465295   \n",
       "21297739    0.577921    0.541210    0.555579    0.637256    0.465260   \n",
       "21297740    0.578122    0.541853    0.555809    0.637570    0.465194   \n",
       "21297741    0.578137    0.541899    0.555825    0.637592    0.465189   \n",
       "21297742    0.578490    0.543019    0.556221    0.638111    0.465113   \n",
       "21297743    0.578511    0.543086    0.556245    0.638141    0.465110   \n",
       "21297744    0.578778    0.543923    0.556539    0.638510    0.465081   \n",
       "21297745    0.578909    0.544330    0.556682    0.638685    0.465073   \n",
       "21297746    0.579042    0.544746    0.556828    0.638862    0.465070   \n",
       "21297747    0.579090    0.544893    0.556879    0.638923    0.465069   \n",
       "21297748    0.579376    0.545778    0.557189    0.639287    0.465078   \n",
       "21297749    0.579502    0.546165    0.557324    0.639443    0.465087   \n",
       "21297750    0.579861    0.547265    0.557708    0.639877    0.465128   \n",
       "21297751    0.579915    0.547429    0.557765    0.639940    0.465136   \n",
       "21297752    0.580066    0.547885    0.557924    0.640116    0.465160   \n",
       "21297753    0.580812    0.550127    0.558707    0.640950    0.465325   \n",
       "21297754    0.580919    0.550445    0.558818    0.641066    0.465354   \n",
       "21297755    0.581247    0.551416    0.559159    0.641413    0.465451   \n",
       "21297756    0.581712    0.552779    0.559637    0.641891    0.465605   \n",
       "21297757    0.582825    0.555995    0.560772    0.642980    0.466045   \n",
       "21297758    0.584079    0.559536    0.562035    0.644129    0.466635   \n",
       "21297759    0.587039    0.567594    0.564969    0.646612    0.468309   \n",
       "21297760    0.588506    0.571450    0.566405    0.647754    0.469247   \n",
       "21297761    0.589559    0.574165    0.567430    0.648546    0.469955   \n",
       "21297762    0.590035    0.575379    0.567892    0.648896    0.470283   \n",
       "21297763    0.593715    0.584510    0.571440    0.651491    0.472967   \n",
       "21297764    0.597914    0.594426    0.575448    0.654248    0.476278   \n",
       "21297765    0.598232    0.595156    0.575750    0.654450    0.476537   \n",
       "21297766    0.603389    0.606660    0.580629    0.657612    0.480886   \n",
       "21297767    0.604824    0.609749    0.581980    0.658460    0.482167   \n",
       "\n",
       "          Sample_E51 chrom  chromStart  \n",
       "21297718    0.462107  chr6    11044695  \n",
       "21297719    0.462133  chr6    11044702  \n",
       "21297720    0.462164  chr6    11044710  \n",
       "21297721    0.462228  chr6    11044726  \n",
       "21297722    0.462264  chr6    11044735  \n",
       "21297723    0.462289  chr6    11044741  \n",
       "21297724    0.462401  chr6    11044767  \n",
       "21297725    0.462649  chr6    11044820  \n",
       "21297726    0.462917  chr6    11044872  \n",
       "21297727    0.462972  chr6    11044882  \n",
       "21297728    0.463028  chr6    11044892  \n",
       "21297729    0.463068  chr6    11044899  \n",
       "21297730    0.463218  chr6    11044924  \n",
       "21297731    0.463256  chr6    11044930  \n",
       "21297732    0.463308  chr6    11044938  \n",
       "21297733    0.463321  chr6    11044940  \n",
       "21297734    0.463401  chr6    11044952  \n",
       "21297735    0.463442  chr6    11044958  \n",
       "21297736    0.463490  chr6    11044965  \n",
       "21297737    0.463539  chr6    11044972  \n",
       "21297738    0.463723  chr6    11044997  \n",
       "21297739    0.463878  chr6    11045017  \n",
       "21297740    0.464235  chr6    11045060  \n",
       "21297741    0.464261  chr6    11045063  \n",
       "21297742    0.464916  chr6    11045133  \n",
       "21297743    0.464956  chr6    11045137  \n",
       "21297744    0.465468  chr6    11045186  \n",
       "21297745    0.465723  chr6    11045209  \n",
       "21297746    0.465987  chr6    11045232  \n",
       "21297747    0.466081  chr6    11045240  \n",
       "21297748    0.466655  chr6    11045287  \n",
       "21297749    0.466910  chr6    11045307  \n",
       "21297750    0.467648  chr6    11045362  \n",
       "21297751    0.467760  chr6    11045370  \n",
       "21297752    0.468072  chr6    11045392  \n",
       "21297753    0.469640  chr6    11045495  \n",
       "21297754    0.469867  chr6    11045509  \n",
       "21297755    0.470566  chr6    11045551  \n",
       "21297756    0.471560  chr6    11045608  \n",
       "21297757    0.473962  chr6    11045735  \n",
       "21297758    0.476681  chr6    11045865  \n",
       "21297759    0.483090  chr6    11046133  \n",
       "21297760    0.486243  chr6    11046251  \n",
       "21297761    0.488491  chr6    11046331  \n",
       "21297762    0.489503  chr6    11046366  \n",
       "21297763    0.497237  chr6    11046617  \n",
       "21297764    0.505848  chr6    11046870  \n",
       "21297765    0.506491  chr6    11046888  \n",
       "21297766    0.516729  chr6    11047162  \n",
       "21297767    0.519517  chr6    11047233  "
      ]
     },
     "execution_count": 14,
     "metadata": {},
     "output_type": "execute_result"
    }
   ],
   "source": [
    "df[df.chrom=='chr6'][df.chromStart>11044685].sort_values('chromStart').head(50)"
   ]
  },
  {
   "cell_type": "code",
   "execution_count": 18,
   "metadata": {},
   "outputs": [],
   "source": [
    "#df.to_csv('gse_38.csv')"
   ]
  },
  {
   "cell_type": "code",
   "execution_count": 63,
   "metadata": {},
   "outputs": [
    {
     "name": "stderr",
     "output_type": "stream",
     "text": [
      "/home/moqri/anaconda3/envs/stem/lib/python3.9/site-packages/pandas/core/frame.py:3607: SettingWithCopyWarning: \n",
      "A value is trying to be set on a copy of a slice from a DataFrame.\n",
      "Try using .loc[row_indexer,col_indexer] = value instead\n",
      "\n",
      "See the caveats in the documentation: https://pandas.pydata.org/pandas-docs/stable/user_guide/indexing.html#returning-a-view-versus-a-copy\n",
      "  self._set_item(key, value)\n"
     ]
    }
   ],
   "source": [
    "    ch=22\n",
    "    ez=ezh[ezh.chrom==str(ch)]\n",
    "    #ez=ezh[ezh.chrom=='chr'+str(ch)][ezh.sourceCount>1]\n",
    "    ez['r']=ez.apply(lambda x:range(x['chromStart'],x['chromEnd']),1)\n",
    "    ez=ez['r'].tolist()\n",
    "    ez1=set([item for sublist in ez for item in sublist])\n",
    "    ez=ez1#.intersection(ez2)#.intersection(ez1)"
   ]
  },
  {
   "cell_type": "code",
   "execution_count": 25,
   "metadata": {},
   "outputs": [
    {
     "data": {
      "text/plain": [
       "37891"
      ]
     },
     "execution_count": 25,
     "metadata": {},
     "output_type": "execute_result"
    }
   ],
   "source": [
    "len(ez)"
   ]
  },
  {
   "cell_type": "code",
   "execution_count": 28,
   "metadata": {},
   "outputs": [],
   "source": [
    "df22=df[df.chrom=='chr22']"
   ]
  },
  {
   "cell_type": "code",
   "execution_count": 32,
   "metadata": {},
   "outputs": [
    {
     "name": "stderr",
     "output_type": "stream",
     "text": [
      "<ipython-input-32-2c7e0faed2c6>:1: FutureWarning: In a future version of pandas all arguments of DataFrame.drop except for the argument 'labels' will be keyword-only\n",
      "  df22.drop(['chrom','chromStart'],1).mean()\n"
     ]
    },
    {
     "data": {
      "text/plain": [
       "Sample_E41    0.721100\n",
       "Sample_E43    0.720897\n",
       "Sample_E45    0.728847\n",
       "Sample_E47    0.724254\n",
       "Sample_E49    0.697396\n",
       "Sample_E51    0.703287\n",
       "dtype: float64"
      ]
     },
     "execution_count": 32,
     "metadata": {},
     "output_type": "execute_result"
    }
   ],
   "source": [
    "df22.drop(['chrom','chromStart'],1).mean()"
   ]
  },
  {
   "cell_type": "code",
   "execution_count": 41,
   "metadata": {},
   "outputs": [
    {
     "name": "stderr",
     "output_type": "stream",
     "text": [
      "<ipython-input-41-ea6b2310d1fa>:1: FutureWarning: Dropping of nuisance columns in DataFrame reductions (with 'numeric_only=None') is deprecated; in a future version this will raise TypeError.  Select only valid columns before calling the reduction.\n",
      "  (df22[df22.chromStart.isin(ez)].mean()*100).astype(int)\n"
     ]
    },
    {
     "data": {
      "text/plain": [
       "Sample_E41            34\n",
       "Sample_E43            33\n",
       "Sample_E45            35\n",
       "Sample_E47            38\n",
       "Sample_E49            37\n",
       "Sample_E51            34\n",
       "chromStart    3182344780\n",
       "dtype: int64"
      ]
     },
     "execution_count": 41,
     "metadata": {},
     "output_type": "execute_result"
    }
   ],
   "source": [
    "(df22[df22.chromStart.isin(ez)].mean()*100).astype(int)"
   ]
  },
  {
   "cell_type": "code",
   "execution_count": 52,
   "metadata": {},
   "outputs": [
    {
     "name": "stderr",
     "output_type": "stream",
     "text": [
      "<ipython-input-52-4cbfbee64c05>:1: UserWarning: Boolean Series key will be reindexed to match DataFrame index.\n",
      "  ez2=df[df.h<.5][df['ez']].ind.values\n"
     ]
    }
   ],
   "source": [
    "ez2=df[df.h<.5][df['ez']].ind.values"
   ]
  },
  {
   "cell_type": "code",
   "execution_count": 60,
   "metadata": {},
   "outputs": [
    {
     "data": {
      "text/plain": [
       "array([19149018, 19149048, 19149062, ..., 45979351, 45979412, 45979414])"
      ]
     },
     "execution_count": 60,
     "metadata": {},
     "output_type": "execute_result"
    }
   ],
   "source": [
    "ez2-1"
   ]
  },
  {
   "cell_type": "code",
   "execution_count": 72,
   "metadata": {},
   "outputs": [
    {
     "name": "stderr",
     "output_type": "stream",
     "text": [
      "<ipython-input-72-569ab4fe939e>:1: FutureWarning: Dropping of nuisance columns in DataFrame reductions (with 'numeric_only=None') is deprecated; in a future version this will raise TypeError.  Select only valid columns before calling the reduction.\n",
      "  (df22[df22.chromStart.isin(np.array(list(ez))-1)].mean()*100).astype(int)\n"
     ]
    },
    {
     "data": {
      "text/plain": [
       "Sample_E41            34\n",
       "Sample_E43            33\n",
       "Sample_E45            35\n",
       "Sample_E47            38\n",
       "Sample_E49            37\n",
       "Sample_E51            34\n",
       "chromStart    3182854460\n",
       "dtype: int64"
      ]
     },
     "execution_count": 72,
     "metadata": {},
     "output_type": "execute_result"
    }
   ],
   "source": [
    "(df22[df22.chromStart.isin(np.array(list(ez))-1)].mean()*100).astype(int)"
   ]
  },
  {
   "cell_type": "code",
   "execution_count": 71,
   "metadata": {},
   "outputs": [
    {
     "data": {
      "text/plain": [
       "array([41916988, 41916989, 41916990, ..., 45974038, 41916986, 41916987])"
      ]
     },
     "execution_count": 71,
     "metadata": {},
     "output_type": "execute_result"
    }
   ],
   "source": []
  },
  {
   "cell_type": "code",
   "execution_count": 109,
   "metadata": {},
   "outputs": [
    {
     "name": "stderr",
     "output_type": "stream",
     "text": [
      "<ipython-input-109-7e89752d625d>:1: UserWarning: Boolean Series key will be reindexed to match DataFrame index.\n",
      "  df22[df22.chromStart.isin(df[df.ez][df.h<.5].ind-1)]\n"
     ]
    },
    {
     "data": {
      "text/html": [
       "<div>\n",
       "<style scoped>\n",
       "    .dataframe tbody tr th:only-of-type {\n",
       "        vertical-align: middle;\n",
       "    }\n",
       "\n",
       "    .dataframe tbody tr th {\n",
       "        vertical-align: top;\n",
       "    }\n",
       "\n",
       "    .dataframe thead th {\n",
       "        text-align: right;\n",
       "    }\n",
       "</style>\n",
       "<table border=\"1\" class=\"dataframe\">\n",
       "  <thead>\n",
       "    <tr style=\"text-align: right;\">\n",
       "      <th></th>\n",
       "      <th>Sample_E41</th>\n",
       "      <th>Sample_E43</th>\n",
       "      <th>Sample_E45</th>\n",
       "      <th>Sample_E47</th>\n",
       "      <th>Sample_E49</th>\n",
       "      <th>Sample_E51</th>\n",
       "      <th>chrom</th>\n",
       "      <th>chromStart</th>\n",
       "    </tr>\n",
       "  </thead>\n",
       "  <tbody>\n",
       "    <tr>\n",
       "      <th>16028303</th>\n",
       "      <td>0.407700</td>\n",
       "      <td>0.393856</td>\n",
       "      <td>0.443941</td>\n",
       "      <td>0.492003</td>\n",
       "      <td>0.450320</td>\n",
       "      <td>0.391269</td>\n",
       "      <td>chr22</td>\n",
       "      <td>19149048</td>\n",
       "    </tr>\n",
       "    <tr>\n",
       "      <th>16028326</th>\n",
       "      <td>0.412402</td>\n",
       "      <td>0.399927</td>\n",
       "      <td>0.450990</td>\n",
       "      <td>0.498470</td>\n",
       "      <td>0.456517</td>\n",
       "      <td>0.397488</td>\n",
       "      <td>chr22</td>\n",
       "      <td>19149286</td>\n",
       "    </tr>\n",
       "    <tr>\n",
       "      <th>16028334</th>\n",
       "      <td>0.414845</td>\n",
       "      <td>0.402938</td>\n",
       "      <td>0.454425</td>\n",
       "      <td>0.501719</td>\n",
       "      <td>0.459500</td>\n",
       "      <td>0.400534</td>\n",
       "      <td>chr22</td>\n",
       "      <td>19149396</td>\n",
       "    </tr>\n",
       "    <tr>\n",
       "      <th>16028338</th>\n",
       "      <td>0.416533</td>\n",
       "      <td>0.404977</td>\n",
       "      <td>0.456730</td>\n",
       "      <td>0.503930</td>\n",
       "      <td>0.461489</td>\n",
       "      <td>0.402585</td>\n",
       "      <td>chr22</td>\n",
       "      <td>19149468</td>\n",
       "    </tr>\n",
       "    <tr>\n",
       "      <th>16028346</th>\n",
       "      <td>0.418389</td>\n",
       "      <td>0.407184</td>\n",
       "      <td>0.459211</td>\n",
       "      <td>0.506335</td>\n",
       "      <td>0.463620</td>\n",
       "      <td>0.404795</td>\n",
       "      <td>chr22</td>\n",
       "      <td>19149544</td>\n",
       "    </tr>\n",
       "    <tr>\n",
       "      <th>...</th>\n",
       "      <td>...</td>\n",
       "      <td>...</td>\n",
       "      <td>...</td>\n",
       "      <td>...</td>\n",
       "      <td>...</td>\n",
       "      <td>...</td>\n",
       "      <td>...</td>\n",
       "      <td>...</td>\n",
       "    </tr>\n",
       "    <tr>\n",
       "      <th>16458393</th>\n",
       "      <td>0.294984</td>\n",
       "      <td>0.263884</td>\n",
       "      <td>0.363195</td>\n",
       "      <td>0.366847</td>\n",
       "      <td>0.381660</td>\n",
       "      <td>0.353096</td>\n",
       "      <td>chr22</td>\n",
       "      <td>45979182</td>\n",
       "    </tr>\n",
       "    <tr>\n",
       "      <th>16458397</th>\n",
       "      <td>0.296046</td>\n",
       "      <td>0.264499</td>\n",
       "      <td>0.364467</td>\n",
       "      <td>0.367628</td>\n",
       "      <td>0.382118</td>\n",
       "      <td>0.354256</td>\n",
       "      <td>chr22</td>\n",
       "      <td>45979205</td>\n",
       "    </tr>\n",
       "    <tr>\n",
       "      <th>16458401</th>\n",
       "      <td>0.297301</td>\n",
       "      <td>0.265230</td>\n",
       "      <td>0.365969</td>\n",
       "      <td>0.368551</td>\n",
       "      <td>0.382659</td>\n",
       "      <td>0.355626</td>\n",
       "      <td>chr22</td>\n",
       "      <td>45979232</td>\n",
       "    </tr>\n",
       "    <tr>\n",
       "      <th>16458406</th>\n",
       "      <td>0.298659</td>\n",
       "      <td>0.266026</td>\n",
       "      <td>0.367592</td>\n",
       "      <td>0.369549</td>\n",
       "      <td>0.383242</td>\n",
       "      <td>0.357107</td>\n",
       "      <td>chr22</td>\n",
       "      <td>45979261</td>\n",
       "    </tr>\n",
       "    <tr>\n",
       "      <th>16458418</th>\n",
       "      <td>0.305993</td>\n",
       "      <td>0.270413</td>\n",
       "      <td>0.376319</td>\n",
       "      <td>0.374935</td>\n",
       "      <td>0.386371</td>\n",
       "      <td>0.365084</td>\n",
       "      <td>chr22</td>\n",
       "      <td>45979414</td>\n",
       "    </tr>\n",
       "  </tbody>\n",
       "</table>\n",
       "<p>286 rows × 8 columns</p>\n",
       "</div>"
      ],
      "text/plain": [
       "          Sample_E41  Sample_E43  Sample_E45  Sample_E47  Sample_E49  \\\n",
       "16028303    0.407700    0.393856    0.443941    0.492003    0.450320   \n",
       "16028326    0.412402    0.399927    0.450990    0.498470    0.456517   \n",
       "16028334    0.414845    0.402938    0.454425    0.501719    0.459500   \n",
       "16028338    0.416533    0.404977    0.456730    0.503930    0.461489   \n",
       "16028346    0.418389    0.407184    0.459211    0.506335    0.463620   \n",
       "...              ...         ...         ...         ...         ...   \n",
       "16458393    0.294984    0.263884    0.363195    0.366847    0.381660   \n",
       "16458397    0.296046    0.264499    0.364467    0.367628    0.382118   \n",
       "16458401    0.297301    0.265230    0.365969    0.368551    0.382659   \n",
       "16458406    0.298659    0.266026    0.367592    0.369549    0.383242   \n",
       "16458418    0.305993    0.270413    0.376319    0.374935    0.386371   \n",
       "\n",
       "          Sample_E51  chrom  chromStart  \n",
       "16028303    0.391269  chr22    19149048  \n",
       "16028326    0.397488  chr22    19149286  \n",
       "16028334    0.400534  chr22    19149396  \n",
       "16028338    0.402585  chr22    19149468  \n",
       "16028346    0.404795  chr22    19149544  \n",
       "...              ...    ...         ...  \n",
       "16458393    0.353096  chr22    45979182  \n",
       "16458397    0.354256  chr22    45979205  \n",
       "16458401    0.355626  chr22    45979232  \n",
       "16458406    0.357107  chr22    45979261  \n",
       "16458418    0.365084  chr22    45979414  \n",
       "\n",
       "[286 rows x 8 columns]"
      ]
     },
     "execution_count": 109,
     "metadata": {},
     "output_type": "execute_result"
    }
   ],
   "source": [
    "df22[df22.chromStart.isin(df[df.ez][df.h<.5].ind-1)]"
   ]
  },
  {
   "cell_type": "code",
   "execution_count": 108,
   "metadata": {},
   "outputs": [
    {
     "name": "stderr",
     "output_type": "stream",
     "text": [
      "<ipython-input-108-af701c2f48f3>:1: UserWarning: Boolean Series key will be reindexed to match DataFrame index.\n",
      "  df[df.ez][df.h<.5]\n"
     ]
    },
    {
     "data": {
      "text/html": [
       "<div>\n",
       "<style scoped>\n",
       "    .dataframe tbody tr th:only-of-type {\n",
       "        vertical-align: middle;\n",
       "    }\n",
       "\n",
       "    .dataframe tbody tr th {\n",
       "        vertical-align: top;\n",
       "    }\n",
       "\n",
       "    .dataframe thead th {\n",
       "        text-align: right;\n",
       "    }\n",
       "</style>\n",
       "<table border=\"1\" class=\"dataframe\">\n",
       "  <thead>\n",
       "    <tr style=\"text-align: right;\">\n",
       "      <th></th>\n",
       "      <th>i</th>\n",
       "      <th>h</th>\n",
       "      <th>n</th>\n",
       "      <th>c</th>\n",
       "      <th>ind</th>\n",
       "      <th>ez</th>\n",
       "    </tr>\n",
       "    <tr>\n",
       "      <th>0</th>\n",
       "      <th></th>\n",
       "      <th></th>\n",
       "      <th></th>\n",
       "      <th></th>\n",
       "      <th></th>\n",
       "      <th></th>\n",
       "    </tr>\n",
       "  </thead>\n",
       "  <tbody>\n",
       "    <tr>\n",
       "      <th>19149019</th>\n",
       "      <td>0.083333</td>\n",
       "      <td>0.315789</td>\n",
       "      <td>0.083333</td>\n",
       "      <td>0.166667</td>\n",
       "      <td>19149019</td>\n",
       "      <td>True</td>\n",
       "    </tr>\n",
       "    <tr>\n",
       "      <th>19149049</th>\n",
       "      <td>0.100000</td>\n",
       "      <td>0.400000</td>\n",
       "      <td>0.200000</td>\n",
       "      <td>0.200000</td>\n",
       "      <td>19149049</td>\n",
       "      <td>True</td>\n",
       "    </tr>\n",
       "    <tr>\n",
       "      <th>19149063</th>\n",
       "      <td>0.166667</td>\n",
       "      <td>0.461538</td>\n",
       "      <td>0.000000</td>\n",
       "      <td>0.181818</td>\n",
       "      <td>19149063</td>\n",
       "      <td>True</td>\n",
       "    </tr>\n",
       "    <tr>\n",
       "      <th>19149075</th>\n",
       "      <td>0.538462</td>\n",
       "      <td>0.454545</td>\n",
       "      <td>0.133333</td>\n",
       "      <td>0.105263</td>\n",
       "      <td>19149075</td>\n",
       "      <td>True</td>\n",
       "    </tr>\n",
       "    <tr>\n",
       "      <th>19149078</th>\n",
       "      <td>0.214286</td>\n",
       "      <td>0.260870</td>\n",
       "      <td>0.066667</td>\n",
       "      <td>0.187500</td>\n",
       "      <td>19149078</td>\n",
       "      <td>True</td>\n",
       "    </tr>\n",
       "    <tr>\n",
       "      <th>...</th>\n",
       "      <td>...</td>\n",
       "      <td>...</td>\n",
       "      <td>...</td>\n",
       "      <td>...</td>\n",
       "      <td>...</td>\n",
       "      <td>...</td>\n",
       "    </tr>\n",
       "    <tr>\n",
       "      <th>45979340</th>\n",
       "      <td>0.000000</td>\n",
       "      <td>0.100000</td>\n",
       "      <td>0.083333</td>\n",
       "      <td>0.000000</td>\n",
       "      <td>45979340</td>\n",
       "      <td>True</td>\n",
       "    </tr>\n",
       "    <tr>\n",
       "      <th>45979343</th>\n",
       "      <td>0.142857</td>\n",
       "      <td>0.000000</td>\n",
       "      <td>0.000000</td>\n",
       "      <td>0.000000</td>\n",
       "      <td>45979343</td>\n",
       "      <td>True</td>\n",
       "    </tr>\n",
       "    <tr>\n",
       "      <th>45979352</th>\n",
       "      <td>0.000000</td>\n",
       "      <td>0.000000</td>\n",
       "      <td>0.000000</td>\n",
       "      <td>0.000000</td>\n",
       "      <td>45979352</td>\n",
       "      <td>True</td>\n",
       "    </tr>\n",
       "    <tr>\n",
       "      <th>45979413</th>\n",
       "      <td>0.000000</td>\n",
       "      <td>0.000000</td>\n",
       "      <td>0.000000</td>\n",
       "      <td>0.000000</td>\n",
       "      <td>45979413</td>\n",
       "      <td>True</td>\n",
       "    </tr>\n",
       "    <tr>\n",
       "      <th>45979415</th>\n",
       "      <td>0.000000</td>\n",
       "      <td>0.000000</td>\n",
       "      <td>0.000000</td>\n",
       "      <td>0.100000</td>\n",
       "      <td>45979415</td>\n",
       "      <td>True</td>\n",
       "    </tr>\n",
       "  </tbody>\n",
       "</table>\n",
       "<p>2208 rows × 6 columns</p>\n",
       "</div>"
      ],
      "text/plain": [
       "                 i         h         n         c       ind    ez\n",
       "0                                                               \n",
       "19149019  0.083333  0.315789  0.083333  0.166667  19149019  True\n",
       "19149049  0.100000  0.400000  0.200000  0.200000  19149049  True\n",
       "19149063  0.166667  0.461538  0.000000  0.181818  19149063  True\n",
       "19149075  0.538462  0.454545  0.133333  0.105263  19149075  True\n",
       "19149078  0.214286  0.260870  0.066667  0.187500  19149078  True\n",
       "...            ...       ...       ...       ...       ...   ...\n",
       "45979340  0.000000  0.100000  0.083333  0.000000  45979340  True\n",
       "45979343  0.142857  0.000000  0.000000  0.000000  45979343  True\n",
       "45979352  0.000000  0.000000  0.000000  0.000000  45979352  True\n",
       "45979413  0.000000  0.000000  0.000000  0.000000  45979413  True\n",
       "45979415  0.000000  0.000000  0.000000  0.100000  45979415  True\n",
       "\n",
       "[2208 rows x 6 columns]"
      ]
     },
     "execution_count": 108,
     "metadata": {},
     "output_type": "execute_result"
    }
   ],
   "source": [
    "df[df.ez][df.h<.5]"
   ]
  },
  {
   "cell_type": "code",
   "execution_count": 113,
   "metadata": {},
   "outputs": [
    {
     "data": {
      "text/plain": [
       "<AxesSubplot:>"
      ]
     },
     "execution_count": 113,
     "metadata": {},
     "output_type": "execute_result"
    },
    {
     "data": {
      "image/png": "[encoded data removed]",
      "text/plain": [
       "<Figure size 432x288 with 1 Axes>"
      ]
     },
     "metadata": {
      "needs_background": "light"
     },
     "output_type": "display_data"
    }
   ],
   "source": [
    "df22.iloc[:,0].hist(bins=100)"
   ]
  },
  {
   "cell_type": "code",
   "execution_count": 117,
   "metadata": {},
   "outputs": [
    {
     "data": {
      "text/plain": [
       "<AxesSubplot:>"
      ]
     },
     "execution_count": 117,
     "metadata": {},
     "output_type": "execute_result"
    },
    {
     "data": {
      "image/png": "[encoded data removed]",
      "text/plain": [
       "<Figure size 432x288 with 1 Axes>"
      ]
     },
     "metadata": {
      "needs_background": "light"
     },
     "output_type": "display_data"
    }
   ],
   "source": [
    "df.c.hist(bins=100)"
   ]
  },
  {
   "cell_type": "code",
   "execution_count": 120,
   "metadata": {},
   "outputs": [
    {
     "data": {
      "text/html": [
       "<div>\n",
       "<style scoped>\n",
       "    .dataframe tbody tr th:only-of-type {\n",
       "        vertical-align: middle;\n",
       "    }\n",
       "\n",
       "    .dataframe tbody tr th {\n",
       "        vertical-align: top;\n",
       "    }\n",
       "\n",
       "    .dataframe thead th {\n",
       "        text-align: right;\n",
       "    }\n",
       "</style>\n",
       "<table border=\"1\" class=\"dataframe\">\n",
       "  <thead>\n",
       "    <tr style=\"text-align: right;\">\n",
       "      <th></th>\n",
       "      <th>i</th>\n",
       "      <th>h</th>\n",
       "      <th>n</th>\n",
       "      <th>c</th>\n",
       "      <th>ind</th>\n",
       "      <th>ez</th>\n",
       "    </tr>\n",
       "  </thead>\n",
       "  <tbody>\n",
       "    <tr>\n",
       "      <th>i</th>\n",
       "      <td>1.000000</td>\n",
       "      <td>0.841827</td>\n",
       "      <td>0.747890</td>\n",
       "      <td>0.705439</td>\n",
       "      <td>0.123279</td>\n",
       "      <td>-0.130248</td>\n",
       "    </tr>\n",
       "    <tr>\n",
       "      <th>h</th>\n",
       "      <td>0.841827</td>\n",
       "      <td>1.000000</td>\n",
       "      <td>0.783193</td>\n",
       "      <td>0.737298</td>\n",
       "      <td>0.121209</td>\n",
       "      <td>-0.130589</td>\n",
       "    </tr>\n",
       "    <tr>\n",
       "      <th>n</th>\n",
       "      <td>0.747890</td>\n",
       "      <td>0.783193</td>\n",
       "      <td>1.000000</td>\n",
       "      <td>0.826756</td>\n",
       "      <td>0.119037</td>\n",
       "      <td>-0.119460</td>\n",
       "    </tr>\n",
       "    <tr>\n",
       "      <th>c</th>\n",
       "      <td>0.705439</td>\n",
       "      <td>0.737298</td>\n",
       "      <td>0.826756</td>\n",
       "      <td>1.000000</td>\n",
       "      <td>0.111084</td>\n",
       "      <td>-0.101140</td>\n",
       "    </tr>\n",
       "    <tr>\n",
       "      <th>ind</th>\n",
       "      <td>0.123279</td>\n",
       "      <td>0.121209</td>\n",
       "      <td>0.119037</td>\n",
       "      <td>0.111084</td>\n",
       "      <td>1.000000</td>\n",
       "      <td>-0.017234</td>\n",
       "    </tr>\n",
       "    <tr>\n",
       "      <th>ez</th>\n",
       "      <td>-0.130248</td>\n",
       "      <td>-0.130589</td>\n",
       "      <td>-0.119460</td>\n",
       "      <td>-0.101140</td>\n",
       "      <td>-0.017234</td>\n",
       "      <td>1.000000</td>\n",
       "    </tr>\n",
       "  </tbody>\n",
       "</table>\n",
       "</div>"
      ],
      "text/plain": [
       "            i         h         n         c       ind        ez\n",
       "i    1.000000  0.841827  0.747890  0.705439  0.123279 -0.130248\n",
       "h    0.841827  1.000000  0.783193  0.737298  0.121209 -0.130589\n",
       "n    0.747890  0.783193  1.000000  0.826756  0.119037 -0.119460\n",
       "c    0.705439  0.737298  0.826756  1.000000  0.111084 -0.101140\n",
       "ind  0.123279  0.121209  0.119037  0.111084  1.000000 -0.017234\n",
       "ez  -0.130248 -0.130589 -0.119460 -0.101140 -0.017234  1.000000"
      ]
     },
     "execution_count": 120,
     "metadata": {},
     "output_type": "execute_result"
    }
   ],
   "source": [
    "df.corr()"
   ]
  },
  {
   "cell_type": "code",
   "execution_count": 24,
   "metadata": {},
   "outputs": [
    {
     "data": {
      "text/plain": [
       "<AxesSubplot:xlabel='c', ylabel='n'>"
      ]
     },
     "execution_count": 24,
     "metadata": {},
     "output_type": "execute_result"
    },
    {
     "data": {
      "image/png": "[encoded data removed]",
      "text/plain": [
       "<Figure size 432x288 with 1 Axes>"
      ]
     },
     "metadata": {
      "needs_background": "light"
     },
     "output_type": "display_data"
    }
   ],
   "source": [
    "df[['n','c']].plot.scatter('c','n',s=1)"
   ]
  },
  {
   "cell_type": "code",
   "execution_count": null,
   "metadata": {},
   "outputs": [],
   "source": []
  }
 ],
 "metadata": {
  "kernelspec": {
   "display_name": "stem",
   "language": "python",
   "name": "stem"
  },
  "language_info": {
   "codemirror_mode": {
    "name": "ipython",
    "version": 3
   },
   "file_extension": ".py",
   "mimetype": "text/x-python",
   "name": "python",
   "nbconvert_exporter": "python",
   "pygments_lexer": "ipython3",
   "version": "3.9.2"
  }
 },
 "nbformat": 4,
 "nbformat_minor": 4
}
