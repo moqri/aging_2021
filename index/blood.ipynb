{
 "cells": [
  {
   "cell_type": "code",
   "execution_count": 1,
   "metadata": {},
   "outputs": [
    {
     "data": {
      "text/plain": [
       "1"
      ]
     },
     "execution_count": 1,
     "metadata": {},
     "output_type": "execute_result"
    }
   ],
   "source": [
    "1"
   ]
  },
  {
   "cell_type": "code",
   "execution_count": 1,
   "metadata": {},
   "outputs": [],
   "source": [
    "import pandas as pd\n",
    "import pyBigWig\n",
    "import numpy as np\n",
    "import seaborn as sns\n",
    "import re\n",
    "from liftover import get_lifter\n",
    "data='/labs/mpsnyder/moqri/data/index/'\n",
    "datam='/labs/mpsnyder/moqri/data/mont/'\n",
    "\n",
    "ch=1\n",
    "\n",
    "v='38'\n",
    "h9_bw='http://smithdata.usc.edu/methbase/data/Xie-Human-2013/Human_H9/tracks_hg'+v+'/Human_H9.meth.bw'\n",
    "ips_bw='http://smithdata.usc.edu/methbase/data/Lister-iPSC-2011/Human_FFiPSC69/tracks_hg'+v+'/Human_FFiPSC69.meth.bw'\n",
    "ezh_h9='https://ftp.ncbi.nlm.nih.gov/geo/series/GSE76nnn/GSE76626/suppl/GSE76626_ChIP-Seq_RPM.txt.gz' ## hg38\n",
    "\n",
    "ct_bw='http://smithdata.usc.edu/methbase/data/Heyn-Human-NewbornCentenarian-2012/Human_CD4T-100yr/tracks_hg'+v+'/Human_CD4T-100yr.meth.bw'\n",
    "nb_bw='http://smithdata.usc.edu/methbase/data/Heyn-Human-NewbornCentenarian-2012/Human_CD4T-Newborn/tracks_hg'+v+'/Human_CD4T-Newborn.meth.bw'\n",
    "so_bw='http://smithdata.usc.edu/methbase/data/Vandiver-Human-2015/Human_Epidermis-old-sun-exposed/tracks_hg'+v+'/Human_Epidermis-old-sun-exposed.meth.bw'\n",
    "sy_bw='http://smithdata.usc.edu/methbase/data/Vandiver-Human-2015/Human_Epidermis-young-sun-exposed/tracks_hg'+v+'/Human_Epidermis-young-sun-exposed.meth.bw'\n",
    "\n",
    "\n",
    "hg19tohg38='http://hgdownload.soe.ucsc.edu/goldenPath/hg19/liftOver/hg19ToHg38.over.chain.gz'\n",
    "\n",
    "def bw2df(cell,ch):\n",
    "    df=bws[cell].intervals(\"chr\"+str(ch))\n",
    "    print(len(df))\n",
    "    df=pd.DataFrame(df)\n",
    "    df.index=df[0]\n",
    "    df=df[2]\n",
    "    dfs.append(df)    \n",
    "    return(dfs)\n",
    "def bw2df(cell):\n",
    "    bw=cell\n",
    "    bw=pyBigWig.open(bw)\n",
    "    bws=[]\n",
    "    for i,r in ezh.iterrows():\n",
    "        print('',end='.')\n",
    "        bwi=bw.intervals(\"chr\"+str(r['chrom']),r['chromStart'],r['chromEnd'])\n",
    "        if bwi is not None:\n",
    "            for b in bwi:\n",
    "                bws.append([r['chrom'],b[0],b[2]])\n",
    "    df=pd.DataFrame(bws)\n",
    "    print(df.shape)\n",
    "    return df"
   ]
  },
  {
   "cell_type": "code",
   "execution_count": 2,
   "metadata": {},
   "outputs": [
    {
     "name": "stdout",
     "output_type": "stream",
     "text": [
      "(929, 5)\n"
     ]
    },
    {
     "name": "stderr",
     "output_type": "stream",
     "text": [
      "/home/moqri/anaconda3/envs/stem/lib/python3.9/site-packages/IPython/core/interactiveshell.py:3437: DtypeWarning: Columns (1) have mixed types.Specify dtype option on import or set low_memory=False.\n",
      "  exec(code_obj, self.user_global_ns, self.user_ns)\n"
     ]
    },
    {
     "data": {
      "text/plain": [
       "4.645"
      ]
     },
     "execution_count": 2,
     "metadata": {},
     "output_type": "execute_result"
    }
   ],
   "source": [
    "ezh=pd.read_table(ezh_h9,index_col=0)\n",
    "ezh=ezh[['Chromosome','Start','End','WT_EZH2','Strand']][ezh['WT_EZH2']>1]\n",
    "ezh.columns=['chrom', 'chromStart', 'chromEnd', 'value','s']\n",
    "ezh=ezh[~ezh.index.str.contains('-AS')]\n",
    "ezh=ezh[ezh.index.str.contains('001')]\n",
    "ezh=ezh[ezh.chrom!='X']\n",
    "ezh.index=ezh.index.str.strip('-001_upstream')\n",
    "print(ezh.shape)\n",
    "ezh['d']=ezh.chromEnd-ezh.chromStart\n",
    "ezh.d.sum()/1000000"
   ]
  },
  {
   "cell_type": "code",
   "execution_count": 3,
   "metadata": {},
   "outputs": [],
   "source": [
    "ezh['tss']=(ezh.chromStart+ezh.chromEnd)/2"
   ]
  },
  {
   "cell_type": "code",
   "execution_count": 4,
   "metadata": {},
   "outputs": [
    {
     "name": "stdout",
     "output_type": "stream",
     "text": [
      ".................................................................................................................................................................................................................................................................................................................................................................................................................................................................................................................................................................................................................................................................................................................................................................................................................................................................................................................................................................(245711, 3)\n",
      ".................................................................................................................................................................................................................................................................................................................................................................................................................................................................................................................................................................................................................................................................................................................................................................................................................................................................................................................................................................(244563, 3)\n",
      ".................................................................................................................................................................................................................................................................................................................................................................................................................................................................................................................................................................................................................................................................................................................................................................................................................................................................................................................................................................(245711, 3)\n",
      ".................................................................................................................................................................................................................................................................................................................................................................................................................................................................................................................................................................................................................................................................................................................................................................................................................................................................................................................................................................(245711, 3)\n",
      ".................................................................................................................................................................................................................................................................................................................................................................................................................................................................................................................................................................................................................................................................................................................................................................................................................................................................................................................................................................(245711, 3)\n",
      ".................................................................................................................................................................................................................................................................................................................................................................................................................................................................................................................................................................................................................................................................................................................................................................................................................................................................................................................................................................(245711, 3)\n"
     ]
    }
   ],
   "source": [
    "dfs=[]\n",
    "cells=[h9_bw,ips_bw,nb_bw,ct_bw,sy_bw,so_bw]\n",
    "bws={}\n",
    "for cell in cells:\n",
    "    bws[cell]=pyBigWig.open(cell)\n",
    "    df=bw2df(cell)\n",
    "    dfs.append(df)"
   ]
  },
  {
   "cell_type": "code",
   "execution_count": 16,
   "metadata": {},
   "outputs": [
    {
     "name": "stderr",
     "output_type": "stream",
     "text": [
      "<ipython-input-16-b6135f2ef505>:4: FutureWarning: In a future version of pandas all arguments of DataFrame.drop except for the argument 'labels' will be keyword-only\n",
      "  df.drop([0,1],1,inplace=True)\n"
     ]
    }
   ],
   "source": [
    "for df in dfs:\n",
    "    df.drop_duplicates(inplace=True)\n",
    "    df.index=df[0].astype(str)+'_'+df[1].astype(str)\n",
    "    df.drop([0,1],1,inplace=True)    "
   ]
  },
  {
   "cell_type": "code",
   "execution_count": 18,
   "metadata": {},
   "outputs": [],
   "source": [
    "for i in range(6):\n",
    "    dfs[i].columns=[['h','i','n','c','y','o'][i]]"
   ]
  },
  {
   "cell_type": "code",
   "execution_count": 21,
   "metadata": {},
   "outputs": [],
   "source": [
    "dg=dfs[0]\n",
    "for df in dfs[1:]:\n",
    "    dg=dg.merge(df,left_index=True,right_index=True,how='left')"
   ]
  },
  {
   "cell_type": "code",
   "execution_count": 66,
   "metadata": {},
   "outputs": [
    {
     "data": {
      "text/plain": [
       "<AxesSubplot:>"
      ]
     },
     "execution_count": 66,
     "metadata": {},
     "output_type": "execute_result"
    },
    {
     "data": {
      "image/png": "[encoded data removed]",
      "text/plain": [
       "<Figure size 432x288 with 1 Axes>"
      ]
     },
     "metadata": {
      "needs_background": "light"
     },
     "output_type": "display_data"
    }
   ],
   "source": [
    "dg.mean().plot(kind='bar')"
   ]
  },
  {
   "cell_type": "code",
   "execution_count": 32,
   "metadata": {},
   "outputs": [],
   "source": [
    "#dg.to_csv('ezs.csv')"
   ]
  },
  {
   "cell_type": "code",
   "execution_count": 5,
   "metadata": {},
   "outputs": [
    {
     "data": {
      "text/plain": [
       "(210130, 6)"
      ]
     },
     "execution_count": 5,
     "metadata": {},
     "output_type": "execute_result"
    }
   ],
   "source": [
    "df=pd.read_csv('ezs.csv',index_col=0)\n",
    "df.shape"
   ]
  },
  {
   "cell_type": "code",
   "execution_count": 15,
   "metadata": {},
   "outputs": [],
   "source": [
    "tss=(ezh.chrom.astype(int)*10**9+ezh.tss).values"
   ]
  },
  {
   "cell_type": "code",
   "execution_count": 24,
   "metadata": {},
   "outputs": [],
   "source": [
    "df['g']=df.index.str.split('_').str[0].astype(int)*10**9+df.index.str.split('_').str[1].astype(int)"
   ]
  },
  {
   "cell_type": "code",
   "execution_count": 35,
   "metadata": {},
   "outputs": [],
   "source": [
    "df['tss']=df.g.apply(lambda y:min(tss, key=lambda x:abs(x-y)))"
   ]
  },
  {
   "cell_type": "code",
   "execution_count": 36,
   "metadata": {},
   "outputs": [],
   "source": [
    "df['d']=df.g-df.tss"
   ]
  },
  {
   "cell_type": "code",
   "execution_count": 39,
   "metadata": {},
   "outputs": [
    {
     "data": {
      "text/plain": [
       "<AxesSubplot:>"
      ]
     },
     "execution_count": 39,
     "metadata": {},
     "output_type": "execute_result"
    },
    {
     "data": {
      "image/png": "[encoded data removed]",
      "text/plain": [
       "<Figure size 432x288 with 1 Axes>"
      ]
     },
     "metadata": {
      "needs_background": "light"
     },
     "output_type": "display_data"
    }
   ],
   "source": [
    "df.d.hist(bins=100)"
   ]
  },
  {
   "cell_type": "code",
   "execution_count": 46,
   "metadata": {},
   "outputs": [],
   "source": [
    "df['dq']=pd.qcut(df.d,10)"
   ]
  },
  {
   "cell_type": "code",
   "execution_count": 61,
   "metadata": {},
   "outputs": [
    {
     "data": {
      "text/plain": [
       "<AxesSubplot:xlabel='dq'>"
      ]
     },
     "execution_count": 61,
     "metadata": {},
     "output_type": "execute_result"
    },
    {
     "data": {
      "image/png": "[encoded data removed]",
      "text/plain": [
       "<Figure size 432x288 with 1 Axes>"
      ]
     },
     "metadata": {
      "needs_background": "light"
     },
     "output_type": "display_data"
    }
   ],
   "source": [
    "df[df.h<.5].groupby('dq').mean()[['h','n','c','i']].plot()"
   ]
  },
  {
   "cell_type": "code",
   "execution_count": 62,
   "metadata": {},
   "outputs": [
    {
     "data": {
      "text/plain": [
       "<AxesSubplot:xlabel='dq'>"
      ]
     },
     "execution_count": 62,
     "metadata": {},
     "output_type": "execute_result"
    },
    {
     "data": {
      "image/png": "[encoded data removed]",
      "text/plain": [
       "<Figure size 432x288 with 1 Axes>"
      ]
     },
     "metadata": {
      "needs_background": "light"
     },
     "output_type": "display_data"
    }
   ],
   "source": [
    "df[df.h<.5].groupby('dq').mean()[['h','y','o','i']].plot()"
   ]
  },
  {
   "cell_type": "code",
   "execution_count": 9,
   "metadata": {},
   "outputs": [
    {
     "name": "stdout",
     "output_type": "stream",
     "text": [
      "1\n"
     ]
    },
    {
     "name": "stderr",
     "output_type": "stream",
     "text": [
      "/home/moqri/anaconda3/envs/stem/lib/python3.9/site-packages/pandas/core/frame.py:3607: SettingWithCopyWarning: \n",
      "A value is trying to be set on a copy of a slice from a DataFrame.\n",
      "Try using .loc[row_indexer,col_indexer] = value instead\n",
      "\n",
      "See the caveats in the documentation: https://pandas.pydata.org/pandas-docs/stable/user_guide/indexing.html#returning-a-view-versus-a-copy\n",
      "  self._set_item(key, value)\n"
     ]
    },
    {
     "name": "stdout",
     "output_type": "stream",
     "text": [
      "2262349\n",
      "2264861\n",
      "2264861\n",
      "2264861\n"
     ]
    },
    {
     "name": "stderr",
     "output_type": "stream",
     "text": [
      "<ipython-input-9-3ee99fcffa01>:14: FutureWarning: In a future version of pandas all arguments of concat except for the argument 'objs' will be keyword-only\n",
      "  df=pd.concat(dfs,1)\n"
     ]
    },
    {
     "name": "stdout",
     "output_type": "stream",
     "text": [
      "(18105, 6)\n"
     ]
    },
    {
     "data": {
      "text/plain": [
       "<AxesSubplot:>"
      ]
     },
     "execution_count": 9,
     "metadata": {},
     "output_type": "execute_result"
    },
    {
     "data": {
      "image/png": "[encoded data removed]",
      "text/plain": [
       "<Figure size 432x288 with 1 Axes>"
      ]
     },
     "metadata": {
      "needs_background": "light"
     },
     "output_type": "display_data"
    },
    {
     "data": {
      "image/png": "[encoded data removed]",
      "text/plain": [
       "<Figure size 432x288 with 1 Axes>"
      ]
     },
     "metadata": {
      "needs_background": "light"
     },
     "output_type": "display_data"
    }
   ],
   "source": [
    "ggs=[]\n",
    "ezs=[]\n",
    "for ch in range(1,2):\n",
    "    print(ch,end='\\n')\n",
    "    dfs=[]\n",
    "    ez=ezh[ezh.chrom==str(ch)]\n",
    "    #ez=ezh[ezh.chrom=='chr'+str(ch)][ezh.sourceCount>1]\n",
    "    ez['r']=ez.apply(lambda x:range(x['chromStart'],x['chromEnd']),1)\n",
    "    ez=ez['r'].tolist()\n",
    "    ez1=set([item for sublist in ez for item in sublist])\n",
    "    ez=ez1#.intersection(ez2)#.intersection(ez1)\n",
    "    for cell in cells:\n",
    "        dfs=bw2df(cell,ch)\n",
    "    df=pd.concat(dfs,1)\n",
    "    df.columns=['i','h','n','c']\n",
    "    df['ind']=df.index\n",
    "    df['ez']=df.ind.apply(lambda x: x in(ez))\n",
    "    gg=df[~df['ez']].mean()\n",
    "    ggs.append(gg)\n",
    "    ez=df[df.h<2][df['ez']]\n",
    "    print(ez.shape)\n",
    "    ezs.append(ez.mean())   \n",
    "ggs=pd.DataFrame(ggs)\n",
    "ggs[['h','i','n','c']].plot(kind='bar')\n",
    "ezs=pd.DataFrame(ezs)\n",
    "ezs[['h','i','n','c']].plot(kind='bar')\n",
    "#ggs.to_csv('ggs_skin')\n",
    "#ezs.to_csv('ezs_skin')"
   ]
  },
  {
   "cell_type": "code",
   "execution_count": 36,
   "metadata": {},
   "outputs": [],
   "source": [
    "dg['d']=dg.c-dg.n"
   ]
  },
  {
   "cell_type": "code",
   "execution_count": 37,
   "metadata": {},
   "outputs": [
    {
     "data": {
      "text/plain": [
       "<AxesSubplot:>"
      ]
     },
     "execution_count": 37,
     "metadata": {},
     "output_type": "execute_result"
    },
    {
     "data": {
      "image/png": "[encoded data removed]",
      "text/plain": [
       "<Figure size 432x288 with 1 Axes>"
      ]
     },
     "metadata": {
      "needs_background": "light"
     },
     "output_type": "display_data"
    }
   ],
   "source": [
    "dg.d.hist(bins=100)"
   ]
  },
  {
   "cell_type": "code",
   "execution_count": 38,
   "metadata": {},
   "outputs": [],
   "source": [
    "man='https://zhouserver.research.chop.edu/InfiniumAnnotation/20180909/HM450/HM450.hg38.manifest.tsv.gz'\n",
    "man=pd.read_table(man)"
   ]
  },
  {
   "cell_type": "code",
   "execution_count": 39,
   "metadata": {},
   "outputs": [
    {
     "name": "stderr",
     "output_type": "stream",
     "text": [
      "<ipython-input-39-cad03d9984f6>:1: UserWarning: Boolean Series key will be reindexed to match DataFrame index.\n",
      "  man=man[~man.CpG_chrm.isna()][man.CpG_chrm!='chrX'][man.CpG_chrm!='chrY'][man.CpG_chrm!='chrM']\n"
     ]
    }
   ],
   "source": [
    "man=man[~man.CpG_chrm.isna()][man.CpG_chrm!='chrX'][man.CpG_chrm!='chrY'][man.CpG_chrm!='chrM']\n",
    "man['CpG_chrm']=man.CpG_chrm.str[3:].astype(float)"
   ]
  },
  {
   "cell_type": "code",
   "execution_count": 51,
   "metadata": {},
   "outputs": [],
   "source": [
    "man.index=man.CpG_chrm.astype(int).astype(str)+'_'+man.CpG_beg.astype(int).astype(str)"
   ]
  },
  {
   "cell_type": "code",
   "execution_count": 83,
   "metadata": {},
   "outputs": [
    {
     "data": {
      "text/plain": [
       "12743"
      ]
     },
     "execution_count": 83,
     "metadata": {},
     "output_type": "execute_result"
    }
   ],
   "source": [
    "ll=man.loc[dg[dg.h<.5].index.intersection(man.index)].probeID\n",
    "len(ll)"
   ]
  },
  {
   "cell_type": "code",
   "execution_count": 60,
   "metadata": {},
   "outputs": [
    {
     "name": "stdout",
     "output_type": "stream",
     "text": [
      "(473035, 656)\n"
     ]
    },
    {
     "data": {
      "text/html": [
       "<div>\n",
       "<style scoped>\n",
       "    .dataframe tbody tr th:only-of-type {\n",
       "        vertical-align: middle;\n",
       "    }\n",
       "\n",
       "    .dataframe tbody tr th {\n",
       "        vertical-align: top;\n",
       "    }\n",
       "\n",
       "    .dataframe thead th {\n",
       "        text-align: right;\n",
       "    }\n",
       "</style>\n",
       "<table border=\"1\" class=\"dataframe\">\n",
       "  <thead>\n",
       "    <tr style=\"text-align: right;\">\n",
       "      <th></th>\n",
       "      <th>GSM989827</th>\n",
       "      <th>GSM989828</th>\n",
       "      <th>GSM989829</th>\n",
       "      <th>GSM989830</th>\n",
       "      <th>GSM989831</th>\n",
       "      <th>GSM989832</th>\n",
       "      <th>GSM989833</th>\n",
       "      <th>GSM989834</th>\n",
       "      <th>GSM989835</th>\n",
       "      <th>GSM989836</th>\n",
       "      <th>...</th>\n",
       "      <th>GSM990618</th>\n",
       "      <th>GSM990619</th>\n",
       "      <th>GSM990620</th>\n",
       "      <th>GSM990621</th>\n",
       "      <th>GSM990622</th>\n",
       "      <th>GSM990623</th>\n",
       "      <th>GSM990624</th>\n",
       "      <th>GSM990625</th>\n",
       "      <th>GSM990626</th>\n",
       "      <th>GSM990627</th>\n",
       "    </tr>\n",
       "    <tr>\n",
       "      <th>ID_REF</th>\n",
       "      <th></th>\n",
       "      <th></th>\n",
       "      <th></th>\n",
       "      <th></th>\n",
       "      <th></th>\n",
       "      <th></th>\n",
       "      <th></th>\n",
       "      <th></th>\n",
       "      <th></th>\n",
       "      <th></th>\n",
       "      <th></th>\n",
       "      <th></th>\n",
       "      <th></th>\n",
       "      <th></th>\n",
       "      <th></th>\n",
       "      <th></th>\n",
       "      <th></th>\n",
       "      <th></th>\n",
       "      <th></th>\n",
       "      <th></th>\n",
       "      <th></th>\n",
       "    </tr>\n",
       "  </thead>\n",
       "  <tbody>\n",
       "    <tr>\n",
       "      <th>cg00000029</th>\n",
       "      <td>0.464197</td>\n",
       "      <td>0.454883</td>\n",
       "      <td>0.485764</td>\n",
       "      <td>0.480785</td>\n",
       "      <td>0.50122</td>\n",
       "      <td>0.499918</td>\n",
       "      <td>0.485852</td>\n",
       "      <td>0.512442</td>\n",
       "      <td>0.518155</td>\n",
       "      <td>0.417986</td>\n",
       "      <td>...</td>\n",
       "      <td>0.560958</td>\n",
       "      <td>0.472081</td>\n",
       "      <td>0.508502</td>\n",
       "      <td>0.505193</td>\n",
       "      <td>0.443411</td>\n",
       "      <td>0.527496</td>\n",
       "      <td>0.588331</td>\n",
       "      <td>0.362994</td>\n",
       "      <td>0.499145</td>\n",
       "      <td>0.4586</td>\n",
       "    </tr>\n",
       "  </tbody>\n",
       "</table>\n",
       "<p>1 rows × 656 columns</p>\n",
       "</div>"
      ],
      "text/plain": [
       "            GSM989827  GSM989828  GSM989829  GSM989830  GSM989831  GSM989832  \\\n",
       "ID_REF                                                                         \n",
       "cg00000029   0.464197   0.454883   0.485764   0.480785    0.50122   0.499918   \n",
       "\n",
       "            GSM989833  GSM989834  GSM989835  GSM989836  ...  GSM990618  \\\n",
       "ID_REF                                                  ...              \n",
       "cg00000029   0.485852   0.512442   0.518155   0.417986  ...   0.560958   \n",
       "\n",
       "            GSM990619  GSM990620  GSM990621  GSM990622  GSM990623  GSM990624  \\\n",
       "ID_REF                                                                         \n",
       "cg00000029   0.472081   0.508502   0.505193   0.443411   0.527496   0.588331   \n",
       "\n",
       "            GSM990625  GSM990626  GSM990627  \n",
       "ID_REF                                       \n",
       "cg00000029   0.362994   0.499145     0.4586  \n",
       "\n",
       "[1 rows x 656 columns]"
      ]
     },
     "execution_count": 60,
     "metadata": {},
     "output_type": "execute_result"
    }
   ],
   "source": [
    "n=6\n",
    "blood=pd.read_csv(datam+'/wb450.gz',sep='\\t',index_col=0,skiprows=69, nrows=10**n)\n",
    "print(blood.shape)\n",
    "blood.head(1)"
   ]
  },
  {
   "cell_type": "code",
   "execution_count": 61,
   "metadata": {},
   "outputs": [
    {
     "data": {
      "text/plain": [
       "<AxesSubplot:>"
      ]
     },
     "execution_count": 61,
     "metadata": {},
     "output_type": "execute_result"
    },
    {
     "data": {
      "image/png": "[encoded data removed]",
      "text/plain": [
       "<Figure size 432x288 with 1 Axes>"
      ]
     },
     "metadata": {
      "needs_background": "light"
     },
     "output_type": "display_data"
    }
   ],
   "source": [
    "b_ages=pd.read_csv(datam+'/wb450.gz',sep='\\t',skiprows=33,nrows=0,index_col=0).columns.values\n",
    "b_ages=[float(age.strip('age: ').split('y')[0]) for age in b_ages]\n",
    "b=blood.T#.drop('!series_matrix_table_end',1)\n",
    "b['age']=b_ages\n",
    "b.age.hist(bins=50)"
   ]
  },
  {
   "cell_type": "code",
   "execution_count": 62,
   "metadata": {},
   "outputs": [],
   "source": [
    "cols=list(b.columns.intersection(ll.values))+['age']"
   ]
  },
  {
   "cell_type": "code",
   "execution_count": 84,
   "metadata": {},
   "outputs": [
    {
     "data": {
      "text/plain": [
       "<AxesSubplot:xlabel='age'>"
      ]
     },
     "execution_count": 84,
     "metadata": {},
     "output_type": "execute_result"
    },
    {
     "data": {
      "image/png": "[encoded data removed]",
      "text/plain": [
       "<Figure size 432x288 with 1 Axes>"
      ]
     },
     "metadata": {
      "needs_background": "light"
     },
     "output_type": "display_data"
    }
   ],
   "source": [
    "b[cols].groupby('age').mean().mean(1).plot()"
   ]
  },
  {
   "cell_type": "code",
   "execution_count": 85,
   "metadata": {},
   "outputs": [],
   "source": [
    "t=b[cols].groupby('age').mean().mean(1)/b.groupby('age').mean().mean(1)"
   ]
  },
  {
   "cell_type": "code",
   "execution_count": 86,
   "metadata": {},
   "outputs": [
    {
     "data": {
      "text/plain": [
       "<AxesSubplot:xlabel='age'>"
      ]
     },
     "execution_count": 86,
     "metadata": {},
     "output_type": "execute_result"
    },
    {
     "data": {
      "image/png": "[encoded data removed]",
      "text/plain": [
       "<Figure size 432x288 with 1 Axes>"
      ]
     },
     "metadata": {
      "needs_background": "light"
     },
     "output_type": "display_data"
    }
   ],
   "source": [
    "t.plot()"
   ]
  },
  {
   "cell_type": "code",
   "execution_count": null,
   "metadata": {},
   "outputs": [],
   "source": []
  }
 ],
 "metadata": {
  "kernelspec": {
   "display_name": "stem",
   "language": "python",
   "name": "stem"
  },
  "language_info": {
   "codemirror_mode": {
    "name": "ipython",
    "version": 3
   },
   "file_extension": ".py",
   "mimetype": "text/x-python",
   "name": "python",
   "nbconvert_exporter": "python",
   "pygments_lexer": "ipython3",
   "version": "3.9.2"
  }
 },
 "nbformat": 4,
 "nbformat_minor": 4
}
