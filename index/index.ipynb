{
 "cells": [
  {
   "cell_type": "code",
   "execution_count": 1,
   "metadata": {},
   "outputs": [],
   "source": [
    "import pandas as pd\n",
    "import pyBigWig\n",
    "import numpy as np\n",
    "import seaborn as sns\n",
    "import re\n",
    "from liftover import get_lifter\n",
    "data='/labs/mpsnyder/moqri/data/index/'\n",
    "datam='/labs/mpsnyder/moqri/data/mont/'\n",
    "\n",
    "ch=1\n",
    "\n",
    "v='38'\n",
    "h9_bw='http://smithdata.usc.edu/methbase/data/Xie-Human-2013/Human_H9/tracks_hg'+v+'/Human_H9.meth.bw'\n",
    "ips_bw='http://smithdata.usc.edu/methbase/data/Lister-iPSC-2011/Human_FFiPSC69/tracks_hg'+v+'/Human_FFiPSC69.meth.bw'\n",
    "ezh_h9='https://ftp.ncbi.nlm.nih.gov/geo/series/GSE76nnn/GSE76626/suppl/GSE76626_ChIP-Seq_RPM.txt.gz' ## hg38\n",
    "\n",
    "ct_bw='http://smithdata.usc.edu/methbase/data/Heyn-Human-NewbornCentenarian-2012/Human_CD4T-100yr/tracks_hg'+v+'/Human_CD4T-100yr.meth.bw'\n",
    "nb_bw='http://smithdata.usc.edu/methbase/data/Heyn-Human-NewbornCentenarian-2012/Human_CD4T-Newborn/tracks_hg'+v+'/Human_CD4T-Newborn.meth.bw'\n",
    "so_bw='http://smithdata.usc.edu/methbase/data/Vandiver-Human-2015/Human_Epidermis-old-sun-exposed/tracks_hg'+v+'/Human_Epidermis-old-sun-exposed.meth.bw'\n",
    "sy_bw='http://smithdata.usc.edu/methbase/data/Vandiver-Human-2015/Human_Epidermis-young-sun-exposed/tracks_hg'+v+'/Human_Epidermis-young-sun-exposed.meth.bw'\n",
    "\n",
    "\n",
    "hg19tohg38='http://hgdownload.soe.ucsc.edu/goldenPath/hg19/liftOver/hg19ToHg38.over.chain.gz'\n",
    "\n",
    "def bw2df(cell,ch):\n",
    "    df=bws[cell].intervals(\"chr\"+str(ch))\n",
    "    print(len(df))\n",
    "    df=pd.DataFrame(df)\n",
    "    df.index=df[0]\n",
    "    df=df[2]\n",
    "    dfs.append(df)    \n",
    "    return(dfs)\n",
    "def bw2df(cell):\n",
    "    bw=cell\n",
    "    bw=pyBigWig.open(bw)\n",
    "    bws=[]\n",
    "    for i,r in ezh.iterrows():\n",
    "        print('',end='.')\n",
    "        bwi=bw.intervals(\"chr\"+str(r['chrom']),r['chromStart'],r['chromEnd'])\n",
    "        if bwi is not None:\n",
    "            for b in bwi:\n",
    "                bws.append([r['chrom'],b[0],b[2]])\n",
    "    df=pd.DataFrame(bws)\n",
    "    print(df.shape)\n",
    "    return df"
   ]
  },
  {
   "cell_type": "code",
   "execution_count": 2,
   "metadata": {},
   "outputs": [
    {
     "name": "stdout",
     "output_type": "stream",
     "text": [
      "(929, 5)\n"
     ]
    },
    {
     "name": "stderr",
     "output_type": "stream",
     "text": [
      "/home/moqri/anaconda3/envs/stem/lib/python3.9/site-packages/IPython/core/interactiveshell.py:3437: DtypeWarning: Columns (1) have mixed types.Specify dtype option on import or set low_memory=False.\n",
      "  exec(code_obj, self.user_global_ns, self.user_ns)\n"
     ]
    },
    {
     "data": {
      "text/plain": [
       "4.645"
      ]
     },
     "execution_count": 2,
     "metadata": {},
     "output_type": "execute_result"
    }
   ],
   "source": [
    "ezh=pd.read_table(ezh_h9,index_col=0)\n",
    "ezh=ezh[['Chromosome','Start','End','WT_EZH2','Strand']][ezh['WT_EZH2']>1]\n",
    "ezh.columns=['chrom', 'chromStart', 'chromEnd', 'value','s']\n",
    "ezh=ezh[~ezh.index.str.contains('-AS')]\n",
    "ezh=ezh[ezh.index.str.contains('001')]\n",
    "ezh=ezh[ezh.chrom!='X']\n",
    "ezh.index=ezh.index.str.strip('-001_upstream')\n",
    "print(ezh.shape)\n",
    "ezh['d']=ezh.chromEnd-ezh.chromStart\n",
    "ezh.d.sum()/1000000"
   ]
  },
  {
   "cell_type": "code",
   "execution_count": 3,
   "metadata": {},
   "outputs": [],
   "source": [
    "ezh['tss']=(ezh.chromStart+ezh.chromEnd)/2"
   ]
  },
  {
   "cell_type": "code",
   "execution_count": 4,
   "metadata": {},
   "outputs": [
    {
     "name": "stdout",
     "output_type": "stream",
     "text": [
      ".................................................................................................................................................................................................................................................................................................................................................................................................................................................................................................................................................................................................................................................................................................................................................................................................................................................................................................................................................................(245711, 3)\n",
      ".................................................................................................................................................................................................................................................................................................................................................................................................................................................................................................................................................................................................................................................................................................................................................................................................................................................................................................................................................................(244563, 3)\n",
      ".................................................................................................................................................................................................................................................................................................................................................................................................................................................................................................................................................................................................................................................................................................................................................................................................................................................................................................................................................................(245711, 3)\n",
      ".................................................................................................................................................................................................................................................................................................................................................................................................................................................................................................................................................................................................................................................................................................................................................................................................................................................................................................................................................................(245711, 3)\n",
      ".................................................................................................................................................................................................................................................................................................................................................................................................................................................................................................................................................................................................................................................................................................................................................................................................................................................................................................................................................................(245711, 3)\n",
      ".................................................................................................................................................................................................................................................................................................................................................................................................................................................................................................................................................................................................................................................................................................................................................................................................................................................................................................................................................................(245711, 3)\n"
     ]
    }
   ],
   "source": [
    "dfs=[]\n",
    "cells=[h9_bw,ips_bw,nb_bw,ct_bw,sy_bw,so_bw]\n",
    "bws={}\n",
    "for cell in cells:\n",
    "    bws[cell]=pyBigWig.open(cell)\n",
    "    df=bw2df(cell)\n",
    "    dfs.append(df)"
   ]
  },
  {
   "cell_type": "code",
   "execution_count": 16,
   "metadata": {},
   "outputs": [
    {
     "name": "stderr",
     "output_type": "stream",
     "text": [
      "<ipython-input-16-b6135f2ef505>:4: FutureWarning: In a future version of pandas all arguments of DataFrame.drop except for the argument 'labels' will be keyword-only\n",
      "  df.drop([0,1],1,inplace=True)\n"
     ]
    }
   ],
   "source": [
    "for df in dfs:\n",
    "    df.drop_duplicates(inplace=True)\n",
    "    df.index=df[0].astype(str)+'_'+df[1].astype(str)\n",
    "    df.drop([0,1],1,inplace=True)    "
   ]
  },
  {
   "cell_type": "code",
   "execution_count": 18,
   "metadata": {},
   "outputs": [],
   "source": [
    "for i in range(6):\n",
    "    dfs[i].columns=[['h','i','n','c','y','o'][i]]"
   ]
  },
  {
   "cell_type": "code",
   "execution_count": 21,
   "metadata": {},
   "outputs": [],
   "source": [
    "dg=dfs[0]\n",
    "for df in dfs[1:]:\n",
    "    dg=dg.merge(df,left_index=True,right_index=True,how='left')"
   ]
  },
  {
   "cell_type": "code",
   "execution_count": 66,
   "metadata": {},
   "outputs": [
    {
     "data": {
      "text/plain": [
       "<AxesSubplot:>"
      ]
     },
     "execution_count": 66,
     "metadata": {},
     "output_type": "execute_result"
    },
    {
     "data": {
      "image/png": "[encoded data removed]",
      "text/plain": [
       "<Figure size 432x288 with 1 Axes>"
      ]
     },
     "metadata": {
      "needs_background": "light"
     },
     "output_type": "display_data"
    }
   ],
   "source": [
    "dg.mean().plot(kind='bar')"
   ]
  },
  {
   "cell_type": "code",
   "execution_count": 32,
   "metadata": {},
   "outputs": [],
   "source": [
    "#dg.to_csv('ezs.csv')"
   ]
  },
  {
   "cell_type": "code",
   "execution_count": 5,
   "metadata": {},
   "outputs": [
    {
     "data": {
      "text/plain": [
       "(210130, 6)"
      ]
     },
     "execution_count": 5,
     "metadata": {},
     "output_type": "execute_result"
    }
   ],
   "source": [
    "df=pd.read_csv('ezs.csv',index_col=0)\n",
    "df.shape"
   ]
  },
  {
   "cell_type": "code",
   "execution_count": 15,
   "metadata": {},
   "outputs": [],
   "source": [
    "tss=(ezh.chrom.astype(int)*10**9+ezh.tss).values"
   ]
  },
  {
   "cell_type": "code",
   "execution_count": 24,
   "metadata": {},
   "outputs": [],
   "source": [
    "df['g']=df.index.str.split('_').str[0].astype(int)*10**9+df.index.str.split('_').str[1].astype(int)"
   ]
  },
  {
   "cell_type": "code",
   "execution_count": 35,
   "metadata": {},
   "outputs": [],
   "source": [
    "df['tss']=df.g.apply(lambda y:min(tss, key=lambda x:abs(x-y)))"
   ]
  },
  {
   "cell_type": "code",
   "execution_count": 36,
   "metadata": {},
   "outputs": [],
   "source": [
    "df['d']=df.g-df.tss"
   ]
  },
  {
   "cell_type": "code",
   "execution_count": 39,
   "metadata": {},
   "outputs": [
    {
     "data": {
      "text/plain": [
       "<AxesSubplot:>"
      ]
     },
     "execution_count": 39,
     "metadata": {},
     "output_type": "execute_result"
    },
    {
     "data": {
      "image/png": "[encoded data removed]",
      "text/plain": [
       "<Figure size 432x288 with 1 Axes>"
      ]
     },
     "metadata": {
      "needs_background": "light"
     },
     "output_type": "display_data"
    }
   ],
   "source": [
    "df.d.hist(bins=100)"
   ]
  },
  {
   "cell_type": "code",
   "execution_count": 363,
   "metadata": {},
   "outputs": [
    {
     "data": {
      "text/html": [
       "<div>\n",
       "<style scoped>\n",
       "    .dataframe tbody tr th:only-of-type {\n",
       "        vertical-align: middle;\n",
       "    }\n",
       "\n",
       "    .dataframe tbody tr th {\n",
       "        vertical-align: top;\n",
       "    }\n",
       "\n",
       "    .dataframe thead th {\n",
       "        text-align: right;\n",
       "    }\n",
       "</style>\n",
       "<table border=\"1\" class=\"dataframe\">\n",
       "  <thead>\n",
       "    <tr style=\"text-align: right;\">\n",
       "      <th></th>\n",
       "      <th>h</th>\n",
       "      <th>n</th>\n",
       "      <th>c</th>\n",
       "      <th>i</th>\n",
       "    </tr>\n",
       "    <tr>\n",
       "      <th>dq</th>\n",
       "      <th></th>\n",
       "      <th></th>\n",
       "      <th></th>\n",
       "      <th></th>\n",
       "    </tr>\n",
       "  </thead>\n",
       "  <tbody>\n",
       "    <tr>\n",
       "      <th>(-2500.001, -1711.0]</th>\n",
       "      <td>0.063285</td>\n",
       "      <td>0.088203</td>\n",
       "      <td>0.158899</td>\n",
       "      <td>0.057123</td>\n",
       "    </tr>\n",
       "    <tr>\n",
       "      <th>(-1711.0, -1126.0]</th>\n",
       "      <td>0.049807</td>\n",
       "      <td>0.072160</td>\n",
       "      <td>0.141539</td>\n",
       "      <td>0.053122</td>\n",
       "    </tr>\n",
       "    <tr>\n",
       "      <th>(-1126.0, -689.0]</th>\n",
       "      <td>0.042056</td>\n",
       "      <td>0.051022</td>\n",
       "      <td>0.109027</td>\n",
       "      <td>0.046698</td>\n",
       "    </tr>\n",
       "    <tr>\n",
       "      <th>(-689.0, -359.0]</th>\n",
       "      <td>0.033355</td>\n",
       "      <td>0.037051</td>\n",
       "      <td>0.090744</td>\n",
       "      <td>0.035786</td>\n",
       "    </tr>\n",
       "    <tr>\n",
       "      <th>(-359.0, -97.0]</th>\n",
       "      <td>0.023394</td>\n",
       "      <td>0.026790</td>\n",
       "      <td>0.074822</td>\n",
       "      <td>0.027245</td>\n",
       "    </tr>\n",
       "    <tr>\n",
       "      <th>(-97.0, 134.0]</th>\n",
       "      <td>0.020017</td>\n",
       "      <td>0.023141</td>\n",
       "      <td>0.063336</td>\n",
       "      <td>0.021857</td>\n",
       "    </tr>\n",
       "    <tr>\n",
       "      <th>(134.0, 407.0]</th>\n",
       "      <td>0.026165</td>\n",
       "      <td>0.030157</td>\n",
       "      <td>0.078972</td>\n",
       "      <td>0.028143</td>\n",
       "    </tr>\n",
       "    <tr>\n",
       "      <th>(407.0, 739.0]</th>\n",
       "      <td>0.034907</td>\n",
       "      <td>0.041556</td>\n",
       "      <td>0.100101</td>\n",
       "      <td>0.037154</td>\n",
       "    </tr>\n",
       "    <tr>\n",
       "      <th>(739.0, 1161.0]</th>\n",
       "      <td>0.042400</td>\n",
       "      <td>0.058035</td>\n",
       "      <td>0.123976</td>\n",
       "      <td>0.046273</td>\n",
       "    </tr>\n",
       "    <tr>\n",
       "      <th>(1161.0, 1713.0]</th>\n",
       "      <td>0.047993</td>\n",
       "      <td>0.072820</td>\n",
       "      <td>0.145538</td>\n",
       "      <td>0.050896</td>\n",
       "    </tr>\n",
       "    <tr>\n",
       "      <th>(1713.0, 2499.0]</th>\n",
       "      <td>0.060497</td>\n",
       "      <td>0.084820</td>\n",
       "      <td>0.155119</td>\n",
       "      <td>0.059628</td>\n",
       "    </tr>\n",
       "  </tbody>\n",
       "</table>\n",
       "</div>"
      ],
      "text/plain": [
       "                             h         n         c         i\n",
       "dq                                                          \n",
       "(-2500.001, -1711.0]  0.063285  0.088203  0.158899  0.057123\n",
       "(-1711.0, -1126.0]    0.049807  0.072160  0.141539  0.053122\n",
       "(-1126.0, -689.0]     0.042056  0.051022  0.109027  0.046698\n",
       "(-689.0, -359.0]      0.033355  0.037051  0.090744  0.035786\n",
       "(-359.0, -97.0]       0.023394  0.026790  0.074822  0.027245\n",
       "(-97.0, 134.0]        0.020017  0.023141  0.063336  0.021857\n",
       "(134.0, 407.0]        0.026165  0.030157  0.078972  0.028143\n",
       "(407.0, 739.0]        0.034907  0.041556  0.100101  0.037154\n",
       "(739.0, 1161.0]       0.042400  0.058035  0.123976  0.046273\n",
       "(1161.0, 1713.0]      0.047993  0.072820  0.145538  0.050896\n",
       "(1713.0, 2499.0]      0.060497  0.084820  0.155119  0.059628"
      ]
     },
     "execution_count": 363,
     "metadata": {},
     "output_type": "execute_result"
    }
   ],
   "source": [
    "df['dq']=pd.qcut(df.d,11)\n",
    "df[df.h<.5].groupby('dq').mean()[['h','n','c','i']]"
   ]
  },
  {
   "cell_type": "code",
   "execution_count": 353,
   "metadata": {},
   "outputs": [
    {
     "data": {
      "image/png": "[encoded data removed]",
      "text/plain": [
       "<Figure size 432x288 with 1 Axes>"
      ]
     },
     "metadata": {
      "needs_background": "light"
     },
     "output_type": "display_data"
    }
   ],
   "source": [
    "pl=df[df.h<.5].groupby('dq').mean()[['h','n','c','i']]\n",
    "pl.columns=['hESC','Newborn','Centenerian','iPSC']\n",
    "pl.index=list(range(-2500,2501,500))\n",
    "ax=sns.lineplot(data=pl,dashes=False,palette = sns.color_palette([\"#4c72b0\",\"#55a868\",\"#c44e52\",\"#EACE09\"]))"
   ]
  },
  {
   "cell_type": "code",
   "execution_count": 354,
   "metadata": {},
   "outputs": [
    {
     "data": {
      "image/png": "[encoded data removed]",
      "text/plain": [
       "<Figure size 432x288 with 1 Axes>"
      ]
     },
     "metadata": {
      "needs_background": "light"
     },
     "output_type": "display_data"
    }
   ],
   "source": [
    "pl=df[df.h<.5].groupby('dq').mean()[['h','y','o','i']]\n",
    "pl.columns=['hESC','Young','Old','iPSC']\n",
    "pl.index=list(range(-2500,2501,500))\n",
    "ax=sns.lineplot(data=pl,dashes=False,palette = sns.color_palette([\"#4c72b0\",\"#55a868\",\"#c44e52\",\"#EACE09\"]))"
   ]
  },
  {
   "cell_type": "code",
   "execution_count": 63,
   "metadata": {},
   "outputs": [],
   "source": [
    "man='https://zhouserver.research.chop.edu/InfiniumAnnotation/20180909/HM450/HM450.hg38.manifest.tsv.gz'\n",
    "man=pd.read_table(man)"
   ]
  },
  {
   "cell_type": "code",
   "execution_count": 64,
   "metadata": {},
   "outputs": [
    {
     "name": "stderr",
     "output_type": "stream",
     "text": [
      "<ipython-input-64-cad03d9984f6>:1: UserWarning: Boolean Series key will be reindexed to match DataFrame index.\n",
      "  man=man[~man.CpG_chrm.isna()][man.CpG_chrm!='chrX'][man.CpG_chrm!='chrY'][man.CpG_chrm!='chrM']\n"
     ]
    }
   ],
   "source": [
    "man=man[~man.CpG_chrm.isna()][man.CpG_chrm!='chrX'][man.CpG_chrm!='chrY'][man.CpG_chrm!='chrM']\n",
    "man['CpG_chrm']=man.CpG_chrm.str[3:].astype(float)"
   ]
  },
  {
   "cell_type": "code",
   "execution_count": 65,
   "metadata": {},
   "outputs": [],
   "source": [
    "man.index=man.CpG_chrm.astype(int).astype(str)+'_'+man.CpG_beg.astype(int).astype(str)"
   ]
  },
  {
   "cell_type": "code",
   "execution_count": 379,
   "metadata": {},
   "outputs": [
    {
     "data": {
      "text/plain": [
       "(12743, 2)"
      ]
     },
     "execution_count": 379,
     "metadata": {},
     "output_type": "execute_result"
    }
   ],
   "source": [
    "ll=man.loc[df[df.h<.5].index.intersection(man.index)][['probeID']]\n",
    "ll['dq']=df.loc[ll.index].dq\n",
    "ll.shape"
   ]
  },
  {
   "cell_type": "code",
   "execution_count": 177,
   "metadata": {},
   "outputs": [],
   "source": [
    "liver450='https://ftp.ncbi.nlm.nih.gov/geo/series/GSE48nnn/GSE48325/matrix/GSE48325_series_matrix.txt.gz'\n",
    "!wget -q -nc {liver450} -O {datam}\\liver450.gz"
   ]
  },
  {
   "cell_type": "code",
   "execution_count": null,
   "metadata": {},
   "outputs": [],
   "source": [
    "n=6"
   ]
  },
  {
   "cell_type": "code",
   "execution_count": 366,
   "metadata": {},
   "outputs": [
    {
     "name": "stdout",
     "output_type": "stream",
     "text": [
      "(485577, 85)\n"
     ]
    },
    {
     "data": {
      "text/plain": [
       "<AxesSubplot:>"
      ]
     },
     "execution_count": 366,
     "metadata": {},
     "output_type": "execute_result"
    },
    {
     "data": {
      "image/png": "[encoded data removed]",
      "text/plain": [
       "<Figure size 432x288 with 1 Axes>"
      ]
     },
     "metadata": {
      "needs_background": "light"
     },
     "output_type": "display_data"
    }
   ],
   "source": [
    "liver=pd.read_csv(liver450, index_col=0,sep='\\t', skiprows=60,nrows=10**n)\n",
    "liver=liver.drop('!series_matrix_table_end')\n",
    "print(liver.shape)\n",
    "l_ages=pd.read_csv(liver450, index_col=0,sep='\\t', skiprows=27,nrows=9).iloc[8].str.strip('age: ').astype(float)\n",
    "l=liver.T\n",
    "l['age']=l_ages\n",
    "l.age.hist(bins=50)"
   ]
  },
  {
   "cell_type": "code",
   "execution_count": 367,
   "metadata": {},
   "outputs": [],
   "source": [
    "l['age']=pd.cut(l.age,[20,30,40,50,60])"
   ]
  },
  {
   "cell_type": "code",
   "execution_count": 368,
   "metadata": {},
   "outputs": [
    {
     "data": {
      "text/plain": [
       "(20, 30]     5\n",
       "(50, 60]    16\n",
       "(30, 40]    19\n",
       "(40, 50]    35\n",
       "Name: age, dtype: int64"
      ]
     },
     "execution_count": 368,
     "metadata": {},
     "output_type": "execute_result"
    }
   ],
   "source": [
    "l['age'].value_counts().sort_values()"
   ]
  },
  {
   "cell_type": "code",
   "execution_count": 369,
   "metadata": {},
   "outputs": [],
   "source": [
    "l=l.groupby('age').mean()"
   ]
  },
  {
   "cell_type": "code",
   "execution_count": 370,
   "metadata": {},
   "outputs": [],
   "source": [
    "l=l[ll.probeID].T"
   ]
  },
  {
   "cell_type": "code",
   "execution_count": 380,
   "metadata": {},
   "outputs": [],
   "source": [
    "l['dq']=ll.dq.values"
   ]
  },
  {
   "cell_type": "code",
   "execution_count": 381,
   "metadata": {},
   "outputs": [],
   "source": [
    "pl=l.groupby('dq').mean()\n",
    "pl.index=list(range(-2500,2501,500))"
   ]
  },
  {
   "cell_type": "code",
   "execution_count": 386,
   "metadata": {},
   "outputs": [
    {
     "data": {
      "image/png": "[encoded data removed]",
      "text/plain": [
       "<Figure size 432x288 with 1 Axes>"
      ]
     },
     "metadata": {
      "needs_background": "light"
     },
     "output_type": "display_data"
    }
   ],
   "source": [
    "ax=sns.lineplot(data=pl,dashes=False,palette = sns.color_palette([\"#55a868\",\"#E57300\",\"#FF5500\",\"#c44e52\"]))"
   ]
  },
  {
   "cell_type": "code",
   "execution_count": null,
   "metadata": {},
   "outputs": [],
   "source": []
  }
 ],
 "metadata": {
  "kernelspec": {
   "display_name": "stem",
   "language": "python",
   "name": "stem"
  },
  "language_info": {
   "codemirror_mode": {
    "name": "ipython",
    "version": 3
   },
   "file_extension": ".py",
   "mimetype": "text/x-python",
   "name": "python",
   "nbconvert_exporter": "python",
   "pygments_lexer": "ipython3",
   "version": "3.9.2"
  }
 },
 "nbformat": 4,
 "nbformat_minor": 4
}
