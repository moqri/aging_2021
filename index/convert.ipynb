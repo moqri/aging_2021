{
 "cells": [
  {
   "cell_type": "code",
   "execution_count": 3,
   "metadata": {},
   "outputs": [],
   "source": [
    "import util as u\n",
    "import pandas as pd\n",
    "\n",
    "data='/labs/mpsnyder/moqri/data/index/'\n"
   ]
  },
  {
   "cell_type": "code",
   "execution_count": 4,
   "metadata": {},
   "outputs": [],
   "source": [
    "v='38'\n",
    "\n",
    "bws={\n",
    "'h9':'http://smithdata.usc.edu/methbase/data/Xie-Human-2013/Human_H9/tracks_hg'+v+'/Human_H9.meth.bw',\n",
    "'ips':'http://smithdata.usc.edu/methbase/data/Lister-iPSC-2011/Human_FFiPSC69/tracks_hg'+v+'/Human_FFiPSC69.meth.bw',\n",
    "'ct':'http://smithdata.usc.edu/methbase/data/Heyn-Human-NewbornCentenarian-2012/Human_CD4T-100yr/tracks_hg'+v+'/Human_CD4T-100yr.meth.bw',\n",
    "'nb':'http://smithdata.usc.edu/methbase/data/Heyn-Human-NewbornCentenarian-2012/Human_CD4T-Newborn/tracks_hg'+v+'/Human_CD4T-Newborn.meth.bw',\n",
    "'so':'http://smithdata.usc.edu/methbase/data/Vandiver-Human-2015/Human_Epidermis-old-sun-exposed/tracks_hg'+v+'/Human_Epidermis-old-sun-exposed.meth.bw',\n",
    "'sy':'http://smithdata.usc.edu/methbase/data/Vandiver-Human-2015/Human_Epidermis-young-sun-exposed/tracks_hg'+v+'/Human_Epidermis-young-sun-exposed.meth.bw',\n",
    "'md':'http://smithdata.usc.edu/methbase/data/Heyn-Human-NewbornCentenarian-2012/Human_PBMC/tracks_hg'+v+'/Human_PBMC.meth.bw'   \n",
    "}\n",
    "bws={\n",
    "'cc':'http://smithdata.usc.edu/methbase/data/Berman-Human-2012/Human_ColonCancer/tracks_hg38/Human_ColonCancer.meth.bw',\n",
    "'cn':'http://smithdata.usc.edu/methbase/data/Berman-Human-2012/Human_ColonNormal/tracks_hg38/Human_ColonNormal.meth.bw'\n",
    "}"
   ]
  },
  {
   "cell_type": "code",
   "execution_count": 5,
   "metadata": {},
   "outputs": [
    {
     "data": {
      "text/plain": [
       "(31335, 8)"
      ]
     },
     "execution_count": 5,
     "metadata": {},
     "output_type": "execute_result"
    }
   ],
   "source": [
    "tss=pd.read_csv('files/tss38.csv',index_col=0)\n",
    "tss.shape"
   ]
  },
  {
   "cell_type": "code",
   "execution_count": 6,
   "metadata": {},
   "outputs": [],
   "source": [
    "# bigwigs\n",
    "cells=bws.keys()\n",
    "def get_bws(cells,tss):\n",
    "    for cell in cells:\n",
    "        bw_url=bws[cell]\n",
    "        df=u.bw2df(bw_url,tss)\n",
    "        df.to_csv(data+'wg/'+cell+'.csv')"
   ]
  },
  {
   "cell_type": "code",
   "execution_count": 7,
   "metadata": {},
   "outputs": [
    {
     "name": "stdout",
     "output_type": "stream",
     "text": [
      "1.1.1.1.1.1.1.1.1.1.1.1.1.1.2.2.2.2.2.2.2.2.2.2.2.3.3.3.3.3.3.3.4.4.4.4.4.4.4.5.5.5.5.5.5.5.5.6.6.6.6.6.6.6.6.7.7.7.7.7.7.7.8.8.8.8.8.8.8.9.9.9.9.9.10.10.10.10.10.10.11.11.11.11.11.11.11.11.11.11.12.12.12.12.12.12.12.12.12.13.13.13.14.14.14.14.14.14.15.15.15.15.15.15.16.16.16.16.16.16.16.16.17.17.17.17.17.17.17.17.17.17.18.18.18.18.19.19.19.19.19.19.19.19.19.19.20.20.20.20.21.21.22.22.22.22."
     ]
    },
    {
     "name": "stderr",
     "output_type": "stream",
     "text": [
      "/oak/stanford/scg/lab_mpsnyder/moqri/aging/index/util.py:40: FutureWarning: In a future version of pandas all arguments of DataFrame.drop except for the argument 'labels' will be keyword-only\n",
      "  df.drop([0,1],1,inplace=True)\n"
     ]
    },
    {
     "name": "stdout",
     "output_type": "stream",
     "text": [
      "(3145123, 1)\n",
      "1.1.1.1.1.1.1.1.1.1.1.1.1.1.2.2.2.2.2.2.2.2.2.2.2.3.3.3.3.3.3.3.4.4.4.4.4.4.4.5.5.5.5.5.5.5.5.6.6.6.6.6.6.6.6.7.7.7.7.7.7.7.8.8.8.8.8.8.8.9.9.9.9.9.10.10.10.10.10.10.11.11.11.11.11.11.11.11.11.11.12.12.12.12.12.12.12.12.12.13.13.13.14.14.14.14.14.14.15.15.15.15.15.15.16.16.16.16.16.16.16.16.17.17.17.17.17.17.17.17.17.17.18.18.18.18.19.19.19.19.19.19.19.19.19.19.20.20.20.20.21.21.22.22.22.22.(3145123, 1)\n"
     ]
    }
   ],
   "source": [
    "get_bws(cells,tss)"
   ]
  },
  {
   "cell_type": "code",
   "execution_count": null,
   "metadata": {},
   "outputs": [],
   "source": []
  },
  {
   "cell_type": "code",
   "execution_count": 4,
   "metadata": {},
   "outputs": [],
   "source": [
    "# bed files\n",
    "n1='https://ftp.ncbi.nlm.nih.gov/geo/samples/GSM1421nnn/GSM1421901/suppl/GSM1421901_Normal_CD19_1WGBS.hg19.bed.txt.gz'\n",
    "n2='https://ftp.ncbi.nlm.nih.gov/geo/samples/GSM1421nnn/GSM1421902/suppl/GSM1421902_Normal_IGD_3WGBS.hg19.bed.txt.gz'\n",
    "c1='https://ftp.ncbi.nlm.nih.gov/geo/samples/GSM1421nnn/GSM1421900/suppl/GSM1421900_CLL007WGBS.hg19.bed.txt.gz'\n",
    "c2='https://ftp.ncbi.nlm.nih.gov/geo/samples/GSM1421nnn/GSM1421899/suppl/GSM1421899_CLL169WGBS.hg19.bed.txt.gz'\n",
    "!wget -nc -q {n1}  -O \"{data}cancer/n1.bed.gz\"\n",
    "!wget -nc -q {n2}  -O \"{data}cancer/n2.bed.gz\"\n",
    "!wget -nc -q {c1}  -O \"{data}cancer/c1.bed.gz\"\n",
    "!wget -nc -q {c2}  -O \"{data}cancer/c2.bed.gz\""
   ]
  },
  {
   "cell_type": "code",
   "execution_count": 2,
   "metadata": {},
   "outputs": [
    {
     "name": "stdout",
     "output_type": "stream",
     "text": [
      "(6735516, 4)\n",
      "(7387153, 4)\n",
      "(7178923, 4)\n",
      "(6501917, 4)\n"
     ]
    }
   ],
   "source": [
    "cells=['n1','n2','c1','c2']\n",
    "def get_beds(cells):\n",
    "    ixs=[]\n",
    "    dts=[]\n",
    "    for cell in cells:\n",
    "        dt=pd.read_table(data+'cancer/'+cell+'.bed.gz',usecols=['chr','start','methylatedReadCount','unmethylatedReadCount'])\n",
    "        print(dt.shape)\n",
    "        dt.index=dt['chr'].str[3:]+'_'+dt['start'].astype(str)\n",
    "        ixs.append(set(dt.index))\n",
    "        dts.append(dt)\n",
    "    com=((ixs[0].intersection(ixs[1])).intersection(ixs[2])).intersection(ixs[3])\n",
    "    len(com)    \n",
    "    for i in range(len(dts)):\n",
    "        dt=dts[i]\n",
    "        dt=dt.loc[com]\n",
    "        dt['b'+str(i)]=dt['methylatedReadCount']/(dt['methylatedReadCount']+dt['unmethylatedReadCount'])\n",
    "        dts[i]=dt\n",
    "    dt0=dts[0][['chr','start','b0']]\n",
    "    for i in range(1,len(dts)):\n",
    "        dt=dts[i][['b'+str(i)]]\n",
    "        dt0=dt0.merge(dt,left_index=True,right_index=True)   \n",
    "    dt0.drop(['chr','start','end'],1).mean()   \n",
    "    dt0['end']=dt0['start']\n",
    "    dt0=dt0[['chr','start','end']+['b'+str(i) for i in list(range(4))]]\n",
    "    dt0.to_csv(data+'cancer/bc_19.bed',header=False,index=False,sep='\\t')\n",
    "    !CrossMap.py bed hg19ToHg38.over.chain.gz \"{data}cancer/bc_19.bed\" \"{data}cancer/bc_38.bed\"    "
   ]
  },
  {
   "cell_type": "code",
   "execution_count": null,
   "metadata": {},
   "outputs": [],
   "source": []
  }
 ],
 "metadata": {
  "kernelspec": {
   "display_name": "stem",
   "language": "python",
   "name": "stem"
  },
  "language_info": {
   "codemirror_mode": {
    "name": "ipython",
    "version": 3
   },
   "file_extension": ".py",
   "mimetype": "text/x-python",
   "name": "python",
   "nbconvert_exporter": "python",
   "pygments_lexer": "ipython3",
   "version": "3.9.2"
  }
 },
 "nbformat": 4,
 "nbformat_minor": 4
}
