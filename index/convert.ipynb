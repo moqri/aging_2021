{
 "cells": [
  {
   "cell_type": "code",
   "execution_count": 1,
   "metadata": {},
   "outputs": [],
   "source": [
    "import util as u\n",
    "import pandas as pd\n",
    "\n",
    "data='/labs/mpsnyder/moqri/data/index/'\n"
   ]
  },
  {
   "cell_type": "code",
   "execution_count": 2,
   "metadata": {},
   "outputs": [],
   "source": [
    "v='38'\n",
    "\n",
    "bws={\n",
    "'h9':'http://smithdata.usc.edu/methbase/data/Xie-Human-2013/Human_H9/tracks_hg'+v+'/Human_H9.meth.bw',\n",
    "'ips':'http://smithdata.usc.edu/methbase/data/Lister-iPSC-2011/Human_FFiPSC69/tracks_hg'+v+'/Human_FFiPSC69.meth.bw',\n",
    "'ct':'http://smithdata.usc.edu/methbase/data/Heyn-Human-NewbornCentenarian-2012/Human_CD4T-100yr/tracks_hg'+v+'/Human_CD4T-100yr.meth.bw',\n",
    "'nb':'http://smithdata.usc.edu/methbase/data/Heyn-Human-NewbornCentenarian-2012/Human_CD4T-Newborn/tracks_hg'+v+'/Human_CD4T-Newborn.meth.bw',\n",
    "'so':'http://smithdata.usc.edu/methbase/data/Vandiver-Human-2015/Human_Epidermis-old-sun-exposed/tracks_hg'+v+'/Human_Epidermis-old-sun-exposed.meth.bw',\n",
    "'sy':'http://smithdata.usc.edu/methbase/data/Vandiver-Human-2015/Human_Epidermis-young-sun-exposed/tracks_hg'+v+'/Human_Epidermis-young-sun-exposed.meth.bw'\n",
    "}"
   ]
  },
  {
   "cell_type": "code",
   "execution_count": 3,
   "metadata": {},
   "outputs": [
    {
     "data": {
      "text/plain": [
       "(31335, 8)"
      ]
     },
     "execution_count": 3,
     "metadata": {},
     "output_type": "execute_result"
    }
   ],
   "source": [
    "tss=pd.read_csv('files/tss38.csv',index_col=0)\n",
    "tss.shape"
   ]
  },
  {
   "cell_type": "code",
   "execution_count": 4,
   "metadata": {},
   "outputs": [
    {
     "name": "stdout",
     "output_type": "stream",
     "text": [
      "1.1.1.1.1.1.1.1.1.1.1.1.1.1.2.2.2.2.2.2.2.2.2.2.2.3.3.3.3.3.3.3.4.4.4.4.4.4.4.5.5.5.5.5.5.5.5.6.6.6.6.6.6.6.6.7.7.7.7.7.7.7.8.8.8.8.8.8.8.9.9.9.9.9.10.10.10.10.10.10.11.11.11.11.11.11.11.11.11.11.12.12.12.12.12.12.12.12.12.13.13.13.14.14.14.14.14.14.15.15.15.15.15.15.16.16.16.16.16.16.16.16.17.17.17.17.17.17.17.17.17.17.18.18.18.18.19.19.19.19.19.19.19.19.19.19.20.20.20.20.21.21.22.22.22.22."
     ]
    },
    {
     "name": "stderr",
     "output_type": "stream",
     "text": [
      "/oak/stanford/scg/lab_mpsnyder/moqri/aging/index/util.py:38: FutureWarning: In a future version of pandas all arguments of DataFrame.drop except for the argument 'labels' will be keyword-only\n",
      "  df.drop([0,1],1,inplace=True)\n"
     ]
    },
    {
     "name": "stdout",
     "output_type": "stream",
     "text": [
      "(3153046, 1)\n",
      "1.1.1.1.1.1.1.1.1.1.1.1.1.1.2.2.2.2.2.2.2.2.2.2.2.3.3.3.3.3.3.3.4.4.4.4.4.4.4.5.5.5.5.5.5.5.5.6.6.6.6.6.6.6.6.7.7.7.7.7.7.7.8.8.8.8.8.8.8.9.9.9.9.9.10.10.10.10.10.10.11.11.11.11.11.11.11.11.11.11.12.12.12.12.12.12.12.12.12.13.13.13.14.14.14.14.14.14.15.15.15.15.15.15.16.16.16.16.16.16.16.16.17.17.17.17.17.17.17.17.17.17.18.18.18.18.19.19.19.19.19.19.19.19.19.19.20.20.20.20.21.21.22.22.22.22.(3145200, 1)\n",
      "1.1.1.1.1.1.1.1.1.1.1.1.1.1.2.2.2.2.2.2.2.2.2.2.2.3.3.3.3.3.3.3.4.4.4.4.4.4.4.5.5.5.5.5.5.5.5.6.6.6.6.6.6.6.6.7.7.7.7.7.7.7.8.8.8.8.8.8.8.9.9.9.9.9.10.10.10.10.10.10.11.11.11.11.11.11.11.11.11.11.12.12.12.12.12.12.12.12.12.13.13.13.14.14.14.14.14.14.15.15.15.15.15.15.16.16.16.16.16.16.16.16.17.17.17.17.17.17.17.17.17.17.18.18.18.18.19.19.19.19.19.19.19.19.19.19.20.20.20.20.21.21.22.22.22.22.(3153046, 1)\n",
      "1.1.1.1.1.1.1.1.1.1.1.1.1.1.2.2.2.2.2.2.2.2.2.2.2.3.3.3.3.3.3.3.4.4.4.4.4.4.4.5.5.5.5.5.5.5.5.6.6.6.6.6.6.6.6.7.7.7.7.7.7.7.8.8.8.8.8.8.8.9.9.9.9.9.10.10.10.10.10.10.11.11.11.11.11.11.11.11.11.11.12.12.12.12.12.12.12.12.12.13.13.13.14.14.14.14.14.14.15.15.15.15.15.15.16.16.16.16.16.16.16.16.17.17.17.17.17.17.17.17.17.17.18.18.18.18.19.19.19.19.19.19.19.19.19.19.20.20.20.20.21.21.22.22.22.22.(3153046, 1)\n",
      "1.1.1.1.1.1.1.1.1.1.1.1.1.1.2.2.2.2.2.2.2.2.2.2.2.3.3.3.3.3.3.3.4.4.4.4.4.4.4.5.5.5.5.5.5.5.5.6.6.6.6.6.6.6.6.7.7.7.7.7.7.7.8.8.8.8.8.8.8.9.9.9.9.9.10.10.10.10.10.10.11.11.11.11.11.11.11.11.11.11.12.12.12.12.12.12.12.12.12.13.13.13.14.14.14.14.14.14.15.15.15.15.15.15.16.16.16.16.16.16.16.16.17.17.17.17.17.17.17.17.17.17.18.18.18.18.19.19.19.19.19.19.19.19.19.19.20.20.20.20.21.21.22.22.22.22.(3153046, 1)\n",
      "1.1.1.1.1.1.1.1.1.1.1.1.1.1.2.2.2.2.2.2.2.2.2.2.2.3.3.3.3.3.3.3.4.4.4.4.4.4.4.5.5.5.5.5.5.5.5.6.6.6.6.6.6.6.6.7.7.7.7.7.7.7.8.8.8.8.8.8.8.9.9.9.9.9.10.10.10.10.10.10.11.11.11.11.11.11.11.11.11.11.12.12.12.12.12.12.12.12.12.13.13.13.14.14.14.14.14.14.15.15.15.15.15.15.16.16.16.16.16.16.16.16.17.17.17.17.17.17.17.17.17.17.18.18.18.18.19.19.19.19.19.19.19.19.19.19.20.20.20.20.21.21.22.22.22.22.(3153046, 1)\n"
     ]
    }
   ],
   "source": [
    "# bigwigs\n",
    "cells=bws.keys()\n",
    "for cell in cells:\n",
    "    bw_url=bws[cell]\n",
    "    df=u.bw2df(bw_url,tss)\n",
    "    df.to_csv(data+'wg/'+cell+'.csv')"
   ]
  },
  {
   "cell_type": "code",
   "execution_count": null,
   "metadata": {},
   "outputs": [],
   "source": []
  }
 ],
 "metadata": {
  "kernelspec": {
   "display_name": "stem",
   "language": "python",
   "name": "stem"
  },
  "language_info": {
   "codemirror_mode": {
    "name": "ipython",
    "version": 3
   },
   "file_extension": ".py",
   "mimetype": "text/x-python",
   "name": "python",
   "nbconvert_exporter": "python",
   "pygments_lexer": "ipython3",
   "version": "3.9.2"
  }
 },
 "nbformat": 4,
 "nbformat_minor": 4
}
