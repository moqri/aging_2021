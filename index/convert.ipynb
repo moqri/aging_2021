{
 "cells": [
  {
   "cell_type": "code",
   "execution_count": 1,
   "metadata": {},
   "outputs": [],
   "source": [
    "import util as u\n",
    "import pandas as pd\n",
    "\n",
    "data='/labs/mpsnyder/moqri/data/index/'\n"
   ]
  },
  {
   "cell_type": "code",
   "execution_count": 5,
   "metadata": {},
   "outputs": [],
   "source": [
    "v='38'\n",
    "\n",
    "bws={\n",
    "'h9':'http://smithdata.usc.edu/methbase/data/Xie-Human-2013/Human_H9/tracks_hg'+v+'/Human_H9.meth.bw',\n",
    "'ips':'http://smithdata.usc.edu/methbase/data/Lister-iPSC-2011/Human_FFiPSC69/tracks_hg'+v+'/Human_FFiPSC69.meth.bw',\n",
    "'ct':'http://smithdata.usc.edu/methbase/data/Heyn-Human-NewbornCentenarian-2012/Human_CD4T-100yr/tracks_hg'+v+'/Human_CD4T-100yr.meth.bw',\n",
    "'nb':'http://smithdata.usc.edu/methbase/data/Heyn-Human-NewbornCentenarian-2012/Human_CD4T-Newborn/tracks_hg'+v+'/Human_CD4T-Newborn.meth.bw',\n",
    "'so':'http://smithdata.usc.edu/methbase/data/Vandiver-Human-2015/Human_Epidermis-old-sun-exposed/tracks_hg'+v+'/Human_Epidermis-old-sun-exposed.meth.bw',\n",
    "'sy':'http://smithdata.usc.edu/methbase/data/Vandiver-Human-2015/Human_Epidermis-young-sun-exposed/tracks_hg'+v+'/Human_Epidermis-young-sun-exposed.meth.bw'\n",
    "}\n",
    "bws={\n",
    "'md':'http://smithdata.usc.edu/methbase/data/Heyn-Human-NewbornCentenarian-2012/Human_PBMC/tracks_hg'+v+'/Human_PBMC.meth.bw'\n",
    "}"
   ]
  },
  {
   "cell_type": "code",
   "execution_count": 32,
   "metadata": {},
   "outputs": [
    {
     "data": {
      "text/plain": [
       "(31335, 8)"
      ]
     },
     "execution_count": 32,
     "metadata": {},
     "output_type": "execute_result"
    }
   ],
   "source": [
    "tss=pd.read_csv('files/tss38.csv',index_col=0)\n",
    "tss.shape"
   ]
  },
  {
   "cell_type": "code",
   "execution_count": 7,
   "metadata": {},
   "outputs": [
    {
     "name": "stdout",
     "output_type": "stream",
     "text": [
      "1.1.1.1.1.1.1.1.1.1.1.1.1.1.2.2.2.2.2.2.2.2.2.2.2.3.3.3.3.3.3.3.4.4.4.4.4.4.4.5.5.5.5.5.5.5.5.6.6.6.6.6.6.6.6.7.7.7.7.7.7.7.8.8.8.8.8.8.8.9.9.9.9.9.10.10.10.10.10.10.11.11.11.11.11.11.11.11.11.11.12.12.12.12.12.12.12.12.12.13.13.13.14.14.14.14.14.14.15.15.15.15.15.15.16.16.16.16.16.16.16.16.17.17.17.17.17.17.17.17.17.17.18.18.18.18.19.19.19.19.19.19.19.19.19.19.20.20.20.20.21.21.22.22.22.22.(3153046, 1)\n"
     ]
    }
   ],
   "source": [
    "# bigwigs\n",
    "cells=bws.keys()\n",
    "for cell in cells:\n",
    "    bw_url=bws[cell]\n",
    "    df=u.bw2df(bw_url,tss)\n",
    "    df.to_csv(data+'wg/'+cell+'.csv')"
   ]
  },
  {
   "cell_type": "code",
   "execution_count": 16,
   "metadata": {},
   "outputs": [
    {
     "name": "stdout",
     "output_type": "stream",
     "text": [
      "2021-12-01 10:18:53 [INFO]  Read the chain file \"hg19ToHg38.over.chain.gz\" \n"
     ]
    }
   ],
   "source": [
    "# bed files\n",
    "normal='https://ftp.ncbi.nlm.nih.gov/geo/samples/GSM1421nnn/GSM1421901/suppl/GSM1421901_Normal_CD19_1WGBS.hg19.bed.txt.gz'\n",
    "!wget -nc -q {normal}  -O \"{data}/cancer/bc1.bed.gz\"\n",
    "cancer='https://ftp.ncbi.nlm.nih.gov/geo/samples/GSM1421nnn/GSM1421900/suppl/GSM1421900_CLL007WGBS.hg19.bed.txt.gz'\n",
    "!wget -nc -q {cancer}  -O \"{data}/cancer/bcl1.bed.gz\""
   ]
  },
  {
   "cell_type": "code",
   "execution_count": 77,
   "metadata": {},
   "outputs": [
    {
     "name": "stdout",
     "output_type": "stream",
     "text": [
      "2021-12-01 11:24:51 [INFO]  Read the chain file \"hg19ToHg38.over.chain.gz\" \n"
     ]
    }
   ],
   "source": [
    "no=pd.read_table(data+'cancer/bc1.bed.gz')\n",
    "ca=pd.read_table(data+'cancer/bcl1.bed.gz')\n",
    "no.index=no['chr'].str[3:]+'_'+no['start'].astype(str)\n",
    "ca.index=ca['chr'].str[3:]+'_'+ca['start'].astype(str)\n",
    "com=no.index.intersection(ca.index)\n",
    "len(com)\n",
    "no=no.loc[com]\n",
    "ca=ca.loc[com]\n",
    "no['n']=no['methylatedReadCount']/(no['methylatedReadCount']+no['unmethylatedReadCount'])\n",
    "ca['c']=ca['methylatedReadCount']/(ca['methylatedReadCount']+ca['unmethylatedReadCount'])\n",
    "no['c']=ca['c']\n",
    "no['end']=no['start']\n",
    "no=no[['chr','start','end','n','c']]\n",
    "no.to_csv(data+'cancer/bc_19.bed',header=False,index=False,sep='\\t')\n",
    "!CrossMap.py bed hg19ToHg38.over.chain.gz \"{data}cancer/bc_19.bed\" \"{data}cancer/bc_38.bed\""
   ]
  },
  {
   "cell_type": "code",
   "execution_count": 78,
   "metadata": {},
   "outputs": [],
   "source": [
    "df=pd.read_csv(data+'wg/cpgs.csv',index_col=0)"
   ]
  },
  {
   "cell_type": "code",
   "execution_count": 79,
   "metadata": {},
   "outputs": [
    {
     "name": "stdout",
     "output_type": "stream",
     "text": [
      "6.204562\n"
     ]
    }
   ],
   "source": [
    "ca=pd.read_table(data+'/cancer/bc_38.bed',header=None)\n",
    "print(len(ca)/(10**6))\n",
    "ca.columns=['chr','b1','b2','n','c']\n",
    "ca.index=ca['chr'].str[3:]+'_'+ca['b1'].astype(str)\n",
    "ca=ca[ca.index.isin(df.index)]\n",
    "ca=ca.drop_duplicates()\n",
    "ca=ca[~ca.index.duplicated()]"
   ]
  },
  {
   "cell_type": "code",
   "execution_count": 80,
   "metadata": {},
   "outputs": [
    {
     "data": {
      "text/plain": [
       "n    0.240041\n",
       "c    0.231926\n",
       "dtype: float64"
      ]
     },
     "execution_count": 80,
     "metadata": {},
     "output_type": "execute_result"
    }
   ],
   "source": [
    "ca[ca.index.isin(df.index)][['n','c']].mean()"
   ]
  },
  {
   "cell_type": "code",
   "execution_count": 83,
   "metadata": {},
   "outputs": [],
   "source": [
    "df=df.merge(ca[['n','c']],left_index=True,right_index=True,how='left')"
   ]
  },
  {
   "cell_type": "code",
   "execution_count": 84,
   "metadata": {},
   "outputs": [
    {
     "data": {
      "text/plain": [
       "(1799962, 7)"
      ]
     },
     "execution_count": 84,
     "metadata": {},
     "output_type": "execute_result"
    }
   ],
   "source": [
    "df=df.dropna()\n",
    "df.shape"
   ]
  },
  {
   "cell_type": "code",
   "execution_count": 85,
   "metadata": {},
   "outputs": [
    {
     "data": {
      "text/plain": [
       "beta    0.245116\n",
       "n       0.240041\n",
       "c       0.231926\n",
       "dtype: float64"
      ]
     },
     "execution_count": 85,
     "metadata": {},
     "output_type": "execute_result"
    }
   ],
   "source": [
    "df[['beta','n','c']].mean()"
   ]
  },
  {
   "cell_type": "code",
   "execution_count": 86,
   "metadata": {},
   "outputs": [
    {
     "name": "stdout",
     "output_type": "stream",
     "text": [
      "(1285818, 7)\n"
     ]
    },
    {
     "name": "stderr",
     "output_type": "stream",
     "text": [
      "<ipython-input-86-40fe7470293a>:3: FutureWarning: In a future version of pandas all arguments of DataFrame.drop except for the argument 'labels' will be keyword-only\n",
      "  ((dl.drop(['g','tss','d','dq'],1)>.2).sum()/len(dl)).plot(kind='bar')\n"
     ]
    },
    {
     "data": {
      "text/plain": [
       "<AxesSubplot:>"
      ]
     },
     "execution_count": 86,
     "metadata": {},
     "output_type": "execute_result"
    },
    {
     "data": {
      "image/png": "[encoded data removed]",
      "text/plain": [
       "<Figure size 432x288 with 1 Axes>"
      ]
     },
     "metadata": {
      "needs_background": "light"
     },
     "output_type": "display_data"
    }
   ],
   "source": [
    "dl=df[df.beta<.2]\n",
    "print(dl.shape)\n",
    "((dl.drop(['g','tss','d','dq'],1)>.2).sum()/len(dl)).plot(kind='bar') "
   ]
  },
  {
   "cell_type": "code",
   "execution_count": 87,
   "metadata": {},
   "outputs": [],
   "source": [
    "df['dq']=pd.qcut(df.d,11)"
   ]
  },
  {
   "cell_type": "code",
   "execution_count": 88,
   "metadata": {},
   "outputs": [
    {
     "data": {
      "image/png": "[encoded data removed]",
      "text/plain": [
       "<Figure size 432x288 with 1 Axes>"
      ]
     },
     "metadata": {
      "needs_background": "light"
     },
     "output_type": "display_data"
    }
   ],
   "source": [
    "import seaborn as sns\n",
    "\n",
    "pl=df.groupby('dq').mean()[['beta','n','c']]\n",
    "pl.index=list(range(-2500,2501,500))\n",
    "ax=sns.lineplot(data=pl,dashes=False)"
   ]
  },
  {
   "cell_type": "code",
   "execution_count": null,
   "metadata": {},
   "outputs": [],
   "source": []
  }
 ],
 "metadata": {
  "kernelspec": {
   "display_name": "stem",
   "language": "python",
   "name": "stem"
  },
  "language_info": {
   "codemirror_mode": {
    "name": "ipython",
    "version": 3
   },
   "file_extension": ".py",
   "mimetype": "text/x-python",
   "name": "python",
   "nbconvert_exporter": "python",
   "pygments_lexer": "ipython3",
   "version": "3.9.2"
  }
 },
 "nbformat": 4,
 "nbformat_minor": 4
}
