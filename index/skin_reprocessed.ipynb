{
 "cells": [
  {
   "cell_type": "code",
   "execution_count": 1,
   "metadata": {},
   "outputs": [],
   "source": [
    "import pandas as pd\n",
    "ezh_pk='https://ftp.ncbi.nlm.nih.gov/geo/series/GSE76nnn/GSE76626/suppl/GSE76626_ChIP-Seq_RPM.txt.gz' ## hg38\n"
   ]
  },
  {
   "cell_type": "code",
   "execution_count": 2,
   "metadata": {},
   "outputs": [
    {
     "data": {
      "text/plain": [
       "(3022378, 6)"
      ]
     },
     "execution_count": 2,
     "metadata": {},
     "output_type": "execute_result"
    }
   ],
   "source": [
    "s8=pd.read_table('../../data/meth/wg/skin/SRR1042908.meth',header=None)\n",
    "s8.shape"
   ]
  },
  {
   "cell_type": "code",
   "execution_count": 3,
   "metadata": {},
   "outputs": [
    {
     "data": {
      "text/plain": [
       "(3022378, 6)"
      ]
     },
     "execution_count": 3,
     "metadata": {},
     "output_type": "execute_result"
    }
   ],
   "source": [
    "s14=pd.read_table('../../data/meth/wg/skin/SRR1042914.meth',header=None)\n",
    "s14.shape"
   ]
  },
  {
   "cell_type": "code",
   "execution_count": 4,
   "metadata": {},
   "outputs": [
    {
     "data": {
      "text/plain": [
       "(2691515, 6)"
      ]
     },
     "execution_count": 4,
     "metadata": {},
     "output_type": "execute_result"
    }
   ],
   "source": [
    "s8=s8[s8[3]=='CpG']\n",
    "s8.shape"
   ]
  },
  {
   "cell_type": "code",
   "execution_count": 5,
   "metadata": {},
   "outputs": [
    {
     "data": {
      "text/plain": [
       "(2655268, 6)"
      ]
     },
     "execution_count": 5,
     "metadata": {},
     "output_type": "execute_result"
    }
   ],
   "source": [
    "s14=s14[s14[3]=='CpG']\n",
    "s14.shape"
   ]
  },
  {
   "cell_type": "code",
   "execution_count": 6,
   "metadata": {},
   "outputs": [],
   "source": [
    "s=s8.merge(s14,left_index=True,right_index=True)"
   ]
  },
  {
   "cell_type": "code",
   "execution_count": 7,
   "metadata": {},
   "outputs": [
    {
     "name": "stderr",
     "output_type": "stream",
     "text": [
      "/home/moqri/anaconda3/envs/stem/lib/python3.9/site-packages/IPython/core/interactiveshell.py:3437: DtypeWarning: Columns (1) have mixed types.Specify dtype option on import or set low_memory=False.\n",
      "  exec(code_obj, self.user_global_ns, self.user_ns)\n"
     ]
    },
    {
     "data": {
      "text/plain": [
       "(1219, 4)"
      ]
     },
     "execution_count": 7,
     "metadata": {},
     "output_type": "execute_result"
    }
   ],
   "source": [
    "ezh=pd.read_table(ezh_pk,index_col=0)\n",
    "ezh=ezh[ezh.Chromosome!='MT']\n",
    "ezh=ezh[['Chromosome','Start','End','WT_EZH2']][ezh['WT_EZH2']>2]\n",
    "ezh.columns=['chrom', 'chromStart', 'chromEnd', 'value']\n",
    "ezh['chrom']=ezh.chrom.astype(str)\n",
    "print(ezh.shape)\n",
    "ch=6\n",
    "ez=ezh[ezh.chrom==str(ch)]\n",
    "ez['r']=ez.apply(lambda x:range(x['chromStart'],x['chromEnd']),1)\n",
    "ez=ez['r'].tolist()\n",
    "ez=set([item for sublist in ez for item in sublist])"
   ]
  },
  {
   "cell_type": "code",
   "execution_count": 37,
   "metadata": {},
   "outputs": [
    {
     "data": {
      "text/html": [
       "<div>\n",
       "<style scoped>\n",
       "    .dataframe tbody tr th:only-of-type {\n",
       "        vertical-align: middle;\n",
       "    }\n",
       "\n",
       "    .dataframe tbody tr th {\n",
       "        vertical-align: top;\n",
       "    }\n",
       "\n",
       "    .dataframe thead th {\n",
       "        text-align: right;\n",
       "    }\n",
       "</style>\n",
       "<table border=\"1\" class=\"dataframe\">\n",
       "  <thead>\n",
       "    <tr style=\"text-align: right;\">\n",
       "      <th></th>\n",
       "      <th>0_x</th>\n",
       "      <th>1_x</th>\n",
       "      <th>2_x</th>\n",
       "      <th>3_x</th>\n",
       "      <th>4_x</th>\n",
       "      <th>5_x</th>\n",
       "      <th>0_y</th>\n",
       "      <th>1_y</th>\n",
       "      <th>2_y</th>\n",
       "      <th>3_y</th>\n",
       "      <th>4_y</th>\n",
       "      <th>5_y</th>\n",
       "    </tr>\n",
       "  </thead>\n",
       "  <tbody>\n",
       "    <tr>\n",
       "      <th>33291</th>\n",
       "      <td>chr6</td>\n",
       "      <td>1310247</td>\n",
       "      <td>-</td>\n",
       "      <td>CpG</td>\n",
       "      <td>0.500000</td>\n",
       "      <td>2</td>\n",
       "      <td>chr6</td>\n",
       "      <td>1310247</td>\n",
       "      <td>-</td>\n",
       "      <td>CpG</td>\n",
       "      <td>1.000000</td>\n",
       "      <td>2</td>\n",
       "    </tr>\n",
       "    <tr>\n",
       "      <th>33293</th>\n",
       "      <td>chr6</td>\n",
       "      <td>1310250</td>\n",
       "      <td>-</td>\n",
       "      <td>CpG</td>\n",
       "      <td>0.500000</td>\n",
       "      <td>2</td>\n",
       "      <td>chr6</td>\n",
       "      <td>1310250</td>\n",
       "      <td>-</td>\n",
       "      <td>CpG</td>\n",
       "      <td>1.000000</td>\n",
       "      <td>2</td>\n",
       "    </tr>\n",
       "    <tr>\n",
       "      <th>33309</th>\n",
       "      <td>chr6</td>\n",
       "      <td>1310622</td>\n",
       "      <td>-</td>\n",
       "      <td>CpG</td>\n",
       "      <td>0.666667</td>\n",
       "      <td>3</td>\n",
       "      <td>chr6</td>\n",
       "      <td>1310622</td>\n",
       "      <td>-</td>\n",
       "      <td>CpG</td>\n",
       "      <td>0.000000</td>\n",
       "      <td>2</td>\n",
       "    </tr>\n",
       "    <tr>\n",
       "      <th>33317</th>\n",
       "      <td>chr6</td>\n",
       "      <td>1310713</td>\n",
       "      <td>-</td>\n",
       "      <td>CpG</td>\n",
       "      <td>0.571429</td>\n",
       "      <td>7</td>\n",
       "      <td>chr6</td>\n",
       "      <td>1310713</td>\n",
       "      <td>-</td>\n",
       "      <td>CpG</td>\n",
       "      <td>0.600000</td>\n",
       "      <td>5</td>\n",
       "    </tr>\n",
       "    <tr>\n",
       "      <th>33319</th>\n",
       "      <td>chr6</td>\n",
       "      <td>1310770</td>\n",
       "      <td>-</td>\n",
       "      <td>CpG</td>\n",
       "      <td>0.750000</td>\n",
       "      <td>4</td>\n",
       "      <td>chr6</td>\n",
       "      <td>1310770</td>\n",
       "      <td>-</td>\n",
       "      <td>CpG</td>\n",
       "      <td>0.500000</td>\n",
       "      <td>4</td>\n",
       "    </tr>\n",
       "    <tr>\n",
       "      <th>...</th>\n",
       "      <td>...</td>\n",
       "      <td>...</td>\n",
       "      <td>...</td>\n",
       "      <td>...</td>\n",
       "      <td>...</td>\n",
       "      <td>...</td>\n",
       "      <td>...</td>\n",
       "      <td>...</td>\n",
       "      <td>...</td>\n",
       "      <td>...</td>\n",
       "      <td>...</td>\n",
       "      <td>...</td>\n",
       "    </tr>\n",
       "    <tr>\n",
       "      <th>3010756</th>\n",
       "      <td>chr6</td>\n",
       "      <td>170292129</td>\n",
       "      <td>+</td>\n",
       "      <td>CpG</td>\n",
       "      <td>0.000000</td>\n",
       "      <td>3</td>\n",
       "      <td>chr6</td>\n",
       "      <td>170292129</td>\n",
       "      <td>+</td>\n",
       "      <td>CpG</td>\n",
       "      <td>0.333333</td>\n",
       "      <td>3</td>\n",
       "    </tr>\n",
       "    <tr>\n",
       "      <th>3010758</th>\n",
       "      <td>chr6</td>\n",
       "      <td>170292132</td>\n",
       "      <td>+</td>\n",
       "      <td>CpG</td>\n",
       "      <td>0.000000</td>\n",
       "      <td>3</td>\n",
       "      <td>chr6</td>\n",
       "      <td>170292132</td>\n",
       "      <td>+</td>\n",
       "      <td>CpG</td>\n",
       "      <td>0.333333</td>\n",
       "      <td>3</td>\n",
       "    </tr>\n",
       "    <tr>\n",
       "      <th>3010761</th>\n",
       "      <td>chr6</td>\n",
       "      <td>170292159</td>\n",
       "      <td>-</td>\n",
       "      <td>CpG</td>\n",
       "      <td>0.000000</td>\n",
       "      <td>2</td>\n",
       "      <td>chr6</td>\n",
       "      <td>170292159</td>\n",
       "      <td>-</td>\n",
       "      <td>CpG</td>\n",
       "      <td>0.333333</td>\n",
       "      <td>3</td>\n",
       "    </tr>\n",
       "    <tr>\n",
       "      <th>3010777</th>\n",
       "      <td>chr6</td>\n",
       "      <td>170292433</td>\n",
       "      <td>-</td>\n",
       "      <td>CpG</td>\n",
       "      <td>0.400000</td>\n",
       "      <td>5</td>\n",
       "      <td>chr6</td>\n",
       "      <td>170292433</td>\n",
       "      <td>-</td>\n",
       "      <td>CpG</td>\n",
       "      <td>0.750000</td>\n",
       "      <td>4</td>\n",
       "    </tr>\n",
       "    <tr>\n",
       "      <th>3010784</th>\n",
       "      <td>chr6</td>\n",
       "      <td>170292680</td>\n",
       "      <td>+</td>\n",
       "      <td>CpG</td>\n",
       "      <td>0.333333</td>\n",
       "      <td>3</td>\n",
       "      <td>chr6</td>\n",
       "      <td>170292680</td>\n",
       "      <td>+</td>\n",
       "      <td>CpG</td>\n",
       "      <td>0.000000</td>\n",
       "      <td>4</td>\n",
       "    </tr>\n",
       "  </tbody>\n",
       "</table>\n",
       "<p>2091 rows × 12 columns</p>\n",
       "</div>"
      ],
      "text/plain": [
       "          0_x        1_x 2_x  3_x       4_x  5_x   0_y        1_y 2_y  3_y  \\\n",
       "33291    chr6    1310247   -  CpG  0.500000    2  chr6    1310247   -  CpG   \n",
       "33293    chr6    1310250   -  CpG  0.500000    2  chr6    1310250   -  CpG   \n",
       "33309    chr6    1310622   -  CpG  0.666667    3  chr6    1310622   -  CpG   \n",
       "33317    chr6    1310713   -  CpG  0.571429    7  chr6    1310713   -  CpG   \n",
       "33319    chr6    1310770   -  CpG  0.750000    4  chr6    1310770   -  CpG   \n",
       "...       ...        ...  ..  ...       ...  ...   ...        ...  ..  ...   \n",
       "3010756  chr6  170292129   +  CpG  0.000000    3  chr6  170292129   +  CpG   \n",
       "3010758  chr6  170292132   +  CpG  0.000000    3  chr6  170292132   +  CpG   \n",
       "3010761  chr6  170292159   -  CpG  0.000000    2  chr6  170292159   -  CpG   \n",
       "3010777  chr6  170292433   -  CpG  0.400000    5  chr6  170292433   -  CpG   \n",
       "3010784  chr6  170292680   +  CpG  0.333333    3  chr6  170292680   +  CpG   \n",
       "\n",
       "              4_y  5_y  \n",
       "33291    1.000000    2  \n",
       "33293    1.000000    2  \n",
       "33309    0.000000    2  \n",
       "33317    0.600000    5  \n",
       "33319    0.500000    4  \n",
       "...           ...  ...  \n",
       "3010756  0.333333    3  \n",
       "3010758  0.333333    3  \n",
       "3010761  0.333333    3  \n",
       "3010777  0.750000    4  \n",
       "3010784  0.000000    4  \n",
       "\n",
       "[2091 rows x 12 columns]"
      ]
     },
     "execution_count": 37,
     "metadata": {},
     "output_type": "execute_result"
    }
   ],
   "source": [
    "s[(s[['5_x','5_y']].min(1)>1) & (s['1_x'].isin(ez1))]"
   ]
  },
  {
   "cell_type": "code",
   "execution_count": 18,
   "metadata": {},
   "outputs": [
    {
     "data": {
      "text/plain": [
       "4_x    0.450379\n",
       "4_y    0.470291\n",
       "dtype: float64"
      ]
     },
     "execution_count": 18,
     "metadata": {},
     "output_type": "execute_result"
    }
   ],
   "source": [
    "s[s['1_x'].isin(ez1)][['4_x','4_y']].mean()"
   ]
  },
  {
   "cell_type": "code",
   "execution_count": null,
   "metadata": {},
   "outputs": [],
   "source": []
  }
 ],
 "metadata": {
  "kernelspec": {
   "display_name": "stem",
   "language": "python",
   "name": "stem"
  },
  "language_info": {
   "codemirror_mode": {
    "name": "ipython",
    "version": 3
   },
   "file_extension": ".py",
   "mimetype": "text/x-python",
   "name": "python",
   "nbconvert_exporter": "python",
   "pygments_lexer": "ipython3",
   "version": "3.9.2"
  }
 },
 "nbformat": 4,
 "nbformat_minor": 4
}
