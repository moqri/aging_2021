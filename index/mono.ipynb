{
 "cells": [
  {
   "cell_type": "code",
   "execution_count": 350,
   "metadata": {},
   "outputs": [],
   "source": [
    "import pandas as pd\n",
    "import numpy as np\n",
    "ezh_pk='https://ftp.ncbi.nlm.nih.gov/geo/series/GSE76nnn/GSE76626/suppl/GSE76626_ChIP-Seq_RPM.txt.gz' ## hg38\n",
    "data='/labs/mpsnyder/moqri/data/index/'\n",
    "def lift(dg,pre):\n",
    "    dg['chr']=dg.index.str.split('.').str[0]\n",
    "    dg['base']=dg.index.str.split('.').str[1]\n",
    "    dg['base2']=dg['base']\n",
    "    dg=dg[list(dg.columns[-3:])+(list(dg.columns[:-3]))]\n",
    "    #dg=dg.fillna('n')\n",
    "    dg.to_csv(data+'hg19_mono.txt',index=None,header=None,sep='\\t')\n",
    "    !CrossMap.py bed hg19ToHg38.over.chain.gz {data}hg19_mono.txt {data}hg38_mono.txt\n",
    "    df=pd.read_table(data+'hg38_mono.txt',header=None,names=['chr','b1','b2',pre+'1',pre+'2',pre+'3',pre+'4'])\n",
    "    return df"
   ]
  },
  {
   "cell_type": "code",
   "execution_count": 2,
   "metadata": {},
   "outputs": [],
   "source": [
    "df=pd.read_table('ezh2_19',header=None)\n",
    "df['ind']=df[0].astype(str)+'_'+df[1].astype(str)\n",
    "ll=df.ind.values"
   ]
  },
  {
   "cell_type": "code",
   "execution_count": 162,
   "metadata": {},
   "outputs": [],
   "source": [
    "#!wget https://artyomovlab.wustl.edu/publications/supp_materials/aging/rrbs/per_donor/methylcall.CpG.OD20.mincov0.txt -P \"{data}/rrbs\"\n",
    "    "
   ]
  },
  {
   "cell_type": "code",
   "execution_count": 329,
   "metadata": {},
   "outputs": [
    {
     "name": "stdout",
     "output_type": "stream",
     "text": [
      "1,2,3,4,5,6,7,8,9,10,11,12,14,15,16,17,18,19,20,21,"
     ]
    }
   ],
   "source": [
    "dfs=[]\n",
    "for i in list(range(1,13))+list(range(14,22)):\n",
    "    dfs.append(pd.read_table(data+'rrbs/methylcall.CpG.YD'+str(i)+'.mincov0.txt',index_col=0,nrows=10000000))\n",
    "    print(i,end=',')"
   ]
  },
  {
   "cell_type": "code",
   "execution_count": 330,
   "metadata": {},
   "outputs": [
    {
     "name": "stdout",
     "output_type": "stream",
     "text": [
      "0,1,2,3,4,5,6,7,8,9,10,11,12,13,14,15,16,17,18,19,"
     ]
    }
   ],
   "source": [
    "inds=[]\n",
    "for i in range(20):\n",
    "    print(i,end=',')\n",
    "    df=dfs[i]\n",
    "    df['g']=df.chr.str[3:]+'_'+df.base.astype(str)\n",
    "    df=df[df.g.isin(ll)]\n",
    "    inds.append(df.index)\n",
    "    dfs[i]=df"
   ]
  },
  {
   "cell_type": "code",
   "execution_count": 331,
   "metadata": {},
   "outputs": [
    {
     "data": {
      "text/plain": [
       "16042"
      ]
     },
     "execution_count": 331,
     "metadata": {},
     "output_type": "execute_result"
    }
   ],
   "source": [
    "inds=set().union(*inds)\n",
    "len(inds)"
   ]
  },
  {
   "cell_type": "code",
   "execution_count": 332,
   "metadata": {},
   "outputs": [
    {
     "name": "stderr",
     "output_type": "stream",
     "text": [
      "<ipython-input-332-190c21b4a9f3>:5: FutureWarning: In a future version of pandas all arguments of DataFrame.drop except for the argument 'labels' will be keyword-only\n",
      "  df=df.drop(['chr','base','strand','coverage','freqC','freqT'],1)\n"
     ]
    }
   ],
   "source": [
    "for i in range(20):\n",
    "    df=dfs[i]\n",
    "    df['m_'+str(i)]=df.freqC*df.coverage/100\n",
    "    df['u_'+str(i)]=df.freqT*df.coverage/100\n",
    "    df=df.drop(['chr','base','strand','coverage','freqC','freqT'],1)\n",
    "    dfs[i]=df"
   ]
  },
  {
   "cell_type": "code",
   "execution_count": 333,
   "metadata": {},
   "outputs": [],
   "source": [
    "dg=pd.DataFrame()\n",
    "dg.index=inds"
   ]
  },
  {
   "cell_type": "code",
   "execution_count": 334,
   "metadata": {},
   "outputs": [
    {
     "name": "stderr",
     "output_type": "stream",
     "text": [
      "<ipython-input-334-898bac75baa2>:3: FutureWarning: In a future version of pandas all arguments of DataFrame.drop except for the argument 'labels' will be keyword-only\n",
      "  dg=dg.merge(dfs[i].drop('g',1),left_index=True,right_index=True,how='left')\n"
     ]
    },
    {
     "data": {
      "text/plain": [
       "(16042, 40)"
      ]
     },
     "execution_count": 334,
     "metadata": {},
     "output_type": "execute_result"
    }
   ],
   "source": [
    "for i in range(20):\n",
    "    df=dfs[i]\n",
    "    dg=dg.merge(dfs[i].drop('g',1),left_index=True,right_index=True,how='left')\n",
    "dg.shape"
   ]
  },
  {
   "cell_type": "code",
   "execution_count": 335,
   "metadata": {},
   "outputs": [],
   "source": [
    "dg=dg.round(0)"
   ]
  },
  {
   "cell_type": "code",
   "execution_count": 336,
   "metadata": {},
   "outputs": [],
   "source": [
    "for i in range (4):\n",
    "    m=dg['m_'+str(5*i)]+dg['m_'+str(5*i+1)]+dg['m_'+str(5*i+2)]+dg['m_'+str(5*i+3)]+dg['m_'+str(5*i+4)]\n",
    "    u=dg['u_'+str(5*i)]+dg['u_'+str(5*i+1)]+dg['u_'+str(5*i+2)]+dg['u_'+str(5*i+3)]+dg['u_'+str(5*i+4)]\n",
    "    dg['b_'+str(i)]=m/(m+u)"
   ]
  },
  {
   "cell_type": "code",
   "execution_count": 337,
   "metadata": {},
   "outputs": [],
   "source": [
    "dg=dg[['b_'+str(i) for i in range(4)]]"
   ]
  },
  {
   "cell_type": "code",
   "execution_count": 326,
   "metadata": {},
   "outputs": [
    {
     "data": {
      "text/plain": [
       "b_2    0.026474\n",
       "b_1    0.027695\n",
       "b_0    0.028401\n",
       "b_3    0.028484\n",
       "dtype: float64"
      ]
     },
     "execution_count": 326,
     "metadata": {},
     "output_type": "execute_result"
    }
   ],
   "source": [
    "dg.dropna().mean().sort_values()"
   ]
  },
  {
   "cell_type": "code",
   "execution_count": 327,
   "metadata": {},
   "outputs": [],
   "source": [
    "dg.to_csv(data+'rrbs/old5.csv')"
   ]
  },
  {
   "cell_type": "code",
   "execution_count": 338,
   "metadata": {},
   "outputs": [
    {
     "data": {
      "text/plain": [
       "b_3    0.023974\n",
       "b_2    0.023975\n",
       "b_0    0.024633\n",
       "b_1    0.026444\n",
       "dtype: float64"
      ]
     },
     "execution_count": 338,
     "metadata": {},
     "output_type": "execute_result"
    }
   ],
   "source": [
    "dg.dropna().mean().sort_values()"
   ]
  },
  {
   "cell_type": "code",
   "execution_count": 339,
   "metadata": {},
   "outputs": [],
   "source": [
    "dg.to_csv(data+'rrbs/young5.csv')"
   ]
  },
  {
   "cell_type": "code",
   "execution_count": 353,
   "metadata": {},
   "outputs": [
    {
     "name": "stdout",
     "output_type": "stream",
     "text": [
      "2021-11-20 07:23:19 [INFO]  Read the chain file \"hg19ToHg38.over.chain.gz\" \n",
      "(15360, 7)\n",
      "2021-11-20 07:23:20 [INFO]  Read the chain file \"hg19ToHg38.over.chain.gz\" \n",
      "(16042, 7)\n"
     ]
    }
   ],
   "source": [
    "o=pd.read_csv(data+'rrbs/old5.csv',index_col=0)\n",
    "o=lift(o,'o')\n",
    "print(o.shape)\n",
    "y=pd.read_csv(data+'rrbs/young5.csv',index_col=0)\n",
    "y=lift(y,'y')\n",
    "print(y.shape)"
   ]
  },
  {
   "cell_type": "code",
   "execution_count": 354,
   "metadata": {},
   "outputs": [
    {
     "name": "stderr",
     "output_type": "stream",
     "text": [
      "<ipython-input-354-415dc8e981bb>:2: FutureWarning: In a future version of pandas all arguments of DataFrame.drop except for the argument 'labels' will be keyword-only\n",
      "  y=y.drop(['chr','b1','b2'],1)\n"
     ]
    }
   ],
   "source": [
    "y.index=y.chr.str[3:]+'_'+y.b1.astype(str)\n",
    "y=y.drop(['chr','b1','b2'],1)"
   ]
  },
  {
   "cell_type": "code",
   "execution_count": 355,
   "metadata": {},
   "outputs": [
    {
     "name": "stderr",
     "output_type": "stream",
     "text": [
      "<ipython-input-355-b8f91946ca21>:2: FutureWarning: In a future version of pandas all arguments of DataFrame.drop except for the argument 'labels' will be keyword-only\n",
      "  o=o.drop(['chr','b1','b2'],1)\n"
     ]
    }
   ],
   "source": [
    "o.index=o.chr.str[3:]+'_'+o.b1.astype(str)\n",
    "o=o.drop(['chr','b1','b2'],1)"
   ]
  },
  {
   "cell_type": "code",
   "execution_count": 356,
   "metadata": {},
   "outputs": [
    {
     "data": {
      "text/plain": [
       "(13835, 8)"
      ]
     },
     "execution_count": 356,
     "metadata": {},
     "output_type": "execute_result"
    }
   ],
   "source": [
    "df38=y.merge(o,left_index=True,right_index=True)\n",
    "df38.shape"
   ]
  },
  {
   "cell_type": "code",
   "execution_count": 357,
   "metadata": {},
   "outputs": [
    {
     "data": {
      "text/plain": [
       "(210130, 10)"
      ]
     },
     "execution_count": 357,
     "metadata": {},
     "output_type": "execute_result"
    }
   ],
   "source": [
    "df=pd.read_csv('ezs.csv',index_col=0)\n",
    "df.shape"
   ]
  },
  {
   "cell_type": "code",
   "execution_count": 358,
   "metadata": {},
   "outputs": [
    {
     "data": {
      "text/plain": [
       "(13826, 10)"
      ]
     },
     "execution_count": 358,
     "metadata": {},
     "output_type": "execute_result"
    }
   ],
   "source": [
    "df38=df38.merge(df[['d','dq']],left_index=True,right_index=True)\n",
    "df38.shape"
   ]
  },
  {
   "cell_type": "code",
   "execution_count": 359,
   "metadata": {},
   "outputs": [],
   "source": [
    "df38['dq']=pd.qcut(df38.d,5)"
   ]
  },
  {
   "cell_type": "code",
   "execution_count": 362,
   "metadata": {},
   "outputs": [],
   "source": [
    "df38=df38.replace('n',np.nan)\n",
    "for i in range(1,5):\n",
    "    df38['y'+str(i)]=df38['y'+str(i)].astype(float)"
   ]
  },
  {
   "cell_type": "code",
   "execution_count": 363,
   "metadata": {},
   "outputs": [
    {
     "name": "stderr",
     "output_type": "stream",
     "text": [
      "<ipython-input-363-b003429d8a8f>:1: FutureWarning: In a future version of pandas all arguments of DataFrame.drop except for the argument 'labels' will be keyword-only\n",
      "  df38.drop('d',1).dropna().groupby('dq').mean().plot()\n"
     ]
    },
    {
     "data": {
      "text/plain": [
       "<AxesSubplot:xlabel='dq'>"
      ]
     },
     "execution_count": 363,
     "metadata": {},
     "output_type": "execute_result"
    },
    {
     "data": {
      "image/png": "[encoded data removed]",
      "text/plain": [
       "<Figure size 432x288 with 1 Axes>"
      ]
     },
     "metadata": {
      "needs_background": "light"
     },
     "output_type": "display_data"
    }
   ],
   "source": [
    "df38.drop('d',1).dropna().groupby('dq').mean().plot()"
   ]
  },
  {
   "cell_type": "code",
   "execution_count": 349,
   "metadata": {},
   "outputs": [
    {
     "name": "stderr",
     "output_type": "stream",
     "text": [
      "<ipython-input-349-abdaeb648927>:1: FutureWarning: In a future version of pandas all arguments of DataFrame.drop except for the argument 'labels' will be keyword-only\n",
      "  df38.drop('d',1).dropna().groupby('dq').mean()\n"
     ]
    },
    {
     "data": {
      "text/html": [
       "<div>\n",
       "<style scoped>\n",
       "    .dataframe tbody tr th:only-of-type {\n",
       "        vertical-align: middle;\n",
       "    }\n",
       "\n",
       "    .dataframe tbody tr th {\n",
       "        vertical-align: top;\n",
       "    }\n",
       "\n",
       "    .dataframe thead th {\n",
       "        text-align: right;\n",
       "    }\n",
       "</style>\n",
       "<table border=\"1\" class=\"dataframe\">\n",
       "  <thead>\n",
       "    <tr style=\"text-align: right;\">\n",
       "      <th></th>\n",
       "      <th>y1</th>\n",
       "      <th>y2</th>\n",
       "      <th>y3</th>\n",
       "      <th>y4</th>\n",
       "      <th>y5</th>\n",
       "      <th>o1</th>\n",
       "      <th>o2</th>\n",
       "      <th>o3</th>\n",
       "      <th>o4</th>\n",
       "      <th>o5</th>\n",
       "    </tr>\n",
       "    <tr>\n",
       "      <th>dq</th>\n",
       "      <th></th>\n",
       "      <th></th>\n",
       "      <th></th>\n",
       "      <th></th>\n",
       "      <th></th>\n",
       "      <th></th>\n",
       "      <th></th>\n",
       "      <th></th>\n",
       "      <th></th>\n",
       "      <th></th>\n",
       "    </tr>\n",
       "  </thead>\n",
       "  <tbody>\n",
       "    <tr>\n",
       "      <th>(-2500.001, -780.0]</th>\n",
       "      <td>NaN</td>\n",
       "      <td>NaN</td>\n",
       "      <td>NaN</td>\n",
       "      <td>NaN</td>\n",
       "      <td>NaN</td>\n",
       "      <td>NaN</td>\n",
       "      <td>NaN</td>\n",
       "      <td>NaN</td>\n",
       "      <td>NaN</td>\n",
       "      <td>NaN</td>\n",
       "    </tr>\n",
       "    <tr>\n",
       "      <th>(-780.0, -165.0]</th>\n",
       "      <td>NaN</td>\n",
       "      <td>NaN</td>\n",
       "      <td>NaN</td>\n",
       "      <td>NaN</td>\n",
       "      <td>NaN</td>\n",
       "      <td>NaN</td>\n",
       "      <td>NaN</td>\n",
       "      <td>NaN</td>\n",
       "      <td>NaN</td>\n",
       "      <td>NaN</td>\n",
       "    </tr>\n",
       "    <tr>\n",
       "      <th>(-165.0, 214.0]</th>\n",
       "      <td>NaN</td>\n",
       "      <td>NaN</td>\n",
       "      <td>NaN</td>\n",
       "      <td>NaN</td>\n",
       "      <td>NaN</td>\n",
       "      <td>NaN</td>\n",
       "      <td>NaN</td>\n",
       "      <td>NaN</td>\n",
       "      <td>NaN</td>\n",
       "      <td>NaN</td>\n",
       "    </tr>\n",
       "    <tr>\n",
       "      <th>(214.0, 892.0]</th>\n",
       "      <td>NaN</td>\n",
       "      <td>NaN</td>\n",
       "      <td>NaN</td>\n",
       "      <td>NaN</td>\n",
       "      <td>NaN</td>\n",
       "      <td>NaN</td>\n",
       "      <td>NaN</td>\n",
       "      <td>NaN</td>\n",
       "      <td>NaN</td>\n",
       "      <td>NaN</td>\n",
       "    </tr>\n",
       "    <tr>\n",
       "      <th>(892.0, 2498.0]</th>\n",
       "      <td>NaN</td>\n",
       "      <td>NaN</td>\n",
       "      <td>NaN</td>\n",
       "      <td>NaN</td>\n",
       "      <td>NaN</td>\n",
       "      <td>NaN</td>\n",
       "      <td>NaN</td>\n",
       "      <td>NaN</td>\n",
       "      <td>NaN</td>\n",
       "      <td>NaN</td>\n",
       "    </tr>\n",
       "  </tbody>\n",
       "</table>\n",
       "</div>"
      ],
      "text/plain": [
       "                     y1  y2  y3  y4  y5  o1  o2  o3  o4  o5\n",
       "dq                                                         \n",
       "(-2500.001, -780.0] NaN NaN NaN NaN NaN NaN NaN NaN NaN NaN\n",
       "(-780.0, -165.0]    NaN NaN NaN NaN NaN NaN NaN NaN NaN NaN\n",
       "(-165.0, 214.0]     NaN NaN NaN NaN NaN NaN NaN NaN NaN NaN\n",
       "(214.0, 892.0]      NaN NaN NaN NaN NaN NaN NaN NaN NaN NaN\n",
       "(892.0, 2498.0]     NaN NaN NaN NaN NaN NaN NaN NaN NaN NaN"
      ]
     },
     "execution_count": 349,
     "metadata": {},
     "output_type": "execute_result"
    }
   ],
   "source": [
    "df38.drop('d',1).dropna().groupby('dq').mean()"
   ]
  },
  {
   "cell_type": "code",
   "execution_count": null,
   "metadata": {},
   "outputs": [],
   "source": []
  }
 ],
 "metadata": {
  "kernelspec": {
   "display_name": "stem",
   "language": "python",
   "name": "stem"
  },
  "language_info": {
   "codemirror_mode": {
    "name": "ipython",
    "version": 3
   },
   "file_extension": ".py",
   "mimetype": "text/x-python",
   "name": "python",
   "nbconvert_exporter": "python",
   "pygments_lexer": "ipython3",
   "version": "3.9.2"
  }
 },
 "nbformat": 4,
 "nbformat_minor": 4
}
