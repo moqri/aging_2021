{
 "cells": [
  {
   "cell_type": "code",
   "execution_count": 1,
   "metadata": {},
   "outputs": [],
   "source": [
    "import pandas as pd\n",
    "ezh_pk='https://ftp.ncbi.nlm.nih.gov/geo/series/GSE76nnn/GSE76626/suppl/GSE76626_ChIP-Seq_RPM.txt.gz' ## hg38"
   ]
  },
  {
   "cell_type": "code",
   "execution_count": 3,
   "metadata": {},
   "outputs": [
    {
     "name": "stdout",
     "output_type": "stream",
     "text": [
      "y1,y2,y3,o1,o2,o3,"
     ]
    }
   ],
   "source": [
    "l=range(1,4)\n",
    "dics={\n",
    "      'y1':'https://artyomovlab.wustl.edu/publications/supp_materials/aging/rrbs/per_donor/methylcall.CpG.YD1.mincov0.txt',\n",
    "      'y2':'https://artyomovlab.wustl.edu/publications/supp_materials/aging/rrbs/per_donor/methylcall.CpG.YD2.mincov0.txt',\n",
    "      'y3':'https://artyomovlab.wustl.edu/publications/supp_materials/aging/rrbs/per_donor/methylcall.CpG.YD3.mincov0.txt',\n",
    "      'y4':'https://artyomovlab.wustl.edu/publications/supp_materials/aging/rrbs/per_donor/methylcall.CpG.YD4.mincov0.txt',\n",
    "      'y5':'https://artyomovlab.wustl.edu/publications/supp_materials/aging/rrbs/per_donor/methylcall.CpG.YD5.mincov0.txt',\n",
    "      'y6':'https://artyomovlab.wustl.edu/publications/supp_materials/aging/rrbs/per_donor/methylcall.CpG.YD6.mincov0.txt',\n",
    "      'o1':'https://artyomovlab.wustl.edu/publications/supp_materials/aging/rrbs/per_donor/methylcall.CpG.OD1.mincov0.txt',\n",
    "      'o2':'https://artyomovlab.wustl.edu/publications/supp_materials/aging/rrbs/per_donor/methylcall.CpG.OD2.mincov0.txt',\n",
    "      'o3':'https://artyomovlab.wustl.edu/publications/supp_materials/aging/rrbs/per_donor/methylcall.CpG.OD3.mincov0.txt',\n",
    "      'o4':'https://artyomovlab.wustl.edu/publications/supp_materials/aging/rrbs/per_donor/methylcall.CpG.OD4.mincov0.txt',\n",
    "      'o5':'https://artyomovlab.wustl.edu/publications/supp_materials/aging/rrbs/per_donor/methylcall.CpG.OD5.mincov0.txt',\n",
    "      'o6':'https://artyomovlab.wustl.edu/publications/supp_materials/aging/rrbs/per_donor/methylcall.CpG.OD6.mincov0.txt',\n",
    "     }\n",
    "dfs={}\n",
    "for key, value in dics.items():\n",
    "    if int(key[1:]) in l:\n",
    "        dfs[key]=pd.read_table(value,index_col=0)\n",
    "        print(key,end=',')"
   ]
  },
  {
   "cell_type": "code",
   "execution_count": 5,
   "metadata": {},
   "outputs": [
    {
     "name": "stdout",
     "output_type": "stream",
     "text": [
      "(443681, 6)\n",
      "(531474, 6)\n",
      "(409769, 6)\n",
      "(334497, 6)\n",
      "(369900, 6)\n",
      "(369907, 6)\n"
     ]
    }
   ],
   "source": [
    "ch=1\n",
    "for key, value in dics.items():\n",
    "    if int(key[1:]) in l:\n",
    "        df=dfs[key]\n",
    "        df=df[df.chr=='chr'+str(ch)]\n",
    "        print(df.shape)\n",
    "        dfs[key]=df"
   ]
  },
  {
   "cell_type": "code",
   "execution_count": 6,
   "metadata": {},
   "outputs": [],
   "source": [
    "inds=[]\n",
    "for key, value in dics.items():\n",
    "    if int(key[1:]) in l:\n",
    "        df=dfs[key]\n",
    "        inds.append(df.index)"
   ]
  },
  {
   "cell_type": "code",
   "execution_count": 7,
   "metadata": {},
   "outputs": [
    {
     "data": {
      "text/plain": [
       "852665"
      ]
     },
     "execution_count": 7,
     "metadata": {},
     "output_type": "execute_result"
    }
   ],
   "source": [
    "inds=set().union(*inds)\n",
    "len(inds)"
   ]
  },
  {
   "cell_type": "code",
   "execution_count": 8,
   "metadata": {},
   "outputs": [],
   "source": [
    "dg=pd.DataFrame()\n",
    "dg.index=inds"
   ]
  },
  {
   "cell_type": "code",
   "execution_count": 9,
   "metadata": {},
   "outputs": [
    {
     "name": "stderr",
     "output_type": "stream",
     "text": [
      "<ipython-input-9-ee1f8acb7556>:6: FutureWarning: In a future version of pandas all arguments of DataFrame.drop except for the argument 'labels' will be keyword-only\n",
      "  df=df.drop(['chr','base','strand','coverage','freqC','freqT'],1)\n"
     ]
    }
   ],
   "source": [
    "for key, value in dics.items():\n",
    "    if int(key[1:]) in l:\n",
    "        df=dfs[key]\n",
    "        df['m_'+key]=df.freqC*df.coverage/100\n",
    "        df['u_'+key]=df.freqT*df.coverage/100\n",
    "        df=df.drop(['chr','base','strand','coverage','freqC','freqT'],1)\n",
    "        dfs[key]=df"
   ]
  },
  {
   "cell_type": "code",
   "execution_count": 10,
   "metadata": {},
   "outputs": [
    {
     "data": {
      "text/plain": [
       "(852665, 12)"
      ]
     },
     "execution_count": 10,
     "metadata": {},
     "output_type": "execute_result"
    }
   ],
   "source": [
    "for key, value in dics.items():\n",
    "    if int(key[1:]) in l:\n",
    "        df=dfs[key]\n",
    "        dg=dg.merge(dfs[key],left_index=True,right_index=True,how='left')\n",
    "dg.shape"
   ]
  },
  {
   "cell_type": "code",
   "execution_count": 12,
   "metadata": {},
   "outputs": [],
   "source": [
    "dg['uy']=0\n",
    "dg['my']=0\n",
    "dg['uo']=0\n",
    "dg['mo']=0\n",
    "for i in l:\n",
    "    dg['uy']=dg['uy']+dg['u_y'+str(i)]\n",
    "    dg['my']=dg['my']+dg['m_y'+str(i)]\n",
    "    dg['uo']=dg['uo']+dg['u_o'+str(i)]\n",
    "    dg['mo']=dg['mo']+dg['m_o'+str(i)]"
   ]
  },
  {
   "cell_type": "code",
   "execution_count": 13,
   "metadata": {},
   "outputs": [],
   "source": [
    "dg['by']=dg.my/(dg.my+dg.uy)\n",
    "dg['bo']=dg.mo/(dg.mo+dg.uo)"
   ]
  },
  {
   "cell_type": "code",
   "execution_count": 14,
   "metadata": {},
   "outputs": [],
   "source": [
    "dg['base']=dg.index.str[5:].astype(int)"
   ]
  },
  {
   "cell_type": "code",
   "execution_count": 15,
   "metadata": {},
   "outputs": [],
   "source": [
    "dg=dg.sort_values('base')"
   ]
  },
  {
   "cell_type": "code",
   "execution_count": 16,
   "metadata": {},
   "outputs": [],
   "source": [
    "#dg[dg.base>11044800].head(10)"
   ]
  },
  {
   "cell_type": "code",
   "execution_count": 17,
   "metadata": {},
   "outputs": [],
   "source": [
    "dg=dg[['base','by','bo']]\n",
    "dg['chr']='chr'+str(ch)\n",
    "dg['base2']=dg['base']"
   ]
  },
  {
   "cell_type": "code",
   "execution_count": 18,
   "metadata": {},
   "outputs": [],
   "source": [
    "dg[['chr','base','base2','by','bo']].to_csv('hg19_mono.txt',index=False,header=False,sep='\\t')"
   ]
  },
  {
   "cell_type": "code",
   "execution_count": 19,
   "metadata": {},
   "outputs": [
    {
     "name": "stdout",
     "output_type": "stream",
     "text": [
      "2021-11-16 03:36:56 [INFO]  Read the chain file \"hg19ToHg38.over.chain.gz\" \n"
     ]
    }
   ],
   "source": [
    "!CrossMap.py bed hg19ToHg38.over.chain.gz hg19_mono.txt hg38_mono.txt"
   ]
  },
  {
   "cell_type": "code",
   "execution_count": 20,
   "metadata": {},
   "outputs": [
    {
     "data": {
      "text/plain": [
       "(852541, 5)"
      ]
     },
     "execution_count": 20,
     "metadata": {},
     "output_type": "execute_result"
    }
   ],
   "source": [
    "df38=pd.read_table('hg38_mono.txt',header=None,names=['chr','b1','b2','by','bo'])\n",
    "df38.shape"
   ]
  },
  {
   "cell_type": "code",
   "execution_count": 21,
   "metadata": {},
   "outputs": [
    {
     "name": "stdout",
     "output_type": "stream",
     "text": [
      "(1219, 4)\n"
     ]
    },
    {
     "name": "stderr",
     "output_type": "stream",
     "text": [
      "/home/moqri/anaconda3/envs/stem/lib/python3.9/site-packages/IPython/core/interactiveshell.py:3437: DtypeWarning: Columns (1) have mixed types.Specify dtype option on import or set low_memory=False.\n",
      "  exec(code_obj, self.user_global_ns, self.user_ns)\n",
      "/home/moqri/anaconda3/envs/stem/lib/python3.9/site-packages/pandas/core/frame.py:3607: SettingWithCopyWarning: \n",
      "A value is trying to be set on a copy of a slice from a DataFrame.\n",
      "Try using .loc[row_indexer,col_indexer] = value instead\n",
      "\n",
      "See the caveats in the documentation: https://pandas.pydata.org/pandas-docs/stable/user_guide/indexing.html#returning-a-view-versus-a-copy\n",
      "  self._set_item(key, value)\n"
     ]
    }
   ],
   "source": [
    "ezh=pd.read_table(ezh_pk,index_col=0)\n",
    "ezh=ezh[ezh.Chromosome!='MT']\n",
    "ezh=ezh[['Chromosome','Start','End','WT_EZH2']][ezh['WT_EZH2']>2]\n",
    "ezh.columns=['chrom', 'chromStart', 'chromEnd', 'value']\n",
    "ezh['chrom']=ezh.chrom.astype(str)\n",
    "print(ezh.shape)\n",
    "ez=ezh[ezh.chrom==str(ch)]\n",
    "ez['r']=ez.apply(lambda x:range(x['chromStart'],x['chromEnd']),1)\n",
    "ez=ez['r'].tolist()\n",
    "ez=set([item for sublist in ez for item in sublist])"
   ]
  },
  {
   "cell_type": "code",
   "execution_count": 22,
   "metadata": {},
   "outputs": [
    {
     "data": {
      "text/plain": [
       "(5186, 5)"
      ]
     },
     "execution_count": 22,
     "metadata": {},
     "output_type": "execute_result"
    }
   ],
   "source": [
    "df38[df38['b1'].isin(ez)].dropna().shape"
   ]
  },
  {
   "cell_type": "code",
   "execution_count": 23,
   "metadata": {},
   "outputs": [
    {
     "name": "stderr",
     "output_type": "stream",
     "text": [
      "<ipython-input-23-283bafdc63e2>:1: FutureWarning: Dropping of nuisance columns in DataFrame reductions (with 'numeric_only=None') is deprecated; in a future version this will raise TypeError.  Select only valid columns before calling the reduction.\n",
      "  df38[df38['b1'].isin(ez)].dropna().mean()\n"
     ]
    },
    {
     "data": {
      "text/plain": [
       "b1    6.582364e+07\n",
       "b2    6.582364e+07\n",
       "by    4.876064e-02\n",
       "bo    5.112738e-02\n",
       "dtype: float64"
      ]
     },
     "execution_count": 23,
     "metadata": {},
     "output_type": "execute_result"
    }
   ],
   "source": [
    "df38[df38['b1'].isin(ez)].dropna().mean()"
   ]
  },
  {
   "cell_type": "code",
   "execution_count": 24,
   "metadata": {},
   "outputs": [
    {
     "data": {
      "text/plain": [
       "by    0.386446\n",
       "bo    0.388127\n",
       "dtype: float64"
      ]
     },
     "execution_count": 24,
     "metadata": {},
     "output_type": "execute_result"
    }
   ],
   "source": [
    "df38[['by','bo']].dropna().mean()"
   ]
  },
  {
   "cell_type": "code",
   "execution_count": 25,
   "metadata": {},
   "outputs": [],
   "source": [
    "v='38'\n",
    "h9_bw='http://smithdata.usc.edu/methbase/data/Xie-Human-2013/Human_H9/tracks_hg'+v+'/Human_H9.meth.bw'\n",
    "import pyBigWig\n",
    "\n",
    "def f(cell,ch):\n",
    "    df=cell.intervals(\"chr\"+str(ch))\n",
    "    print(len(df))\n",
    "    df=pd.DataFrame(df)\n",
    "    df.index=df[0]\n",
    "    df=df[2]\n",
    "    return(df)"
   ]
  },
  {
   "cell_type": "code",
   "execution_count": 45,
   "metadata": {},
   "outputs": [],
   "source": [
    "h=pyBigWig.open(h9_bw)"
   ]
  },
  {
   "cell_type": "code",
   "execution_count": 46,
   "metadata": {},
   "outputs": [
    {
     "name": "stdout",
     "output_type": "stream",
     "text": [
      "2264861\n"
     ]
    }
   ],
   "source": [
    "h=f(h,ch)"
   ]
  },
  {
   "cell_type": "code",
   "execution_count": 47,
   "metadata": {},
   "outputs": [
    {
     "data": {
      "text/plain": [
       "<AxesSubplot:>"
      ]
     },
     "execution_count": 47,
     "metadata": {},
     "output_type": "execute_result"
    },
    {
     "data": {
      "image/png": "[encoded data removed]",
      "text/plain": [
       "<Figure size 432x288 with 1 Axes>"
      ]
     },
     "metadata": {
      "needs_background": "light"
     },
     "output_type": "display_data"
    }
   ],
   "source": [
    "h.hist(bins=100)"
   ]
  },
  {
   "cell_type": "code",
   "execution_count": 62,
   "metadata": {},
   "outputs": [
    {
     "data": {
      "text/plain": [
       "(343932,)"
      ]
     },
     "execution_count": 62,
     "metadata": {},
     "output_type": "execute_result"
    }
   ],
   "source": [
    "hl=h[h<.5]\n",
    "hl.shape"
   ]
  },
  {
   "cell_type": "code",
   "execution_count": 63,
   "metadata": {},
   "outputs": [
    {
     "data": {
      "text/plain": [
       "(1912390,)"
      ]
     },
     "execution_count": 63,
     "metadata": {},
     "output_type": "execute_result"
    }
   ],
   "source": [
    "hh=h[h>.5]\n",
    "hh.shape"
   ]
  },
  {
   "cell_type": "code",
   "execution_count": 84,
   "metadata": {},
   "outputs": [
    {
     "name": "stderr",
     "output_type": "stream",
     "text": [
      "<ipython-input-84-ffa10444b025>:1: UserWarning: Boolean Series key will be reindexed to match DataFrame index.\n",
      "  df38.dropna()[df38['b1'].isin(ez)].shape\n"
     ]
    },
    {
     "data": {
      "text/plain": [
       "(5186, 5)"
      ]
     },
     "execution_count": 84,
     "metadata": {},
     "output_type": "execute_result"
    }
   ],
   "source": [
    "df38.dropna()[df38['b1'].isin(ez)].shape"
   ]
  },
  {
   "cell_type": "code",
   "execution_count": 109,
   "metadata": {},
   "outputs": [
    {
     "name": "stderr",
     "output_type": "stream",
     "text": [
      "<ipython-input-109-c8a25cf27496>:1: UserWarning: Boolean Series key will be reindexed to match DataFrame index.\n",
      "  df38.dropna()[~(df38['b1']-1).isin(hl.index)][df38['b1'].isin(ez)].mean()\n",
      "<ipython-input-109-c8a25cf27496>:1: FutureWarning: Dropping of nuisance columns in DataFrame reductions (with 'numeric_only=None') is deprecated; in a future version this will raise TypeError.  Select only valid columns before calling the reduction.\n",
      "  df38.dropna()[~(df38['b1']-1).isin(hl.index)][df38['b1'].isin(ez)].mean()\n"
     ]
    },
    {
     "data": {
      "text/plain": [
       "b1    6.556253e+07\n",
       "b2    6.556253e+07\n",
       "by    5.769499e-02\n",
       "bo    6.027179e-02\n",
       "dtype: float64"
      ]
     },
     "execution_count": 109,
     "metadata": {},
     "output_type": "execute_result"
    }
   ],
   "source": [
    "df38.dropna()[~(df38['b1']-1).isin(hl.index)][df38['b1'].isin(ez)].mean()"
   ]
  },
  {
   "cell_type": "code",
   "execution_count": null,
   "metadata": {},
   "outputs": [],
   "source": []
  }
 ],
 "metadata": {
  "kernelspec": {
   "display_name": "stem",
   "language": "python",
   "name": "stem"
  },
  "language_info": {
   "codemirror_mode": {
    "name": "ipython",
    "version": 3
   },
   "file_extension": ".py",
   "mimetype": "text/x-python",
   "name": "python",
   "nbconvert_exporter": "python",
   "pygments_lexer": "ipython3",
   "version": "3.9.2"
  }
 },
 "nbformat": 4,
 "nbformat_minor": 4
}
