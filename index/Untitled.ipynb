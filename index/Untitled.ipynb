{
 "cells": [
  {
   "cell_type": "code",
   "execution_count": 61,
   "metadata": {},
   "outputs": [],
   "source": [
    "import pandas as pd\n",
    "ezh_pk='https://ftp.ncbi.nlm.nih.gov/geo/series/GSE76nnn/GSE76626/suppl/GSE76626_ChIP-Seq_RPM.txt.gz' ## hg38\n",
    "data='/labs/mpsnyder/moqri/data/index/'\n"
   ]
  },
  {
   "cell_type": "code",
   "execution_count": 33,
   "metadata": {},
   "outputs": [
    {
     "name": "stdout",
     "output_type": "stream",
     "text": [
      "y4,y5,y6,o4,o5,o6,"
     ]
    }
   ],
   "source": [
    "l=range(4,7)\n",
    "dics={\n",
    "      'y1':'https://artyomovlab.wustl.edu/publications/supp_materials/aging/rrbs/per_donor/methylcall.CpG.YD1.mincov0.txt',\n",
    "      'y2':'https://artyomovlab.wustl.edu/publications/supp_materials/aging/rrbs/per_donor/methylcall.CpG.YD2.mincov0.txt',\n",
    "      'y3':'https://artyomovlab.wustl.edu/publications/supp_materials/aging/rrbs/per_donor/methylcall.CpG.YD3.mincov0.txt',\n",
    "      'y4':'https://artyomovlab.wustl.edu/publications/supp_materials/aging/rrbs/per_donor/methylcall.CpG.YD4.mincov0.txt',\n",
    "      'y5':'https://artyomovlab.wustl.edu/publications/supp_materials/aging/rrbs/per_donor/methylcall.CpG.YD5.mincov0.txt',\n",
    "      'y6':'https://artyomovlab.wustl.edu/publications/supp_materials/aging/rrbs/per_donor/methylcall.CpG.YD6.mincov0.txt',\n",
    "      'o1':'https://artyomovlab.wustl.edu/publications/supp_materials/aging/rrbs/per_donor/methylcall.CpG.OD1.mincov0.txt',\n",
    "      'o2':'https://artyomovlab.wustl.edu/publications/supp_materials/aging/rrbs/per_donor/methylcall.CpG.OD2.mincov0.txt',\n",
    "      'o3':'https://artyomovlab.wustl.edu/publications/supp_materials/aging/rrbs/per_donor/methylcall.CpG.OD3.mincov0.txt',\n",
    "      'o4':'https://artyomovlab.wustl.edu/publications/supp_materials/aging/rrbs/per_donor/methylcall.CpG.OD4.mincov0.txt',\n",
    "      'o5':'https://artyomovlab.wustl.edu/publications/supp_materials/aging/rrbs/per_donor/methylcall.CpG.OD5.mincov0.txt',\n",
    "      'o6':'https://artyomovlab.wustl.edu/publications/supp_materials/aging/rrbs/per_donor/methylcall.CpG.OD6.mincov0.txt',\n",
    "     }\n",
    "dfs={}\n",
    "for key, value in dics.items():\n",
    "    if int(key[1:]) in l:\n",
    "        dfs[key]=pd.read_table(value,index_col=0)\n",
    "        print(key,end=',')"
   ]
  },
  {
   "cell_type": "code",
   "execution_count": 34,
   "metadata": {},
   "outputs": [
    {
     "name": "stdout",
     "output_type": "stream",
     "text": [
      "(435164, 6)\n",
      "(374696, 6)\n",
      "(361382, 6)\n",
      "(374694, 6)\n",
      "(419160, 6)\n",
      "(385737, 6)\n"
     ]
    }
   ],
   "source": [
    "ch=1\n",
    "for key, value in dics.items():\n",
    "    if int(key[1:]) in l:\n",
    "        df=dfs[key]\n",
    "        df=df[df.chr=='chr'+str(ch)]\n",
    "        print(df.shape)\n",
    "        dfs[key]=df"
   ]
  },
  {
   "cell_type": "code",
   "execution_count": 35,
   "metadata": {},
   "outputs": [],
   "source": [
    "inds=[]\n",
    "for key, value in dics.items():\n",
    "    if int(key[1:]) in l:\n",
    "        df=dfs[key]\n",
    "        inds.append(df.index)"
   ]
  },
  {
   "cell_type": "code",
   "execution_count": 36,
   "metadata": {},
   "outputs": [
    {
     "data": {
      "text/plain": [
       "784583"
      ]
     },
     "execution_count": 36,
     "metadata": {},
     "output_type": "execute_result"
    }
   ],
   "source": [
    "inds=set().union(*inds)\n",
    "len(inds)"
   ]
  },
  {
   "cell_type": "code",
   "execution_count": 37,
   "metadata": {},
   "outputs": [],
   "source": [
    "dg=pd.DataFrame()\n",
    "dg.index=inds"
   ]
  },
  {
   "cell_type": "code",
   "execution_count": 38,
   "metadata": {},
   "outputs": [
    {
     "name": "stderr",
     "output_type": "stream",
     "text": [
      "<ipython-input-38-ee1f8acb7556>:6: FutureWarning: In a future version of pandas all arguments of DataFrame.drop except for the argument 'labels' will be keyword-only\n",
      "  df=df.drop(['chr','base','strand','coverage','freqC','freqT'],1)\n"
     ]
    }
   ],
   "source": [
    "for key, value in dics.items():\n",
    "    if int(key[1:]) in l:\n",
    "        df=dfs[key]\n",
    "        df['m_'+key]=df.freqC*df.coverage/100\n",
    "        df['u_'+key]=df.freqT*df.coverage/100\n",
    "        df=df.drop(['chr','base','strand','coverage','freqC','freqT'],1)\n",
    "        dfs[key]=df"
   ]
  },
  {
   "cell_type": "code",
   "execution_count": 39,
   "metadata": {},
   "outputs": [
    {
     "data": {
      "text/plain": [
       "(784583, 12)"
      ]
     },
     "execution_count": 39,
     "metadata": {},
     "output_type": "execute_result"
    }
   ],
   "source": [
    "for key, value in dics.items():\n",
    "    if int(key[1:]) in l:\n",
    "        df=dfs[key]\n",
    "        dg=dg.merge(dfs[key],left_index=True,right_index=True,how='left')\n",
    "dg.shape"
   ]
  },
  {
   "cell_type": "code",
   "execution_count": 40,
   "metadata": {},
   "outputs": [],
   "source": [
    "dg['uy']=0\n",
    "dg['my']=0\n",
    "dg['uo']=0\n",
    "dg['mo']=0\n",
    "for i in l:\n",
    "    dg['uy']=dg['uy']+dg['u_y'+str(i)]\n",
    "    dg['my']=dg['my']+dg['m_y'+str(i)]\n",
    "    dg['uo']=dg['uo']+dg['u_o'+str(i)]\n",
    "    dg['mo']=dg['mo']+dg['m_o'+str(i)]"
   ]
  },
  {
   "cell_type": "code",
   "execution_count": 41,
   "metadata": {},
   "outputs": [],
   "source": [
    "dg['by']=dg.my/(dg.my+dg.uy)\n",
    "dg['bo']=dg.mo/(dg.mo+dg.uo)"
   ]
  },
  {
   "cell_type": "code",
   "execution_count": 42,
   "metadata": {},
   "outputs": [],
   "source": [
    "dg['base']=dg.index.str[5:].astype(int)"
   ]
  },
  {
   "cell_type": "code",
   "execution_count": 43,
   "metadata": {},
   "outputs": [],
   "source": [
    "dg=dg.sort_values('base')"
   ]
  },
  {
   "cell_type": "code",
   "execution_count": 44,
   "metadata": {},
   "outputs": [],
   "source": [
    "#dg[dg.base>11044800].head(10)"
   ]
  },
  {
   "cell_type": "code",
   "execution_count": 45,
   "metadata": {},
   "outputs": [],
   "source": [
    "dg=dg[['base','by','bo']]\n",
    "dg['chr']='chr'+str(ch)\n",
    "dg['base2']=dg['base']"
   ]
  },
  {
   "cell_type": "code",
   "execution_count": 63,
   "metadata": {},
   "outputs": [],
   "source": [
    "dg[['chr','base','base2','by','bo']].to_csv(data+'hg19_mono.txt',index=False,header=False,sep='\\t')"
   ]
  },
  {
   "cell_type": "code",
   "execution_count": null,
   "metadata": {},
   "outputs": [
    {
     "name": "stdout",
     "output_type": "stream",
     "text": [
      "2021-11-19 11:16:10 [INFO]  Read the chain file \"hg19ToHg38.over.chain.gz\" \n"
     ]
    }
   ],
   "source": [
    "!CrossMap.py bed hg19ToHg38.over.chain.gz {data}hg19_mono.txt {data}hg38_mono.txt"
   ]
  },
  {
   "cell_type": "code",
   "execution_count": 48,
   "metadata": {},
   "outputs": [
    {
     "data": {
      "text/plain": [
       "(784450, 5)"
      ]
     },
     "execution_count": 48,
     "metadata": {},
     "output_type": "execute_result"
    }
   ],
   "source": [
    "df38=pd.read_table('hg38_mono.txt',header=None,names=['chr','b1','b2','by','bo'])\n",
    "df38.shape"
   ]
  },
  {
   "cell_type": "code",
   "execution_count": 49,
   "metadata": {},
   "outputs": [
    {
     "name": "stdout",
     "output_type": "stream",
     "text": [
      "(1219, 4)\n"
     ]
    }
   ],
   "source": [
    "ezh=pd.read_table(ezh_pk,index_col=0)\n",
    "ezh=ezh[ezh.Chromosome!='MT']\n",
    "ezh=ezh[['Chromosome','Start','End','WT_EZH2']][ezh['WT_EZH2']>2]\n",
    "ezh.columns=['chrom', 'chromStart', 'chromEnd', 'value']\n",
    "ezh['chrom']=ezh.chrom.astype(str)\n",
    "print(ezh.shape)\n",
    "ez=ezh[ezh.chrom==str(ch)]\n",
    "ez['r']=ez.apply(lambda x:range(x['chromStart'],x['chromEnd']),1)\n",
    "ez=ez['r'].tolist()\n",
    "ez=set([item for sublist in ez for item in sublist])"
   ]
  },
  {
   "cell_type": "code",
   "execution_count": 50,
   "metadata": {},
   "outputs": [
    {
     "data": {
      "text/plain": [
       "(5195, 5)"
      ]
     },
     "execution_count": 50,
     "metadata": {},
     "output_type": "execute_result"
    }
   ],
   "source": [
    "df38[df38['b1'].isin(ez)].dropna().shape"
   ]
  },
  {
   "cell_type": "code",
   "execution_count": 51,
   "metadata": {},
   "outputs": [
    {
     "name": "stderr",
     "output_type": "stream",
     "text": [
      "<ipython-input-51-283bafdc63e2>:1: FutureWarning: Dropping of nuisance columns in DataFrame reductions (with 'numeric_only=None') is deprecated; in a future version this will raise TypeError.  Select only valid columns before calling the reduction.\n",
      "  df38[df38['b1'].isin(ez)].dropna().mean()\n"
     ]
    },
    {
     "data": {
      "text/plain": [
       "b1    6.611045e+07\n",
       "b2    6.611045e+07\n",
       "by    4.854303e-02\n",
       "bo    5.205158e-02\n",
       "dtype: float64"
      ]
     },
     "execution_count": 51,
     "metadata": {},
     "output_type": "execute_result"
    }
   ],
   "source": [
    "df38[df38['b1'].isin(ez)].dropna().mean()"
   ]
  },
  {
   "cell_type": "code",
   "execution_count": 52,
   "metadata": {},
   "outputs": [
    {
     "data": {
      "text/plain": [
       "by    0.390737\n",
       "bo    0.393579\n",
       "dtype: float64"
      ]
     },
     "execution_count": 52,
     "metadata": {},
     "output_type": "execute_result"
    }
   ],
   "source": [
    "df38[['by','bo']].dropna().mean()"
   ]
  },
  {
   "cell_type": "code",
   "execution_count": 53,
   "metadata": {},
   "outputs": [],
   "source": [
    "v='38'\n",
    "h9_bw='http://smithdata.usc.edu/methbase/data/Xie-Human-2013/Human_H9/tracks_hg'+v+'/Human_H9.meth.bw'\n",
    "import pyBigWig\n",
    "\n",
    "def f(cell,ch):\n",
    "    df=cell.intervals(\"chr\"+str(ch))\n",
    "    print(len(df))\n",
    "    df=pd.DataFrame(df)\n",
    "    df.index=df[0]\n",
    "    df=df[2]\n",
    "    return(df)"
   ]
  },
  {
   "cell_type": "code",
   "execution_count": 54,
   "metadata": {},
   "outputs": [],
   "source": [
    "h=pyBigWig.open(h9_bw)"
   ]
  },
  {
   "cell_type": "code",
   "execution_count": 55,
   "metadata": {},
   "outputs": [
    {
     "name": "stdout",
     "output_type": "stream",
     "text": [
      "2264861\n"
     ]
    }
   ],
   "source": [
    "h=f(h,ch)"
   ]
  },
  {
   "cell_type": "code",
   "execution_count": 56,
   "metadata": {},
   "outputs": [
    {
     "data": {
      "text/plain": [
       "(343932,)"
      ]
     },
     "execution_count": 56,
     "metadata": {},
     "output_type": "execute_result"
    }
   ],
   "source": [
    "hl=h[h<.5]\n",
    "hl.shape"
   ]
  },
  {
   "cell_type": "code",
   "execution_count": 58,
   "metadata": {},
   "outputs": [
    {
     "name": "stderr",
     "output_type": "stream",
     "text": [
      "<ipython-input-58-ffa10444b025>:1: UserWarning: Boolean Series key will be reindexed to match DataFrame index.\n",
      "  df38.dropna()[df38['b1'].isin(ez)].shape\n"
     ]
    },
    {
     "data": {
      "text/plain": [
       "(5195, 5)"
      ]
     },
     "execution_count": 58,
     "metadata": {},
     "output_type": "execute_result"
    }
   ],
   "source": [
    "df38.dropna()[df38['b1'].isin(ez)].shape"
   ]
  },
  {
   "cell_type": "code",
   "execution_count": 59,
   "metadata": {},
   "outputs": [
    {
     "name": "stderr",
     "output_type": "stream",
     "text": [
      "<ipython-input-59-c8a25cf27496>:1: UserWarning: Boolean Series key will be reindexed to match DataFrame index.\n",
      "  df38.dropna()[~(df38['b1']-1).isin(hl.index)][df38['b1'].isin(ez)].mean()\n",
      "<ipython-input-59-c8a25cf27496>:1: FutureWarning: Dropping of nuisance columns in DataFrame reductions (with 'numeric_only=None') is deprecated; in a future version this will raise TypeError.  Select only valid columns before calling the reduction.\n",
      "  df38.dropna()[~(df38['b1']-1).isin(hl.index)][df38['b1'].isin(ez)].mean()\n"
     ]
    },
    {
     "data": {
      "text/plain": [
       "b1    6.631018e+07\n",
       "b2    6.631018e+07\n",
       "by    5.670614e-02\n",
       "bo    6.000843e-02\n",
       "dtype: float64"
      ]
     },
     "execution_count": 59,
     "metadata": {},
     "output_type": "execute_result"
    }
   ],
   "source": [
    "df38.dropna()[~(df38['b1']-1).isin(hl.index)][df38['b1'].isin(ez)].mean()"
   ]
  },
  {
   "cell_type": "code",
   "execution_count": null,
   "metadata": {},
   "outputs": [],
   "source": []
  }
 ],
 "metadata": {
  "kernelspec": {
   "display_name": "stem",
   "language": "python",
   "name": "stem"
  },
  "language_info": {
   "codemirror_mode": {
    "name": "ipython",
    "version": 3
   },
   "file_extension": ".py",
   "mimetype": "text/x-python",
   "name": "python",
   "nbconvert_exporter": "python",
   "pygments_lexer": "ipython3",
   "version": "3.9.2"
  }
 },
 "nbformat": 4,
 "nbformat_minor": 4
}
