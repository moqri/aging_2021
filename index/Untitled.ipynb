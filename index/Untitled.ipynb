{
 "cells": [
  {
   "cell_type": "code",
   "execution_count": 1,
   "metadata": {},
   "outputs": [],
   "source": [
    "import pandas as pd\n",
    "ezh_pk='https://ftp.ncbi.nlm.nih.gov/geo/series/GSE76nnn/GSE76626/suppl/GSE76626_ChIP-Seq_RPM.txt.gz' ## hg38\n",
    "data='/labs/mpsnyder/moqri/data/index/'"
   ]
  },
  {
   "cell_type": "code",
   "execution_count": 2,
   "metadata": {},
   "outputs": [],
   "source": [
    "df=pd.read_table('ezh2_19',header=None)\n",
    "df['ind']=df[0].astype(str)+'_'+df[1].astype(str)\n",
    "ll=df.ind.values"
   ]
  },
  {
   "cell_type": "code",
   "execution_count": 3,
   "metadata": {},
   "outputs": [
    {
     "name": "stdout",
     "output_type": "stream",
     "text": [
      "1,2,3,4,5,6,7,8,9,10,11,12,13,14,15,16,17,18,"
     ]
    }
   ],
   "source": [
    "dfs=[]\n",
    "for i in range(1,19):\n",
    "    dfs.append(pd.read_table(data+'rrbs/methylcall.CpG.OD'+str(i)+'.mincov0.txt',index_col=0,nrows=100000))\n",
    "    print(i,end=',')"
   ]
  },
  {
   "cell_type": "code",
   "execution_count": 4,
   "metadata": {},
   "outputs": [],
   "source": [
    "inds=[]\n",
    "for i in range(18):\n",
    "    df=dfs[i]\n",
    "    df['g']=df.chr.str[3:]+'_'+df.base.astype(str)\n",
    "    df=df[df.g.isin(ll)]\n",
    "    inds.append(df.index)\n",
    "    dfs[i]=df"
   ]
  },
  {
   "cell_type": "code",
   "execution_count": 5,
   "metadata": {},
   "outputs": [
    {
     "data": {
      "text/plain": [
       "460"
      ]
     },
     "execution_count": 5,
     "metadata": {},
     "output_type": "execute_result"
    }
   ],
   "source": [
    "inds=set().union(*inds)\n",
    "len(inds)"
   ]
  },
  {
   "cell_type": "code",
   "execution_count": 6,
   "metadata": {},
   "outputs": [
    {
     "name": "stderr",
     "output_type": "stream",
     "text": [
      "<ipython-input-6-ce22746134f6>:5: FutureWarning: In a future version of pandas all arguments of DataFrame.drop except for the argument 'labels' will be keyword-only\n",
      "  df=df.drop(['chr','base','strand','coverage','freqC','freqT'],1)\n"
     ]
    }
   ],
   "source": [
    "for i in range(18):\n",
    "    df=dfs[i]\n",
    "    df['m_'+str(i)]=df.freqC*df.coverage/100\n",
    "    df['u_'+str(i)]=df.freqT*df.coverage/100\n",
    "    df=df.drop(['chr','base','strand','coverage','freqC','freqT'],1)\n",
    "    dfs[i]=df"
   ]
  },
  {
   "cell_type": "code",
   "execution_count": 30,
   "metadata": {},
   "outputs": [],
   "source": [
    "dg=pd.DataFrame()\n",
    "dg.index=inds"
   ]
  },
  {
   "cell_type": "code",
   "execution_count": 31,
   "metadata": {},
   "outputs": [
    {
     "name": "stderr",
     "output_type": "stream",
     "text": [
      "<ipython-input-31-2d46e162da84>:3: FutureWarning: In a future version of pandas all arguments of DataFrame.drop except for the argument 'labels' will be keyword-only\n",
      "  dg=dg.merge(dfs[i].drop('g',1),left_index=True,right_index=True,how='left')\n"
     ]
    },
    {
     "data": {
      "text/plain": [
       "(460, 54)"
      ]
     },
     "execution_count": 31,
     "metadata": {},
     "output_type": "execute_result"
    }
   ],
   "source": [
    "for i in range(18):\n",
    "    df=dfs[i]\n",
    "    dg=dg.merge(dfs[i].drop('g',1),left_index=True,right_index=True,how='left')\n",
    "    dg['b_'+str(i)]=df['m_'+str(i)]/df['u_'+str(i)]\n",
    "dg.shape"
   ]
  },
  {
   "cell_type": "code",
   "execution_count": 32,
   "metadata": {},
   "outputs": [],
   "source": [
    "dg=dg[['b_'+str(i) for i in range(18)]]"
   ]
  },
  {
   "cell_type": "code",
   "execution_count": 33,
   "metadata": {},
   "outputs": [],
   "source": [
    "dg['chr']=dg.index.str.split('.').str[0]"
   ]
  },
  {
   "cell_type": "code",
   "execution_count": 34,
   "metadata": {},
   "outputs": [],
   "source": [
    "dg['base']=dg.index.str.split('.').str[1]"
   ]
  },
  {
   "cell_type": "code",
   "execution_count": 35,
   "metadata": {},
   "outputs": [],
   "source": [
    "dg['base2']=dg['base']"
   ]
  },
  {
   "cell_type": "code",
   "execution_count": 25,
   "metadata": {},
   "outputs": [],
   "source": [
    "dg['strand']='+'"
   ]
  },
  {
   "cell_type": "code",
   "execution_count": 37,
   "metadata": {},
   "outputs": [],
   "source": [
    "dg=dg[list(dg.columns[-3:])]#+(list(dg.columns[:-4]))]"
   ]
  },
  {
   "cell_type": "code",
   "execution_count": 38,
   "metadata": {},
   "outputs": [],
   "source": [
    "dg.to_csv(data+'hg19_mono.txt',index=None,sep='\\t')"
   ]
  },
  {
   "cell_type": "code",
   "execution_count": 39,
   "metadata": {},
   "outputs": [
    {
     "name": "stdout",
     "output_type": "stream",
     "text": [
      "2021-11-19 06:26:29 [INFO]  Read the chain file \"hg19ToHg38.over.chain.gz\" \n",
      "Start coordinate is not an integer. skip chr\tbase\tbase2\n"
     ]
    }
   ],
   "source": [
    "!CrossMap.py bed hg19ToHg38.over.chain.gz {data}hg19_mono.txt {data}hg38_mono.txt"
   ]
  },
  {
   "cell_type": "code",
   "execution_count": 34,
   "metadata": {},
   "outputs": [
    {
     "ename": "ParserError",
     "evalue": "Error tokenizing data. C error: Expected 4 fields in line 4, saw 5\n",
     "output_type": "error",
     "traceback": [
      "\u001b[0;31m---------------------------------------------------------------------------\u001b[0m",
      "\u001b[0;31mParserError\u001b[0m                               Traceback (most recent call last)",
      "\u001b[0;32m<ipython-input-34-0b9189cd2b19>\u001b[0m in \u001b[0;36m<module>\u001b[0;34m\u001b[0m\n\u001b[0;32m----> 1\u001b[0;31m \u001b[0mpd\u001b[0m\u001b[0;34m.\u001b[0m\u001b[0mread_table\u001b[0m\u001b[0;34m(\u001b[0m\u001b[0mdata\u001b[0m\u001b[0;34m+\u001b[0m\u001b[0;34m'hg38_mono.txt'\u001b[0m\u001b[0;34m,\u001b[0m\u001b[0mheader\u001b[0m\u001b[0;34m=\u001b[0m\u001b[0;32mNone\u001b[0m\u001b[0;34m)\u001b[0m\u001b[0;34m\u001b[0m\u001b[0;34m\u001b[0m\u001b[0m\n\u001b[0m",
      "\u001b[0;32m~/anaconda3/envs/stem/lib/python3.9/site-packages/pandas/util/_decorators.py\u001b[0m in \u001b[0;36mwrapper\u001b[0;34m(*args, **kwargs)\u001b[0m\n\u001b[1;32m    309\u001b[0m                     \u001b[0mstacklevel\u001b[0m\u001b[0;34m=\u001b[0m\u001b[0mstacklevel\u001b[0m\u001b[0;34m,\u001b[0m\u001b[0;34m\u001b[0m\u001b[0;34m\u001b[0m\u001b[0m\n\u001b[1;32m    310\u001b[0m                 )\n\u001b[0;32m--> 311\u001b[0;31m             \u001b[0;32mreturn\u001b[0m \u001b[0mfunc\u001b[0m\u001b[0;34m(\u001b[0m\u001b[0;34m*\u001b[0m\u001b[0margs\u001b[0m\u001b[0;34m,\u001b[0m \u001b[0;34m**\u001b[0m\u001b[0mkwargs\u001b[0m\u001b[0;34m)\u001b[0m\u001b[0;34m\u001b[0m\u001b[0;34m\u001b[0m\u001b[0m\n\u001b[0m\u001b[1;32m    312\u001b[0m \u001b[0;34m\u001b[0m\u001b[0m\n\u001b[1;32m    313\u001b[0m         \u001b[0;32mreturn\u001b[0m \u001b[0mwrapper\u001b[0m\u001b[0;34m\u001b[0m\u001b[0;34m\u001b[0m\u001b[0m\n",
      "\u001b[0;32m~/anaconda3/envs/stem/lib/python3.9/site-packages/pandas/io/parsers/readers.py\u001b[0m in \u001b[0;36mread_table\u001b[0;34m(filepath_or_buffer, sep, delimiter, header, names, index_col, usecols, squeeze, prefix, mangle_dupe_cols, dtype, engine, converters, true_values, false_values, skipinitialspace, skiprows, skipfooter, nrows, na_values, keep_default_na, na_filter, verbose, skip_blank_lines, parse_dates, infer_datetime_format, keep_date_col, date_parser, dayfirst, cache_dates, iterator, chunksize, compression, thousands, decimal, lineterminator, quotechar, quoting, doublequote, escapechar, comment, encoding, dialect, error_bad_lines, warn_bad_lines, on_bad_lines, encoding_errors, delim_whitespace, low_memory, memory_map, float_precision)\u001b[0m\n\u001b[1;32m    681\u001b[0m     \u001b[0mkwds\u001b[0m\u001b[0;34m.\u001b[0m\u001b[0mupdate\u001b[0m\u001b[0;34m(\u001b[0m\u001b[0mkwds_defaults\u001b[0m\u001b[0;34m)\u001b[0m\u001b[0;34m\u001b[0m\u001b[0;34m\u001b[0m\u001b[0m\n\u001b[1;32m    682\u001b[0m \u001b[0;34m\u001b[0m\u001b[0m\n\u001b[0;32m--> 683\u001b[0;31m     \u001b[0;32mreturn\u001b[0m \u001b[0m_read\u001b[0m\u001b[0;34m(\u001b[0m\u001b[0mfilepath_or_buffer\u001b[0m\u001b[0;34m,\u001b[0m \u001b[0mkwds\u001b[0m\u001b[0;34m)\u001b[0m\u001b[0;34m\u001b[0m\u001b[0;34m\u001b[0m\u001b[0m\n\u001b[0m\u001b[1;32m    684\u001b[0m \u001b[0;34m\u001b[0m\u001b[0m\n\u001b[1;32m    685\u001b[0m \u001b[0;34m\u001b[0m\u001b[0m\n",
      "\u001b[0;32m~/anaconda3/envs/stem/lib/python3.9/site-packages/pandas/io/parsers/readers.py\u001b[0m in \u001b[0;36m_read\u001b[0;34m(filepath_or_buffer, kwds)\u001b[0m\n\u001b[1;32m    486\u001b[0m \u001b[0;34m\u001b[0m\u001b[0m\n\u001b[1;32m    487\u001b[0m     \u001b[0;32mwith\u001b[0m \u001b[0mparser\u001b[0m\u001b[0;34m:\u001b[0m\u001b[0;34m\u001b[0m\u001b[0;34m\u001b[0m\u001b[0m\n\u001b[0;32m--> 488\u001b[0;31m         \u001b[0;32mreturn\u001b[0m \u001b[0mparser\u001b[0m\u001b[0;34m.\u001b[0m\u001b[0mread\u001b[0m\u001b[0;34m(\u001b[0m\u001b[0mnrows\u001b[0m\u001b[0;34m)\u001b[0m\u001b[0;34m\u001b[0m\u001b[0;34m\u001b[0m\u001b[0m\n\u001b[0m\u001b[1;32m    489\u001b[0m \u001b[0;34m\u001b[0m\u001b[0m\n\u001b[1;32m    490\u001b[0m \u001b[0;34m\u001b[0m\u001b[0m\n",
      "\u001b[0;32m~/anaconda3/envs/stem/lib/python3.9/site-packages/pandas/io/parsers/readers.py\u001b[0m in \u001b[0;36mread\u001b[0;34m(self, nrows)\u001b[0m\n\u001b[1;32m   1045\u001b[0m     \u001b[0;32mdef\u001b[0m \u001b[0mread\u001b[0m\u001b[0;34m(\u001b[0m\u001b[0mself\u001b[0m\u001b[0;34m,\u001b[0m \u001b[0mnrows\u001b[0m\u001b[0;34m=\u001b[0m\u001b[0;32mNone\u001b[0m\u001b[0;34m)\u001b[0m\u001b[0;34m:\u001b[0m\u001b[0;34m\u001b[0m\u001b[0;34m\u001b[0m\u001b[0m\n\u001b[1;32m   1046\u001b[0m         \u001b[0mnrows\u001b[0m \u001b[0;34m=\u001b[0m \u001b[0mvalidate_integer\u001b[0m\u001b[0;34m(\u001b[0m\u001b[0;34m\"nrows\"\u001b[0m\u001b[0;34m,\u001b[0m \u001b[0mnrows\u001b[0m\u001b[0;34m)\u001b[0m\u001b[0;34m\u001b[0m\u001b[0;34m\u001b[0m\u001b[0m\n\u001b[0;32m-> 1047\u001b[0;31m         \u001b[0mindex\u001b[0m\u001b[0;34m,\u001b[0m \u001b[0mcolumns\u001b[0m\u001b[0;34m,\u001b[0m \u001b[0mcol_dict\u001b[0m \u001b[0;34m=\u001b[0m \u001b[0mself\u001b[0m\u001b[0;34m.\u001b[0m\u001b[0m_engine\u001b[0m\u001b[0;34m.\u001b[0m\u001b[0mread\u001b[0m\u001b[0;34m(\u001b[0m\u001b[0mnrows\u001b[0m\u001b[0;34m)\u001b[0m\u001b[0;34m\u001b[0m\u001b[0;34m\u001b[0m\u001b[0m\n\u001b[0m\u001b[1;32m   1048\u001b[0m \u001b[0;34m\u001b[0m\u001b[0m\n\u001b[1;32m   1049\u001b[0m         \u001b[0;32mif\u001b[0m \u001b[0mindex\u001b[0m \u001b[0;32mis\u001b[0m \u001b[0;32mNone\u001b[0m\u001b[0;34m:\u001b[0m\u001b[0;34m\u001b[0m\u001b[0;34m\u001b[0m\u001b[0m\n",
      "\u001b[0;32m~/anaconda3/envs/stem/lib/python3.9/site-packages/pandas/io/parsers/c_parser_wrapper.py\u001b[0m in \u001b[0;36mread\u001b[0;34m(self, nrows)\u001b[0m\n\u001b[1;32m    221\u001b[0m         \u001b[0;32mtry\u001b[0m\u001b[0;34m:\u001b[0m\u001b[0;34m\u001b[0m\u001b[0;34m\u001b[0m\u001b[0m\n\u001b[1;32m    222\u001b[0m             \u001b[0;32mif\u001b[0m \u001b[0mself\u001b[0m\u001b[0;34m.\u001b[0m\u001b[0mlow_memory\u001b[0m\u001b[0;34m:\u001b[0m\u001b[0;34m\u001b[0m\u001b[0;34m\u001b[0m\u001b[0m\n\u001b[0;32m--> 223\u001b[0;31m                 \u001b[0mchunks\u001b[0m \u001b[0;34m=\u001b[0m \u001b[0mself\u001b[0m\u001b[0;34m.\u001b[0m\u001b[0m_reader\u001b[0m\u001b[0;34m.\u001b[0m\u001b[0mread_low_memory\u001b[0m\u001b[0;34m(\u001b[0m\u001b[0mnrows\u001b[0m\u001b[0;34m)\u001b[0m\u001b[0;34m\u001b[0m\u001b[0;34m\u001b[0m\u001b[0m\n\u001b[0m\u001b[1;32m    224\u001b[0m                 \u001b[0;31m# destructive to chunks\u001b[0m\u001b[0;34m\u001b[0m\u001b[0;34m\u001b[0m\u001b[0;34m\u001b[0m\u001b[0m\n\u001b[1;32m    225\u001b[0m                 \u001b[0mdata\u001b[0m \u001b[0;34m=\u001b[0m \u001b[0m_concatenate_chunks\u001b[0m\u001b[0;34m(\u001b[0m\u001b[0mchunks\u001b[0m\u001b[0;34m)\u001b[0m\u001b[0;34m\u001b[0m\u001b[0;34m\u001b[0m\u001b[0m\n",
      "\u001b[0;32m~/anaconda3/envs/stem/lib/python3.9/site-packages/pandas/_libs/parsers.pyx\u001b[0m in \u001b[0;36mpandas._libs.parsers.TextReader.read_low_memory\u001b[0;34m()\u001b[0m\n",
      "\u001b[0;32m~/anaconda3/envs/stem/lib/python3.9/site-packages/pandas/_libs/parsers.pyx\u001b[0m in \u001b[0;36mpandas._libs.parsers.TextReader._read_rows\u001b[0;34m()\u001b[0m\n",
      "\u001b[0;32m~/anaconda3/envs/stem/lib/python3.9/site-packages/pandas/_libs/parsers.pyx\u001b[0m in \u001b[0;36mpandas._libs.parsers.TextReader._tokenize_rows\u001b[0;34m()\u001b[0m\n",
      "\u001b[0;32m~/anaconda3/envs/stem/lib/python3.9/site-packages/pandas/_libs/parsers.pyx\u001b[0m in \u001b[0;36mpandas._libs.parsers.raise_parser_error\u001b[0;34m()\u001b[0m\n",
      "\u001b[0;31mParserError\u001b[0m: Error tokenizing data. C error: Expected 4 fields in line 4, saw 5\n"
     ]
    }
   ],
   "source": [
    "pd.read_table(data+'hg38_mono.txt',header=None)"
   ]
  },
  {
   "cell_type": "code",
   "execution_count": 90,
   "metadata": {},
   "outputs": [
    {
     "data": {
      "text/plain": [
       "(12456, 5)"
      ]
     },
     "execution_count": 90,
     "metadata": {},
     "output_type": "execute_result"
    }
   ],
   "source": [
    "df38=pd.read_table(data+'hg38_mono.txt',header=None,names=['chr','b1','b2','by','bo'])\n",
    "df38.shape"
   ]
  },
  {
   "cell_type": "code",
   "execution_count": 91,
   "metadata": {},
   "outputs": [],
   "source": [
    "df38.index=df38.chr.str.strip('chr')+'_'+df38.b1.astype(str)"
   ]
  },
  {
   "cell_type": "code",
   "execution_count": 92,
   "metadata": {},
   "outputs": [
    {
     "data": {
      "text/plain": [
       "(210130, 10)"
      ]
     },
     "execution_count": 92,
     "metadata": {},
     "output_type": "execute_result"
    }
   ],
   "source": [
    "df=pd.read_csv('ezs.csv',index_col=0)\n",
    "df.shape"
   ]
  },
  {
   "cell_type": "code",
   "execution_count": 93,
   "metadata": {},
   "outputs": [
    {
     "data": {
      "text/plain": [
       "(12449, 7)"
      ]
     },
     "execution_count": 93,
     "metadata": {},
     "output_type": "execute_result"
    }
   ],
   "source": [
    "df38=df38.merge(df[['d','dq']],left_index=True,right_index=True)\n",
    "df38.shape"
   ]
  },
  {
   "cell_type": "code",
   "execution_count": 95,
   "metadata": {},
   "outputs": [],
   "source": [
    "df38['dq']=pd.qcut(df38.d,5)"
   ]
  },
  {
   "cell_type": "code",
   "execution_count": 96,
   "metadata": {},
   "outputs": [
    {
     "data": {
      "text/plain": [
       "<AxesSubplot:xlabel='dq'>"
      ]
     },
     "execution_count": 96,
     "metadata": {},
     "output_type": "execute_result"
    },
    {
     "data": {
      "image/png": "[encoded data removed]",
      "text/plain": [
       "<Figure size 432x288 with 1 Axes>"
      ]
     },
     "metadata": {
      "needs_background": "light"
     },
     "output_type": "display_data"
    }
   ],
   "source": [
    "df38[['by','bo','dq']].dropna().groupby('dq').mean().plot()"
   ]
  },
  {
   "cell_type": "code",
   "execution_count": 69,
   "metadata": {},
   "outputs": [
    {
     "data": {
      "text/plain": [
       "<AxesSubplot:xlabel='dq'>"
      ]
     },
     "execution_count": 69,
     "metadata": {},
     "output_type": "execute_result"
    },
    {
     "data": {
      "image/png": "[encoded data removed]",
      "text/plain": [
       "<Figure size 432x288 with 1 Axes>"
      ]
     },
     "metadata": {
      "needs_background": "light"
     },
     "output_type": "display_data"
    }
   ],
   "source": [
    "df38[['by','bo','dq']].dropna().groupby('dq').mean().plot()"
   ]
  },
  {
   "cell_type": "code",
   "execution_count": 75,
   "metadata": {},
   "outputs": [],
   "source": [
    "df38.to_csv(str(l[0]))"
   ]
  },
  {
   "cell_type": "code",
   "execution_count": 99,
   "metadata": {},
   "outputs": [
    {
     "data": {
      "text/html": [
       "<div>\n",
       "<style scoped>\n",
       "    .dataframe tbody tr th:only-of-type {\n",
       "        vertical-align: middle;\n",
       "    }\n",
       "\n",
       "    .dataframe tbody tr th {\n",
       "        vertical-align: top;\n",
       "    }\n",
       "\n",
       "    .dataframe thead th {\n",
       "        text-align: right;\n",
       "    }\n",
       "</style>\n",
       "<table border=\"1\" class=\"dataframe\">\n",
       "  <thead>\n",
       "    <tr style=\"text-align: right;\">\n",
       "      <th></th>\n",
       "      <th>Unnamed: 0</th>\n",
       "      <th>chr</th>\n",
       "      <th>b1</th>\n",
       "      <th>b2</th>\n",
       "      <th>by</th>\n",
       "      <th>bo</th>\n",
       "      <th>d_x</th>\n",
       "      <th>dq_x</th>\n",
       "      <th>d_y</th>\n",
       "      <th>dq_y</th>\n",
       "      <th>dq</th>\n",
       "    </tr>\n",
       "  </thead>\n",
       "  <tbody>\n",
       "    <tr>\n",
       "      <th>0</th>\n",
       "      <td>2_289495</td>\n",
       "      <td>chr2</td>\n",
       "      <td>289495</td>\n",
       "      <td>289495</td>\n",
       "      <td>0.014663</td>\n",
       "      <td>0.039999</td>\n",
       "      <td>1199.0</td>\n",
       "      <td>(1161.0, 1713.0]</td>\n",
       "      <td>1199.0</td>\n",
       "      <td>(1161.0, 1713.0]</td>\n",
       "      <td>(895.4, 2497.0]</td>\n",
       "    </tr>\n",
       "    <tr>\n",
       "      <th>1</th>\n",
       "      <td>17_44219420</td>\n",
       "      <td>chr17</td>\n",
       "      <td>44219420</td>\n",
       "      <td>44219420</td>\n",
       "      <td>0.000000</td>\n",
       "      <td>0.000000</td>\n",
       "      <td>-1543.0</td>\n",
       "      <td>(-1711.0, -1126.0]</td>\n",
       "      <td>-1543.0</td>\n",
       "      <td>(-1711.0, -1126.0]</td>\n",
       "      <td>(-2499.001, -772.4]</td>\n",
       "    </tr>\n",
       "    <tr>\n",
       "      <th>2</th>\n",
       "      <td>16_86508563</td>\n",
       "      <td>chr16</td>\n",
       "      <td>86508563</td>\n",
       "      <td>86508563</td>\n",
       "      <td>NaN</td>\n",
       "      <td>NaN</td>\n",
       "      <td>-536.0</td>\n",
       "      <td>(-689.0, -359.0]</td>\n",
       "      <td>-536.0</td>\n",
       "      <td>(-689.0, -359.0]</td>\n",
       "      <td>(-772.4, -166.0]</td>\n",
       "    </tr>\n",
       "    <tr>\n",
       "      <th>3</th>\n",
       "      <td>5_129904728</td>\n",
       "      <td>chr5</td>\n",
       "      <td>129904728</td>\n",
       "      <td>129904728</td>\n",
       "      <td>0.000000</td>\n",
       "      <td>0.010872</td>\n",
       "      <td>256.0</td>\n",
       "      <td>(134.0, 407.0]</td>\n",
       "      <td>256.0</td>\n",
       "      <td>(134.0, 407.0]</td>\n",
       "      <td>(212.0, 895.4]</td>\n",
       "    </tr>\n",
       "    <tr>\n",
       "      <th>4</th>\n",
       "      <td>17_76240815</td>\n",
       "      <td>chr17</td>\n",
       "      <td>76240815</td>\n",
       "      <td>76240815</td>\n",
       "      <td>0.000000</td>\n",
       "      <td>0.000000</td>\n",
       "      <td>442.0</td>\n",
       "      <td>(407.0, 739.0]</td>\n",
       "      <td>442.0</td>\n",
       "      <td>(407.0, 739.0]</td>\n",
       "      <td>(212.0, 895.4]</td>\n",
       "    </tr>\n",
       "    <tr>\n",
       "      <th>...</th>\n",
       "      <td>...</td>\n",
       "      <td>...</td>\n",
       "      <td>...</td>\n",
       "      <td>...</td>\n",
       "      <td>...</td>\n",
       "      <td>...</td>\n",
       "      <td>...</td>\n",
       "      <td>...</td>\n",
       "      <td>...</td>\n",
       "      <td>...</td>\n",
       "      <td>...</td>\n",
       "    </tr>\n",
       "    <tr>\n",
       "      <th>12609</th>\n",
       "      <td>3_129003990</td>\n",
       "      <td>chr3</td>\n",
       "      <td>129003990</td>\n",
       "      <td>129003990</td>\n",
       "      <td>0.082900</td>\n",
       "      <td>0.115606</td>\n",
       "      <td>2361.0</td>\n",
       "      <td>(1713.0, 2499.0]</td>\n",
       "      <td>2361.0</td>\n",
       "      <td>(1713.0, 2499.0]</td>\n",
       "      <td>(895.4, 2497.0]</td>\n",
       "    </tr>\n",
       "    <tr>\n",
       "      <th>12610</th>\n",
       "      <td>19_33302626</td>\n",
       "      <td>chr19</td>\n",
       "      <td>33302626</td>\n",
       "      <td>33302626</td>\n",
       "      <td>0.000000</td>\n",
       "      <td>0.000000</td>\n",
       "      <td>62.0</td>\n",
       "      <td>(-97.0, 134.0]</td>\n",
       "      <td>62.0</td>\n",
       "      <td>(-97.0, 134.0]</td>\n",
       "      <td>(-166.0, 212.0]</td>\n",
       "    </tr>\n",
       "    <tr>\n",
       "      <th>12611</th>\n",
       "      <td>6_99589205</td>\n",
       "      <td>chr6</td>\n",
       "      <td>99589205</td>\n",
       "      <td>99589205</td>\n",
       "      <td>0.003335</td>\n",
       "      <td>0.000000</td>\n",
       "      <td>1594.0</td>\n",
       "      <td>(1161.0, 1713.0]</td>\n",
       "      <td>1594.0</td>\n",
       "      <td>(1161.0, 1713.0]</td>\n",
       "      <td>(895.4, 2497.0]</td>\n",
       "    </tr>\n",
       "    <tr>\n",
       "      <th>12612</th>\n",
       "      <td>10_26216735</td>\n",
       "      <td>chr10</td>\n",
       "      <td>26216735</td>\n",
       "      <td>26216735</td>\n",
       "      <td>NaN</td>\n",
       "      <td>NaN</td>\n",
       "      <td>428.0</td>\n",
       "      <td>(407.0, 739.0]</td>\n",
       "      <td>428.0</td>\n",
       "      <td>(407.0, 739.0]</td>\n",
       "      <td>(212.0, 895.4]</td>\n",
       "    </tr>\n",
       "    <tr>\n",
       "      <th>12613</th>\n",
       "      <td>2_46297225</td>\n",
       "      <td>chr2</td>\n",
       "      <td>46297225</td>\n",
       "      <td>46297225</td>\n",
       "      <td>0.000000</td>\n",
       "      <td>0.000000</td>\n",
       "      <td>-177.0</td>\n",
       "      <td>(-359.0, -97.0]</td>\n",
       "      <td>-177.0</td>\n",
       "      <td>(-359.0, -97.0]</td>\n",
       "      <td>(-772.4, -166.0]</td>\n",
       "    </tr>\n",
       "  </tbody>\n",
       "</table>\n",
       "<p>12614 rows × 11 columns</p>\n",
       "</div>"
      ],
      "text/plain": [
       "        Unnamed: 0    chr         b1         b2        by        bo     d_x  \\\n",
       "0         2_289495   chr2     289495     289495  0.014663  0.039999  1199.0   \n",
       "1      17_44219420  chr17   44219420   44219420  0.000000  0.000000 -1543.0   \n",
       "2      16_86508563  chr16   86508563   86508563       NaN       NaN  -536.0   \n",
       "3      5_129904728   chr5  129904728  129904728  0.000000  0.010872   256.0   \n",
       "4      17_76240815  chr17   76240815   76240815  0.000000  0.000000   442.0   \n",
       "...            ...    ...        ...        ...       ...       ...     ...   \n",
       "12609  3_129003990   chr3  129003990  129003990  0.082900  0.115606  2361.0   \n",
       "12610  19_33302626  chr19   33302626   33302626  0.000000  0.000000    62.0   \n",
       "12611   6_99589205   chr6   99589205   99589205  0.003335  0.000000  1594.0   \n",
       "12612  10_26216735  chr10   26216735   26216735       NaN       NaN   428.0   \n",
       "12613   2_46297225   chr2   46297225   46297225  0.000000  0.000000  -177.0   \n",
       "\n",
       "                     dq_x     d_y                dq_y                   dq  \n",
       "0        (1161.0, 1713.0]  1199.0    (1161.0, 1713.0]      (895.4, 2497.0]  \n",
       "1      (-1711.0, -1126.0] -1543.0  (-1711.0, -1126.0]  (-2499.001, -772.4]  \n",
       "2        (-689.0, -359.0]  -536.0    (-689.0, -359.0]     (-772.4, -166.0]  \n",
       "3          (134.0, 407.0]   256.0      (134.0, 407.0]       (212.0, 895.4]  \n",
       "4          (407.0, 739.0]   442.0      (407.0, 739.0]       (212.0, 895.4]  \n",
       "...                   ...     ...                 ...                  ...  \n",
       "12609    (1713.0, 2499.0]  2361.0    (1713.0, 2499.0]      (895.4, 2497.0]  \n",
       "12610      (-97.0, 134.0]    62.0      (-97.0, 134.0]      (-166.0, 212.0]  \n",
       "12611    (1161.0, 1713.0]  1594.0    (1161.0, 1713.0]      (895.4, 2497.0]  \n",
       "12612      (407.0, 739.0]   428.0      (407.0, 739.0]       (212.0, 895.4]  \n",
       "12613     (-359.0, -97.0]  -177.0     (-359.0, -97.0]     (-772.4, -166.0]  \n",
       "\n",
       "[12614 rows x 11 columns]"
      ]
     },
     "execution_count": 99,
     "metadata": {},
     "output_type": "execute_result"
    }
   ],
   "source": [
    "pd.read_csv('1')"
   ]
  }
 ],
 "metadata": {
  "kernelspec": {
   "display_name": "stem",
   "language": "python",
   "name": "stem"
  },
  "language_info": {
   "codemirror_mode": {
    "name": "ipython",
    "version": 3
   },
   "file_extension": ".py",
   "mimetype": "text/x-python",
   "name": "python",
   "nbconvert_exporter": "python",
   "pygments_lexer": "ipython3",
   "version": "3.9.2"
  }
 },
 "nbformat": 4,
 "nbformat_minor": 4
}
