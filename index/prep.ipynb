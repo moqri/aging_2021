{
 "cells": [
  {
   "cell_type": "code",
   "execution_count": 2,
   "metadata": {},
   "outputs": [],
   "source": [
    "import pandas as pd\n",
    "import numpy as np\n",
    "import util as u\n",
    "\n",
    "data='/labs/mpsnyder/moqri/data/index/'\n",
    "def get_tss():\n",
    "    ezh_h9='https://ftp.ncbi.nlm.nih.gov/geo/series/GSE76nnn/GSE76626/suppl/GSE76626_ChIP-Seq_RPM.txt.gz' ## hg38\n",
    "    tss=pd.read_table(ezh_h9,index_col=0,usecols=['Probe','Chromosome','Start','End','WT_EZH2','Strand'])\n",
    "    tss.columns=['chrom', 'chromStart', 'chromEnd','s','v']\n",
    "    tss=tss[(tss.chrom!='X') & (tss.chrom!='Y')]\n",
    "    tss=tss[tss.index.str.contains('001')]\n",
    "    tss=tss[~tss.index.str.contains('-AS')]\n",
    "    tss.index=tss.index.str.strip('-001_upstream')\n",
    "    print(tss.shape)\n",
    "    tss['d']=tss.chromEnd-tss.chromStart\n",
    "    tss['tss']=tss.chromStart+2500\n",
    "    tss['g']=tss.chrom.astype(int)*10**9+tss.tss\n",
    "    print(tss.d.sum()/1000000,'M')\n",
    "    tss.to_csv('files/tss38.csv')\n",
    "def h9_cpg():\n",
    "    v='38'\n",
    "    bw_url='http://smithdata.usc.edu/methbase/data/Xie-Human-2013/Human_H9/tracks_hg'+v+'/Human_H9.meth.bw'\n",
    "    df=u.bw2df(bw_url,tss)\n",
    "    df['g']=df.index.str.split('_').str[0].astype(int)*10**9+df.index.str.split('_').str[1].astype(int)\n",
    "    tssl=(tss.chrom.astype(int)*10**9+tss.tss).values\n",
    "    df['tss']=df.g.apply(lambda y:u.take_closest(tssl, y))\n",
    "    df['d']=df.g-df.tss\n",
    "    df['dq']=pd.qcut(df.d,11)\n",
    "    print(df.shape)\n",
    "    df.to_csv(data+'wg/cpgs.csv')    \n",
    "def get_flank():\n",
    "    df['ch']='chr'+df.index.str.split('_').str[0]\n",
    "    df['b']=df.index.str.split('_').str[1].astype(int)\n",
    "    df['b1']=df.b-1\n",
    "    df['b2']=df.b+3\n",
    "    df[['ch','b1','b2']].to_csv(data+'wg/flank_pos.bed',sep='\\t',header=None,index=None)\n",
    "    #!bedtools getfasta -fi ref/hg38.fa.masked -bed wg/flank_pos.bed -fo wg/flank.fasta\n",
    "    flank=pd.read_table(data+'wg/flank.fasta',header=None)\n",
    "    flank=flank[~flank[0].str.contains('chr')]\n",
    "    df['flank']=flank[0].values\n",
    "    flank.shape    "
   ]
  },
  {
   "cell_type": "code",
   "execution_count": 3,
   "metadata": {},
   "outputs": [],
   "source": [
    "man450='https://zhouserver.research.chop.edu/InfiniumAnnotation/20180909/HM450/HM450.hg38.manifest.tsv.gz'\n",
    "!wget -nc -q {man450}  -O \"{data}ref/man450.tsv.gz\"\n",
    "!gzip -d \"{data}ref/man450.tsv.gz\""
   ]
  },
  {
   "cell_type": "code",
   "execution_count": 4,
   "metadata": {},
   "outputs": [],
   "source": []
  },
  {
   "cell_type": "code",
   "execution_count": 2,
   "metadata": {},
   "outputs": [
    {
     "name": "stdout",
     "output_type": "stream",
     "text": [
      "(31335, 8)\n",
      "(929, 8)\n"
     ]
    }
   ],
   "source": [
    "tss=pd.read_csv('files/tss38.csv',index_col=0)\n",
    "print(tss.shape)\n",
    "ezh=tss[tss.v>1]\n",
    "print(ezh.shape)\n",
    "df=pd.read_csv(data+'wg/cpgs.csv',index_col=0)\n",
    "print(df.shape\n",
    "ezh['gene']=ezh.index\n",
    "ezh.index=ezh.g\n",
    "ezh=ezh.gene.to_dict()\n",
    "ezhs=ezh.keys()\n",
    "df['ezh']=df.tss.apply(lambda x:ezh[x] if x in ezhs else np.nan)\n",
    "df.to_csv(data+'wg/ann.csv')    "
   ]
  }
 ],
 "metadata": {
  "kernelspec": {
   "display_name": "stem",
   "language": "python",
   "name": "stem"
  },
  "language_info": {
   "codemirror_mode": {
    "name": "ipython",
    "version": 3
   },
   "file_extension": ".py",
   "mimetype": "text/x-python",
   "name": "python",
   "nbconvert_exporter": "python",
   "pygments_lexer": "ipython3",
   "version": "3.9.2"
  }
 },
 "nbformat": 4,
 "nbformat_minor": 4
}
