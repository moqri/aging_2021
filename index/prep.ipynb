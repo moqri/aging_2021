{
 "cells": [
  {
   "cell_type": "code",
   "execution_count": 1,
   "metadata": {},
   "outputs": [],
   "source": [
    "import pandas as pd\n",
    "import numpy as np\n",
    "import util as u\n",
    "\n",
    "data='/labs/mpsnyder/moqri/data/index/'"
   ]
  },
  {
   "cell_type": "code",
   "execution_count": 2,
   "metadata": {},
   "outputs": [
    {
     "name": "stderr",
     "output_type": "stream",
     "text": [
      "/home/moqri/anaconda3/envs/stem/lib/python3.9/site-packages/IPython/core/interactiveshell.py:3437: DtypeWarning: Columns (1) have mixed types.Specify dtype option on import or set low_memory=False.\n",
      "  exec(code_obj, self.user_global_ns, self.user_ns)\n"
     ]
    },
    {
     "name": "stdout",
     "output_type": "stream",
     "text": [
      "(31335, 5)\n",
      "156.675 M\n"
     ]
    }
   ],
   "source": [
    "## tss from ezh binding in h9\n",
    "ezh_h9='https://ftp.ncbi.nlm.nih.gov/geo/series/GSE76nnn/GSE76626/suppl/GSE76626_ChIP-Seq_RPM.txt.gz' ## hg38\n",
    "tss=pd.read_table(ezh_h9,index_col=0,usecols=['Probe','Chromosome','Start','End','WT_EZH2','Strand'])\n",
    "tss.columns=['chrom', 'chromStart', 'chromEnd','s','v']\n",
    "tss=tss[(tss.chrom!='X') & (tss.chrom!='Y')]\n",
    "tss=tss[tss.index.str.contains('001')]\n",
    "tss=tss[~tss.index.str.contains('-AS')]\n",
    "tss.index=tss.index.str.strip('-001_upstream')\n",
    "print(tss.shape)\n",
    "tss['d']=tss.chromEnd-tss.chromStart\n",
    "tss['tss']=tss.chromStart+2500\n",
    "tss['g']=tss.chrom.astype(int)*10**9+tss.tss\n",
    "print(tss.d.sum()/1000000,'M')\n",
    "tss.to_csv('files/tss38.csv')"
   ]
  },
  {
   "cell_type": "code",
   "execution_count": 3,
   "metadata": {},
   "outputs": [
    {
     "name": "stdout",
     "output_type": "stream",
     "text": [
      "1.1.1.1.1.1.1.1.1.1.1.1.1.1.2.2.2.2.2.2.2.2.2.2.2.3.3.3.3.3.3.3.4.4.4.4.4.4.4.5.5.5.5.5.5.5.5.6.6.6.6.6.6.6.6.7.7.7.7.7.7.7.8.8.8.8.8.8.8.9.9.9.9.9.10.10.10.10.10.10.11.11.11.11.11.11.11.11.11.11.12.12.12.12.12.12.12.12.12.13.13.13.14.14.14.14.14.14.15.15.15.15.15.15.16.16.16.16.16.16.16.16.17.17.17.17.17.17.17.17.17.17.18.18.18.18.19.19.19.19.19.19.19.19.19.19.20.20.20.20.21.21.22.22.22.22."
     ]
    },
    {
     "name": "stderr",
     "output_type": "stream",
     "text": [
      "/oak/stanford/scg/lab_mpsnyder/moqri/aging/index/util.py:38: FutureWarning: In a future version of pandas all arguments of DataFrame.drop except for the argument 'labels' will be keyword-only\n",
      "  df.drop([0,1],1,inplace=True)\n"
     ]
    },
    {
     "name": "stdout",
     "output_type": "stream",
     "text": [
      "(3153046, 1)\n"
     ]
    }
   ],
   "source": [
    "# cpg from h9 bw\n",
    "v='38'\n",
    "bw_url='http://smithdata.usc.edu/methbase/data/Xie-Human-2013/Human_H9/tracks_hg'+v+'/Human_H9.meth.bw'\n",
    "df=u.bw2df(bw_url,tss)"
   ]
  },
  {
   "cell_type": "code",
   "execution_count": 4,
   "metadata": {},
   "outputs": [
    {
     "name": "stdout",
     "output_type": "stream",
     "text": [
      "(3153046, 5)\n"
     ]
    }
   ],
   "source": [
    "df['g']=df.index.str.split('_').str[0].astype(int)*10**9+df.index.str.split('_').str[1].astype(int)\n",
    "tssl=(tss.chrom.astype(int)*10**9+tss.tss).values\n",
    "df['tss']=df.g.apply(lambda y:u.take_closest(tssl, y))\n",
    "df['d']=df.g-df.tss\n",
    "df['dq']=pd.qcut(df.d,11)\n",
    "print(df.shape)\n",
    "df.to_csv(data+'wg/cpgs.csv')"
   ]
  },
  {
   "cell_type": "code",
   "execution_count": null,
   "metadata": {},
   "outputs": [],
   "source": []
  }
 ],
 "metadata": {
  "kernelspec": {
   "display_name": "stem",
   "language": "python",
   "name": "stem"
  },
  "language_info": {
   "codemirror_mode": {
    "name": "ipython",
    "version": 3
   },
   "file_extension": ".py",
   "mimetype": "text/x-python",
   "name": "python",
   "nbconvert_exporter": "python",
   "pygments_lexer": "ipython3",
   "version": "3.9.2"
  }
 },
 "nbformat": 4,
 "nbformat_minor": 4
}
