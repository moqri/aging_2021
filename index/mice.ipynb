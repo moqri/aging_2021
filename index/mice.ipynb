{
 "cells": [
  {
   "cell_type": "code",
   "execution_count": 81,
   "metadata": {},
   "outputs": [],
   "source": [
    "import pandas as pd\n",
    "import glob\n",
    "import pyBigWig\n",
    "import seaborn as sns\n",
    "data='/labs/mpsnyder/moqri/data/index/mice/'\n",
    "mm_='http://hgdownload.soe.ucsc.edu/goldenPath/mm10/bigZips/mm10.chromAlias.txt'\n",
    "ez_='https://ftp.ncbi.nlm.nih.gov/geo/series/GSE94nnn/GSE94300/suppl/GSE94300_E14Ezh2_MAnorm_unbiased.bed.gz'\n",
    "h_='http://smithdata.usc.edu/methbase/data/Stadler-Mouse-2011/Mouse_ESC/tracks_mm10/Mouse_ESC.meth.bw'\n",
    "meta_='https://ftp.ncbi.nlm.nih.gov/geo/series/GSE80nnn/GSE80672/matrix/GSE80672_series_matrix.txt.gz'\n",
    "all_files = glob.glob(data + \"*.gz\")\n",
    "def get_m():\n",
    "    li = []\n",
    "    for f in all_files:\n",
    "        gsm=f.split('GSM')[1].split('_')[0]\n",
    "        if gsm in meta.gsm.tolist():\n",
    "            print('',end='-')\n",
    "            df= pd.read_table(f, index_col=None, header=0, usecols=[1])\n",
    "            df.columns=[gsm]\n",
    "            li.append(df)\n",
    "    df = pd.concat(li, axis=1)\n",
    "    return df"
   ]
  },
  {
   "cell_type": "code",
   "execution_count": 82,
   "metadata": {},
   "outputs": [
    {
     "name": "stdout",
     "output_type": "stream",
     "text": [
      "---------------------------------------------------------------------------------------------------------------------------------------------------------------------------------------------------"
     ]
    }
   ],
   "source": [
    "m2df():\n",
    "    df=get_m()\n",
    "    m = pd.read_table(all_files[0], index_col=None, header=0)\n",
    "    m.columns=['i','p','c']\n",
    "    m['m_ch']=m.i.str.split('|').str[3]\n",
    "    m['pos']=m.i.str.split('|').str[4].str.strip(':').astype(int)\n",
    "    ma=m.merge(mm[['ch']],left_on='m_ch',right_index=True)\n",
    "    ma.shape\n",
    "    ma['ch']=pd.to_numeric(ma.ch,errors='coerce')\n",
    "    ma=ma.loc[ma.ch.dropna().index]\n",
    "    ma['ch']=ma.ch.astype(int)\n",
    "    df=df.loc[ma.index]\n",
    "    ma.index=ma.ch.astype(str)+'_'+ma.pos.astype(str)\n",
    "    df.index=ma.index.values\n",
    "    df.to_csv('all.csv')"
   ]
  },
  {
   "cell_type": "code",
   "execution_count": 85,
   "metadata": {},
   "outputs": [],
   "source": [
    "df=pd.read_csv(data+'all.csv',index_col=0)"
   ]
  },
  {
   "cell_type": "code",
   "execution_count": 153,
   "metadata": {},
   "outputs": [
    {
     "data": {
      "text/plain": [
       "(1940728, 195)"
      ]
     },
     "execution_count": 153,
     "metadata": {},
     "output_type": "execute_result"
    }
   ],
   "source": [
    "df.shape"
   ]
  },
  {
   "cell_type": "code",
   "execution_count": 3,
   "metadata": {},
   "outputs": [
    {
     "name": "stdout",
     "output_type": "stream",
     "text": [
      "1471976\n"
     ]
    },
    {
     "data": {
      "text/plain": [
       "(245955,)"
      ]
     },
     "execution_count": 3,
     "metadata": {},
     "output_type": "execute_result"
    }
   ],
   "source": [
    "h=pyBigWig.open(h_)\n",
    "h1=h.intervals(\"chr\"+str(1))\n",
    "print(len(h1))\n",
    "h1=pd.DataFrame(h1)\n",
    "h1.index=h1[1]\n",
    "h1=h1[2]\n",
    "h1l=h1[h1<.5]\n",
    "h1l.shape"
   ]
  },
  {
   "cell_type": "code",
   "execution_count": 6,
   "metadata": {},
   "outputs": [
    {
     "data": {
      "text/plain": [
       "(66, 3)"
      ]
     },
     "execution_count": 6,
     "metadata": {},
     "output_type": "execute_result"
    }
   ],
   "source": [
    "mm=pd.read_table(mm_,index_col=1)\n",
    "mm.shape"
   ]
  },
  {
   "cell_type": "code",
   "execution_count": 7,
   "metadata": {},
   "outputs": [
    {
     "data": {
      "text/html": [
       "<div>\n",
       "<style scoped>\n",
       "    .dataframe tbody tr th:only-of-type {\n",
       "        vertical-align: middle;\n",
       "    }\n",
       "\n",
       "    .dataframe tbody tr th {\n",
       "        vertical-align: top;\n",
       "    }\n",
       "\n",
       "    .dataframe thead th {\n",
       "        text-align: right;\n",
       "    }\n",
       "</style>\n",
       "<table border=\"1\" class=\"dataframe\">\n",
       "  <thead>\n",
       "    <tr style=\"text-align: right;\">\n",
       "      <th></th>\n",
       "      <th></th>\n",
       "      <th></th>\n",
       "      <th>ch</th>\n",
       "    </tr>\n",
       "  </thead>\n",
       "  <tbody>\n",
       "    <tr>\n",
       "      <th>NC_000067.6</th>\n",
       "      <td>chr1</td>\n",
       "      <td>CM000994.2</td>\n",
       "      <td>1</td>\n",
       "    </tr>\n",
       "  </tbody>\n",
       "</table>\n",
       "</div>"
      ],
      "text/plain": [
       "                              ch\n",
       "NC_000067.6  chr1  CM000994.2  1"
      ]
     },
     "execution_count": 7,
     "metadata": {},
     "output_type": "execute_result"
    }
   ],
   "source": [
    "mm.columns=['','','ch']\n",
    "mm.head(1)"
   ]
  },
  {
   "cell_type": "code",
   "execution_count": 8,
   "metadata": {},
   "outputs": [],
   "source": [
    "meta=pd.read_table(meta_,skiprows=34,header=None).T"
   ]
  },
  {
   "cell_type": "code",
   "execution_count": 9,
   "metadata": {},
   "outputs": [],
   "source": [
    "meta=meta[meta[5]=='Whole Blood']"
   ]
  },
  {
   "cell_type": "code",
   "execution_count": 10,
   "metadata": {},
   "outputs": [],
   "source": [
    "meta=meta[meta[11]=='genetic condition: Wild Type']\n",
    "meta['gsm']=meta[46].str[3:]\n",
    "meta['age']=meta[9].str.strip('age (years): ').astype(float)\n",
    "meta.index=meta.gsm"
   ]
  },
  {
   "cell_type": "code",
   "execution_count": 35,
   "metadata": {},
   "outputs": [
    {
     "name": "stdout",
     "output_type": "stream",
     "text": [
      "(7213, 3)\n",
      "462,526102-687,899107-337,395428-455,508115-474,596826-400,520490-438,488638-400,473660-374,426816-293,335768-536,651924-332,389072-351,426337-286,369904-320,377446-155,193966-266,307134-252,284005-227,286329-"
     ]
    }
   ],
   "source": [
    "ezs=[]\n",
    "ez=pd.read_table(ez_,header=None)\n",
    "ez.columns=['chrom', 'chromStart', 'chromEnd']\n",
    "print(ez.shape)\n",
    "for ch in range(1,20):\n",
    "    ezc=ez[ez['chrom']=='chr'+str(ch)]\n",
    "    print(len(ezc),end=',')\n",
    "    ezc['r']=ezc.apply(lambda x:range(x['chromStart'],x['chromEnd']),1)\n",
    "    ezc=ezc['r'].tolist()\n",
    "    ezc=set([item for sublist in ezc for item in sublist])   \n",
    "    print(len(ezc),end='-')\n",
    "    for b in ezc:\n",
    "        ezs.append([ch,b])\n",
    "ezs=pd.DataFrame(ezs)        "
   ]
  },
  {
   "cell_type": "code",
   "execution_count": 36,
   "metadata": {},
   "outputs": [],
   "source": [
    "#ezs['ch']=ezs.ch.astype(int)\n",
    "ezs.columns=['ch','pos']\n",
    "ezs['ez']=True"
   ]
  },
  {
   "cell_type": "code",
   "execution_count": null,
   "metadata": {},
   "outputs": [],
   "source": [
    "ezs.index=ezs.ch.astype(str)+'_'+ezs.pos.astype(str)"
   ]
  },
  {
   "cell_type": "code",
   "execution_count": 201,
   "metadata": {},
   "outputs": [],
   "source": [
    "pl=df[df.index.isin(ezs.index)].mean()"
   ]
  },
  {
   "cell_type": "code",
   "execution_count": null,
   "metadata": {},
   "outputs": [],
   "source": []
  },
  {
   "cell_type": "code",
   "execution_count": null,
   "metadata": {},
   "outputs": [],
   "source": []
  },
  {
   "cell_type": "code",
   "execution_count": 123,
   "metadata": {},
   "outputs": [
    {
     "data": {
      "text/plain": [
       "(1940728, 8)"
      ]
     },
     "execution_count": 123,
     "metadata": {},
     "output_type": "execute_result"
    }
   ],
   "source": [
    "me=ma.merge(ezs,left_on=['ch','pos'],right_on=['ch','pos'],how='left')\n",
    "me.shape"
   ]
  },
  {
   "cell_type": "code",
   "execution_count": 41,
   "metadata": {},
   "outputs": [],
   "source": [
    "#mh=me[me.pos.isin(h1.index)]"
   ]
  },
  {
   "cell_type": "code",
   "execution_count": 131,
   "metadata": {},
   "outputs": [
    {
     "data": {
      "text/plain": [
       "<function chr(i, /)>"
      ]
     },
     "execution_count": 131,
     "metadata": {},
     "output_type": "execute_result"
    }
   ],
   "source": [
    "cc=1"
   ]
  },
  {
   "cell_type": "code",
   "execution_count": 125,
   "metadata": {},
   "outputs": [],
   "source": [
    "mez=me[me.pos.isin(ezs.pos)]"
   ]
  },
  {
   "cell_type": "code",
   "execution_count": 227,
   "metadata": {},
   "outputs": [
    {
     "data": {
      "text/html": [
       "<div>\n",
       "<style scoped>\n",
       "    .dataframe tbody tr th:only-of-type {\n",
       "        vertical-align: middle;\n",
       "    }\n",
       "\n",
       "    .dataframe tbody tr th {\n",
       "        vertical-align: top;\n",
       "    }\n",
       "\n",
       "    .dataframe thead th {\n",
       "        text-align: right;\n",
       "    }\n",
       "</style>\n",
       "<table border=\"1\" class=\"dataframe\">\n",
       "  <thead>\n",
       "    <tr style=\"text-align: right;\">\n",
       "      <th></th>\n",
       "      <th>2132715</th>\n",
       "      <th>2132824</th>\n",
       "      <th>2132721</th>\n",
       "      <th>2132935</th>\n",
       "      <th>2132748</th>\n",
       "      <th>2132754</th>\n",
       "      <th>2132846</th>\n",
       "      <th>2132850</th>\n",
       "      <th>2132884</th>\n",
       "      <th>2132752</th>\n",
       "      <th>...</th>\n",
       "      <th>2132729</th>\n",
       "      <th>2132851</th>\n",
       "      <th>2132951</th>\n",
       "      <th>2132866</th>\n",
       "      <th>2132949</th>\n",
       "      <th>2132856</th>\n",
       "      <th>2132938</th>\n",
       "      <th>2132860</th>\n",
       "      <th>2132831</th>\n",
       "      <th>2132840</th>\n",
       "    </tr>\n",
       "  </thead>\n",
       "  <tbody>\n",
       "    <tr>\n",
       "      <th>19_10017878</th>\n",
       "      <td>30.434783</td>\n",
       "      <td>33.333333</td>\n",
       "      <td>43.75</td>\n",
       "      <td>44.444444</td>\n",
       "      <td>33.333333</td>\n",
       "      <td>61.111111</td>\n",
       "      <td>46.153846</td>\n",
       "      <td>75.000000</td>\n",
       "      <td>33.333333</td>\n",
       "      <td>40.000000</td>\n",
       "      <td>...</td>\n",
       "      <td>60.000000</td>\n",
       "      <td>55.000000</td>\n",
       "      <td>47.058824</td>\n",
       "      <td>35.294118</td>\n",
       "      <td>52.631579</td>\n",
       "      <td>47.058824</td>\n",
       "      <td>42.857143</td>\n",
       "      <td>23.529412</td>\n",
       "      <td>28.571429</td>\n",
       "      <td>18.181818</td>\n",
       "    </tr>\n",
       "    <tr>\n",
       "      <th>19_10017946</th>\n",
       "      <td>17.391304</td>\n",
       "      <td>16.666667</td>\n",
       "      <td>43.75</td>\n",
       "      <td>50.000000</td>\n",
       "      <td>55.555556</td>\n",
       "      <td>55.555556</td>\n",
       "      <td>61.538462</td>\n",
       "      <td>65.000000</td>\n",
       "      <td>44.444444</td>\n",
       "      <td>50.000000</td>\n",
       "      <td>...</td>\n",
       "      <td>40.000000</td>\n",
       "      <td>30.000000</td>\n",
       "      <td>64.705882</td>\n",
       "      <td>64.705882</td>\n",
       "      <td>52.631579</td>\n",
       "      <td>35.294118</td>\n",
       "      <td>42.857143</td>\n",
       "      <td>43.750000</td>\n",
       "      <td>42.857143</td>\n",
       "      <td>45.454545</td>\n",
       "    </tr>\n",
       "    <tr>\n",
       "      <th>19_10018078</th>\n",
       "      <td>0.000000</td>\n",
       "      <td>0.000000</td>\n",
       "      <td>6.25</td>\n",
       "      <td>11.111111</td>\n",
       "      <td>11.111111</td>\n",
       "      <td>0.000000</td>\n",
       "      <td>0.000000</td>\n",
       "      <td>0.000000</td>\n",
       "      <td>0.000000</td>\n",
       "      <td>0.000000</td>\n",
       "      <td>...</td>\n",
       "      <td>10.000000</td>\n",
       "      <td>5.263158</td>\n",
       "      <td>5.882353</td>\n",
       "      <td>0.000000</td>\n",
       "      <td>0.000000</td>\n",
       "      <td>0.000000</td>\n",
       "      <td>0.000000</td>\n",
       "      <td>0.000000</td>\n",
       "      <td>14.285714</td>\n",
       "      <td>0.000000</td>\n",
       "    </tr>\n",
       "    <tr>\n",
       "      <th>19_10018090</th>\n",
       "      <td>0.000000</td>\n",
       "      <td>0.000000</td>\n",
       "      <td>0.00</td>\n",
       "      <td>5.555556</td>\n",
       "      <td>0.000000</td>\n",
       "      <td>0.000000</td>\n",
       "      <td>0.000000</td>\n",
       "      <td>0.000000</td>\n",
       "      <td>0.000000</td>\n",
       "      <td>0.000000</td>\n",
       "      <td>...</td>\n",
       "      <td>10.000000</td>\n",
       "      <td>10.000000</td>\n",
       "      <td>5.882353</td>\n",
       "      <td>0.000000</td>\n",
       "      <td>0.000000</td>\n",
       "      <td>0.000000</td>\n",
       "      <td>0.000000</td>\n",
       "      <td>6.250000</td>\n",
       "      <td>7.142857</td>\n",
       "      <td>0.000000</td>\n",
       "    </tr>\n",
       "    <tr>\n",
       "      <th>19_10018131</th>\n",
       "      <td>0.000000</td>\n",
       "      <td>0.000000</td>\n",
       "      <td>0.00</td>\n",
       "      <td>5.555556</td>\n",
       "      <td>5.555556</td>\n",
       "      <td>5.555556</td>\n",
       "      <td>0.000000</td>\n",
       "      <td>15.000000</td>\n",
       "      <td>0.000000</td>\n",
       "      <td>0.000000</td>\n",
       "      <td>...</td>\n",
       "      <td>0.000000</td>\n",
       "      <td>35.000000</td>\n",
       "      <td>5.882353</td>\n",
       "      <td>0.000000</td>\n",
       "      <td>5.263158</td>\n",
       "      <td>0.000000</td>\n",
       "      <td>0.000000</td>\n",
       "      <td>0.000000</td>\n",
       "      <td>7.142857</td>\n",
       "      <td>9.090909</td>\n",
       "    </tr>\n",
       "    <tr>\n",
       "      <th>...</th>\n",
       "      <td>...</td>\n",
       "      <td>...</td>\n",
       "      <td>...</td>\n",
       "      <td>...</td>\n",
       "      <td>...</td>\n",
       "      <td>...</td>\n",
       "      <td>...</td>\n",
       "      <td>...</td>\n",
       "      <td>...</td>\n",
       "      <td>...</td>\n",
       "      <td>...</td>\n",
       "      <td>...</td>\n",
       "      <td>...</td>\n",
       "      <td>...</td>\n",
       "      <td>...</td>\n",
       "      <td>...</td>\n",
       "      <td>...</td>\n",
       "      <td>...</td>\n",
       "      <td>...</td>\n",
       "      <td>...</td>\n",
       "      <td>...</td>\n",
       "    </tr>\n",
       "    <tr>\n",
       "      <th>1_9998835</th>\n",
       "      <td>97.916667</td>\n",
       "      <td>100.000000</td>\n",
       "      <td>100.00</td>\n",
       "      <td>100.000000</td>\n",
       "      <td>97.500000</td>\n",
       "      <td>78.571429</td>\n",
       "      <td>100.000000</td>\n",
       "      <td>100.000000</td>\n",
       "      <td>84.615385</td>\n",
       "      <td>100.000000</td>\n",
       "      <td>...</td>\n",
       "      <td>100.000000</td>\n",
       "      <td>96.000000</td>\n",
       "      <td>100.000000</td>\n",
       "      <td>100.000000</td>\n",
       "      <td>98.245614</td>\n",
       "      <td>96.000000</td>\n",
       "      <td>100.000000</td>\n",
       "      <td>100.000000</td>\n",
       "      <td>100.000000</td>\n",
       "      <td>100.000000</td>\n",
       "    </tr>\n",
       "    <tr>\n",
       "      <th>1_9998954</th>\n",
       "      <td>96.581197</td>\n",
       "      <td>83.333333</td>\n",
       "      <td>100.00</td>\n",
       "      <td>100.000000</td>\n",
       "      <td>97.222222</td>\n",
       "      <td>93.750000</td>\n",
       "      <td>100.000000</td>\n",
       "      <td>95.555556</td>\n",
       "      <td>100.000000</td>\n",
       "      <td>94.444444</td>\n",
       "      <td>...</td>\n",
       "      <td>97.435897</td>\n",
       "      <td>91.666667</td>\n",
       "      <td>100.000000</td>\n",
       "      <td>100.000000</td>\n",
       "      <td>100.000000</td>\n",
       "      <td>100.000000</td>\n",
       "      <td>100.000000</td>\n",
       "      <td>96.296296</td>\n",
       "      <td>100.000000</td>\n",
       "      <td>92.000000</td>\n",
       "    </tr>\n",
       "    <tr>\n",
       "      <th>1_9998955</th>\n",
       "      <td>100.000000</td>\n",
       "      <td>75.000000</td>\n",
       "      <td>100.00</td>\n",
       "      <td>97.142857</td>\n",
       "      <td>92.500000</td>\n",
       "      <td>100.000000</td>\n",
       "      <td>100.000000</td>\n",
       "      <td>100.000000</td>\n",
       "      <td>92.307692</td>\n",
       "      <td>100.000000</td>\n",
       "      <td>...</td>\n",
       "      <td>100.000000</td>\n",
       "      <td>100.000000</td>\n",
       "      <td>100.000000</td>\n",
       "      <td>100.000000</td>\n",
       "      <td>92.982456</td>\n",
       "      <td>96.000000</td>\n",
       "      <td>100.000000</td>\n",
       "      <td>100.000000</td>\n",
       "      <td>90.000000</td>\n",
       "      <td>93.939394</td>\n",
       "    </tr>\n",
       "    <tr>\n",
       "      <th>1_9998971</th>\n",
       "      <td>0.854701</td>\n",
       "      <td>8.333333</td>\n",
       "      <td>0.00</td>\n",
       "      <td>5.405405</td>\n",
       "      <td>2.777778</td>\n",
       "      <td>0.000000</td>\n",
       "      <td>16.666667</td>\n",
       "      <td>2.222222</td>\n",
       "      <td>0.000000</td>\n",
       "      <td>0.000000</td>\n",
       "      <td>...</td>\n",
       "      <td>5.128205</td>\n",
       "      <td>4.166667</td>\n",
       "      <td>2.777778</td>\n",
       "      <td>0.000000</td>\n",
       "      <td>3.225806</td>\n",
       "      <td>9.090909</td>\n",
       "      <td>4.000000</td>\n",
       "      <td>11.111111</td>\n",
       "      <td>15.151515</td>\n",
       "      <td>0.000000</td>\n",
       "    </tr>\n",
       "    <tr>\n",
       "      <th>1_9998972</th>\n",
       "      <td>91.666667</td>\n",
       "      <td>100.000000</td>\n",
       "      <td>100.00</td>\n",
       "      <td>100.000000</td>\n",
       "      <td>100.000000</td>\n",
       "      <td>100.000000</td>\n",
       "      <td>100.000000</td>\n",
       "      <td>92.307692</td>\n",
       "      <td>96.153846</td>\n",
       "      <td>100.000000</td>\n",
       "      <td>...</td>\n",
       "      <td>100.000000</td>\n",
       "      <td>92.307692</td>\n",
       "      <td>100.000000</td>\n",
       "      <td>100.000000</td>\n",
       "      <td>98.245614</td>\n",
       "      <td>100.000000</td>\n",
       "      <td>100.000000</td>\n",
       "      <td>95.000000</td>\n",
       "      <td>100.000000</td>\n",
       "      <td>100.000000</td>\n",
       "    </tr>\n",
       "  </tbody>\n",
       "</table>\n",
       "<p>1940728 rows × 195 columns</p>\n",
       "</div>"
      ],
      "text/plain": [
       "                2132715     2132824  2132721     2132935     2132748  \\\n",
       "19_10017878   30.434783   33.333333    43.75   44.444444   33.333333   \n",
       "19_10017946   17.391304   16.666667    43.75   50.000000   55.555556   \n",
       "19_10018078    0.000000    0.000000     6.25   11.111111   11.111111   \n",
       "19_10018090    0.000000    0.000000     0.00    5.555556    0.000000   \n",
       "19_10018131    0.000000    0.000000     0.00    5.555556    5.555556   \n",
       "...                 ...         ...      ...         ...         ...   \n",
       "1_9998835     97.916667  100.000000   100.00  100.000000   97.500000   \n",
       "1_9998954     96.581197   83.333333   100.00  100.000000   97.222222   \n",
       "1_9998955    100.000000   75.000000   100.00   97.142857   92.500000   \n",
       "1_9998971      0.854701    8.333333     0.00    5.405405    2.777778   \n",
       "1_9998972     91.666667  100.000000   100.00  100.000000  100.000000   \n",
       "\n",
       "                2132754     2132846     2132850     2132884     2132752  ...  \\\n",
       "19_10017878   61.111111   46.153846   75.000000   33.333333   40.000000  ...   \n",
       "19_10017946   55.555556   61.538462   65.000000   44.444444   50.000000  ...   \n",
       "19_10018078    0.000000    0.000000    0.000000    0.000000    0.000000  ...   \n",
       "19_10018090    0.000000    0.000000    0.000000    0.000000    0.000000  ...   \n",
       "19_10018131    5.555556    0.000000   15.000000    0.000000    0.000000  ...   \n",
       "...                 ...         ...         ...         ...         ...  ...   \n",
       "1_9998835     78.571429  100.000000  100.000000   84.615385  100.000000  ...   \n",
       "1_9998954     93.750000  100.000000   95.555556  100.000000   94.444444  ...   \n",
       "1_9998955    100.000000  100.000000  100.000000   92.307692  100.000000  ...   \n",
       "1_9998971      0.000000   16.666667    2.222222    0.000000    0.000000  ...   \n",
       "1_9998972    100.000000  100.000000   92.307692   96.153846  100.000000  ...   \n",
       "\n",
       "                2132729     2132851     2132951     2132866     2132949  \\\n",
       "19_10017878   60.000000   55.000000   47.058824   35.294118   52.631579   \n",
       "19_10017946   40.000000   30.000000   64.705882   64.705882   52.631579   \n",
       "19_10018078   10.000000    5.263158    5.882353    0.000000    0.000000   \n",
       "19_10018090   10.000000   10.000000    5.882353    0.000000    0.000000   \n",
       "19_10018131    0.000000   35.000000    5.882353    0.000000    5.263158   \n",
       "...                 ...         ...         ...         ...         ...   \n",
       "1_9998835    100.000000   96.000000  100.000000  100.000000   98.245614   \n",
       "1_9998954     97.435897   91.666667  100.000000  100.000000  100.000000   \n",
       "1_9998955    100.000000  100.000000  100.000000  100.000000   92.982456   \n",
       "1_9998971      5.128205    4.166667    2.777778    0.000000    3.225806   \n",
       "1_9998972    100.000000   92.307692  100.000000  100.000000   98.245614   \n",
       "\n",
       "                2132856     2132938     2132860     2132831     2132840  \n",
       "19_10017878   47.058824   42.857143   23.529412   28.571429   18.181818  \n",
       "19_10017946   35.294118   42.857143   43.750000   42.857143   45.454545  \n",
       "19_10018078    0.000000    0.000000    0.000000   14.285714    0.000000  \n",
       "19_10018090    0.000000    0.000000    6.250000    7.142857    0.000000  \n",
       "19_10018131    0.000000    0.000000    0.000000    7.142857    9.090909  \n",
       "...                 ...         ...         ...         ...         ...  \n",
       "1_9998835     96.000000  100.000000  100.000000  100.000000  100.000000  \n",
       "1_9998954    100.000000  100.000000   96.296296  100.000000   92.000000  \n",
       "1_9998955     96.000000  100.000000  100.000000   90.000000   93.939394  \n",
       "1_9998971      9.090909    4.000000   11.111111   15.151515    0.000000  \n",
       "1_9998972    100.000000  100.000000   95.000000  100.000000  100.000000  \n",
       "\n",
       "[1940728 rows x 195 columns]"
      ]
     },
     "execution_count": 227,
     "metadata": {},
     "output_type": "execute_result"
    }
   ],
   "source": [
    "df"
   ]
  },
  {
   "cell_type": "code",
   "execution_count": 229,
   "metadata": {},
   "outputs": [
    {
     "name": "stdout",
     "output_type": "stream",
     "text": [
      "(312210, 195)\n"
     ]
    }
   ],
   "source": [
    "pl=df[(df[['2132713','2132824']].mean(1)<20)&(df.index.isin(ezs.index))]\n",
    "print(pl.shape)\n",
    "pl=pl.mean()"
   ]
  },
  {
   "cell_type": "code",
   "execution_count": 230,
   "metadata": {},
   "outputs": [
    {
     "name": "stderr",
     "output_type": "stream",
     "text": [
      "<ipython-input-230-6f7bc5e71c3f>:1: FutureWarning: In a future version of pandas all arguments of concat except for the argument 'objs' will be keyword-only\n",
      "  dg=pd.concat([pl,meta[[12,'age']].loc[df.columns]],1)\n"
     ]
    },
    {
     "data": {
      "text/plain": [
       "<AxesSubplot:xlabel='age', ylabel='0'>"
      ]
     },
     "execution_count": 230,
     "metadata": {},
     "output_type": "execute_result"
    },
    {
     "data": {
      "image/png": "[encoded data removed]",
      "text/plain": [
       "<Figure size 432x288 with 1 Axes>"
      ]
     },
     "metadata": {
      "needs_background": "light"
     },
     "output_type": "display_data"
    }
   ],
   "source": [
    "dg=pd.concat([pl,meta[[12,'age']].loc[df.columns]],1)\n",
    "sns.scatterplot(data=dg,x='age',y=0,hue=12)"
   ]
  },
  {
   "cell_type": "code",
   "execution_count": 232,
   "metadata": {},
   "outputs": [
    {
     "name": "stdout",
     "output_type": "stream",
     "text": [
      "(605107, 195)\n"
     ]
    }
   ],
   "source": [
    "pl=df[df[['2132713','2132824']].mean(1)>60]\n",
    "print(pl.shape)\n",
    "pl=pl.mean()"
   ]
  },
  {
   "cell_type": "code",
   "execution_count": 233,
   "metadata": {},
   "outputs": [
    {
     "name": "stderr",
     "output_type": "stream",
     "text": [
      "<ipython-input-233-6f7bc5e71c3f>:1: FutureWarning: In a future version of pandas all arguments of concat except for the argument 'objs' will be keyword-only\n",
      "  dg=pd.concat([pl,meta[[12,'age']].loc[df.columns]],1)\n"
     ]
    },
    {
     "data": {
      "text/plain": [
       "<AxesSubplot:xlabel='age', ylabel='0'>"
      ]
     },
     "execution_count": 233,
     "metadata": {},
     "output_type": "execute_result"
    },
    {
     "data": {
      "image/png": "[encoded data removed]",
      "text/plain": [
       "<Figure size 432x288 with 1 Axes>"
      ]
     },
     "metadata": {
      "needs_background": "light"
     },
     "output_type": "display_data"
    }
   ],
   "source": [
    "dg=pd.concat([pl,meta[[12,'age']].loc[df.columns]],1)\n",
    "sns.scatterplot(data=dg,x='age',y=0,hue=12)"
   ]
  },
  {
   "cell_type": "code",
   "execution_count": 97,
   "metadata": {},
   "outputs": [
    {
     "data": {
      "text/html": [
       "<div>\n",
       "<style scoped>\n",
       "    .dataframe tbody tr th:only-of-type {\n",
       "        vertical-align: middle;\n",
       "    }\n",
       "\n",
       "    .dataframe tbody tr th {\n",
       "        vertical-align: top;\n",
       "    }\n",
       "\n",
       "    .dataframe thead th {\n",
       "        text-align: right;\n",
       "    }\n",
       "</style>\n",
       "<table border=\"1\" class=\"dataframe\">\n",
       "  <thead>\n",
       "    <tr style=\"text-align: right;\">\n",
       "      <th></th>\n",
       "      <th>0</th>\n",
       "      <th>age</th>\n",
       "    </tr>\n",
       "  </thead>\n",
       "  <tbody>\n",
       "    <tr>\n",
       "      <th>0</th>\n",
       "      <td>1.000000</td>\n",
       "      <td>-0.077043</td>\n",
       "    </tr>\n",
       "    <tr>\n",
       "      <th>age</th>\n",
       "      <td>-0.077043</td>\n",
       "      <td>1.000000</td>\n",
       "    </tr>\n",
       "  </tbody>\n",
       "</table>\n",
       "</div>"
      ],
      "text/plain": [
       "            0       age\n",
       "0    1.000000 -0.077043\n",
       "age -0.077043  1.000000"
      ]
     },
     "execution_count": 97,
     "metadata": {},
     "output_type": "execute_result"
    }
   ],
   "source": [
    "dg.corr()"
   ]
  },
  {
   "cell_type": "code",
   "execution_count": null,
   "metadata": {},
   "outputs": [],
   "source": []
  }
 ],
 "metadata": {
  "kernelspec": {
   "display_name": "stem",
   "language": "python",
   "name": "stem"
  },
  "language_info": {
   "codemirror_mode": {
    "name": "ipython",
    "version": 3
   },
   "file_extension": ".py",
   "mimetype": "text/x-python",
   "name": "python",
   "nbconvert_exporter": "python",
   "pygments_lexer": "ipython3",
   "version": "3.9.2"
  }
 },
 "nbformat": 4,
 "nbformat_minor": 4
}
