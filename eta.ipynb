{
 "cells": [
  {
   "cell_type": "code",
   "execution_count": 1,
   "metadata": {},
   "outputs": [],
   "source": [
    "import pandas as pd\n",
    "import seaborn as sn\n",
    "import numpy as np\n",
    "data='/oak/stanford/groups/smontgom/moqri/data/meth/'\n",
    "data_rna='/oak/stanford/groups/smontgom/moqri/data/rna/'\n",
    "sperm450='https://ftp.ncbi.nlm.nih.gov/geo/series/GSE139nnn/GSE139307/matrix/GSE139307_series_matrix.txt.gz'\n",
    "hsc_file='https://ftp.ncbi.nlm.nih.gov/geo/series/GSE31nnn/GSE31848/matrix/GSE31848_series_matrix.txt.gz'\n",
    "hsc2_file='https://ftp.ncbi.nlm.nih.gov/geo/series/GSE59nnn/GSE59091/matrix/GSE59091_series_matrix.txt.gz'\n",
    "liver_file='https://ftp.ncbi.nlm.nih.gov/geo/series/GSE48nnn/GSE48325/matrix/GSE48325_series_matrix.txt.gz'\n",
    "wb_file='https://ftp.ncbi.nlm.nih.gov/geo/series/GSE40nnn/GSE40279/matrix/GSE40279_series_matrix.txt.gz'\n",
    "t_file='https://ftp.ncbi.nlm.nih.gov/geo/series/GSE56nnn/GSE56581/suppl/GSE56581_methylome_normalized.txt.gz'\n",
    "t_meta='https://ftp.ncbi.nlm.nih.gov/geo/series/GSE56nnn/GSE56581/matrix/GSE56581_series_matrix.txt.gz'\n",
    "m_file='https://ftp.ncbi.nlm.nih.gov/geo/series/GSE56nnn/GSE56046/suppl/GSE56046_methylome_normalized.txt.gz'\n",
    "m_meta='https://ftp.ncbi.nlm.nih.gov/geo/series/GSE56nnn/GSE56046/matrix/GSE56046_series_matrix.txt.gz'\n",
    "buc_file='https://ftp.ncbi.nlm.nih.gov/geo/series/GSE137nnn/GSE137503/matrix/GSE137503-GPL13534_series_matrix.txt.gz'\n",
    "mus_file='https://ftp.ncbi.nlm.nih.gov/geo/series/GSE50nnn/GSE50498/matrix/GSE50498_series_matrix.txt.gz'\n",
    "hsc_rna_file='https://ftp.ncbi.nlm.nih.gov/geo/series/GSE73nnn/GSE73211/suppl/GSE73211_nonisogenic.TPM.txt.gz'\n",
    "hsc_rna_meta='https://ftp.ncbi.nlm.nih.gov/geo/series/GSE73nnn/GSE73211/matrix/GSE73211_series_matrix.txt.gz'\n",
    "hsr_file='https://www.ncbi.nlm.nih.gov/geo/download/?acc=GSE126488&format=file'\n",
    "gtex='https://storage.googleapis.com/gtex_analysis_v8/rna_seq_data/GTEx_Analysis_2017-06-05_v8_RNASeQCv1.1.9_gene_tpm.gct.gz'"
   ]
  },
  {
   "cell_type": "code",
   "execution_count": 2,
   "metadata": {},
   "outputs": [],
   "source": [
    "#!wget {gtex} -O {data_rna}gtex.gz"
   ]
  },
  {
   "cell_type": "code",
   "execution_count": 3,
   "metadata": {},
   "outputs": [],
   "source": [
    "#!gzip -d {data_rna}gtex.gz"
   ]
  },
  {
   "cell_type": "code",
   "execution_count": 4,
   "metadata": {},
   "outputs": [],
   "source": [
    "def get_data():\n",
    "    !wget -q -nc \"{hsr_file}\" -O {data_rna}hsr.tar\n",
    "    !tar -xf {data_rna}hsr.tar -C {data_rna}hsr \n",
    "    !wget -q -nc {hsc_file} -O {data}hsc.txt.gz\n",
    "    !gzip -d {data}hsc.txt.gz\n",
    "    !wget -q -nc {hsc2_file} -O {data}hsc2.txt.gz\n",
    "    !gzip -d {data}hsc2.txt.gz\n",
    "    !wget -q -nc {wb_file} -O {data}wb.txt.gz\n",
    "    !gzip -d {data}wb.txt.gz    \n",
    "    !wget -q -nc {liver_file} -O {data}liver.txt.gz\n",
    "    !gzip -d {data}liver.txt.gz\n",
    "    !wget -q -nc {m_file} -O {data}mono.txt.gz\n",
    "    !gzip -d {data}mono.txt.gz\n",
    "    !wget -q -nc {t_file} -O {data}t.txt.gz\n",
    "    !gzip -d {data}t.txt.gz    \n",
    "#get_data()"
   ]
  },
  {
   "cell_type": "code",
   "execution_count": 53,
   "metadata": {},
   "outputs": [],
   "source": [
    "hsr=pd.concat(ss,1)"
   ]
  },
  {
   "cell_type": "code",
   "execution_count": 59,
   "metadata": {},
   "outputs": [
    {
     "data": {
      "text/plain": [
       "GSM3602466    0.651052\n",
       "GSM3602469    0.666464\n",
       "GSM3602468    0.708509\n",
       "GSM3602467    0.780027\n",
       "GSM3602463    0.833223\n",
       "GSM4127839    0.854237\n",
       "GSM3602461    0.897735\n",
       "GSM4127828    0.902091\n",
       "GSM3602460    0.906008\n",
       "GSM4127827    0.906497\n",
       "dtype: float64"
      ]
     },
     "execution_count": 59,
     "metadata": {},
     "output_type": "execute_result"
    }
   ],
   "source": [
    "hsr.corr().median().sort_values().head(10)"
   ]
  },
  {
   "cell_type": "code",
   "execution_count": 63,
   "metadata": {},
   "outputs": [],
   "source": [
    "hsr=hsr.set_index(hsr.index.rename('index'))\n",
    "hsr.reset_index().to_feather(data_rna+'hsr.ft')"
   ]
  },
  {
   "cell_type": "code",
   "execution_count": 6,
   "metadata": {},
   "outputs": [],
   "source": [
    "cols=pd.read_table(hsc_rna_file,nrows=0,sep=' ')\n",
    "cols=cols.columns.str.strip('ID\\t')\n",
    "meta=pd.read_table(hsc_rna_meta,skiprows=46).T\n",
    "meta=meta.loc[cols]\n",
    "meta=meta[meta[6]=='ESC'].index\n",
    "df=pd.read_table(hsc_rna_file,skiprows=1,header=None,index_col=0)\n",
    "df.columns=cols\n",
    "esr=df[meta]"
   ]
  },
  {
   "cell_type": "code",
   "execution_count": 12,
   "metadata": {},
   "outputs": [],
   "source": [
    "esr=esr.set_index(esr.index.rename('index'))\n",
    "esr.reset_index().to_feather(data_rna+'esr.ft')"
   ]
  },
  {
   "cell_type": "code",
   "execution_count": 5,
   "metadata": {},
   "outputs": [
    {
     "name": "stdout",
     "output_type": "stream",
     "text": [
      "(37, 485513)\n"
     ]
    },
    {
     "data": {
      "image/png": "[encoded data removed]",
      "text/plain": [
       "<Figure size 432x288 with 1 Axes>"
      ]
     },
     "metadata": {
      "needs_background": "light"
     },
     "output_type": "display_data"
    }
   ],
   "source": [
    "sperm=pd.read_csv(sperm450, index_col=0,sep='\\t', skiprows=78)\n",
    "sp=sperm.T\n",
    "print(sp.shape)\n",
    "sp.mean().hist(bins=100)\n",
    "sp=sp.set_index(sp.index.rename('index'))\n",
    "sp.reset_index().to_feather(data+'sp.ft')"
   ]
  },
  {
   "cell_type": "code",
   "execution_count": 3,
   "metadata": {},
   "outputs": [
    {
     "name": "stdout",
     "output_type": "stream",
     "text": [
      "(23, 485577)\n"
     ]
    },
    {
     "data": {
      "image/png": "[encoded data removed]",
      "text/plain": [
       "<Figure size 432x288 with 1 Axes>"
      ]
     },
     "metadata": {
      "needs_background": "light"
     },
     "output_type": "display_data"
    }
   ],
   "source": [
    "#ips\n",
    "hsc=pd.read_table(data+'hsc.txt',skiprows=92,index_col=0)\n",
    "hsc_meta=pd.read_table(data+'hsc.txt',skiprows=52,nrows=20,index_col=0)\n",
    "hsc=hsc[hsc_meta[[c for c in hsc_meta.columns if 'iPS__HDF' in c]].iloc[0].values].drop('!series_matrix_table_end').T\n",
    "print(hsc.shape)\n",
    "hsc.mean().hist(bins=100)\n",
    "hsc=hsc.set_index(hsc.index.rename('index'))\n",
    "hsc.reset_index().to_feather(data+'ips.ft')"
   ]
  },
  {
   "cell_type": "code",
   "execution_count": 67,
   "metadata": {},
   "outputs": [
    {
     "name": "stdout",
     "output_type": "stream",
     "text": [
      "(19, 485577)\n"
     ]
    },
    {
     "data": {
      "image/png": "[encoded data removed]",
      "text/plain": [
       "<Figure size 432x288 with 1 Axes>"
      ]
     },
     "metadata": {
      "needs_background": "light"
     },
     "output_type": "display_data"
    }
   ],
   "source": [
    "hsc=pd.read_table(data+'hsc.txt',skiprows=92,index_col=0)\n",
    "hsc_meta=pd.read_table(data+'hsc.txt',skiprows=52,nrows=20,index_col=0)\n",
    "hsc=hsc[hsc_meta[[c for c in hsc_meta.columns if 'ES__' in c]].iloc[0].values].drop('!series_matrix_table_end').T\n",
    "print(hsc.shape)\n",
    "hsc.mean().hist(bins=100)\n",
    "hsc=hsc.set_index(hsc.index.rename('index'))\n",
    "hsc.reset_index().to_feather(data+'hsc.ft')"
   ]
  },
  {
   "cell_type": "code",
   "execution_count": 66,
   "metadata": {},
   "outputs": [
    {
     "data": {
      "image/png": "[encoded data removed]",
      "text/plain": [
       "<Figure size 432x288 with 1 Axes>"
      ]
     },
     "metadata": {
      "needs_background": "light"
     },
     "output_type": "display_data"
    }
   ],
   "source": [
    "hsc=pd.read_table(data+'hsc2.txt',skiprows=26+38,index_col=0)\n",
    "meta=pd.read_table(data+'hsc2.txt',skiprows=26,index_col=0,nrows=1)\n",
    "hsc=hsc[meta[[c for c in meta.columns if 'ESC-' in c]].iloc[0].values]\n",
    "hsc=hsc.T\n",
    "hsc.mean().hist(bins=100)\n",
    "hsc=hsc.set_index(hsc.index.rename('index'))\n",
    "hsc.reset_index().to_feather(data+'hsc2.ft')"
   ]
  },
  {
   "cell_type": "code",
   "execution_count": null,
   "metadata": {},
   "outputs": [],
   "source": [
    "hsc=pd.read_table(data+'hsc2.txt',skiprows=92,index_col=0)\n",
    "hsc_meta=pd.read_table(data+'hsc.txt',skiprows=52,nrows=20,index_col=0)\n",
    "hsc=hsc[hsc_meta[[c for c in hsc_meta.columns if 'ES__' in c]].iloc[0].values].drop('!series_matrix_table_end').T\n",
    "print(hsc.shape)\n",
    "hsc.mean().hist(bins=100)\n",
    "hsc=hsc.set_index(hsc.index.rename('index'))\n",
    "hsc.reset_index().to_feather(data+'hsc.ft')"
   ]
  },
  {
   "cell_type": "code",
   "execution_count": 11,
   "metadata": {},
   "outputs": [],
   "source": [
    "wb=pd.read_table(data+'wb.txt',skiprows=69,index_col=0)\n",
    "wb=wb.drop('!series_matrix_table_end').T\n",
    "print(wb.shape)\n",
    "wb.mean().hist(bins=100)\n",
    "wb_ages=pd.read_table(data+'wb.txt',skiprows=33,nrows=0,index_col=0).columns.values\n",
    "wb_ages=[float(age.strip('age: ').split('y')[0]) for age in wb_ages]\n",
    "wb['age']=wb_ages\n",
    "wb.age.hist(bins=50)\n",
    "wb.reset_index().to_feather(data+'wb.ft')"
   ]
  },
  {
   "cell_type": "code",
   "execution_count": null,
   "metadata": {},
   "outputs": [],
   "source": [
    "li=pd.read_csv(data+'liver.txt', index_col=0,sep='\\t', skiprows=60)\n",
    "li=li.drop('!series_matrix_table_end').T\n",
    "print(li.shape)\n",
    "li.mean().hist(bins=100)\n",
    "li_ages=pd.read_csv(data+'liver.txt', index_col=0,sep='\\t', skiprows=27,nrows=9).iloc[8].str.strip('age: ').astype(float)\n",
    "li['age']=li_ages\n",
    "li.age.hist(bins=50)\n",
    "li.reset_index().to_feather(data+'liver.ft')"
   ]
  },
  {
   "cell_type": "code",
   "execution_count": 44,
   "metadata": {},
   "outputs": [
    {
     "data": {
      "image/png": "[encoded data removed]",
      "text/plain": [
       "<Figure size 432x288 with 1 Axes>"
      ]
     },
     "metadata": {
      "needs_background": "light"
     },
     "output_type": "display_data"
    }
   ],
   "source": [
    "t=pd.read_table(t_file,index_col=0)\n",
    "t=t[[c for c in t.columns if 'Mvalue' in c]]\n",
    "t=(2**t)/(1+2**t)\n",
    "ages=pd.read_table(t_meta,index_col=0,skiprows=39).iloc[10].str.strip('age \\(yrs\\): ').astype(int)\n",
    "t=t.T\n",
    "t['age']=ages.values\n",
    "t.age.hist(bins=100)\n",
    "t.reset_index().to_feather(data+'t.ft')"
   ]
  },
  {
   "cell_type": "code",
   "execution_count": 34,
   "metadata": {},
   "outputs": [],
   "source": [
    "m=pd.read_table(data+'mono.txt',index_col=0)\n",
    "m=m[[c for c in m.columns if 'Mvalue' in c]]\n",
    "m=(2**m)/(1+2**m)\n",
    "ages=pd.read_table(m_meta,index_col=0,skiprows=44).iloc[10].str.strip('age \\(yrs\\): ').astype(int)\n",
    "m=m.T\n",
    "m['age']=ages.values\n",
    "m.age.hist(bins=100)\n",
    "m.reset_index().to_feather(data+'mono.ft')"
   ]
  },
  {
   "cell_type": "code",
   "execution_count": null,
   "metadata": {},
   "outputs": [],
   "source": []
  },
  {
   "cell_type": "code",
   "execution_count": null,
   "metadata": {},
   "outputs": [],
   "source": [
    "buc=pd.read_table(buc_file,index_col=0,skiprows=75)\n",
    "buc=buc.drop('!series_matrix_table_end')\n",
    "buc=buc.T"
   ]
  },
  {
   "cell_type": "code",
   "execution_count": 55,
   "metadata": {},
   "outputs": [],
   "source": [
    "meta=pd.read_table(buc_file,index_col=0,skiprows=37,nrows=10).T\n",
    "meta['age']=meta.apply(lambda x : x[9] if 'age' in x[9] else x[8],axis=1)\n",
    "meta['age']=meta.age.str.strip('age: ').astype(float)\n",
    "ages=meta.age.to_list()"
   ]
  },
  {
   "cell_type": "code",
   "execution_count": 56,
   "metadata": {},
   "outputs": [],
   "source": [
    "buc['age']=ages"
   ]
  },
  {
   "cell_type": "code",
   "execution_count": 57,
   "metadata": {},
   "outputs": [],
   "source": [
    "buc.reset_index().to_feather(data+'buc.ft')"
   ]
  },
  {
   "cell_type": "code",
   "execution_count": 45,
   "metadata": {},
   "outputs": [],
   "source": [
    "mus=pd.read_table(mus_file,index_col=0,skiprows=76)\n",
    "mus=mus.drop('!series_matrix_table_end')\n",
    "mus=(2**mus)/(1+2**mus)\n",
    "mus=mus.T"
   ]
  },
  {
   "cell_type": "code",
   "execution_count": 46,
   "metadata": {},
   "outputs": [],
   "source": [
    "ages=pd.read_table(mus_file,index_col=0,skiprows=49,nrows=0).columns\n",
    "ages=[float(age.strip('age: ')) for age in ages]"
   ]
  },
  {
   "cell_type": "code",
   "execution_count": 50,
   "metadata": {},
   "outputs": [],
   "source": [
    "mus['age']=ages\n",
    "mus.reset_index().to_feather(data+'mus.ft')"
   ]
  },
  {
   "cell_type": "code",
   "execution_count": 44,
   "metadata": {},
   "outputs": [],
   "source": [
    "def predict():\n",
    "    dd=[]\n",
    "    for i in range(len(bl)):\n",
    "        a=bl[p50.index].iloc[i].squeeze()\n",
    "        d=np.linalg.norm(a-sc[p50.index])\n",
    "        dd.append(d)\n",
    "    bl['d']=dd\n",
    "    bl.plot.scatter('age','d')    "
   ]
  },
  {
   "cell_type": "code",
   "execution_count": null,
   "metadata": {},
   "outputs": [],
   "source": [
    "#man=pd.read_csv(data+'man450.csv',index_col=0,low_memory=False,skiprows=7)\n",
    "#man=man[~man.CHR.isna()][man.CHR!='X'][man.CHR!='Y']\n",
    "#idx=sc.index.intersection(bl.columns).intersection(man.index)\n",
    "#sc=sc.loc[idx]"
   ]
  },
  {
   "cell_type": "code",
   "execution_count": 54,
   "metadata": {},
   "outputs": [
    {
     "name": "stdout",
     "output_type": "stream",
     "text": [
      "total 29G\n",
      "-rw-rw----+ 1 moqri oak_smontgom  11G Mar 19  2014 mono.txt\n",
      "-rw-rw----+ 1 moqri oak_smontgom 4.6G Jul  9 10:12 mono.ft\n",
      "-rw-rw----+ 1 moqri oak_smontgom 3.0G Jun 21 15:47 wb.txt\n",
      "-rw-rw----+ 1 moqri oak_smontgom 2.5G Jul  7 17:14 wb.ft\n",
      "-rw-rw----+ 1 moqri oak_smontgom 1.9G Apr  7  2014 t.txt\n",
      "-rw-rw----+ 1 moqri oak_smontgom 1.5G Jul  9 11:07 buc.ft\n",
      "-rw-rw----+ 1 moqri oak_smontgom 987M Jul  9 10:23 t.ft\n",
      "-rw-rw----+ 1 moqri oak_smontgom 723M Jun 22 02:21 hsc.txt\n",
      "-rw-rw----+ 1 moqri oak_smontgom 698M Jul  9 17:55 CHOL.methylation__humanmethylation450__jhu_usc_edu__Level_3__within_bioassay_data_set_function__data.data.txt\n",
      "-rw-rw----+ 1 moqri oak_smontgom 511M Jul  7 17:52 liver.ft\n",
      "-rw-rw----+ 1 moqri oak_smontgom 405M Jun 21 09:21 liver.txt\n",
      "-rw-rw----+ 1 moqri oak_smontgom 372M Jul  9 16:40 mus.ft\n",
      "-rw-rw----+ 1 moqri oak_smontgom 331M Jul  9 10:29 sp.ft\n",
      "-rw-rw----+ 1 moqri oak_smontgom 264M Jul  7 17:29 hsc.ft\n",
      "-rw-rw----+ 1 moqri oak_smontgom 188M Feb 13  2016 CHOL.tar.gz\n",
      "-rw-rw----+ 1 moqri oak_smontgom  97M Jul  8 15:56 manp.csv\n",
      "drwxrws---+ 3 moqri oak_smontgom 4.0K Jul  9 17:57 .\n",
      "drwxrws---+ 5 moqri oak_smontgom 4.0K Jul  7 16:44 ..\n",
      "drwxrws---+ 2 moqri oak_smontgom 4.0K Jul  9 16:27 .ipynb_checkpoints\n"
     ]
    }
   ],
   "source": [
    "!ls {data} -alhS"
   ]
  },
  {
   "cell_type": "code",
   "execution_count": null,
   "metadata": {},
   "outputs": [],
   "source": []
  }
 ],
 "metadata": {
  "kernelspec": {
   "display_name": "stem",
   "language": "python",
   "name": "stem"
  },
  "language_info": {
   "codemirror_mode": {
    "name": "ipython",
    "version": 3
   },
   "file_extension": ".py",
   "mimetype": "text/x-python",
   "name": "python",
   "nbconvert_exporter": "python",
   "pygments_lexer": "ipython3",
   "version": "3.9.2"
  }
 },
 "nbformat": 4,
 "nbformat_minor": 4
}
