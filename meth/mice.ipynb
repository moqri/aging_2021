{
 "cells": [
  {
   "cell_type": "code",
   "execution_count": 1,
   "metadata": {},
   "outputs": [],
   "source": [
    "import pandas as pd\n",
    "import glob\n",
    "import pyBigWig\n",
    "import seaborn as sns\n",
    "data='/labs/mpsnyder/moqri/data/meth/wg/mice/'\n",
    "mm_='http://hgdownload.soe.ucsc.edu/goldenPath/mm10/bigZips/mm10.chromAlias.txt'\n",
    "ez_='https://ftp.ncbi.nlm.nih.gov/geo/series/GSE94nnn/GSE94300/suppl/GSE94300_E14Ezh2_MAnorm_unbiased.bed.gz'\n",
    "h_='http://smithdata.usc.edu/methbase/data/Stadler-Mouse-2011/Mouse_ESC/tracks_mm10/Mouse_ESC.meth.bw'\n",
    "meta_='https://ftp.ncbi.nlm.nih.gov/geo/series/GSE80nnn/GSE80672/matrix/GSE80672_series_matrix.txt.gz'"
   ]
  },
  {
   "cell_type": "code",
   "execution_count": 158,
   "metadata": {},
   "outputs": [
    {
     "name": "stdout",
     "output_type": "stream",
     "text": [
      "1471976\n"
     ]
    },
    {
     "data": {
      "text/plain": [
       "(245955,)"
      ]
     },
     "execution_count": 158,
     "metadata": {},
     "output_type": "execute_result"
    }
   ],
   "source": [
    "h=pyBigWig.open(h_)\n",
    "h1=h.intervals(\"chr\"+str(1))\n",
    "print(len(h1))\n",
    "h1=pd.DataFrame(h1)\n",
    "h1.index=h1[1]\n",
    "h1=h1[2]\n",
    "h1l=h1[h1<.5]\n",
    "h1l.shape"
   ]
  },
  {
   "cell_type": "code",
   "execution_count": 162,
   "metadata": {},
   "outputs": [
    {
     "data": {
      "text/html": [
       "<div>\n",
       "<style scoped>\n",
       "    .dataframe tbody tr th:only-of-type {\n",
       "        vertical-align: middle;\n",
       "    }\n",
       "\n",
       "    .dataframe tbody tr th {\n",
       "        vertical-align: top;\n",
       "    }\n",
       "\n",
       "    .dataframe thead th {\n",
       "        text-align: right;\n",
       "    }\n",
       "</style>\n",
       "<table border=\"1\" class=\"dataframe\">\n",
       "  <thead>\n",
       "    <tr style=\"text-align: right;\">\n",
       "      <th></th>\n",
       "      <th>0</th>\n",
       "      <th>1</th>\n",
       "      <th>2</th>\n",
       "    </tr>\n",
       "  </thead>\n",
       "  <tbody>\n",
       "    <tr>\n",
       "      <th>0</th>\n",
       "      <td>3010492</td>\n",
       "      <td>3010493</td>\n",
       "      <td>0.882353</td>\n",
       "    </tr>\n",
       "    <tr>\n",
       "      <th>1</th>\n",
       "      <td>3010644</td>\n",
       "      <td>3010645</td>\n",
       "      <td>1.000000</td>\n",
       "    </tr>\n",
       "    <tr>\n",
       "      <th>2</th>\n",
       "      <td>3010819</td>\n",
       "      <td>3010820</td>\n",
       "      <td>0.000000</td>\n",
       "    </tr>\n",
       "    <tr>\n",
       "      <th>3</th>\n",
       "      <td>3011264</td>\n",
       "      <td>3011265</td>\n",
       "      <td>1.000000</td>\n",
       "    </tr>\n",
       "    <tr>\n",
       "      <th>4</th>\n",
       "      <td>3011312</td>\n",
       "      <td>3011313</td>\n",
       "      <td>0.625000</td>\n",
       "    </tr>\n",
       "    <tr>\n",
       "      <th>...</th>\n",
       "      <td>...</td>\n",
       "      <td>...</td>\n",
       "      <td>...</td>\n",
       "    </tr>\n",
       "    <tr>\n",
       "      <th>1471971</th>\n",
       "      <td>195368792</td>\n",
       "      <td>195368793</td>\n",
       "      <td>0.692308</td>\n",
       "    </tr>\n",
       "    <tr>\n",
       "      <th>1471972</th>\n",
       "      <td>195368860</td>\n",
       "      <td>195368861</td>\n",
       "      <td>1.000000</td>\n",
       "    </tr>\n",
       "    <tr>\n",
       "      <th>1471973</th>\n",
       "      <td>195369042</td>\n",
       "      <td>195369043</td>\n",
       "      <td>0.937500</td>\n",
       "    </tr>\n",
       "    <tr>\n",
       "      <th>1471974</th>\n",
       "      <td>195369099</td>\n",
       "      <td>195369100</td>\n",
       "      <td>0.380952</td>\n",
       "    </tr>\n",
       "    <tr>\n",
       "      <th>1471975</th>\n",
       "      <td>195369165</td>\n",
       "      <td>195369166</td>\n",
       "      <td>0.954545</td>\n",
       "    </tr>\n",
       "  </tbody>\n",
       "</table>\n",
       "<p>1471976 rows × 3 columns</p>\n",
       "</div>"
      ],
      "text/plain": [
       "                 0          1         2\n",
       "0          3010492    3010493  0.882353\n",
       "1          3010644    3010645  1.000000\n",
       "2          3010819    3010820  0.000000\n",
       "3          3011264    3011265  1.000000\n",
       "4          3011312    3011313  0.625000\n",
       "...            ...        ...       ...\n",
       "1471971  195368792  195368793  0.692308\n",
       "1471972  195368860  195368861  1.000000\n",
       "1471973  195369042  195369043  0.937500\n",
       "1471974  195369099  195369100  0.380952\n",
       "1471975  195369165  195369166  0.954545\n",
       "\n",
       "[1471976 rows x 3 columns]"
      ]
     },
     "execution_count": 162,
     "metadata": {},
     "output_type": "execute_result"
    }
   ],
   "source": [
    "h1"
   ]
  },
  {
   "cell_type": "code",
   "execution_count": 2,
   "metadata": {},
   "outputs": [
    {
     "data": {
      "text/plain": [
       "(66, 3)"
      ]
     },
     "execution_count": 2,
     "metadata": {},
     "output_type": "execute_result"
    }
   ],
   "source": [
    "mm=pd.read_table(mm_,index_col=1)\n",
    "mm.shape"
   ]
  },
  {
   "cell_type": "code",
   "execution_count": 3,
   "metadata": {},
   "outputs": [
    {
     "data": {
      "text/html": [
       "<div>\n",
       "<style scoped>\n",
       "    .dataframe tbody tr th:only-of-type {\n",
       "        vertical-align: middle;\n",
       "    }\n",
       "\n",
       "    .dataframe tbody tr th {\n",
       "        vertical-align: top;\n",
       "    }\n",
       "\n",
       "    .dataframe thead th {\n",
       "        text-align: right;\n",
       "    }\n",
       "</style>\n",
       "<table border=\"1\" class=\"dataframe\">\n",
       "  <thead>\n",
       "    <tr style=\"text-align: right;\">\n",
       "      <th></th>\n",
       "      <th></th>\n",
       "      <th></th>\n",
       "      <th>ch</th>\n",
       "    </tr>\n",
       "  </thead>\n",
       "  <tbody>\n",
       "    <tr>\n",
       "      <th>NC_000067.6</th>\n",
       "      <td>chr1</td>\n",
       "      <td>CM000994.2</td>\n",
       "      <td>1</td>\n",
       "    </tr>\n",
       "  </tbody>\n",
       "</table>\n",
       "</div>"
      ],
      "text/plain": [
       "                              ch\n",
       "NC_000067.6  chr1  CM000994.2  1"
      ]
     },
     "execution_count": 3,
     "metadata": {},
     "output_type": "execute_result"
    }
   ],
   "source": [
    "mm.columns=['','','ch']\n",
    "mm.head(1)"
   ]
  },
  {
   "cell_type": "code",
   "execution_count": 4,
   "metadata": {},
   "outputs": [],
   "source": [
    "meta=pd.read_table(meta_,skiprows=34,header=None).T"
   ]
  },
  {
   "cell_type": "code",
   "execution_count": 5,
   "metadata": {},
   "outputs": [],
   "source": [
    "meta=meta[meta[5]=='Whole Blood']"
   ]
  },
  {
   "cell_type": "code",
   "execution_count": 6,
   "metadata": {},
   "outputs": [],
   "source": [
    "meta=meta[meta[11]=='genetic condition: Wild Type']\n",
    "meta['gsm']=meta[46].str[3:]\n",
    "meta['age']=meta[9].str.strip('age (years): ').astype(float)\n",
    "meta.index=meta.gsm"
   ]
  },
  {
   "cell_type": "code",
   "execution_count": 7,
   "metadata": {},
   "outputs": [
    {
     "name": "stdout",
     "output_type": "stream",
     "text": [
      "---------------------------------------------------------------------------------------------------------------------------------------------------------------------------------------------------"
     ]
    }
   ],
   "source": [
    "all_files = glob.glob(data + \"*.gz\")\n",
    "li = []\n",
    "for f in all_files:\n",
    "    gsm=f.split('GSM')[1].split('_')[0]\n",
    "    if gsm in meta.gsm.tolist():\n",
    "        print('',end='-')\n",
    "        df= pd.read_table(f, index_col=None, header=0, usecols=[1])\n",
    "        df.columns=[gsm]\n",
    "        li.append(df)\n",
    "df = pd.concat(li, axis=1)"
   ]
  },
  {
   "cell_type": "code",
   "execution_count": null,
   "metadata": {},
   "outputs": [],
   "source": [
    "df.to_csv(data+m.csv)"
   ]
  },
  {
   "cell_type": "code",
   "execution_count": 71,
   "metadata": {},
   "outputs": [
    {
     "name": "stdout",
     "output_type": "stream",
     "text": [
      "(7213, 3)\n",
      "462,526102-"
     ]
    },
    {
     "name": "stderr",
     "output_type": "stream",
     "text": [
      "/home/moqri/anaconda3/envs/stem/lib/python3.9/site-packages/pandas/core/frame.py:3607: SettingWithCopyWarning: \n",
      "A value is trying to be set on a copy of a slice from a DataFrame.\n",
      "Try using .loc[row_indexer,col_indexer] = value instead\n",
      "\n",
      "See the caveats in the documentation: https://pandas.pydata.org/pandas-docs/stable/user_guide/indexing.html#returning-a-view-versus-a-copy\n",
      "  self._set_item(key, value)\n"
     ]
    },
    {
     "name": "stdout",
     "output_type": "stream",
     "text": [
      "687,899107-337,395428-455,508115-474,596826-400,520490-438,488638-400,473660-374,426816-293,335768-536,651924-332,389072-351,426337-286,369904-320,377446-155,193966-266,307134-252,284005-227,286329-"
     ]
    }
   ],
   "source": [
    "ezs=[]\n",
    "ez=pd.read_table(ez_,header=None)\n",
    "ez.columns=['chrom', 'chromStart', 'chromEnd']\n",
    "print(ez.shape)\n",
    "for ch in range(1,20):\n",
    "    ezc=ez[ez['chrom']=='chr'+str(ch)]\n",
    "    print(len(ezc),end=',')\n",
    "    ezc['r']=ezc.apply(lambda x:range(x['chromStart'],x['chromEnd']),1)\n",
    "    ezc=ezc['r'].tolist()\n",
    "    ezc=set([item for sublist in ezc for item in sublist])   \n",
    "    print(len(ezc),end='-')\n",
    "    for b in ezc:\n",
    "        ezs.append([str(ch),b])"
   ]
  },
  {
   "cell_type": "code",
   "execution_count": 72,
   "metadata": {},
   "outputs": [],
   "source": [
    "ezs=pd.DataFrame(ezs)\n",
    "ezs.columns=['ch','pos']\n",
    "ezs['ez']=True"
   ]
  },
  {
   "cell_type": "code",
   "execution_count": 75,
   "metadata": {},
   "outputs": [],
   "source": [
    "m= pd.read_table(all_files[0], index_col=None, header=0)\n",
    "m.columns=['i','p','c']\n",
    "m['m_ch']=m.i.str.split('|').str[3]\n",
    "m['pos']=m.i.str.split('|').str[4].str.strip(':').astype(int)"
   ]
  },
  {
   "cell_type": "code",
   "execution_count": 76,
   "metadata": {},
   "outputs": [
    {
     "data": {
      "text/plain": [
       "(1976975, 6)"
      ]
     },
     "execution_count": 76,
     "metadata": {},
     "output_type": "execute_result"
    }
   ],
   "source": [
    "ma=m.merge(mm[['ch']],left_on='m_ch',right_index=True)\n",
    "ma.shape"
   ]
  },
  {
   "cell_type": "code",
   "execution_count": 61,
   "metadata": {},
   "outputs": [],
   "source": [
    "ma['ch']=pd.to_numeric(ma.ch,errors='coerce')\n",
    "ma=ma.loc[ma.ch.dropna().index]\n",
    "ma['ch']=ma.ch.astype(int)"
   ]
  },
  {
   "cell_type": "code",
   "execution_count": 77,
   "metadata": {},
   "outputs": [
    {
     "data": {
      "text/plain": [
       "(1976975, 7)"
      ]
     },
     "execution_count": 77,
     "metadata": {},
     "output_type": "execute_result"
    }
   ],
   "source": [
    "me=ma.merge(ezs,left_on=['ch','pos'],right_on=['ch','pos'],how='left')\n",
    "me.shape"
   ]
  },
  {
   "cell_type": "code",
   "execution_count": 75,
   "metadata": {},
   "outputs": [],
   "source": [
    "#mh=me[me.pos.isin(h1.index)]"
   ]
  },
  {
   "cell_type": "code",
   "execution_count": 151,
   "metadata": {},
   "outputs": [],
   "source": [
    "m2=me[(me.pos.isin(ezs[ezs.ch=='2'].pos))&(me.ch=='2')]"
   ]
  },
  {
   "cell_type": "code",
   "execution_count": 82,
   "metadata": {},
   "outputs": [],
   "source": [
    "mez=me[me.pos.isin(ezs.pos)]"
   ]
  },
  {
   "cell_type": "code",
   "execution_count": 155,
   "metadata": {},
   "outputs": [
    {
     "name": "stderr",
     "output_type": "stream",
     "text": [
      "<ipython-input-155-54426f4b21dc>:1: FutureWarning: In a future version of pandas all arguments of concat except for the argument 'objs' will be keyword-only\n",
      "  dg=pd.concat([df.loc[m2.index].mean(),meta[[12,'age']].loc[df.columns]],1)\n"
     ]
    },
    {
     "data": {
      "text/plain": [
       "<AxesSubplot:xlabel='age', ylabel='0'>"
      ]
     },
     "execution_count": 155,
     "metadata": {},
     "output_type": "execute_result"
    },
    {
     "data": {
      "image/png": "[encoded data removed]",
      "text/plain": [
       "<Figure size 432x288 with 1 Axes>"
      ]
     },
     "metadata": {
      "needs_background": "light"
     },
     "output_type": "display_data"
    }
   ],
   "source": [
    "dg=pd.concat([df.loc[m2.index].mean(),meta[[12,'age']].loc[df.columns]],1)\n",
    "sns.scatterplot(data=dg[dg[0]<20],x='age',y=0,hue=12)"
   ]
  },
  {
   "cell_type": "code",
   "execution_count": 156,
   "metadata": {},
   "outputs": [
    {
     "data": {
      "text/html": [
       "<div>\n",
       "<style scoped>\n",
       "    .dataframe tbody tr th:only-of-type {\n",
       "        vertical-align: middle;\n",
       "    }\n",
       "\n",
       "    .dataframe tbody tr th {\n",
       "        vertical-align: top;\n",
       "    }\n",
       "\n",
       "    .dataframe thead th {\n",
       "        text-align: right;\n",
       "    }\n",
       "</style>\n",
       "<table border=\"1\" class=\"dataframe\">\n",
       "  <thead>\n",
       "    <tr style=\"text-align: right;\">\n",
       "      <th></th>\n",
       "      <th>0</th>\n",
       "      <th>age</th>\n",
       "    </tr>\n",
       "  </thead>\n",
       "  <tbody>\n",
       "    <tr>\n",
       "      <th>0</th>\n",
       "      <td>1.000000</td>\n",
       "      <td>0.469115</td>\n",
       "    </tr>\n",
       "    <tr>\n",
       "      <th>age</th>\n",
       "      <td>0.469115</td>\n",
       "      <td>1.000000</td>\n",
       "    </tr>\n",
       "  </tbody>\n",
       "</table>\n",
       "</div>"
      ],
      "text/plain": [
       "            0       age\n",
       "0    1.000000  0.469115\n",
       "age  0.469115  1.000000"
      ]
     },
     "execution_count": 156,
     "metadata": {},
     "output_type": "execute_result"
    }
   ],
   "source": [
    "dg.corr()"
   ]
  },
  {
   "cell_type": "code",
   "execution_count": 326,
   "metadata": {},
   "outputs": [
    {
     "data": {
      "text/plain": [
       "<AxesSubplot:xlabel='age', ylabel='0'>"
      ]
     },
     "execution_count": 326,
     "metadata": {},
     "output_type": "execute_result"
    },
    {
     "data": {
      "image/png": "[encoded data removed]",
      "text/plain": [
       "<Figure size 432x288 with 1 Axes>"
      ]
     },
     "metadata": {
      "needs_background": "light"
     },
     "output_type": "display_data"
    }
   ],
   "source": [
    "sns.scatterplot(data=dg[dg[0]<10],x='age',y=0,hue=12)"
   ]
  },
  {
   "cell_type": "code",
   "execution_count": 108,
   "metadata": {},
   "outputs": [
    {
     "data": {
      "text/html": [
       "<div>\n",
       "<style scoped>\n",
       "    .dataframe tbody tr th:only-of-type {\n",
       "        vertical-align: middle;\n",
       "    }\n",
       "\n",
       "    .dataframe tbody tr th {\n",
       "        vertical-align: top;\n",
       "    }\n",
       "\n",
       "    .dataframe thead th {\n",
       "        text-align: right;\n",
       "    }\n",
       "</style>\n",
       "<table border=\"1\" class=\"dataframe\">\n",
       "  <thead>\n",
       "    <tr style=\"text-align: right;\">\n",
       "      <th></th>\n",
       "      <th>i</th>\n",
       "      <th>p</th>\n",
       "      <th>c</th>\n",
       "      <th>m_ch</th>\n",
       "      <th>pos</th>\n",
       "      <th>ch</th>\n",
       "      <th>ez</th>\n",
       "    </tr>\n",
       "  </thead>\n",
       "  <tbody>\n",
       "    <tr>\n",
       "      <th>1860913</th>\n",
       "      <td>gi|372099109|ref|NC_000067.6|:10232210</td>\n",
       "      <td>0.0</td>\n",
       "      <td>12</td>\n",
       "      <td>NC_000067.6</td>\n",
       "      <td>10232210</td>\n",
       "      <td>1</td>\n",
       "      <td>True</td>\n",
       "    </tr>\n",
       "    <tr>\n",
       "      <th>1860914</th>\n",
       "      <td>gi|372099109|ref|NC_000067.6|:10232218</td>\n",
       "      <td>0.0</td>\n",
       "      <td>12</td>\n",
       "      <td>NC_000067.6</td>\n",
       "      <td>10232218</td>\n",
       "      <td>1</td>\n",
       "      <td>True</td>\n",
       "    </tr>\n",
       "    <tr>\n",
       "      <th>1860915</th>\n",
       "      <td>gi|372099109|ref|NC_000067.6|:10232239</td>\n",
       "      <td>0.0</td>\n",
       "      <td>40</td>\n",
       "      <td>NC_000067.6</td>\n",
       "      <td>10232239</td>\n",
       "      <td>1</td>\n",
       "      <td>True</td>\n",
       "    </tr>\n",
       "    <tr>\n",
       "      <th>1860916</th>\n",
       "      <td>gi|372099109|ref|NC_000067.6|:10232240</td>\n",
       "      <td>0.0</td>\n",
       "      <td>48</td>\n",
       "      <td>NC_000067.6</td>\n",
       "      <td>10232240</td>\n",
       "      <td>1</td>\n",
       "      <td>True</td>\n",
       "    </tr>\n",
       "    <tr>\n",
       "      <th>1860917</th>\n",
       "      <td>gi|372099109|ref|NC_000067.6|:10232247</td>\n",
       "      <td>0.0</td>\n",
       "      <td>25</td>\n",
       "      <td>NC_000067.6</td>\n",
       "      <td>10232247</td>\n",
       "      <td>1</td>\n",
       "      <td>True</td>\n",
       "    </tr>\n",
       "    <tr>\n",
       "      <th>...</th>\n",
       "      <td>...</td>\n",
       "      <td>...</td>\n",
       "      <td>...</td>\n",
       "      <td>...</td>\n",
       "      <td>...</td>\n",
       "      <td>...</td>\n",
       "      <td>...</td>\n",
       "    </tr>\n",
       "    <tr>\n",
       "      <th>1976929</th>\n",
       "      <td>gi|372099109|ref|NC_000067.6|:9968187</td>\n",
       "      <td>0.0</td>\n",
       "      <td>19</td>\n",
       "      <td>NC_000067.6</td>\n",
       "      <td>9968187</td>\n",
       "      <td>1</td>\n",
       "      <td>True</td>\n",
       "    </tr>\n",
       "    <tr>\n",
       "      <th>1976930</th>\n",
       "      <td>gi|372099109|ref|NC_000067.6|:9968190</td>\n",
       "      <td>0.0</td>\n",
       "      <td>14</td>\n",
       "      <td>NC_000067.6</td>\n",
       "      <td>9968190</td>\n",
       "      <td>1</td>\n",
       "      <td>True</td>\n",
       "    </tr>\n",
       "    <tr>\n",
       "      <th>1976931</th>\n",
       "      <td>gi|372099109|ref|NC_000067.6|:9968191</td>\n",
       "      <td>0.0</td>\n",
       "      <td>19</td>\n",
       "      <td>NC_000067.6</td>\n",
       "      <td>9968191</td>\n",
       "      <td>1</td>\n",
       "      <td>True</td>\n",
       "    </tr>\n",
       "    <tr>\n",
       "      <th>1976932</th>\n",
       "      <td>gi|372099109|ref|NC_000067.6|:9968197</td>\n",
       "      <td>0.0</td>\n",
       "      <td>22</td>\n",
       "      <td>NC_000067.6</td>\n",
       "      <td>9968197</td>\n",
       "      <td>1</td>\n",
       "      <td>True</td>\n",
       "    </tr>\n",
       "    <tr>\n",
       "      <th>1976933</th>\n",
       "      <td>gi|372099109|ref|NC_000067.6|:9968198</td>\n",
       "      <td>0.0</td>\n",
       "      <td>45</td>\n",
       "      <td>NC_000067.6</td>\n",
       "      <td>9968198</td>\n",
       "      <td>1</td>\n",
       "      <td>True</td>\n",
       "    </tr>\n",
       "  </tbody>\n",
       "</table>\n",
       "<p>20610 rows × 7 columns</p>\n",
       "</div>"
      ],
      "text/plain": [
       "                                              i    p   c         m_ch  \\\n",
       "1860913  gi|372099109|ref|NC_000067.6|:10232210  0.0  12  NC_000067.6   \n",
       "1860914  gi|372099109|ref|NC_000067.6|:10232218  0.0  12  NC_000067.6   \n",
       "1860915  gi|372099109|ref|NC_000067.6|:10232239  0.0  40  NC_000067.6   \n",
       "1860916  gi|372099109|ref|NC_000067.6|:10232240  0.0  48  NC_000067.6   \n",
       "1860917  gi|372099109|ref|NC_000067.6|:10232247  0.0  25  NC_000067.6   \n",
       "...                                         ...  ...  ..          ...   \n",
       "1976929   gi|372099109|ref|NC_000067.6|:9968187  0.0  19  NC_000067.6   \n",
       "1976930   gi|372099109|ref|NC_000067.6|:9968190  0.0  14  NC_000067.6   \n",
       "1976931   gi|372099109|ref|NC_000067.6|:9968191  0.0  19  NC_000067.6   \n",
       "1976932   gi|372099109|ref|NC_000067.6|:9968197  0.0  22  NC_000067.6   \n",
       "1976933   gi|372099109|ref|NC_000067.6|:9968198  0.0  45  NC_000067.6   \n",
       "\n",
       "              pos ch    ez  \n",
       "1860913  10232210  1  True  \n",
       "1860914  10232218  1  True  \n",
       "1860915  10232239  1  True  \n",
       "1860916  10232240  1  True  \n",
       "1860917  10232247  1  True  \n",
       "...           ... ..   ...  \n",
       "1976929   9968187  1  True  \n",
       "1976930   9968190  1  True  \n",
       "1976931   9968191  1  True  \n",
       "1976932   9968197  1  True  \n",
       "1976933   9968198  1  True  \n",
       "\n",
       "[20610 rows x 7 columns]"
      ]
     },
     "execution_count": 108,
     "metadata": {},
     "output_type": "execute_result"
    }
   ],
   "source": [
    "m1"
   ]
  },
  {
   "cell_type": "code",
   "execution_count": 157,
   "metadata": {},
   "outputs": [
    {
     "data": {
      "text/plain": [
       "(163, 7)"
      ]
     },
     "execution_count": 157,
     "metadata": {},
     "output_type": "execute_result"
    }
   ],
   "source": [
    "m1[m1.pos.isin(h1.index)].shape"
   ]
  },
  {
   "cell_type": "code",
   "execution_count": 161,
   "metadata": {},
   "outputs": [
    {
     "data": {
      "text/html": [
       "<div>\n",
       "<style scoped>\n",
       "    .dataframe tbody tr th:only-of-type {\n",
       "        vertical-align: middle;\n",
       "    }\n",
       "\n",
       "    .dataframe tbody tr th {\n",
       "        vertical-align: top;\n",
       "    }\n",
       "\n",
       "    .dataframe thead th {\n",
       "        text-align: right;\n",
       "    }\n",
       "</style>\n",
       "<table border=\"1\" class=\"dataframe\">\n",
       "  <thead>\n",
       "    <tr style=\"text-align: right;\">\n",
       "      <th></th>\n",
       "      <th>i</th>\n",
       "      <th>p</th>\n",
       "      <th>c</th>\n",
       "      <th>m_ch</th>\n",
       "      <th>pos</th>\n",
       "      <th>ch</th>\n",
       "      <th>ez</th>\n",
       "    </tr>\n",
       "  </thead>\n",
       "  <tbody>\n",
       "    <tr>\n",
       "      <th>1860913</th>\n",
       "      <td>gi|372099109|ref|NC_000067.6|:10232210</td>\n",
       "      <td>0.0</td>\n",
       "      <td>12</td>\n",
       "      <td>NC_000067.6</td>\n",
       "      <td>10232210</td>\n",
       "      <td>1</td>\n",
       "      <td>True</td>\n",
       "    </tr>\n",
       "    <tr>\n",
       "      <th>1860914</th>\n",
       "      <td>gi|372099109|ref|NC_000067.6|:10232218</td>\n",
       "      <td>0.0</td>\n",
       "      <td>12</td>\n",
       "      <td>NC_000067.6</td>\n",
       "      <td>10232218</td>\n",
       "      <td>1</td>\n",
       "      <td>True</td>\n",
       "    </tr>\n",
       "    <tr>\n",
       "      <th>1860915</th>\n",
       "      <td>gi|372099109|ref|NC_000067.6|:10232239</td>\n",
       "      <td>0.0</td>\n",
       "      <td>40</td>\n",
       "      <td>NC_000067.6</td>\n",
       "      <td>10232239</td>\n",
       "      <td>1</td>\n",
       "      <td>True</td>\n",
       "    </tr>\n",
       "    <tr>\n",
       "      <th>1860916</th>\n",
       "      <td>gi|372099109|ref|NC_000067.6|:10232240</td>\n",
       "      <td>0.0</td>\n",
       "      <td>48</td>\n",
       "      <td>NC_000067.6</td>\n",
       "      <td>10232240</td>\n",
       "      <td>1</td>\n",
       "      <td>True</td>\n",
       "    </tr>\n",
       "    <tr>\n",
       "      <th>1860917</th>\n",
       "      <td>gi|372099109|ref|NC_000067.6|:10232247</td>\n",
       "      <td>0.0</td>\n",
       "      <td>25</td>\n",
       "      <td>NC_000067.6</td>\n",
       "      <td>10232247</td>\n",
       "      <td>1</td>\n",
       "      <td>True</td>\n",
       "    </tr>\n",
       "    <tr>\n",
       "      <th>...</th>\n",
       "      <td>...</td>\n",
       "      <td>...</td>\n",
       "      <td>...</td>\n",
       "      <td>...</td>\n",
       "      <td>...</td>\n",
       "      <td>...</td>\n",
       "      <td>...</td>\n",
       "    </tr>\n",
       "    <tr>\n",
       "      <th>1976929</th>\n",
       "      <td>gi|372099109|ref|NC_000067.6|:9968187</td>\n",
       "      <td>0.0</td>\n",
       "      <td>19</td>\n",
       "      <td>NC_000067.6</td>\n",
       "      <td>9968187</td>\n",
       "      <td>1</td>\n",
       "      <td>True</td>\n",
       "    </tr>\n",
       "    <tr>\n",
       "      <th>1976930</th>\n",
       "      <td>gi|372099109|ref|NC_000067.6|:9968190</td>\n",
       "      <td>0.0</td>\n",
       "      <td>14</td>\n",
       "      <td>NC_000067.6</td>\n",
       "      <td>9968190</td>\n",
       "      <td>1</td>\n",
       "      <td>True</td>\n",
       "    </tr>\n",
       "    <tr>\n",
       "      <th>1976931</th>\n",
       "      <td>gi|372099109|ref|NC_000067.6|:9968191</td>\n",
       "      <td>0.0</td>\n",
       "      <td>19</td>\n",
       "      <td>NC_000067.6</td>\n",
       "      <td>9968191</td>\n",
       "      <td>1</td>\n",
       "      <td>True</td>\n",
       "    </tr>\n",
       "    <tr>\n",
       "      <th>1976932</th>\n",
       "      <td>gi|372099109|ref|NC_000067.6|:9968197</td>\n",
       "      <td>0.0</td>\n",
       "      <td>22</td>\n",
       "      <td>NC_000067.6</td>\n",
       "      <td>9968197</td>\n",
       "      <td>1</td>\n",
       "      <td>True</td>\n",
       "    </tr>\n",
       "    <tr>\n",
       "      <th>1976933</th>\n",
       "      <td>gi|372099109|ref|NC_000067.6|:9968198</td>\n",
       "      <td>0.0</td>\n",
       "      <td>45</td>\n",
       "      <td>NC_000067.6</td>\n",
       "      <td>9968198</td>\n",
       "      <td>1</td>\n",
       "      <td>True</td>\n",
       "    </tr>\n",
       "  </tbody>\n",
       "</table>\n",
       "<p>20610 rows × 7 columns</p>\n",
       "</div>"
      ],
      "text/plain": [
       "                                              i    p   c         m_ch  \\\n",
       "1860913  gi|372099109|ref|NC_000067.6|:10232210  0.0  12  NC_000067.6   \n",
       "1860914  gi|372099109|ref|NC_000067.6|:10232218  0.0  12  NC_000067.6   \n",
       "1860915  gi|372099109|ref|NC_000067.6|:10232239  0.0  40  NC_000067.6   \n",
       "1860916  gi|372099109|ref|NC_000067.6|:10232240  0.0  48  NC_000067.6   \n",
       "1860917  gi|372099109|ref|NC_000067.6|:10232247  0.0  25  NC_000067.6   \n",
       "...                                         ...  ...  ..          ...   \n",
       "1976929   gi|372099109|ref|NC_000067.6|:9968187  0.0  19  NC_000067.6   \n",
       "1976930   gi|372099109|ref|NC_000067.6|:9968190  0.0  14  NC_000067.6   \n",
       "1976931   gi|372099109|ref|NC_000067.6|:9968191  0.0  19  NC_000067.6   \n",
       "1976932   gi|372099109|ref|NC_000067.6|:9968197  0.0  22  NC_000067.6   \n",
       "1976933   gi|372099109|ref|NC_000067.6|:9968198  0.0  45  NC_000067.6   \n",
       "\n",
       "              pos ch    ez  \n",
       "1860913  10232210  1  True  \n",
       "1860914  10232218  1  True  \n",
       "1860915  10232239  1  True  \n",
       "1860916  10232240  1  True  \n",
       "1860917  10232247  1  True  \n",
       "...           ... ..   ...  \n",
       "1976929   9968187  1  True  \n",
       "1976930   9968190  1  True  \n",
       "1976931   9968191  1  True  \n",
       "1976932   9968197  1  True  \n",
       "1976933   9968198  1  True  \n",
       "\n",
       "[20610 rows x 7 columns]"
      ]
     },
     "execution_count": 161,
     "metadata": {},
     "output_type": "execute_result"
    }
   ],
   "source": [
    "m1"
   ]
  },
  {
   "cell_type": "code",
   "execution_count": null,
   "metadata": {},
   "outputs": [],
   "source": []
  }
 ],
 "metadata": {
  "kernelspec": {
   "display_name": "stem",
   "language": "python",
   "name": "stem"
  },
  "language_info": {
   "codemirror_mode": {
    "name": "ipython",
    "version": 3
   },
   "file_extension": ".py",
   "mimetype": "text/x-python",
   "name": "python",
   "nbconvert_exporter": "python",
   "pygments_lexer": "ipython3",
   "version": "3.9.2"
  }
 },
 "nbformat": 4,
 "nbformat_minor": 4
}
