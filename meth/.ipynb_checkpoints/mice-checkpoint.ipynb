{
 "cells": [
  {
   "cell_type": "code",
   "execution_count": 18,
   "metadata": {},
   "outputs": [],
   "source": [
    "import pandas as pd\n",
    "import glob\n",
    "import pyBigWig\n",
    "import seaborn as sns\n",
    "data='/labs/mpsnyder/moqri/data/meth/wg/mice/'\n",
    "mm_='http://hgdownload.soe.ucsc.edu/goldenPath/mm10/bigZips/mm10.chromAlias.txt'\n",
    "ez_='https://ftp.ncbi.nlm.nih.gov/geo/series/GSE94nnn/GSE94300/suppl/GSE94300_E14Ezh2_MAnorm_unbiased.bed.gz'\n",
    "h_='http://smithdata.usc.edu/methbase/data/Stadler-Mouse-2011/Mouse_ESC/tracks_mm10/Mouse_ESC.meth.bw'\n",
    "meta_='https://ftp.ncbi.nlm.nih.gov/geo/series/GSE80nnn/GSE80672/matrix/GSE80672_series_matrix.txt.gz'\n",
    "all_files = glob.glob(data + \"*.gz\")\n",
    "def get_m():\n",
    "    li = []\n",
    "    for f in all_files:\n",
    "        gsm=f.split('GSM')[1].split('_')[0]\n",
    "        if gsm in meta.gsm.tolist():\n",
    "            print('',end='-')\n",
    "            df= pd.read_table(f, index_col=None, header=0, usecols=[1])\n",
    "            df.columns=[gsm]\n",
    "            li.append(df)\n",
    "    df = pd.concat(li, axis=1)"
   ]
  },
  {
   "cell_type": "code",
   "execution_count": 3,
   "metadata": {},
   "outputs": [
    {
     "name": "stdout",
     "output_type": "stream",
     "text": [
      "1471976\n"
     ]
    },
    {
     "data": {
      "text/plain": [
       "(245955,)"
      ]
     },
     "execution_count": 3,
     "metadata": {},
     "output_type": "execute_result"
    }
   ],
   "source": [
    "h=pyBigWig.open(h_)\n",
    "h1=h.intervals(\"chr\"+str(1))\n",
    "print(len(h1))\n",
    "h1=pd.DataFrame(h1)\n",
    "h1.index=h1[1]\n",
    "h1=h1[2]\n",
    "h1l=h1[h1<.5]\n",
    "h1l.shape"
   ]
  },
  {
   "cell_type": "code",
   "execution_count": 6,
   "metadata": {},
   "outputs": [
    {
     "data": {
      "text/plain": [
       "(66, 3)"
      ]
     },
     "execution_count": 6,
     "metadata": {},
     "output_type": "execute_result"
    }
   ],
   "source": [
    "mm=pd.read_table(mm_,index_col=1)\n",
    "mm.shape"
   ]
  },
  {
   "cell_type": "code",
   "execution_count": 7,
   "metadata": {},
   "outputs": [
    {
     "data": {
      "text/html": [
       "<div>\n",
       "<style scoped>\n",
       "    .dataframe tbody tr th:only-of-type {\n",
       "        vertical-align: middle;\n",
       "    }\n",
       "\n",
       "    .dataframe tbody tr th {\n",
       "        vertical-align: top;\n",
       "    }\n",
       "\n",
       "    .dataframe thead th {\n",
       "        text-align: right;\n",
       "    }\n",
       "</style>\n",
       "<table border=\"1\" class=\"dataframe\">\n",
       "  <thead>\n",
       "    <tr style=\"text-align: right;\">\n",
       "      <th></th>\n",
       "      <th></th>\n",
       "      <th></th>\n",
       "      <th>ch</th>\n",
       "    </tr>\n",
       "  </thead>\n",
       "  <tbody>\n",
       "    <tr>\n",
       "      <th>NC_000067.6</th>\n",
       "      <td>chr1</td>\n",
       "      <td>CM000994.2</td>\n",
       "      <td>1</td>\n",
       "    </tr>\n",
       "  </tbody>\n",
       "</table>\n",
       "</div>"
      ],
      "text/plain": [
       "                              ch\n",
       "NC_000067.6  chr1  CM000994.2  1"
      ]
     },
     "execution_count": 7,
     "metadata": {},
     "output_type": "execute_result"
    }
   ],
   "source": [
    "mm.columns=['','','ch']\n",
    "mm.head(1)"
   ]
  },
  {
   "cell_type": "code",
   "execution_count": 8,
   "metadata": {},
   "outputs": [],
   "source": [
    "meta=pd.read_table(meta_,skiprows=34,header=None).T"
   ]
  },
  {
   "cell_type": "code",
   "execution_count": 9,
   "metadata": {},
   "outputs": [],
   "source": [
    "meta=meta[meta[5]=='Whole Blood']"
   ]
  },
  {
   "cell_type": "code",
   "execution_count": 10,
   "metadata": {},
   "outputs": [],
   "source": [
    "meta=meta[meta[11]=='genetic condition: Wild Type']\n",
    "meta['gsm']=meta[46].str[3:]\n",
    "meta['age']=meta[9].str.strip('age (years): ').astype(float)\n",
    "meta.index=meta.gsm"
   ]
  },
  {
   "cell_type": "code",
   "execution_count": 14,
   "metadata": {},
   "outputs": [
    {
     "data": {
      "text/plain": [
       "(870400, 195)"
      ]
     },
     "execution_count": 14,
     "metadata": {},
     "output_type": "execute_result"
    }
   ],
   "source": [
    "df=pd.read_csv(data+'m.csv',index_col=0)\n",
    "df.shape"
   ]
  },
  {
   "cell_type": "code",
   "execution_count": 35,
   "metadata": {},
   "outputs": [
    {
     "name": "stdout",
     "output_type": "stream",
     "text": [
      "(7213, 3)\n",
      "462,526102-687,899107-337,395428-455,508115-474,596826-400,520490-438,488638-400,473660-374,426816-293,335768-536,651924-332,389072-351,426337-286,369904-320,377446-155,193966-266,307134-252,284005-227,286329-"
     ]
    }
   ],
   "source": [
    "ezs=[]\n",
    "ez=pd.read_table(ez_,header=None)\n",
    "ez.columns=['chrom', 'chromStart', 'chromEnd']\n",
    "print(ez.shape)\n",
    "for ch in range(1,20):\n",
    "    ezc=ez[ez['chrom']=='chr'+str(ch)]\n",
    "    print(len(ezc),end=',')\n",
    "    ezc['r']=ezc.apply(lambda x:range(x['chromStart'],x['chromEnd']),1)\n",
    "    ezc=ezc['r'].tolist()\n",
    "    ezc=set([item for sublist in ezc for item in sublist])   \n",
    "    print(len(ezc),end='-')\n",
    "    for b in ezc:\n",
    "        ezs.append([ch,b])\n",
    "ezs=pd.DataFrame(ezs)        "
   ]
  },
  {
   "cell_type": "code",
   "execution_count": 36,
   "metadata": {},
   "outputs": [],
   "source": [
    "#ezs['ch']=ezs.ch.astype(int)\n",
    "ezs.columns=['ch','pos']\n",
    "ezs['ez']=True"
   ]
  },
  {
   "cell_type": "code",
   "execution_count": 37,
   "metadata": {},
   "outputs": [],
   "source": [
    "m= pd.read_table(all_files[0], index_col=None, header=0)\n",
    "m.columns=['i','p','c']\n",
    "m['m_ch']=m.i.str.split('|').str[3]\n",
    "m['pos']=m.i.str.split('|').str[4].str.strip(':').astype(int)"
   ]
  },
  {
   "cell_type": "code",
   "execution_count": 38,
   "metadata": {},
   "outputs": [
    {
     "data": {
      "text/plain": [
       "(1976975, 6)"
      ]
     },
     "execution_count": 38,
     "metadata": {},
     "output_type": "execute_result"
    }
   ],
   "source": [
    "ma=m.merge(mm[['ch']],left_on='m_ch',right_index=True)\n",
    "ma.shape"
   ]
  },
  {
   "cell_type": "code",
   "execution_count": 39,
   "metadata": {},
   "outputs": [],
   "source": [
    "ma['ch']=pd.to_numeric(ma.ch,errors='coerce')\n",
    "ma=ma.loc[ma.ch.dropna().index]\n",
    "ma['ch']=ma.ch.astype(int)"
   ]
  },
  {
   "cell_type": "code",
   "execution_count": 40,
   "metadata": {},
   "outputs": [
    {
     "data": {
      "text/plain": [
       "(1940728, 7)"
      ]
     },
     "execution_count": 40,
     "metadata": {},
     "output_type": "execute_result"
    }
   ],
   "source": [
    "me=ma.merge(ezs,left_on=['ch','pos'],right_on=['ch','pos'],how='left')\n",
    "me.shape"
   ]
  },
  {
   "cell_type": "code",
   "execution_count": 41,
   "metadata": {},
   "outputs": [],
   "source": [
    "#mh=me[me.pos.isin(h1.index)]"
   ]
  },
  {
   "cell_type": "code",
   "execution_count": 52,
   "metadata": {},
   "outputs": [
    {
     "data": {
      "text/plain": [
       "(33193, 7)"
      ]
     },
     "execution_count": 52,
     "metadata": {},
     "output_type": "execute_result"
    }
   ],
   "source": [
    "this_ch=2\n",
    "m2=me[(me.pos.isin(ezs[ezs.ch==this_ch].pos))&(me.ch==this_ch)]\n",
    "m2.shape"
   ]
  },
  {
   "cell_type": "code",
   "execution_count": 53,
   "metadata": {},
   "outputs": [],
   "source": [
    "mez=me[me.pos.isin(ezs.pos)]"
   ]
  },
  {
   "cell_type": "code",
   "execution_count": 54,
   "metadata": {},
   "outputs": [
    {
     "ename": "KeyError",
     "evalue": "\"None of [Int64Index([1671178, 1671179, 1671180, 1671181, 1671182, 1671183, 1671184,\\n            1671185, 1671186, 1671187,\\n            ...\\n            1823839, 1823840, 1823841, 1823842, 1823843, 1823844, 1823845,\\n            1823846, 1823847, 1823848],\\n           dtype='int64', length=33193)] are in the [index]\"",
     "output_type": "error",
     "traceback": [
      "\u001b[0;31m---------------------------------------------------------------------------\u001b[0m",
      "\u001b[0;31mKeyError\u001b[0m                                  Traceback (most recent call last)",
      "\u001b[0;32m<ipython-input-54-54426f4b21dc>\u001b[0m in \u001b[0;36m<module>\u001b[0;34m\u001b[0m\n\u001b[0;32m----> 1\u001b[0;31m \u001b[0mdg\u001b[0m\u001b[0;34m=\u001b[0m\u001b[0mpd\u001b[0m\u001b[0;34m.\u001b[0m\u001b[0mconcat\u001b[0m\u001b[0;34m(\u001b[0m\u001b[0;34m[\u001b[0m\u001b[0mdf\u001b[0m\u001b[0;34m.\u001b[0m\u001b[0mloc\u001b[0m\u001b[0;34m[\u001b[0m\u001b[0mm2\u001b[0m\u001b[0;34m.\u001b[0m\u001b[0mindex\u001b[0m\u001b[0;34m]\u001b[0m\u001b[0;34m.\u001b[0m\u001b[0mmean\u001b[0m\u001b[0;34m(\u001b[0m\u001b[0;34m)\u001b[0m\u001b[0;34m,\u001b[0m\u001b[0mmeta\u001b[0m\u001b[0;34m[\u001b[0m\u001b[0;34m[\u001b[0m\u001b[0;36m12\u001b[0m\u001b[0;34m,\u001b[0m\u001b[0;34m'age'\u001b[0m\u001b[0;34m]\u001b[0m\u001b[0;34m]\u001b[0m\u001b[0;34m.\u001b[0m\u001b[0mloc\u001b[0m\u001b[0;34m[\u001b[0m\u001b[0mdf\u001b[0m\u001b[0;34m.\u001b[0m\u001b[0mcolumns\u001b[0m\u001b[0;34m]\u001b[0m\u001b[0;34m]\u001b[0m\u001b[0;34m,\u001b[0m\u001b[0;36m1\u001b[0m\u001b[0;34m)\u001b[0m\u001b[0;34m\u001b[0m\u001b[0;34m\u001b[0m\u001b[0m\n\u001b[0m\u001b[1;32m      2\u001b[0m \u001b[0msns\u001b[0m\u001b[0;34m.\u001b[0m\u001b[0mscatterplot\u001b[0m\u001b[0;34m(\u001b[0m\u001b[0mdata\u001b[0m\u001b[0;34m=\u001b[0m\u001b[0mdg\u001b[0m\u001b[0;34m[\u001b[0m\u001b[0mdg\u001b[0m\u001b[0;34m[\u001b[0m\u001b[0;36m0\u001b[0m\u001b[0;34m]\u001b[0m\u001b[0;34m<\u001b[0m\u001b[0;36m20\u001b[0m\u001b[0;34m]\u001b[0m\u001b[0;34m,\u001b[0m\u001b[0mx\u001b[0m\u001b[0;34m=\u001b[0m\u001b[0;34m'age'\u001b[0m\u001b[0;34m,\u001b[0m\u001b[0my\u001b[0m\u001b[0;34m=\u001b[0m\u001b[0;36m0\u001b[0m\u001b[0;34m,\u001b[0m\u001b[0mhue\u001b[0m\u001b[0;34m=\u001b[0m\u001b[0;36m12\u001b[0m\u001b[0;34m)\u001b[0m\u001b[0;34m\u001b[0m\u001b[0;34m\u001b[0m\u001b[0m\n",
      "\u001b[0;32m~/anaconda3/envs/stem/lib/python3.9/site-packages/pandas/core/indexing.py\u001b[0m in \u001b[0;36m__getitem__\u001b[0;34m(self, key)\u001b[0m\n\u001b[1;32m    929\u001b[0m \u001b[0;34m\u001b[0m\u001b[0m\n\u001b[1;32m    930\u001b[0m             \u001b[0mmaybe_callable\u001b[0m \u001b[0;34m=\u001b[0m \u001b[0mcom\u001b[0m\u001b[0;34m.\u001b[0m\u001b[0mapply_if_callable\u001b[0m\u001b[0;34m(\u001b[0m\u001b[0mkey\u001b[0m\u001b[0;34m,\u001b[0m \u001b[0mself\u001b[0m\u001b[0;34m.\u001b[0m\u001b[0mobj\u001b[0m\u001b[0;34m)\u001b[0m\u001b[0;34m\u001b[0m\u001b[0;34m\u001b[0m\u001b[0m\n\u001b[0;32m--> 931\u001b[0;31m             \u001b[0;32mreturn\u001b[0m \u001b[0mself\u001b[0m\u001b[0;34m.\u001b[0m\u001b[0m_getitem_axis\u001b[0m\u001b[0;34m(\u001b[0m\u001b[0mmaybe_callable\u001b[0m\u001b[0;34m,\u001b[0m \u001b[0maxis\u001b[0m\u001b[0;34m=\u001b[0m\u001b[0maxis\u001b[0m\u001b[0;34m)\u001b[0m\u001b[0;34m\u001b[0m\u001b[0;34m\u001b[0m\u001b[0m\n\u001b[0m\u001b[1;32m    932\u001b[0m \u001b[0;34m\u001b[0m\u001b[0m\n\u001b[1;32m    933\u001b[0m     \u001b[0;32mdef\u001b[0m \u001b[0m_is_scalar_access\u001b[0m\u001b[0;34m(\u001b[0m\u001b[0mself\u001b[0m\u001b[0;34m,\u001b[0m \u001b[0mkey\u001b[0m\u001b[0;34m:\u001b[0m \u001b[0mtuple\u001b[0m\u001b[0;34m)\u001b[0m\u001b[0;34m:\u001b[0m\u001b[0;34m\u001b[0m\u001b[0;34m\u001b[0m\u001b[0m\n",
      "\u001b[0;32m~/anaconda3/envs/stem/lib/python3.9/site-packages/pandas/core/indexing.py\u001b[0m in \u001b[0;36m_getitem_axis\u001b[0;34m(self, key, axis)\u001b[0m\n\u001b[1;32m   1151\u001b[0m                     \u001b[0;32mraise\u001b[0m \u001b[0mValueError\u001b[0m\u001b[0;34m(\u001b[0m\u001b[0;34m\"Cannot index with multidimensional key\"\u001b[0m\u001b[0;34m)\u001b[0m\u001b[0;34m\u001b[0m\u001b[0;34m\u001b[0m\u001b[0m\n\u001b[1;32m   1152\u001b[0m \u001b[0;34m\u001b[0m\u001b[0m\n\u001b[0;32m-> 1153\u001b[0;31m                 \u001b[0;32mreturn\u001b[0m \u001b[0mself\u001b[0m\u001b[0;34m.\u001b[0m\u001b[0m_getitem_iterable\u001b[0m\u001b[0;34m(\u001b[0m\u001b[0mkey\u001b[0m\u001b[0;34m,\u001b[0m \u001b[0maxis\u001b[0m\u001b[0;34m=\u001b[0m\u001b[0maxis\u001b[0m\u001b[0;34m)\u001b[0m\u001b[0;34m\u001b[0m\u001b[0;34m\u001b[0m\u001b[0m\n\u001b[0m\u001b[1;32m   1154\u001b[0m \u001b[0;34m\u001b[0m\u001b[0m\n\u001b[1;32m   1155\u001b[0m             \u001b[0;31m# nested tuple slicing\u001b[0m\u001b[0;34m\u001b[0m\u001b[0;34m\u001b[0m\u001b[0;34m\u001b[0m\u001b[0m\n",
      "\u001b[0;32m~/anaconda3/envs/stem/lib/python3.9/site-packages/pandas/core/indexing.py\u001b[0m in \u001b[0;36m_getitem_iterable\u001b[0;34m(self, key, axis)\u001b[0m\n\u001b[1;32m   1091\u001b[0m \u001b[0;34m\u001b[0m\u001b[0m\n\u001b[1;32m   1092\u001b[0m         \u001b[0;31m# A collection of keys\u001b[0m\u001b[0;34m\u001b[0m\u001b[0;34m\u001b[0m\u001b[0;34m\u001b[0m\u001b[0m\n\u001b[0;32m-> 1093\u001b[0;31m         \u001b[0mkeyarr\u001b[0m\u001b[0;34m,\u001b[0m \u001b[0mindexer\u001b[0m \u001b[0;34m=\u001b[0m \u001b[0mself\u001b[0m\u001b[0;34m.\u001b[0m\u001b[0m_get_listlike_indexer\u001b[0m\u001b[0;34m(\u001b[0m\u001b[0mkey\u001b[0m\u001b[0;34m,\u001b[0m \u001b[0maxis\u001b[0m\u001b[0;34m)\u001b[0m\u001b[0;34m\u001b[0m\u001b[0;34m\u001b[0m\u001b[0m\n\u001b[0m\u001b[1;32m   1094\u001b[0m         return self.obj._reindex_with_indexers(\n\u001b[1;32m   1095\u001b[0m             \u001b[0;34m{\u001b[0m\u001b[0maxis\u001b[0m\u001b[0;34m:\u001b[0m \u001b[0;34m[\u001b[0m\u001b[0mkeyarr\u001b[0m\u001b[0;34m,\u001b[0m \u001b[0mindexer\u001b[0m\u001b[0;34m]\u001b[0m\u001b[0;34m}\u001b[0m\u001b[0;34m,\u001b[0m \u001b[0mcopy\u001b[0m\u001b[0;34m=\u001b[0m\u001b[0;32mTrue\u001b[0m\u001b[0;34m,\u001b[0m \u001b[0mallow_dups\u001b[0m\u001b[0;34m=\u001b[0m\u001b[0;32mTrue\u001b[0m\u001b[0;34m\u001b[0m\u001b[0;34m\u001b[0m\u001b[0m\n",
      "\u001b[0;32m~/anaconda3/envs/stem/lib/python3.9/site-packages/pandas/core/indexing.py\u001b[0m in \u001b[0;36m_get_listlike_indexer\u001b[0;34m(self, key, axis)\u001b[0m\n\u001b[1;32m   1312\u001b[0m             \u001b[0mkeyarr\u001b[0m\u001b[0;34m,\u001b[0m \u001b[0mindexer\u001b[0m\u001b[0;34m,\u001b[0m \u001b[0mnew_indexer\u001b[0m \u001b[0;34m=\u001b[0m \u001b[0max\u001b[0m\u001b[0;34m.\u001b[0m\u001b[0m_reindex_non_unique\u001b[0m\u001b[0;34m(\u001b[0m\u001b[0mkeyarr\u001b[0m\u001b[0;34m)\u001b[0m\u001b[0;34m\u001b[0m\u001b[0;34m\u001b[0m\u001b[0m\n\u001b[1;32m   1313\u001b[0m \u001b[0;34m\u001b[0m\u001b[0m\n\u001b[0;32m-> 1314\u001b[0;31m         \u001b[0mself\u001b[0m\u001b[0;34m.\u001b[0m\u001b[0m_validate_read_indexer\u001b[0m\u001b[0;34m(\u001b[0m\u001b[0mkeyarr\u001b[0m\u001b[0;34m,\u001b[0m \u001b[0mindexer\u001b[0m\u001b[0;34m,\u001b[0m \u001b[0maxis\u001b[0m\u001b[0;34m)\u001b[0m\u001b[0;34m\u001b[0m\u001b[0;34m\u001b[0m\u001b[0m\n\u001b[0m\u001b[1;32m   1315\u001b[0m \u001b[0;34m\u001b[0m\u001b[0m\n\u001b[1;32m   1316\u001b[0m         if needs_i8_conversion(ax.dtype) or isinstance(\n",
      "\u001b[0;32m~/anaconda3/envs/stem/lib/python3.9/site-packages/pandas/core/indexing.py\u001b[0m in \u001b[0;36m_validate_read_indexer\u001b[0;34m(self, key, indexer, axis)\u001b[0m\n\u001b[1;32m   1372\u001b[0m                 \u001b[0;32mif\u001b[0m \u001b[0muse_interval_msg\u001b[0m\u001b[0;34m:\u001b[0m\u001b[0;34m\u001b[0m\u001b[0;34m\u001b[0m\u001b[0m\n\u001b[1;32m   1373\u001b[0m                     \u001b[0mkey\u001b[0m \u001b[0;34m=\u001b[0m \u001b[0mlist\u001b[0m\u001b[0;34m(\u001b[0m\u001b[0mkey\u001b[0m\u001b[0;34m)\u001b[0m\u001b[0;34m\u001b[0m\u001b[0;34m\u001b[0m\u001b[0m\n\u001b[0;32m-> 1374\u001b[0;31m                 \u001b[0;32mraise\u001b[0m \u001b[0mKeyError\u001b[0m\u001b[0;34m(\u001b[0m\u001b[0;34mf\"None of [{key}] are in the [{axis_name}]\"\u001b[0m\u001b[0;34m)\u001b[0m\u001b[0;34m\u001b[0m\u001b[0;34m\u001b[0m\u001b[0m\n\u001b[0m\u001b[1;32m   1375\u001b[0m \u001b[0;34m\u001b[0m\u001b[0m\n\u001b[1;32m   1376\u001b[0m             \u001b[0mnot_found\u001b[0m \u001b[0;34m=\u001b[0m \u001b[0mlist\u001b[0m\u001b[0;34m(\u001b[0m\u001b[0mensure_index\u001b[0m\u001b[0;34m(\u001b[0m\u001b[0mkey\u001b[0m\u001b[0;34m)\u001b[0m\u001b[0;34m[\u001b[0m\u001b[0mmissing_mask\u001b[0m\u001b[0;34m.\u001b[0m\u001b[0mnonzero\u001b[0m\u001b[0;34m(\u001b[0m\u001b[0;34m)\u001b[0m\u001b[0;34m[\u001b[0m\u001b[0;36m0\u001b[0m\u001b[0;34m]\u001b[0m\u001b[0;34m]\u001b[0m\u001b[0;34m.\u001b[0m\u001b[0munique\u001b[0m\u001b[0;34m(\u001b[0m\u001b[0;34m)\u001b[0m\u001b[0;34m)\u001b[0m\u001b[0;34m\u001b[0m\u001b[0;34m\u001b[0m\u001b[0m\n",
      "\u001b[0;31mKeyError\u001b[0m: \"None of [Int64Index([1671178, 1671179, 1671180, 1671181, 1671182, 1671183, 1671184,\\n            1671185, 1671186, 1671187,\\n            ...\\n            1823839, 1823840, 1823841, 1823842, 1823843, 1823844, 1823845,\\n            1823846, 1823847, 1823848],\\n           dtype='int64', length=33193)] are in the [index]\""
     ]
    }
   ],
   "source": [
    "dg=pd.concat([df.loc[m2.index].mean(),meta[[12,'age']].loc[df.columns]],1)\n",
    "sns.scatterplot(data=dg[dg[0]<20],x='age',y=0,hue=12)"
   ]
  },
  {
   "cell_type": "code",
   "execution_count": 156,
   "metadata": {},
   "outputs": [
    {
     "data": {
      "text/html": [
       "<div>\n",
       "<style scoped>\n",
       "    .dataframe tbody tr th:only-of-type {\n",
       "        vertical-align: middle;\n",
       "    }\n",
       "\n",
       "    .dataframe tbody tr th {\n",
       "        vertical-align: top;\n",
       "    }\n",
       "\n",
       "    .dataframe thead th {\n",
       "        text-align: right;\n",
       "    }\n",
       "</style>\n",
       "<table border=\"1\" class=\"dataframe\">\n",
       "  <thead>\n",
       "    <tr style=\"text-align: right;\">\n",
       "      <th></th>\n",
       "      <th>0</th>\n",
       "      <th>age</th>\n",
       "    </tr>\n",
       "  </thead>\n",
       "  <tbody>\n",
       "    <tr>\n",
       "      <th>0</th>\n",
       "      <td>1.000000</td>\n",
       "      <td>0.469115</td>\n",
       "    </tr>\n",
       "    <tr>\n",
       "      <th>age</th>\n",
       "      <td>0.469115</td>\n",
       "      <td>1.000000</td>\n",
       "    </tr>\n",
       "  </tbody>\n",
       "</table>\n",
       "</div>"
      ],
      "text/plain": [
       "            0       age\n",
       "0    1.000000  0.469115\n",
       "age  0.469115  1.000000"
      ]
     },
     "execution_count": 156,
     "metadata": {},
     "output_type": "execute_result"
    }
   ],
   "source": [
    "dg.corr()"
   ]
  },
  {
   "cell_type": "code",
   "execution_count": 326,
   "metadata": {},
   "outputs": [
    {
     "data": {
      "text/plain": [
       "<AxesSubplot:xlabel='age', ylabel='0'>"
      ]
     },
     "execution_count": 326,
     "metadata": {},
     "output_type": "execute_result"
    },
    {
     "data": {
      "image/png": "[encoded data removed]",
      "text/plain": [
       "<Figure size 432x288 with 1 Axes>"
      ]
     },
     "metadata": {
      "needs_background": "light"
     },
     "output_type": "display_data"
    }
   ],
   "source": [
    "sns.scatterplot(data=dg[dg[0]<10],x='age',y=0,hue=12)"
   ]
  },
  {
   "cell_type": "code",
   "execution_count": 108,
   "metadata": {},
   "outputs": [
    {
     "data": {
      "text/html": [
       "<div>\n",
       "<style scoped>\n",
       "    .dataframe tbody tr th:only-of-type {\n",
       "        vertical-align: middle;\n",
       "    }\n",
       "\n",
       "    .dataframe tbody tr th {\n",
       "        vertical-align: top;\n",
       "    }\n",
       "\n",
       "    .dataframe thead th {\n",
       "        text-align: right;\n",
       "    }\n",
       "</style>\n",
       "<table border=\"1\" class=\"dataframe\">\n",
       "  <thead>\n",
       "    <tr style=\"text-align: right;\">\n",
       "      <th></th>\n",
       "      <th>i</th>\n",
       "      <th>p</th>\n",
       "      <th>c</th>\n",
       "      <th>m_ch</th>\n",
       "      <th>pos</th>\n",
       "      <th>ch</th>\n",
       "      <th>ez</th>\n",
       "    </tr>\n",
       "  </thead>\n",
       "  <tbody>\n",
       "    <tr>\n",
       "      <th>1860913</th>\n",
       "      <td>gi|372099109|ref|NC_000067.6|:10232210</td>\n",
       "      <td>0.0</td>\n",
       "      <td>12</td>\n",
       "      <td>NC_000067.6</td>\n",
       "      <td>10232210</td>\n",
       "      <td>1</td>\n",
       "      <td>True</td>\n",
       "    </tr>\n",
       "    <tr>\n",
       "      <th>1860914</th>\n",
       "      <td>gi|372099109|ref|NC_000067.6|:10232218</td>\n",
       "      <td>0.0</td>\n",
       "      <td>12</td>\n",
       "      <td>NC_000067.6</td>\n",
       "      <td>10232218</td>\n",
       "      <td>1</td>\n",
       "      <td>True</td>\n",
       "    </tr>\n",
       "    <tr>\n",
       "      <th>1860915</th>\n",
       "      <td>gi|372099109|ref|NC_000067.6|:10232239</td>\n",
       "      <td>0.0</td>\n",
       "      <td>40</td>\n",
       "      <td>NC_000067.6</td>\n",
       "      <td>10232239</td>\n",
       "      <td>1</td>\n",
       "      <td>True</td>\n",
       "    </tr>\n",
       "    <tr>\n",
       "      <th>1860916</th>\n",
       "      <td>gi|372099109|ref|NC_000067.6|:10232240</td>\n",
       "      <td>0.0</td>\n",
       "      <td>48</td>\n",
       "      <td>NC_000067.6</td>\n",
       "      <td>10232240</td>\n",
       "      <td>1</td>\n",
       "      <td>True</td>\n",
       "    </tr>\n",
       "    <tr>\n",
       "      <th>1860917</th>\n",
       "      <td>gi|372099109|ref|NC_000067.6|:10232247</td>\n",
       "      <td>0.0</td>\n",
       "      <td>25</td>\n",
       "      <td>NC_000067.6</td>\n",
       "      <td>10232247</td>\n",
       "      <td>1</td>\n",
       "      <td>True</td>\n",
       "    </tr>\n",
       "    <tr>\n",
       "      <th>...</th>\n",
       "      <td>...</td>\n",
       "      <td>...</td>\n",
       "      <td>...</td>\n",
       "      <td>...</td>\n",
       "      <td>...</td>\n",
       "      <td>...</td>\n",
       "      <td>...</td>\n",
       "    </tr>\n",
       "    <tr>\n",
       "      <th>1976929</th>\n",
       "      <td>gi|372099109|ref|NC_000067.6|:9968187</td>\n",
       "      <td>0.0</td>\n",
       "      <td>19</td>\n",
       "      <td>NC_000067.6</td>\n",
       "      <td>9968187</td>\n",
       "      <td>1</td>\n",
       "      <td>True</td>\n",
       "    </tr>\n",
       "    <tr>\n",
       "      <th>1976930</th>\n",
       "      <td>gi|372099109|ref|NC_000067.6|:9968190</td>\n",
       "      <td>0.0</td>\n",
       "      <td>14</td>\n",
       "      <td>NC_000067.6</td>\n",
       "      <td>9968190</td>\n",
       "      <td>1</td>\n",
       "      <td>True</td>\n",
       "    </tr>\n",
       "    <tr>\n",
       "      <th>1976931</th>\n",
       "      <td>gi|372099109|ref|NC_000067.6|:9968191</td>\n",
       "      <td>0.0</td>\n",
       "      <td>19</td>\n",
       "      <td>NC_000067.6</td>\n",
       "      <td>9968191</td>\n",
       "      <td>1</td>\n",
       "      <td>True</td>\n",
       "    </tr>\n",
       "    <tr>\n",
       "      <th>1976932</th>\n",
       "      <td>gi|372099109|ref|NC_000067.6|:9968197</td>\n",
       "      <td>0.0</td>\n",
       "      <td>22</td>\n",
       "      <td>NC_000067.6</td>\n",
       "      <td>9968197</td>\n",
       "      <td>1</td>\n",
       "      <td>True</td>\n",
       "    </tr>\n",
       "    <tr>\n",
       "      <th>1976933</th>\n",
       "      <td>gi|372099109|ref|NC_000067.6|:9968198</td>\n",
       "      <td>0.0</td>\n",
       "      <td>45</td>\n",
       "      <td>NC_000067.6</td>\n",
       "      <td>9968198</td>\n",
       "      <td>1</td>\n",
       "      <td>True</td>\n",
       "    </tr>\n",
       "  </tbody>\n",
       "</table>\n",
       "<p>20610 rows × 7 columns</p>\n",
       "</div>"
      ],
      "text/plain": [
       "                                              i    p   c         m_ch  \\\n",
       "1860913  gi|372099109|ref|NC_000067.6|:10232210  0.0  12  NC_000067.6   \n",
       "1860914  gi|372099109|ref|NC_000067.6|:10232218  0.0  12  NC_000067.6   \n",
       "1860915  gi|372099109|ref|NC_000067.6|:10232239  0.0  40  NC_000067.6   \n",
       "1860916  gi|372099109|ref|NC_000067.6|:10232240  0.0  48  NC_000067.6   \n",
       "1860917  gi|372099109|ref|NC_000067.6|:10232247  0.0  25  NC_000067.6   \n",
       "...                                         ...  ...  ..          ...   \n",
       "1976929   gi|372099109|ref|NC_000067.6|:9968187  0.0  19  NC_000067.6   \n",
       "1976930   gi|372099109|ref|NC_000067.6|:9968190  0.0  14  NC_000067.6   \n",
       "1976931   gi|372099109|ref|NC_000067.6|:9968191  0.0  19  NC_000067.6   \n",
       "1976932   gi|372099109|ref|NC_000067.6|:9968197  0.0  22  NC_000067.6   \n",
       "1976933   gi|372099109|ref|NC_000067.6|:9968198  0.0  45  NC_000067.6   \n",
       "\n",
       "              pos ch    ez  \n",
       "1860913  10232210  1  True  \n",
       "1860914  10232218  1  True  \n",
       "1860915  10232239  1  True  \n",
       "1860916  10232240  1  True  \n",
       "1860917  10232247  1  True  \n",
       "...           ... ..   ...  \n",
       "1976929   9968187  1  True  \n",
       "1976930   9968190  1  True  \n",
       "1976931   9968191  1  True  \n",
       "1976932   9968197  1  True  \n",
       "1976933   9968198  1  True  \n",
       "\n",
       "[20610 rows x 7 columns]"
      ]
     },
     "execution_count": 108,
     "metadata": {},
     "output_type": "execute_result"
    }
   ],
   "source": [
    "m1"
   ]
  },
  {
   "cell_type": "code",
   "execution_count": 157,
   "metadata": {},
   "outputs": [
    {
     "data": {
      "text/plain": [
       "(163, 7)"
      ]
     },
     "execution_count": 157,
     "metadata": {},
     "output_type": "execute_result"
    }
   ],
   "source": [
    "m1[m1.pos.isin(h1.index)].shape"
   ]
  },
  {
   "cell_type": "code",
   "execution_count": 161,
   "metadata": {},
   "outputs": [
    {
     "data": {
      "text/html": [
       "<div>\n",
       "<style scoped>\n",
       "    .dataframe tbody tr th:only-of-type {\n",
       "        vertical-align: middle;\n",
       "    }\n",
       "\n",
       "    .dataframe tbody tr th {\n",
       "        vertical-align: top;\n",
       "    }\n",
       "\n",
       "    .dataframe thead th {\n",
       "        text-align: right;\n",
       "    }\n",
       "</style>\n",
       "<table border=\"1\" class=\"dataframe\">\n",
       "  <thead>\n",
       "    <tr style=\"text-align: right;\">\n",
       "      <th></th>\n",
       "      <th>i</th>\n",
       "      <th>p</th>\n",
       "      <th>c</th>\n",
       "      <th>m_ch</th>\n",
       "      <th>pos</th>\n",
       "      <th>ch</th>\n",
       "      <th>ez</th>\n",
       "    </tr>\n",
       "  </thead>\n",
       "  <tbody>\n",
       "    <tr>\n",
       "      <th>1860913</th>\n",
       "      <td>gi|372099109|ref|NC_000067.6|:10232210</td>\n",
       "      <td>0.0</td>\n",
       "      <td>12</td>\n",
       "      <td>NC_000067.6</td>\n",
       "      <td>10232210</td>\n",
       "      <td>1</td>\n",
       "      <td>True</td>\n",
       "    </tr>\n",
       "    <tr>\n",
       "      <th>1860914</th>\n",
       "      <td>gi|372099109|ref|NC_000067.6|:10232218</td>\n",
       "      <td>0.0</td>\n",
       "      <td>12</td>\n",
       "      <td>NC_000067.6</td>\n",
       "      <td>10232218</td>\n",
       "      <td>1</td>\n",
       "      <td>True</td>\n",
       "    </tr>\n",
       "    <tr>\n",
       "      <th>1860915</th>\n",
       "      <td>gi|372099109|ref|NC_000067.6|:10232239</td>\n",
       "      <td>0.0</td>\n",
       "      <td>40</td>\n",
       "      <td>NC_000067.6</td>\n",
       "      <td>10232239</td>\n",
       "      <td>1</td>\n",
       "      <td>True</td>\n",
       "    </tr>\n",
       "    <tr>\n",
       "      <th>1860916</th>\n",
       "      <td>gi|372099109|ref|NC_000067.6|:10232240</td>\n",
       "      <td>0.0</td>\n",
       "      <td>48</td>\n",
       "      <td>NC_000067.6</td>\n",
       "      <td>10232240</td>\n",
       "      <td>1</td>\n",
       "      <td>True</td>\n",
       "    </tr>\n",
       "    <tr>\n",
       "      <th>1860917</th>\n",
       "      <td>gi|372099109|ref|NC_000067.6|:10232247</td>\n",
       "      <td>0.0</td>\n",
       "      <td>25</td>\n",
       "      <td>NC_000067.6</td>\n",
       "      <td>10232247</td>\n",
       "      <td>1</td>\n",
       "      <td>True</td>\n",
       "    </tr>\n",
       "    <tr>\n",
       "      <th>...</th>\n",
       "      <td>...</td>\n",
       "      <td>...</td>\n",
       "      <td>...</td>\n",
       "      <td>...</td>\n",
       "      <td>...</td>\n",
       "      <td>...</td>\n",
       "      <td>...</td>\n",
       "    </tr>\n",
       "    <tr>\n",
       "      <th>1976929</th>\n",
       "      <td>gi|372099109|ref|NC_000067.6|:9968187</td>\n",
       "      <td>0.0</td>\n",
       "      <td>19</td>\n",
       "      <td>NC_000067.6</td>\n",
       "      <td>9968187</td>\n",
       "      <td>1</td>\n",
       "      <td>True</td>\n",
       "    </tr>\n",
       "    <tr>\n",
       "      <th>1976930</th>\n",
       "      <td>gi|372099109|ref|NC_000067.6|:9968190</td>\n",
       "      <td>0.0</td>\n",
       "      <td>14</td>\n",
       "      <td>NC_000067.6</td>\n",
       "      <td>9968190</td>\n",
       "      <td>1</td>\n",
       "      <td>True</td>\n",
       "    </tr>\n",
       "    <tr>\n",
       "      <th>1976931</th>\n",
       "      <td>gi|372099109|ref|NC_000067.6|:9968191</td>\n",
       "      <td>0.0</td>\n",
       "      <td>19</td>\n",
       "      <td>NC_000067.6</td>\n",
       "      <td>9968191</td>\n",
       "      <td>1</td>\n",
       "      <td>True</td>\n",
       "    </tr>\n",
       "    <tr>\n",
       "      <th>1976932</th>\n",
       "      <td>gi|372099109|ref|NC_000067.6|:9968197</td>\n",
       "      <td>0.0</td>\n",
       "      <td>22</td>\n",
       "      <td>NC_000067.6</td>\n",
       "      <td>9968197</td>\n",
       "      <td>1</td>\n",
       "      <td>True</td>\n",
       "    </tr>\n",
       "    <tr>\n",
       "      <th>1976933</th>\n",
       "      <td>gi|372099109|ref|NC_000067.6|:9968198</td>\n",
       "      <td>0.0</td>\n",
       "      <td>45</td>\n",
       "      <td>NC_000067.6</td>\n",
       "      <td>9968198</td>\n",
       "      <td>1</td>\n",
       "      <td>True</td>\n",
       "    </tr>\n",
       "  </tbody>\n",
       "</table>\n",
       "<p>20610 rows × 7 columns</p>\n",
       "</div>"
      ],
      "text/plain": [
       "                                              i    p   c         m_ch  \\\n",
       "1860913  gi|372099109|ref|NC_000067.6|:10232210  0.0  12  NC_000067.6   \n",
       "1860914  gi|372099109|ref|NC_000067.6|:10232218  0.0  12  NC_000067.6   \n",
       "1860915  gi|372099109|ref|NC_000067.6|:10232239  0.0  40  NC_000067.6   \n",
       "1860916  gi|372099109|ref|NC_000067.6|:10232240  0.0  48  NC_000067.6   \n",
       "1860917  gi|372099109|ref|NC_000067.6|:10232247  0.0  25  NC_000067.6   \n",
       "...                                         ...  ...  ..          ...   \n",
       "1976929   gi|372099109|ref|NC_000067.6|:9968187  0.0  19  NC_000067.6   \n",
       "1976930   gi|372099109|ref|NC_000067.6|:9968190  0.0  14  NC_000067.6   \n",
       "1976931   gi|372099109|ref|NC_000067.6|:9968191  0.0  19  NC_000067.6   \n",
       "1976932   gi|372099109|ref|NC_000067.6|:9968197  0.0  22  NC_000067.6   \n",
       "1976933   gi|372099109|ref|NC_000067.6|:9968198  0.0  45  NC_000067.6   \n",
       "\n",
       "              pos ch    ez  \n",
       "1860913  10232210  1  True  \n",
       "1860914  10232218  1  True  \n",
       "1860915  10232239  1  True  \n",
       "1860916  10232240  1  True  \n",
       "1860917  10232247  1  True  \n",
       "...           ... ..   ...  \n",
       "1976929   9968187  1  True  \n",
       "1976930   9968190  1  True  \n",
       "1976931   9968191  1  True  \n",
       "1976932   9968197  1  True  \n",
       "1976933   9968198  1  True  \n",
       "\n",
       "[20610 rows x 7 columns]"
      ]
     },
     "execution_count": 161,
     "metadata": {},
     "output_type": "execute_result"
    }
   ],
   "source": [
    "m1"
   ]
  },
  {
   "cell_type": "code",
   "execution_count": null,
   "metadata": {},
   "outputs": [],
   "source": []
  }
 ],
 "metadata": {
  "kernelspec": {
   "display_name": "stem",
   "language": "python",
   "name": "stem"
  },
  "language_info": {
   "codemirror_mode": {
    "name": "ipython",
    "version": 3
   },
   "file_extension": ".py",
   "mimetype": "text/x-python",
   "name": "python",
   "nbconvert_exporter": "python",
   "pygments_lexer": "ipython3",
   "version": "3.9.2"
  }
 },
 "nbformat": 4,
 "nbformat_minor": 4
}
