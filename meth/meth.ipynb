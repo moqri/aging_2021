{
 "cells": [
  {
   "cell_type": "code",
   "execution_count": 3,
   "metadata": {},
   "outputs": [],
   "source": [
    "import pandas as pd\n",
    "import seaborn as sn\n",
    "import numpy as np\n",
    "import matplotlib.pyplot as plt\n",
    "from matplotlib import rc\n",
    "from sklearn.decomposition import PCA\n",
    "\n",
    "data='/oak/stanford/groups/smontgom/moqri/data/meth/'\n",
    "n=100\n",
    "\n",
    "def calc(cell):\n",
    "    print (cell)\n",
    "    df=pd.read_feather(data+cell+'.ft')\n",
    "    df=df.set_index('index')\n",
    "    print(df.shape)\n",
    "    cor=df.corrwith(df.age).drop('age').sort_values()\n",
    "    #print(cor)\n",
    "    #cor.hist(bins=100)\n",
    "    #plt.show()\n",
    "    topp=cor.tail(n).index\n",
    "    print(len(topp.intersection(cgi)))\n",
    "    topn=cor.head(n).index\n",
    "    y=df[df.age<df.age.quantile(1/3)].median().drop('age')\n",
    "    o=df[df.age>df.age.quantile(2/3)].median().drop('age')\n",
    "    dg=pd.concat([sp.median(),hsc.median(),y,df.drop('age',1).median(),o],1)\n",
    "    dg.columns=['sp','hsc','y','m','o']\n",
    "    dg['up_sp']=dg.m>dg.sp\n",
    "    dg['up_hsc']=dg.m>dg.hsc\n",
    "    print(dg.loc[topp].up_sp.value_counts())\n",
    "    print(dg.loc[topp].up_hsc.value_counts())\n",
    "    fig, ax = plt.subplots()\n",
    "    fig.set_size_inches(4,3)    \n",
    "    sn.lineplot(data=dg.loc[topp][['sp','hsc','y','m','o']].T,legend=False)\n",
    "    ax.set_xticklabels(['Sperm','HESC','Young','Middle','Old'])\n",
    "    ax.set_ylabel(\"Methylation Level (median beta)\")\n",
    "    plt.show()\n",
    "    fig, ax = plt.subplots()\n",
    "    dgp=dg.loc[topp][['up_sp','up_hsc']].sum()\n",
    "    dgp['Island']=len(topp.intersection(cgi))\n",
    "    fig.set_size_inches(4,3)    \n",
    "    sn.barplot(dgp.index, dgp.values)\n",
    "    ax.set_xticklabels(['Up (Sperm)','Up (HESC)','Island'])\n",
    "    ax.set_ylabel(\"Number of CpGs (out of top 100)\")\n",
    "    ax.set_ylim(0,100)    \n",
    "    plt.show()  \n",
    "    print(dg.loc[topn].up_sp.value_counts())\n",
    "    print(dg.loc[topn].up_hsc.value_counts())\n",
    "    sn.lineplot(data=dg.loc[topn][['sp','hsc','y','m','o']].T,legend=False);plt.show()\n",
    "    dg.loc[topn][['up_sp','up_hsc']].sum().plot(kind='bar');plt.show()    \n",
    "    return (df)"
   ]
  },
  {
   "cell_type": "code",
   "execution_count": 5,
   "metadata": {},
   "outputs": [
    {
     "name": "stderr",
     "output_type": "stream",
     "text": [
      "/home/moqri/anaconda3/envs/stem/lib/python3.9/site-packages/IPython/core/interactiveshell.py:3437: DtypeWarning: Columns (14,15) have mixed types.Specify dtype option on import or set low_memory=False.\n",
      "  exec(code_obj, self.user_global_ns, self.user_ns)\n"
     ]
    },
    {
     "name": "stdout",
     "output_type": "stream",
     "text": [
      "(473864, 39)\n"
     ]
    }
   ],
   "source": [
    "man=pd.read_csv(data+'manm.csv',index_col=0)\n",
    "print(man.shape)"
   ]
  },
  {
   "cell_type": "code",
   "execution_count": 6,
   "metadata": {},
   "outputs": [
    {
     "name": "stdout",
     "output_type": "stream",
     "text": [
      "(23, 473864)\n"
     ]
    }
   ],
   "source": [
    "ips=pd.read_feather(data+'ips.ft')\n",
    "ips=ips.set_index('index')\n",
    "ips=ips[man.index]\n",
    "print(ips.shape)"
   ]
  },
  {
   "cell_type": "code",
   "execution_count": 7,
   "metadata": {},
   "outputs": [
    {
     "data": {
      "text/plain": [
       "index\n",
       "GSM867976    0.987269\n",
       "GSM867970    0.988361\n",
       "GSM867981    0.988579\n",
       "GSM867969    0.988645\n",
       "GSM867972    0.988774\n",
       "GSM867989    0.989019\n",
       "GSM867982    0.989046\n",
       "GSM867967    0.989047\n",
       "GSM867977    0.989060\n",
       "GSM867979    0.989470\n",
       "GSM867987    0.989543\n",
       "GSM867974    0.989567\n",
       "GSM867973    0.989579\n",
       "GSM867975    0.989625\n",
       "GSM867971    0.989640\n",
       "GSM867980    0.989664\n",
       "GSM867978    0.989871\n",
       "GSM867968    0.990058\n",
       "GSM867983    0.990240\n",
       "GSM867985    0.990637\n",
       "GSM867984    0.990678\n",
       "GSM867988    0.990789\n",
       "dtype: float64"
      ]
     },
     "execution_count": 7,
     "metadata": {},
     "output_type": "execute_result"
    }
   ],
   "source": [
    "icor=ips.T.corr().mean().sort_values()\n",
    "icor[1:]"
   ]
  },
  {
   "cell_type": "code",
   "execution_count": 8,
   "metadata": {},
   "outputs": [
    {
     "name": "stdout",
     "output_type": "stream",
     "text": [
      "(19, 473864)\n"
     ]
    }
   ],
   "source": [
    "hsc1=pd.read_feather(data+'hsc1.ft')\n",
    "hsc1=hsc1.set_index('index')\n",
    "hsc1=hsc1[man.index]\n",
    "print(hsc1.shape)"
   ]
  },
  {
   "cell_type": "code",
   "execution_count": 9,
   "metadata": {},
   "outputs": [
    {
     "data": {
      "text/plain": [
       "index\n",
       "GSM867944    0.967310\n",
       "GSM867943    0.968888\n",
       "GSM867942    0.969791\n",
       "GSM867939    0.970496\n",
       "GSM867945    0.970664\n",
       "GSM867951    0.972906\n",
       "GSM867938    0.973234\n",
       "GSM867940    0.973572\n",
       "GSM867952    0.973624\n",
       "GSM867946    0.974002\n",
       "GSM867941    0.975080\n",
       "GSM867950    0.975322\n",
       "GSM867937    0.976088\n",
       "GSM867954    0.976997\n",
       "GSM867936    0.977091\n",
       "GSM867953    0.977371\n",
       "dtype: float64"
      ]
     },
     "execution_count": 9,
     "metadata": {},
     "output_type": "execute_result"
    }
   ],
   "source": [
    "hcor1=hsc1.T.corr().mean().sort_values()\n",
    "hcor1[3:]"
   ]
  },
  {
   "cell_type": "code",
   "execution_count": 10,
   "metadata": {},
   "outputs": [
    {
     "name": "stdout",
     "output_type": "stream",
     "text": [
      "(13, 473864)\n"
     ]
    }
   ],
   "source": [
    "hsc2=pd.read_feather(data+'hsc2.ft')\n",
    "hsc2=hsc2.set_index('index')\n",
    "hsc2=hsc2[man.index]\n",
    "print(hsc2.shape)"
   ]
  },
  {
   "cell_type": "code",
   "execution_count": 11,
   "metadata": {},
   "outputs": [
    {
     "data": {
      "text/plain": [
       "index\n",
       "GSM1427172    0.964833\n",
       "GSM1427175    0.970178\n",
       "GSM1427173    0.970199\n",
       "GSM1427174    0.970889\n",
       "GSM1427170    0.971361\n",
       "GSM1427176    0.971581\n",
       "GSM1427287    0.974741\n",
       "GSM1427286    0.974848\n",
       "GSM1427285    0.974990\n",
       "GSM1427288    0.975039\n",
       "GSM1427284    0.975278\n",
       "GSM1427169    0.976134\n",
       "GSM1427171    0.978273\n",
       "dtype: float64"
      ]
     },
     "execution_count": 11,
     "metadata": {},
     "output_type": "execute_result"
    }
   ],
   "source": [
    "hcor2=hsc2.T.corr().mean().sort_values()\n",
    "hcor2"
   ]
  },
  {
   "cell_type": "code",
   "execution_count": 12,
   "metadata": {},
   "outputs": [
    {
     "data": {
      "text/plain": [
       "(29, 473864)"
      ]
     },
     "execution_count": 12,
     "metadata": {},
     "output_type": "execute_result"
    }
   ],
   "source": [
    "hsc=hsc1[3:].append(hsc2)\n",
    "hsc.shape"
   ]
  },
  {
   "cell_type": "code",
   "execution_count": 13,
   "metadata": {},
   "outputs": [
    {
     "name": "stdout",
     "output_type": "stream",
     "text": [
      "145842\n"
     ]
    }
   ],
   "source": [
    "cgi=man[man['Relation_to_UCSC_CpG_Island']=='Island'].index.intersection(hsc.columns)\n",
    "print(len(cgi))"
   ]
  },
  {
   "cell_type": "code",
   "execution_count": 14,
   "metadata": {},
   "outputs": [
    {
     "name": "stdout",
     "output_type": "stream",
     "text": [
      "(37, 485513)\n"
     ]
    }
   ],
   "source": [
    "sp=pd.read_feather(data+'sp.ft')\n",
    "sp=sp.set_index('index')\n",
    "print(sp.shape)"
   ]
  },
  {
   "cell_type": "code",
   "execution_count": null,
   "metadata": {},
   "outputs": [],
   "source": [
    "cells=['liver','wb','t','mono']\n",
    "for cell in cells:\n",
    "    df=calc(cell)"
   ]
  },
  {
   "cell_type": "code",
   "execution_count": 15,
   "metadata": {},
   "outputs": [],
   "source": [
    "cell='t'\n",
    "df=pd.read_feather(data+cell+'.ft')"
   ]
  },
  {
   "cell_type": "code",
   "execution_count": 16,
   "metadata": {},
   "outputs": [
    {
     "name": "stdout",
     "output_type": "stream",
     "text": [
      "(214, 485578)\n"
     ]
    }
   ],
   "source": [
    "    df=df.set_index('index')\n",
    "    print(df.shape)\n",
    "    cor=df.corrwith(df.age).drop('age').sort_values()\n",
    "    #print(cor)\n",
    "    #cor.hist(bins=100)\n",
    "    #plt.show()"
   ]
  },
  {
   "cell_type": "code",
   "execution_count": 18,
   "metadata": {},
   "outputs": [
    {
     "data": {
      "text/plain": [
       "cg03638795   -0.444816\n",
       "cg05093315   -0.423376\n",
       "cg15393490   -0.420762\n",
       "cg19283806   -0.415885\n",
       "cg05412028   -0.415459\n",
       "                ...   \n",
       "cg14361627    0.528184\n",
       "cg06784991    0.531159\n",
       "cg06639320    0.552125\n",
       "cg07544187    0.565068\n",
       "cg16867657    0.576630\n",
       "Length: 485577, dtype: float64"
      ]
     },
     "execution_count": 18,
     "metadata": {},
     "output_type": "execute_result"
    }
   ],
   "source": [
    "cor"
   ]
  },
  {
   "cell_type": "code",
   "execution_count": 14,
   "metadata": {},
   "outputs": [],
   "source": [
    "n=100\n",
    "topp=cor.tail(n).index\n",
    "#topp=cor.tail(0).index"
   ]
  },
  {
   "cell_type": "code",
   "execution_count": 21,
   "metadata": {},
   "outputs": [
    {
     "data": {
      "text/plain": [
       "Index(['cg06782035', 'cg21572722', 'cg08097417', 'cg24724428', 'cg22454769',\n",
       "       'cg14361627', 'cg06784991', 'cg06639320', 'cg07544187', 'cg16867657'],\n",
       "      dtype='object')"
      ]
     },
     "execution_count": 21,
     "metadata": {},
     "output_type": "execute_result"
    }
   ],
   "source": [
    "topp[-10:]"
   ]
  },
  {
   "cell_type": "code",
   "execution_count": 16,
   "metadata": {},
   "outputs": [],
   "source": [
    "topn=cor.head(n).index\n",
    "#topn=cor.head(0).index        "
   ]
  },
  {
   "cell_type": "code",
   "execution_count": 17,
   "metadata": {},
   "outputs": [
    {
     "data": {
      "text/plain": [
       "Index(['cg03638795', 'cg05093315', 'cg15393490', 'cg19283806', 'cg05412028',\n",
       "       'cg10501210', 'cg03484180', 'cg08337633', 'cg07211259', 'cg22793142'],\n",
       "      dtype='object')"
      ]
     },
     "execution_count": 17,
     "metadata": {},
     "output_type": "execute_result"
    }
   ],
   "source": [
    "topn[:10]"
   ]
  },
  {
   "cell_type": "code",
   "execution_count": 513,
   "metadata": {},
   "outputs": [],
   "source": [
    "x=df.reset_index(drop=True)[topp.tolist()+topn.tolist()]"
   ]
  },
  {
   "cell_type": "code",
   "execution_count": 514,
   "metadata": {},
   "outputs": [],
   "source": [
    "#x=(x.append(hsc.loc[:,topp.tolist()+topn.tolist()]).reset_index(drop=True))\n",
    "#x=(x.append(ips.loc[icor[1:].index,topp.tolist()+topn.tolist()]).reset_index(drop=True))\n",
    "#x=x.apply(lambda y: y.fillna(y.mean()),axis=0)"
   ]
  },
  {
   "cell_type": "code",
   "execution_count": 515,
   "metadata": {},
   "outputs": [],
   "source": [
    "pca = PCA(n_components=2)\n",
    "principalComponents = pca.fit_transform(x)\n",
    "principalDf = pd.DataFrame(data = principalComponents\n",
    "             , columns = ['principal component 1', 'principal component 2'])"
   ]
  },
  {
   "cell_type": "code",
   "execution_count": 517,
   "metadata": {},
   "outputs": [
    {
     "data": {
      "text/html": [
       "<div>\n",
       "<style scoped>\n",
       "    .dataframe tbody tr th:only-of-type {\n",
       "        vertical-align: middle;\n",
       "    }\n",
       "\n",
       "    .dataframe tbody tr th {\n",
       "        vertical-align: top;\n",
       "    }\n",
       "\n",
       "    .dataframe thead th {\n",
       "        text-align: right;\n",
       "    }\n",
       "</style>\n",
       "<table border=\"1\" class=\"dataframe\">\n",
       "  <thead>\n",
       "    <tr style=\"text-align: right;\">\n",
       "      <th></th>\n",
       "      <th>principal component 1</th>\n",
       "      <th>principal component 2</th>\n",
       "      <th>target</th>\n",
       "    </tr>\n",
       "  </thead>\n",
       "  <tbody>\n",
       "    <tr>\n",
       "      <th>0</th>\n",
       "      <td>-0.215274</td>\n",
       "      <td>-0.125833</td>\n",
       "      <td>old</td>\n",
       "    </tr>\n",
       "    <tr>\n",
       "      <th>1</th>\n",
       "      <td>0.328411</td>\n",
       "      <td>-0.141259</td>\n",
       "      <td>old</td>\n",
       "    </tr>\n",
       "    <tr>\n",
       "      <th>2</th>\n",
       "      <td>0.062613</td>\n",
       "      <td>-0.082914</td>\n",
       "      <td>old</td>\n",
       "    </tr>\n",
       "    <tr>\n",
       "      <th>3</th>\n",
       "      <td>-0.025295</td>\n",
       "      <td>-0.143353</td>\n",
       "      <td>young</td>\n",
       "    </tr>\n",
       "    <tr>\n",
       "      <th>4</th>\n",
       "      <td>-0.086058</td>\n",
       "      <td>-0.069644</td>\n",
       "      <td>young</td>\n",
       "    </tr>\n",
       "    <tr>\n",
       "      <th>...</th>\n",
       "      <td>...</td>\n",
       "      <td>...</td>\n",
       "      <td>...</td>\n",
       "    </tr>\n",
       "    <tr>\n",
       "      <th>651</th>\n",
       "      <td>0.333654</td>\n",
       "      <td>-0.109898</td>\n",
       "      <td>old</td>\n",
       "    </tr>\n",
       "    <tr>\n",
       "      <th>652</th>\n",
       "      <td>0.053889</td>\n",
       "      <td>-0.029135</td>\n",
       "      <td>old</td>\n",
       "    </tr>\n",
       "    <tr>\n",
       "      <th>653</th>\n",
       "      <td>-0.039123</td>\n",
       "      <td>-0.029670</td>\n",
       "      <td>old</td>\n",
       "    </tr>\n",
       "    <tr>\n",
       "      <th>654</th>\n",
       "      <td>0.048025</td>\n",
       "      <td>0.009879</td>\n",
       "      <td>young</td>\n",
       "    </tr>\n",
       "    <tr>\n",
       "      <th>655</th>\n",
       "      <td>0.197403</td>\n",
       "      <td>-0.055906</td>\n",
       "      <td>old</td>\n",
       "    </tr>\n",
       "  </tbody>\n",
       "</table>\n",
       "<p>656 rows × 3 columns</p>\n",
       "</div>"
      ],
      "text/plain": [
       "     principal component 1  principal component 2 target\n",
       "0                -0.215274              -0.125833    old\n",
       "1                 0.328411              -0.141259    old\n",
       "2                 0.062613              -0.082914    old\n",
       "3                -0.025295              -0.143353  young\n",
       "4                -0.086058              -0.069644  young\n",
       "..                     ...                    ...    ...\n",
       "651               0.333654              -0.109898    old\n",
       "652               0.053889              -0.029135    old\n",
       "653              -0.039123              -0.029670    old\n",
       "654               0.048025               0.009879  young\n",
       "655               0.197403              -0.055906    old\n",
       "\n",
       "[656 rows x 3 columns]"
      ]
     },
     "execution_count": 517,
     "metadata": {},
     "output_type": "execute_result"
    }
   ],
   "source": [
    "x['target']=pd.qcut(df.age,2,labels=['young','old']).values.tolist()#+['esc']*len(hsc)+['ips']*(len(ips)-1)\n",
    "finalDf = pd.concat([principalDf, x[['target']]], axis = 1)\n",
    "finalDf"
   ]
  },
  {
   "cell_type": "code",
   "execution_count": 518,
   "metadata": {},
   "outputs": [
    {
     "data": {
      "image/png": "[encoded data removed]",
      "text/plain": [
       "<Figure size 720x360 with 1 Axes>"
      ]
     },
     "metadata": {
      "needs_background": "light"
     },
     "output_type": "display_data"
    }
   ],
   "source": [
    "fig = plt.figure(figsize=(10,5))\n",
    "ax = fig.add_subplot(1,1,1) \n",
    "ax.set_xlabel('Principal Component 1', fontsize = 15)\n",
    "ax.set_ylabel('Principal Component 2', fontsize = 15)\n",
    "ax.set_title('2 component PCA', fontsize = 20)\n",
    "targets = ['young','old','esc','ips']\n",
    "colors = ['g', 'r','b','m']\n",
    "for target, color in zip(targets,colors):\n",
    "    indicesToKeep = finalDf['target'] == target\n",
    "    ax.scatter(finalDf.loc[indicesToKeep, 'principal component 1']\n",
    "               , finalDf.loc[indicesToKeep, 'principal component 2']\n",
    "               , c = color\n",
    "               , s = 5)\n",
    "ax.legend(targets)\n",
    "ax.grid()"
   ]
  },
  {
   "cell_type": "code",
   "execution_count": 519,
   "metadata": {},
   "outputs": [],
   "source": [
    "x=(hsc.loc[:,topp.tolist()+topn.tolist()]).reset_index(drop=True)\n",
    "x=x.apply(lambda y: y.fillna(y.mean()),axis=0)\n",
    "hsct=pca.transform(x)\n",
    "hsct=pd.DataFrame(hsct)\n",
    "hsct.columns = ['principal component 1', 'principal component 2']\n",
    "hsct['target']='esc'"
   ]
  },
  {
   "cell_type": "code",
   "execution_count": 521,
   "metadata": {},
   "outputs": [],
   "source": [
    "finalDf=finalDf.append(hsct)\n",
    "x=(ips.loc[icor[1:].index,topp.tolist()+topn.tolist()]).reset_index(drop=True)\n",
    "x=x.apply(lambda y: y.fillna(y.mean()),axis=0)\n",
    "hsct=pca.transform(x)\n",
    "hsct=pd.DataFrame(hsct)\n",
    "hsct.columns = ['principal component 1', 'principal component 2']\n",
    "hsct['target']='ips'"
   ]
  },
  {
   "cell_type": "code",
   "execution_count": 523,
   "metadata": {},
   "outputs": [
    {
     "data": {
      "image/png": "[encoded data removed]",
      "text/plain": [
       "<Figure size 720x360 with 1 Axes>"
      ]
     },
     "metadata": {
      "needs_background": "light"
     },
     "output_type": "display_data"
    }
   ],
   "source": [
    "finalDf=finalDf.append(hsct)\n",
    "fig = plt.figure(figsize=(10,5))\n",
    "ax = fig.add_subplot(1,1,1) \n",
    "ax.set_xlabel('Principal Component 1', fontsize = 15)\n",
    "ax.set_ylabel('Principal Component 2', fontsize = 15)\n",
    "ax.set_title('2 component PCA', fontsize = 20)\n",
    "targets = ['young','old','esc','ips']\n",
    "colors = ['g', 'r','b','c']\n",
    "for target, color in zip(targets,colors):\n",
    "    indicesToKeep = finalDf['target'] == target\n",
    "    ax.scatter(finalDf.loc[indicesToKeep, 'principal component 1']\n",
    "               , finalDf.loc[indicesToKeep, 'principal component 2']\n",
    "               , c = color\n",
    "               , s = 5)\n",
    "ax.legend(targets)\n",
    "ax.grid()"
   ]
  },
  {
   "cell_type": "code",
   "execution_count": 524,
   "metadata": {},
   "outputs": [
    {
     "data": {
      "text/plain": [
       "array([0.48438278, 0.05427765])"
      ]
     },
     "execution_count": 524,
     "metadata": {},
     "output_type": "execute_result"
    }
   ],
   "source": [
    "pca.explained_variance_ratio_"
   ]
  },
  {
   "cell_type": "code",
   "execution_count": 527,
   "metadata": {},
   "outputs": [],
   "source": [
    "finalDf['principal component 1']=finalDf['principal component 1']*(-1)"
   ]
  },
  {
   "cell_type": "code",
   "execution_count": 528,
   "metadata": {},
   "outputs": [
    {
     "data": {
      "image/png": "[encoded data removed]",
      "text/plain": [
       "<Figure size 432x288 with 1 Axes>"
      ]
     },
     "metadata": {
      "needs_background": "light"
     },
     "output_type": "display_data"
    }
   ],
   "source": [
    "fig, ax = plt.subplots()\n",
    "sn.boxplot(data=finalDf[['principal component 1','target']],y='principal component 1',x='target',order=['esc','young','old','ips'],\n",
    "          ax=ax)\n",
    "ax.set_xlabel(\"\");\n"
   ]
  },
  {
   "cell_type": "code",
   "execution_count": null,
   "metadata": {},
   "outputs": [],
   "source": []
  }
 ],
 "metadata": {
  "kernelspec": {
   "display_name": "stem",
   "language": "python",
   "name": "stem"
  },
  "language_info": {
   "codemirror_mode": {
    "name": "ipython",
    "version": 3
   },
   "file_extension": ".py",
   "mimetype": "text/x-python",
   "name": "python",
   "nbconvert_exporter": "python",
   "pygments_lexer": "ipython3",
   "version": "3.9.2"
  }
 },
 "nbformat": 4,
 "nbformat_minor": 4
}
