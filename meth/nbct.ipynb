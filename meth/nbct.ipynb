{
 "cells": [
  {
   "cell_type": "code",
   "execution_count": 1,
   "metadata": {},
   "outputs": [
    {
     "name": "stdout",
     "output_type": "stream",
     "text": [
      "(16277, 9)\n"
     ]
    }
   ],
   "source": [
    "import pandas as pd\n",
    "import pyBigWig\n",
    "import numpy as np\n",
    "import seaborn as sns\n",
    "v='38'\n",
    "#nbct_file='https://ftp.ncbi.nlm.nih.gov/geo/series/GSE30nnn/GSE30870/matrix/GSE30870_series_matrix.txt.gz'\n",
    "#md_file='https://ftp.ncbi.nlm.nih.gov/geo/series/GSE33nnn/GSE33233/matrix/GSE33233_series_matrix.txt.gz'\n",
    "#nb_file='http://smithdata.usc.edu/methbase/data/Heyn-Human-NewbornCentenarian-2012/Human_CD4T-Newborn/tracks_hg'+v'+/Human_CD4T-Newborn.hmr.bb'\n",
    "#ct_file='http://smithdata.usc.edu/methbase/data/Heyn-Human-NewbornCentenarian-2012/Human_CD4T-100yr/tracks_hg'+v'+/Human_CD4T-100yr.hmr.bb'\n",
    "data='/oak/stanford/groups/smontgom/moqri/data/meth/'\n",
    "ct_bw='http://smithdata.usc.edu/methbase/data/Heyn-Human-NewbornCentenarian-2012/Human_CD4T-100yr/tracks_hg'+v+'/Human_CD4T-100yr.meth.bw'\n",
    "nb_bw='http://smithdata.usc.edu/methbase/data/Heyn-Human-NewbornCentenarian-2012/Human_CD4T-Newborn/tracks_hg'+v+'/Human_CD4T-Newborn.meth.bw'\n",
    "h_bw='http://smithdata.usc.edu/methbase/data/Xie-Human-2013/Human_H9/tracks_hg'+v+'/Human_H9.meth.bw'\n",
    "#h_bw='http://smithdata.usc.edu/methbase/data/Laurent-ESC-2010/Human_H9ESC/tracks_hg'+v+'/Human_H9ESC.meth.bw'\n",
    "#i_bw='http://smithdata.usc.edu/methbase/data/Lister-iPSC-2011/Human_ADSiPSC/tracks_hg'+v+'/Human_ADSiPSC.meth.bw'\n",
    "i_bw='http://smithdata.usc.edu/methbase/data/Lister-iPSC-2011/Human_FFiPSC69/tracks_hg'+v+'/Human_FFiPSC69.meth.bw'\n",
    "so_bw='http://smithdata.usc.edu/methbase/data/Vandiver-Human-2015/Human_Epidermis-old-sun-exposed/tracks_hg'+v+'/Human_Epidermis-old-sun-exposed.meth.bw'\n",
    "#so_bw='http://smithdata.usc.edu/methbase/data/Vandiver-Human-2015/Human_Epidermis-old-sun-protected/tracks_hg'+v'+/Human_Epidermis-old-sun-protected.meth.bw'\n",
    "sy_bw='http://smithdata.usc.edu/methbase/data/Vandiver-Human-2015/Human_Epidermis-young-sun-exposed/tracks_hg'+v+'/Human_Epidermis-young-sun-exposed.meth.bw'\n",
    "#sy_bw='http://smithdata.usc.edu/methbase/data/Vandiver-Human-2015/Human_Epidermis-young-sun-protected/tracks_hg'+v'+/Human_Epidermis-young-sun-protected.meth.bw'\n",
    "#hg19 h3k27='https://ftp.ncbi.nlm.nih.gov/geo/samples/GSM733nnn/GSM733748/suppl/GSM733748_hg19_wgEncodeBroadHistoneH1hescH3k27me3StdPk.broadPeak.gz'\n",
    "#hg19 h3k4='https://ftp.ncbi.nlm.nih.gov/geo/samples/GSM733nnn/GSM733637/suppl/GSM733637_hg19_wgEncodeBroadHistoneHsmmH3k4me3StdPk.broadPeak.gz'\n",
    "ezh_pk='https://ftp.ncbi.nlm.nih.gov/geo/series/GSE76nnn/GSE76626/suppl/GSE76626_ChIP-Seq_RPM.txt.gz'\n",
    "suz=pd.read_table('suz',skiprows=1)\n",
    "print(suz.shape)\n",
    "def f(cell,ch):\n",
    "    df=bws[cell].intervals(\"chr\"+str(ch))\n",
    "    print(len(df))\n",
    "    df=pd.DataFrame(df)\n",
    "    df.index=df[0]\n",
    "    df=df[2]\n",
    "    dfs.append(df)    \n",
    "    return(dfs)"
   ]
  },
  {
   "cell_type": "code",
   "execution_count": 2,
   "metadata": {},
   "outputs": [
    {
     "name": "stderr",
     "output_type": "stream",
     "text": [
      "/home/moqri/anaconda3/envs/stem/lib/python3.9/site-packages/IPython/core/interactiveshell.py:3437: DtypeWarning: Columns (1) have mixed types.Specify dtype option on import or set low_memory=False.\n",
      "  exec(code_obj, self.user_global_ns, self.user_ns)\n"
     ]
    },
    {
     "data": {
      "text/plain": [
       "(1219, 4)"
      ]
     },
     "execution_count": 2,
     "metadata": {},
     "output_type": "execute_result"
    }
   ],
   "source": [
    "ezh=pd.read_table(ezh_pk,index_col=0)\n",
    "ezh=ezh[ezh.Chromosome!='MT']\n",
    "ezh=ezh[['Chromosome','Start','End','WT_EZH2']][ezh['WT_EZH2']>2]\n",
    "ezh.columns=['chrom', 'chromStart', 'chromEnd', 'value']\n",
    "ezh['chrom']=ezh.chrom.astype(str)\n",
    "ezh.shape"
   ]
  },
  {
   "cell_type": "code",
   "execution_count": 3,
   "metadata": {},
   "outputs": [],
   "source": [
    "blood=[i_bw,h_bw,nb_bw,ct_bw]\n",
    "skin=[i_bw,h_bw,sy_bw,so_bw]"
   ]
  },
  {
   "cell_type": "code",
   "execution_count": 11,
   "metadata": {},
   "outputs": [],
   "source": [
    "cells=skin\n",
    "#cells=blood\n",
    "bws={}\n",
    "for cell in cells:\n",
    "    bws[cell]=pyBigWig.open(cell)"
   ]
  },
  {
   "cell_type": "code",
   "execution_count": 12,
   "metadata": {},
   "outputs": [
    {
     "name": "stdout",
     "output_type": "stream",
     "text": [
      "1\n",
      "2262349\n",
      "2264861\n",
      "2264861\n",
      "2264861\n"
     ]
    },
    {
     "name": "stderr",
     "output_type": "stream",
     "text": [
      "<ipython-input-12-666d4009d2a5>:15: FutureWarning: In a future version of pandas all arguments of concat except for the argument 'objs' will be keyword-only\n",
      "  df=pd.concat(dfs,1)\n",
      "<ipython-input-12-666d4009d2a5>:21: UserWarning: Boolean Series key will be reindexed to match DataFrame index.\n",
      "  ez=df[df.h<.5][df['ez']]\n"
     ]
    },
    {
     "name": "stdout",
     "output_type": "stream",
     "text": [
      "(7925, 6)\n",
      "2\n",
      "2152283\n",
      "2160685\n",
      "2160685\n",
      "2160685\n",
      "(13208, 6)\n",
      "3\n",
      "1621655\n",
      "1623298\n",
      "1623298\n",
      "1623298\n",
      "(3242, 6)\n",
      "4\n",
      "1461107\n",
      "1473490\n",
      "1473490\n",
      "1473490\n",
      "(4284, 6)\n",
      "5\n",
      "1506105\n",
      "1506379\n",
      "1506379\n",
      "1506379\n",
      "(6249, 6)\n",
      "6\n",
      "1471466\n",
      "1475127\n",
      "1475127\n",
      "1475127\n",
      "(6364, 6)\n",
      "7\n",
      "1552561\n",
      "1562329\n",
      "1562329\n",
      "1562329\n",
      "(7102, 6)\n",
      "8\n",
      "1301100\n",
      "1305345\n",
      "1305345\n",
      "1305345\n",
      "(5129, 6)\n",
      "9\n",
      "1193964\n",
      "1193972\n",
      "1193972\n",
      "1193972\n",
      "(5580, 6)\n",
      "10\n",
      "1339061\n",
      "1339066\n",
      "1339066\n",
      "1339066\n",
      "(8000, 6)\n",
      "11\n",
      "1289082\n",
      "1289125\n",
      "1289125\n",
      "1289125\n",
      "(5084, 6)\n",
      "12\n",
      "1274263\n",
      "1276854\n",
      "1276854\n",
      "1276854\n",
      "(4606, 6)\n",
      "13\n",
      "797897\n",
      "803626\n",
      "803626\n",
      "803626\n",
      "(2174, 6)\n",
      "14\n",
      "858209\n",
      "858254\n",
      "858254\n",
      "858254\n",
      "(3335, 6)\n",
      "15\n",
      "863762\n",
      "868363\n",
      "868363\n",
      "868363\n",
      "(4290, 6)\n",
      "16\n",
      "1096745\n",
      "1096745\n",
      "1096745\n",
      "1096745\n",
      "(3249, 6)\n",
      "17\n",
      "1147496\n",
      "1152915\n",
      "1152915\n",
      "1152915\n",
      "(12569, 6)\n",
      "18\n",
      "677174\n",
      "677179\n",
      "677179\n",
      "677179\n",
      "(2401, 6)\n",
      "19\n",
      "1054829\n",
      "1055116\n",
      "1055116\n",
      "1055116\n",
      "(2255, 6)\n",
      "20\n",
      "717571\n",
      "717624\n",
      "717624\n",
      "717624\n",
      "(3692, 6)\n",
      "21\n",
      "372459\n",
      "380355\n",
      "380355\n",
      "380355\n",
      "(989, 6)\n",
      "22\n",
      "575094\n",
      "576289\n",
      "576289\n",
      "576289\n",
      "(2208, 6)\n"
     ]
    },
    {
     "data": {
      "image/png": "[encoded data removed]",
      "text/plain": [
       "<Figure size 432x288 with 1 Axes>"
      ]
     },
     "metadata": {
      "needs_background": "light"
     },
     "output_type": "display_data"
    },
    {
     "data": {
      "image/png": "[encoded data removed]",
      "text/plain": [
       "<Figure size 432x288 with 1 Axes>"
      ]
     },
     "metadata": {
      "needs_background": "light"
     },
     "output_type": "display_data"
    }
   ],
   "source": [
    "ggs=[]\n",
    "ezs=[]\n",
    "for ch in range(1,23):\n",
    "    print(ch,end='\\n')\n",
    "    dfs=[]\n",
    "    ez=ezh[ezh.chrom==str(ch)]\n",
    "    #ez=ezh[ezh.chrom=='chr'+str(ch)][ezh.sourceCount>1]\n",
    "    ez['r']=ez.apply(lambda x:range(x['chromStart'],x['chromEnd']),1)\n",
    "    ez=ez['r'].tolist()\n",
    "    ez1=set([item for sublist in ez for item in sublist])\n",
    "\n",
    "    ez=ez1#.intersection(ez2)#.intersection(ez1)\n",
    "    for cell in cells:\n",
    "        dfs=f(cell,ch)\n",
    "    df=pd.concat(dfs,1)\n",
    "    df.columns=['i','h','n','c']\n",
    "    df['ind']=df.index\n",
    "    df['ez']=df.ind.apply(lambda x: x in(ez))\n",
    "    gg=df[~df['ez']].mean()\n",
    "    ggs.append(gg)\n",
    "    ez=df[df.h<.5][df['ez']]\n",
    "    print(ez.shape)\n",
    "    ezs.append(ez.mean())   \n",
    "ggs=pd.DataFrame(ggs)\n",
    "ggs[['h','i','n','c']].plot(kind='bar')\n",
    "ezs=pd.DataFrame(ezs)\n",
    "ezs[['h','i','n','c']].plot(kind='bar')\n",
    "ggs.to_csv('ggs_skin')\n",
    "ezs.to_csv('ezs_skin')"
   ]
  },
  {
   "cell_type": "code",
   "execution_count": 13,
   "metadata": {},
   "outputs": [],
   "source": [
    "cells=skin\n",
    "cells=blood\n",
    "bws={}\n",
    "for cell in cells:\n",
    "    bws[cell]=pyBigWig.open(cell)"
   ]
  },
  {
   "cell_type": "code",
   "execution_count": 14,
   "metadata": {},
   "outputs": [
    {
     "name": "stdout",
     "output_type": "stream",
     "text": [
      "1\n",
      "2262349\n",
      "2264861\n",
      "2264861\n",
      "2264861\n"
     ]
    },
    {
     "name": "stderr",
     "output_type": "stream",
     "text": [
      "<ipython-input-14-641ae482c30c>:15: FutureWarning: In a future version of pandas all arguments of concat except for the argument 'objs' will be keyword-only\n",
      "  df=pd.concat(dfs,1)\n",
      "<ipython-input-14-641ae482c30c>:21: UserWarning: Boolean Series key will be reindexed to match DataFrame index.\n",
      "  ez=df[df.h<.5][df['ez']]\n"
     ]
    },
    {
     "name": "stdout",
     "output_type": "stream",
     "text": [
      "(7925, 6)\n",
      "2\n",
      "2152283\n",
      "2160685\n",
      "2160685\n",
      "2160685\n",
      "(13208, 6)\n",
      "3\n",
      "1621655\n",
      "1623298\n",
      "1623298\n",
      "1623298\n",
      "(3242, 6)\n",
      "4\n",
      "1461107\n",
      "1473490\n",
      "1473490\n",
      "1473490\n",
      "(4284, 6)\n",
      "5\n",
      "1506105\n",
      "1506379\n",
      "1506379\n",
      "1506379\n",
      "(6249, 6)\n",
      "6\n",
      "1471466\n",
      "1475127\n",
      "1475127\n",
      "1475127\n",
      "(6364, 6)\n",
      "7\n",
      "1552561\n",
      "1562329\n",
      "1562329\n",
      "1562329\n",
      "(7102, 6)\n",
      "8\n",
      "1301100\n",
      "1305345\n",
      "1305345\n",
      "1305345\n",
      "(5129, 6)\n",
      "9\n",
      "1193964\n",
      "1193972\n",
      "1193972\n",
      "1193972\n",
      "(5580, 6)\n",
      "10\n",
      "1339061\n",
      "1339066\n",
      "1339066\n",
      "1339066\n",
      "(8000, 6)\n",
      "11\n",
      "1289082\n",
      "1289125\n",
      "1289125\n",
      "1289125\n",
      "(5084, 6)\n",
      "12\n",
      "1274263\n",
      "1276854\n",
      "1276854\n",
      "1276854\n",
      "(4606, 6)\n",
      "13\n",
      "797897\n",
      "803626\n",
      "803626\n",
      "803626\n",
      "(2174, 6)\n",
      "14\n",
      "858209\n",
      "858254\n",
      "858254\n",
      "858254\n",
      "(3335, 6)\n",
      "15\n",
      "863762\n",
      "868363\n",
      "868363\n",
      "868363\n",
      "(4290, 6)\n",
      "16\n",
      "1096745\n",
      "1096745\n",
      "1096745\n",
      "1096745\n",
      "(3249, 6)\n",
      "17\n",
      "1147496\n",
      "1152915\n",
      "1152915\n",
      "1152915\n",
      "(12569, 6)\n",
      "18\n",
      "677174\n",
      "677179\n",
      "677179\n",
      "677179\n",
      "(2401, 6)\n",
      "19\n",
      "1054829\n",
      "1055116\n",
      "1055116\n",
      "1055116\n",
      "(2255, 6)\n",
      "20\n",
      "717571\n",
      "717624\n",
      "717624\n",
      "717624\n",
      "(3692, 6)\n",
      "21\n",
      "372459\n",
      "380355\n",
      "380355\n",
      "380355\n",
      "(989, 6)\n",
      "22\n",
      "575094\n",
      "576289\n",
      "576289\n",
      "576289\n",
      "(2208, 6)\n"
     ]
    },
    {
     "data": {
      "image/png": "[encoded data removed]",
      "text/plain": [
       "<Figure size 432x288 with 1 Axes>"
      ]
     },
     "metadata": {
      "needs_background": "light"
     },
     "output_type": "display_data"
    },
    {
     "data": {
      "image/png": "[encoded data removed]",
      "text/plain": [
       "<Figure size 432x288 with 1 Axes>"
      ]
     },
     "metadata": {
      "needs_background": "light"
     },
     "output_type": "display_data"
    }
   ],
   "source": [
    "ggs=[]\n",
    "ezs=[]\n",
    "for ch in range(1,23):\n",
    "    print(ch,end='\\n')\n",
    "    dfs=[]\n",
    "    ez=ezh[ezh.chrom==str(ch)]\n",
    "    #ez=ezh[ezh.chrom=='chr'+str(ch)][ezh.sourceCount>1]\n",
    "    ez['r']=ez.apply(lambda x:range(x['chromStart'],x['chromEnd']),1)\n",
    "    ez=ez['r'].tolist()\n",
    "    ez1=set([item for sublist in ez for item in sublist])\n",
    "\n",
    "    ez=ez1#.intersection(ez2)#.intersection(ez1)\n",
    "    for cell in cells:\n",
    "        dfs=f(cell,ch)\n",
    "    df=pd.concat(dfs,1)\n",
    "    df.columns=['i','h','n','c']\n",
    "    df['ind']=df.index\n",
    "    df['ez']=df.ind.apply(lambda x: x in(ez))\n",
    "    gg=df[~df['ez']].mean()\n",
    "    ggs.append(gg)\n",
    "    ez=df[df.h<.5][df['ez']]\n",
    "    print(ez.shape)\n",
    "    ezs.append(ez.mean())   \n",
    "ggs=pd.DataFrame(ggs)\n",
    "ggs[['h','i','n','c']].plot(kind='bar')\n",
    "ezs=pd.DataFrame(ezs)\n",
    "ezs[['h','i','n','c']].plot(kind='bar')\n",
    "ggs.to_csv('ggs_blood')\n",
    "ezs.to_csv('ezs_blood')"
   ]
  },
  {
   "cell_type": "code",
   "execution_count": null,
   "metadata": {},
   "outputs": [],
   "source": []
  }
 ],
 "metadata": {
  "kernelspec": {
   "display_name": "stem",
   "language": "python",
   "name": "stem"
  },
  "language_info": {
   "codemirror_mode": {
    "name": "ipython",
    "version": 3
   },
   "file_extension": ".py",
   "mimetype": "text/x-python",
   "name": "python",
   "nbconvert_exporter": "python",
   "pygments_lexer": "ipython3",
   "version": "3.9.2"
  }
 },
 "nbformat": 4,
 "nbformat_minor": 4
}
