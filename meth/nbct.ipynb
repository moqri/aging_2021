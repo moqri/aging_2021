{
 "cells": [
  {
   "cell_type": "code",
   "execution_count": 170,
   "metadata": {},
   "outputs": [],
   "source": [
    "import pandas as pd\n",
    "import pyBigWig\n",
    "nbct_file='https://ftp.ncbi.nlm.nih.gov/geo/series/GSE30nnn/GSE30870/matrix/GSE30870_series_matrix.txt.gz'\n",
    "md_file='https://ftp.ncbi.nlm.nih.gov/geo/series/GSE33nnn/GSE33233/matrix/GSE33233_series_matrix.txt.gz'\n",
    "nb_file='http://smithdata.usc.edu/methbase/data/Heyn-Human-NewbornCentenarian-2012/Human_CD4T-Newborn/tracks_hg19/Human_CD4T-Newborn.hmr.bb'\n",
    "ct_file='http://smithdata.usc.edu/methbase/data/Heyn-Human-NewbornCentenarian-2012/Human_CD4T-100yr/tracks_hg19/Human_CD4T-100yr.hmr.bb'\n",
    "data='/oak/stanford/groups/smontgom/moqri/data/meth/'"
   ]
  },
  {
   "cell_type": "code",
   "execution_count": 173,
   "metadata": {},
   "outputs": [
    {
     "data": {
      "text/plain": [
       "(485577, 19)"
      ]
     },
     "execution_count": 173,
     "metadata": {},
     "output_type": "execute_result"
    }
   ],
   "source": [
    "md=pd.read_table(md_file,skiprows=65,index_col=0)\n",
    "md=md.drop('!series_matrix_table_end')\n",
    "md.shape"
   ]
  },
  {
   "cell_type": "code",
   "execution_count": 177,
   "metadata": {},
   "outputs": [],
   "source": [
    "md=md.T"
   ]
  },
  {
   "cell_type": "code",
   "execution_count": 179,
   "metadata": {},
   "outputs": [],
   "source": [
    "md['age']=1"
   ]
  },
  {
   "cell_type": "code",
   "execution_count": 175,
   "metadata": {},
   "outputs": [
    {
     "data": {
      "text/plain": [
       "(485577, 40)"
      ]
     },
     "execution_count": 175,
     "metadata": {},
     "output_type": "execute_result"
    }
   ],
   "source": [
    "df=pd.read_table(nbct_file,skiprows=63,index_col=0)\n",
    "df=df.drop('!series_matrix_table_end')\n",
    "df.shape"
   ]
  },
  {
   "cell_type": "code",
   "execution_count": 180,
   "metadata": {},
   "outputs": [],
   "source": [
    "meta=pd.read_table(nbct_file,skiprows=36,nrows=0,index_col=0).columns\n",
    "meta=meta.str.split('.').str[0]"
   ]
  },
  {
   "cell_type": "code",
   "execution_count": 181,
   "metadata": {},
   "outputs": [],
   "source": [
    "df=df.T"
   ]
  },
  {
   "cell_type": "code",
   "execution_count": 183,
   "metadata": {},
   "outputs": [],
   "source": [
    "df['age']=meta"
   ]
  },
  {
   "cell_type": "code",
   "execution_count": 184,
   "metadata": {},
   "outputs": [],
   "source": [
    "df['age']=df['age'].replace({'Newborns':0,'Nonagenarians':2})"
   ]
  },
  {
   "cell_type": "code",
   "execution_count": 187,
   "metadata": {},
   "outputs": [],
   "source": [
    "df=df.append(md)"
   ]
  },
  {
   "cell_type": "code",
   "execution_count": 219,
   "metadata": {},
   "outputs": [],
   "source": [
    "m=df[df.age==2].median()-df[df.age==1].mean()"
   ]
  },
  {
   "cell_type": "code",
   "execution_count": 220,
   "metadata": {},
   "outputs": [
    {
     "data": {
      "text/plain": [
       "0.10021117631578946"
      ]
     },
     "execution_count": 220,
     "metadata": {},
     "output_type": "execute_result"
    }
   ],
   "source": [
    "m.loc['cg16867657']"
   ]
  },
  {
   "cell_type": "code",
   "execution_count": 221,
   "metadata": {},
   "outputs": [
    {
     "data": {
      "text/plain": [
       "ID_REF\n",
       "rs1416770    -0.412047\n",
       "cg23169883   -0.366867\n",
       "cg21139150   -0.360438\n",
       "cg22712983   -0.334640\n",
       "cg05398700   -0.330450\n",
       "                ...   \n",
       "cg24016855    0.481423\n",
       "cg26475999    0.483198\n",
       "cg08635406    0.497174\n",
       "cg03515816    0.506447\n",
       "age           1.000000\n",
       "Length: 485578, dtype: float64"
      ]
     },
     "execution_count": 221,
     "metadata": {},
     "output_type": "execute_result"
    }
   ],
   "source": [
    "m=m.sort_values()\n",
    "m"
   ]
  },
  {
   "cell_type": "code",
   "execution_count": 203,
   "metadata": {},
   "outputs": [],
   "source": [
    "cor=df.corrwith(df.age).drop('age')"
   ]
  },
  {
   "cell_type": "code",
   "execution_count": 205,
   "metadata": {},
   "outputs": [
    {
     "data": {
      "text/plain": [
       "ID_REF\n",
       "cg05903736   -0.961131\n",
       "cg13984040   -0.958694\n",
       "cg10501210   -0.955425\n",
       "cg26644674   -0.952691\n",
       "cg20133890   -0.951530\n",
       "                ...   \n",
       "cg23500537    0.952199\n",
       "cg08362785    0.953763\n",
       "cg24724428    0.954871\n",
       "cg18473521    0.957376\n",
       "cg07553761    0.962487\n",
       "Length: 485577, dtype: float64"
      ]
     },
     "execution_count": 205,
     "metadata": {},
     "output_type": "execute_result"
    }
   ],
   "source": [
    "cor=cor.sort_values()\n",
    "cor"
   ]
  },
  {
   "cell_type": "code",
   "execution_count": 230,
   "metadata": {},
   "outputs": [
    {
     "data": {
      "text/plain": [
       "<AxesSubplot:xlabel='age', ylabel='cg06782035'>"
      ]
     },
     "execution_count": 230,
     "metadata": {},
     "output_type": "execute_result"
    },
    {
     "data": {
      "image/png": "[encoded data removed]",
      "text/plain": [
       "<Figure size 432x288 with 1 Axes>"
      ]
     },
     "metadata": {
      "needs_background": "light"
     },
     "output_type": "display_data"
    }
   ],
   "source": [
    "t=cor.index[-1]\n",
    "t='cg06782035'\n",
    "df[['age',t]].plot.scatter('age',t)"
   ]
  },
  {
   "cell_type": "code",
   "execution_count": 110,
   "metadata": {},
   "outputs": [
    {
     "name": "stdout",
     "output_type": "stream",
     "text": [
      "(4089, 4)\n",
      "(3163, 4)\n"
     ]
    }
   ],
   "source": [
    "ch=2\n",
    "nb=pyBigWig.open(nb_file)\n",
    "nb=nb.entries(\"chr\"+str(ch),0,-1)\n",
    "nb=pd.DataFrame(nb)\n",
    "nb['d']=nb[1]-nb[0]\n",
    "print(nb.shape)\n",
    "ct=pyBigWig.open(ct_file)\n",
    "ct=ct.entries(\"chr\"+str(ch),0,-1)\n",
    "ct=pd.DataFrame(ct)\n",
    "ct['d']=ct[1]-ct[0]\n",
    "print(ct.shape)"
   ]
  },
  {
   "cell_type": "code",
   "execution_count": 88,
   "metadata": {},
   "outputs": [
    {
     "name": "stdout",
     "output_type": "stream",
     "text": [
      "145842\n"
     ]
    }
   ],
   "source": [
    "man=pd.read_csv(data+'manm.csv',index_col=0)\n",
    "print(man.shape)\n",
    "cgi=man[man['Relation_to_UCSC_CpG_Island']=='Island']\n",
    "print(len(cgi))"
   ]
  },
  {
   "cell_type": "code",
   "execution_count": 90,
   "metadata": {},
   "outputs": [
    {
     "data": {
      "text/plain": [
       "ID_REF\n",
       "cg23201812   -0.997746\n",
       "cg16146033   -0.997557\n",
       "cg02535219   -0.997266\n",
       "cg10406027   -0.996495\n",
       "cg06688910   -0.996211\n",
       "                ...   \n",
       "cg03065175    0.992866\n",
       "cg01511232    0.993769\n",
       "cg00135497    0.997236\n",
       "cg25241559    0.997388\n",
       "age           1.000000\n",
       "Length: 485578, dtype: float64"
      ]
     },
     "execution_count": 90,
     "metadata": {},
     "output_type": "execute_result"
    }
   ],
   "source": [
    "cor"
   ]
  },
  {
   "cell_type": "code",
   "execution_count": 263,
   "metadata": {},
   "outputs": [],
   "source": [
    "t=['cg17885226', 'cg12392473', 'cg27506082', 'cg23495748', 'cg11970349',\n",
    "       'cg16614527', 'cg07806886', 'cg17816394', 'cg25078444', 'cg23239109',\n",
    "       'cg12400336', 'cg20442599', 'cg19560758', 'cg08039301', 'cg05167251',\n",
    "       'cg21200656', 'cg20491914', 'cg13788515', 'cg08160331', 'cg18322569',\n",
    "       'cg25026529', 'cg11215976', 'cg04400972', 'cg27320127', 'cg07642566',\n",
    "       'cg13786089', 'cg18473521', 'cg18815943', 'cg22158769', 'cg09410607',\n",
    "       'cg00384539', 'cg19029181', 'cg18961681', 'cg15448975', 'cg09401099',\n",
    "       'cg25236230', 'cg25124276', 'cg12377139', 'cg06829686', 'cg11220950',\n",
    "       'cg14168923', 'cg00745389', 'cg00751156', 'cg09688588', 'cg17783401',\n",
    "       'cg19922137', 'cg17916490', 'cg26307359', 'cg07547549', 'cg14674720',\n",
    "       'cg23026864', 'cg26921969', 'cg02925367', 'cg07060551', 'cg14556303',\n",
    "       'cg16419235', 'cg05991454', 'cg18247055', 'cg08578136', 'cg22285878',\n",
    "       'cg13029847', 'cg23328622', 'cg03738025', 'cg20426994', 'cg00976453',\n",
    "       'cg19798832', 'cg21200408', 'cg06335143', 'cg25778262', 'cg04875128',\n",
    "       'cg21801378', 'cg00094518', 'cg02650266', 'cg23479922', 'cg18898125',\n",
    "       'cg09499629', 'cg26290632', 'cg18257814', 'cg05758434', 'cg22851420',\n",
    "       'cg06204735', 'cg25410668', 'cg13954457', 'cg17110586', 'cg26885220',\n",
    "       'cg23606718', 'cg02479575', 'cg11705975', 'cg07955995', 'cg04940570',\n",
    "       'cg06782035', 'cg21572722', 'cg08097417', 'cg24724428', 'cg22454769',\n",
    "       'cg14361627', 'cg06784991', 'cg06639320', 'cg07544187', 'cg16867657']\n",
    "t=man.loc[t]"
   ]
  },
  {
   "cell_type": "code",
   "execution_count": 264,
   "metadata": {},
   "outputs": [],
   "source": [
    "nbs=[]\n",
    "for i in t[t.CHR==2].MAPINFO.values:\n",
    "    match=nb[(nb[0]<i) & (nb[1]>i)]\n",
    "    if len(match)>0:\n",
    "        nbs.append(match.iloc[0])"
   ]
  },
  {
   "cell_type": "code",
   "execution_count": 267,
   "metadata": {},
   "outputs": [
    {
     "data": {
      "text/html": [
       "<div>\n",
       "<style scoped>\n",
       "    .dataframe tbody tr th:only-of-type {\n",
       "        vertical-align: middle;\n",
       "    }\n",
       "\n",
       "    .dataframe tbody tr th {\n",
       "        vertical-align: top;\n",
       "    }\n",
       "\n",
       "    .dataframe thead th {\n",
       "        text-align: right;\n",
       "    }\n",
       "</style>\n",
       "<table border=\"1\" class=\"dataframe\">\n",
       "  <thead>\n",
       "    <tr style=\"text-align: right;\">\n",
       "      <th></th>\n",
       "      <th>0</th>\n",
       "      <th>1</th>\n",
       "      <th>2</th>\n",
       "      <th>d</th>\n",
       "      <th>r</th>\n",
       "    </tr>\n",
       "  </thead>\n",
       "  <tbody>\n",
       "    <tr>\n",
       "      <th>327</th>\n",
       "      <td>11809741</td>\n",
       "      <td>11810432</td>\n",
       "      <td>HYPO31113\\t79</td>\n",
       "      <td>691</td>\n",
       "      <td>False</td>\n",
       "    </tr>\n",
       "    <tr>\n",
       "      <th>590</th>\n",
       "      <td>26914935</td>\n",
       "      <td>26916608</td>\n",
       "      <td>HYPO31376\\t148</td>\n",
       "      <td>1673</td>\n",
       "      <td>False</td>\n",
       "    </tr>\n",
       "    <tr>\n",
       "      <th>812</th>\n",
       "      <td>39187083</td>\n",
       "      <td>39187921</td>\n",
       "      <td>HYPO31598\\t112</td>\n",
       "      <td>838</td>\n",
       "      <td>False</td>\n",
       "    </tr>\n",
       "    <tr>\n",
       "      <th>977</th>\n",
       "      <td>47796026</td>\n",
       "      <td>47799389</td>\n",
       "      <td>HYPO31763\\t284</td>\n",
       "      <td>3363</td>\n",
       "      <td>False</td>\n",
       "    </tr>\n",
       "    <tr>\n",
       "      <th>1048</th>\n",
       "      <td>55645518</td>\n",
       "      <td>55647898</td>\n",
       "      <td>HYPO31834\\t110</td>\n",
       "      <td>2380</td>\n",
       "      <td>False</td>\n",
       "    </tr>\n",
       "    <tr>\n",
       "      <th>1926</th>\n",
       "      <td>106014630</td>\n",
       "      <td>106015874</td>\n",
       "      <td>HYPO32713\\t100</td>\n",
       "      <td>1244</td>\n",
       "      <td>False</td>\n",
       "    </tr>\n",
       "    <tr>\n",
       "      <th>1926</th>\n",
       "      <td>106014630</td>\n",
       "      <td>106015874</td>\n",
       "      <td>HYPO32713\\t100</td>\n",
       "      <td>1244</td>\n",
       "      <td>False</td>\n",
       "    </tr>\n",
       "    <tr>\n",
       "      <th>2406</th>\n",
       "      <td>131512533</td>\n",
       "      <td>131515083</td>\n",
       "      <td>HYPO33194\\t144</td>\n",
       "      <td>2550</td>\n",
       "      <td>False</td>\n",
       "    </tr>\n",
       "    <tr>\n",
       "      <th>2856</th>\n",
       "      <td>176981980</td>\n",
       "      <td>176991040</td>\n",
       "      <td>HYPO33646\\t373</td>\n",
       "      <td>9060</td>\n",
       "      <td>False</td>\n",
       "    </tr>\n",
       "    <tr>\n",
       "      <th>3183</th>\n",
       "      <td>207138761</td>\n",
       "      <td>207140855</td>\n",
       "      <td>HYPO33973\\t141</td>\n",
       "      <td>2094</td>\n",
       "      <td>False</td>\n",
       "    </tr>\n",
       "    <tr>\n",
       "      <th>3183</th>\n",
       "      <td>207138761</td>\n",
       "      <td>207140855</td>\n",
       "      <td>HYPO33973\\t141</td>\n",
       "      <td>2094</td>\n",
       "      <td>False</td>\n",
       "    </tr>\n",
       "    <tr>\n",
       "      <th>3183</th>\n",
       "      <td>207138761</td>\n",
       "      <td>207140855</td>\n",
       "      <td>HYPO33973\\t141</td>\n",
       "      <td>2094</td>\n",
       "      <td>False</td>\n",
       "    </tr>\n",
       "    <tr>\n",
       "      <th>3183</th>\n",
       "      <td>207138761</td>\n",
       "      <td>207140855</td>\n",
       "      <td>HYPO33973\\t141</td>\n",
       "      <td>2094</td>\n",
       "      <td>False</td>\n",
       "    </tr>\n",
       "    <tr>\n",
       "      <th>3276</th>\n",
       "      <td>217235360</td>\n",
       "      <td>217237536</td>\n",
       "      <td>HYPO34066\\t118</td>\n",
       "      <td>2176</td>\n",
       "      <td>False</td>\n",
       "    </tr>\n",
       "    <tr>\n",
       "      <th>3276</th>\n",
       "      <td>217235360</td>\n",
       "      <td>217237536</td>\n",
       "      <td>HYPO34066\\t118</td>\n",
       "      <td>2176</td>\n",
       "      <td>False</td>\n",
       "    </tr>\n",
       "    <tr>\n",
       "      <th>3368</th>\n",
       "      <td>219827161</td>\n",
       "      <td>219828760</td>\n",
       "      <td>HYPO34158\\t59</td>\n",
       "      <td>1599</td>\n",
       "      <td>False</td>\n",
       "    </tr>\n",
       "  </tbody>\n",
       "</table>\n",
       "</div>"
      ],
      "text/plain": [
       "              0          1               2     d      r\n",
       "327    11809741   11810432   HYPO31113\\t79   691  False\n",
       "590    26914935   26916608  HYPO31376\\t148  1673  False\n",
       "812    39187083   39187921  HYPO31598\\t112   838  False\n",
       "977    47796026   47799389  HYPO31763\\t284  3363  False\n",
       "1048   55645518   55647898  HYPO31834\\t110  2380  False\n",
       "1926  106014630  106015874  HYPO32713\\t100  1244  False\n",
       "1926  106014630  106015874  HYPO32713\\t100  1244  False\n",
       "2406  131512533  131515083  HYPO33194\\t144  2550  False\n",
       "2856  176981980  176991040  HYPO33646\\t373  9060  False\n",
       "3183  207138761  207140855  HYPO33973\\t141  2094  False\n",
       "3183  207138761  207140855  HYPO33973\\t141  2094  False\n",
       "3183  207138761  207140855  HYPO33973\\t141  2094  False\n",
       "3183  207138761  207140855  HYPO33973\\t141  2094  False\n",
       "3276  217235360  217237536  HYPO34066\\t118  2176  False\n",
       "3276  217235360  217237536  HYPO34066\\t118  2176  False\n",
       "3368  219827161  219828760   HYPO34158\\t59  1599  False"
      ]
     },
     "execution_count": 267,
     "metadata": {},
     "output_type": "execute_result"
    }
   ],
   "source": [
    "pd.DataFrame(nbs).sort_values(0)"
   ]
  },
  {
   "cell_type": "code",
   "execution_count": 268,
   "metadata": {},
   "outputs": [],
   "source": [
    "cts=[]\n",
    "for i in t[t.CHR==2].MAPINFO.values:\n",
    "    match=ct[(ct[0]<i) & (ct[1]>i)]\n",
    "    if len(match)>0:\n",
    "        cts.append(match.iloc[0])"
   ]
  },
  {
   "cell_type": "code",
   "execution_count": 269,
   "metadata": {},
   "outputs": [
    {
     "data": {
      "text/html": [
       "<div>\n",
       "<style scoped>\n",
       "    .dataframe tbody tr th:only-of-type {\n",
       "        vertical-align: middle;\n",
       "    }\n",
       "\n",
       "    .dataframe tbody tr th {\n",
       "        vertical-align: top;\n",
       "    }\n",
       "\n",
       "    .dataframe thead th {\n",
       "        text-align: right;\n",
       "    }\n",
       "</style>\n",
       "<table border=\"1\" class=\"dataframe\">\n",
       "  <thead>\n",
       "    <tr style=\"text-align: right;\">\n",
       "      <th></th>\n",
       "      <th>0</th>\n",
       "      <th>1</th>\n",
       "      <th>2</th>\n",
       "      <th>d</th>\n",
       "    </tr>\n",
       "  </thead>\n",
       "  <tbody>\n",
       "    <tr>\n",
       "      <th>217</th>\n",
       "      <td>11809909</td>\n",
       "      <td>11810424</td>\n",
       "      <td>HYPO23553\\t57</td>\n",
       "      <td>515</td>\n",
       "    </tr>\n",
       "    <tr>\n",
       "      <th>398</th>\n",
       "      <td>26915083</td>\n",
       "      <td>26916523</td>\n",
       "      <td>HYPO23734\\t137</td>\n",
       "      <td>1440</td>\n",
       "    </tr>\n",
       "    <tr>\n",
       "      <th>571</th>\n",
       "      <td>39187316</td>\n",
       "      <td>39187857</td>\n",
       "      <td>HYPO23907\\t70</td>\n",
       "      <td>541</td>\n",
       "    </tr>\n",
       "    <tr>\n",
       "      <th>701</th>\n",
       "      <td>47796283</td>\n",
       "      <td>47799185</td>\n",
       "      <td>HYPO24037\\t276</td>\n",
       "      <td>2902</td>\n",
       "    </tr>\n",
       "    <tr>\n",
       "      <th>752</th>\n",
       "      <td>55646316</td>\n",
       "      <td>55647983</td>\n",
       "      <td>HYPO24088\\t101</td>\n",
       "      <td>1667</td>\n",
       "    </tr>\n",
       "    <tr>\n",
       "      <th>1798</th>\n",
       "      <td>131512533</td>\n",
       "      <td>131514588</td>\n",
       "      <td>HYPO25134\\t133</td>\n",
       "      <td>2055</td>\n",
       "    </tr>\n",
       "    <tr>\n",
       "      <th>2203</th>\n",
       "      <td>176986666</td>\n",
       "      <td>176987586</td>\n",
       "      <td>HYPO25539\\t80</td>\n",
       "      <td>920</td>\n",
       "    </tr>\n",
       "    <tr>\n",
       "      <th>2491</th>\n",
       "      <td>207138962</td>\n",
       "      <td>207140797</td>\n",
       "      <td>HYPO25827\\t137</td>\n",
       "      <td>1835</td>\n",
       "    </tr>\n",
       "    <tr>\n",
       "      <th>2491</th>\n",
       "      <td>207138962</td>\n",
       "      <td>207140797</td>\n",
       "      <td>HYPO25827\\t137</td>\n",
       "      <td>1835</td>\n",
       "    </tr>\n",
       "    <tr>\n",
       "      <th>2491</th>\n",
       "      <td>207138962</td>\n",
       "      <td>207140797</td>\n",
       "      <td>HYPO25827\\t137</td>\n",
       "      <td>1835</td>\n",
       "    </tr>\n",
       "    <tr>\n",
       "      <th>2491</th>\n",
       "      <td>207138962</td>\n",
       "      <td>207140797</td>\n",
       "      <td>HYPO25827\\t137</td>\n",
       "      <td>1835</td>\n",
       "    </tr>\n",
       "    <tr>\n",
       "      <th>2562</th>\n",
       "      <td>217235360</td>\n",
       "      <td>217237536</td>\n",
       "      <td>HYPO25898\\t118</td>\n",
       "      <td>2176</td>\n",
       "    </tr>\n",
       "    <tr>\n",
       "      <th>2562</th>\n",
       "      <td>217235360</td>\n",
       "      <td>217237536</td>\n",
       "      <td>HYPO25898\\t118</td>\n",
       "      <td>2176</td>\n",
       "    </tr>\n",
       "    <tr>\n",
       "      <th>2633</th>\n",
       "      <td>219827572</td>\n",
       "      <td>219828760</td>\n",
       "      <td>HYPO25969\\t49</td>\n",
       "      <td>1188</td>\n",
       "    </tr>\n",
       "  </tbody>\n",
       "</table>\n",
       "</div>"
      ],
      "text/plain": [
       "              0          1               2     d\n",
       "217    11809909   11810424   HYPO23553\\t57   515\n",
       "398    26915083   26916523  HYPO23734\\t137  1440\n",
       "571    39187316   39187857   HYPO23907\\t70   541\n",
       "701    47796283   47799185  HYPO24037\\t276  2902\n",
       "752    55646316   55647983  HYPO24088\\t101  1667\n",
       "1798  131512533  131514588  HYPO25134\\t133  2055\n",
       "2203  176986666  176987586   HYPO25539\\t80   920\n",
       "2491  207138962  207140797  HYPO25827\\t137  1835\n",
       "2491  207138962  207140797  HYPO25827\\t137  1835\n",
       "2491  207138962  207140797  HYPO25827\\t137  1835\n",
       "2491  207138962  207140797  HYPO25827\\t137  1835\n",
       "2562  217235360  217237536  HYPO25898\\t118  2176\n",
       "2562  217235360  217237536  HYPO25898\\t118  2176\n",
       "2633  219827572  219828760   HYPO25969\\t49  1188"
      ]
     },
     "execution_count": 269,
     "metadata": {},
     "output_type": "execute_result"
    }
   ],
   "source": [
    "pd.DataFrame(cts).sort_values(0)"
   ]
  },
  {
   "cell_type": "code",
   "execution_count": 168,
   "metadata": {},
   "outputs": [
    {
     "data": {
      "text/plain": [
       "0        233350167\n",
       "1        233350967\n",
       "2    HYPO26207\\t90\n",
       "d              800\n",
       "Name: 2871, dtype: object"
      ]
     },
     "execution_count": 168,
     "metadata": {},
     "output_type": "execute_result"
    }
   ],
   "source": [
    "ct.iloc[2871]"
   ]
  },
  {
   "cell_type": "code",
   "execution_count": 167,
   "metadata": {},
   "outputs": [
    {
     "data": {
      "text/plain": [
       "0         233350979\n",
       "1         233352815\n",
       "2    HYPO26208\\t216\n",
       "d              1836\n",
       "Name: 2872, dtype: object"
      ]
     },
     "execution_count": 167,
     "metadata": {},
     "output_type": "execute_result"
    }
   ],
   "source": [
    "ct.iloc[2871]"
   ]
  },
  {
   "cell_type": "code",
   "execution_count": 246,
   "metadata": {},
   "outputs": [
    {
     "data": {
      "text/plain": [
       "<AxesSubplot:xlabel='ID_REF'>"
      ]
     },
     "execution_count": 246,
     "metadata": {},
     "output_type": "execute_result"
    },
    {
     "data": {
      "image/png": "[encoded data removed]",
      "text/plain": [
       "<Figure size 432x288 with 1 Axes>"
      ]
     },
     "metadata": {
      "needs_background": "light"
     },
     "output_type": "display_data"
    }
   ],
   "source": [
    "df[t+['age']].groupby('age').mean().T.plot.line()"
   ]
  },
  {
   "cell_type": "code",
   "execution_count": null,
   "metadata": {},
   "outputs": [],
   "source": []
  }
 ],
 "metadata": {
  "kernelspec": {
   "display_name": "stem",
   "language": "python",
   "name": "stem"
  },
  "language_info": {
   "codemirror_mode": {
    "name": "ipython",
    "version": 3
   },
   "file_extension": ".py",
   "mimetype": "text/x-python",
   "name": "python",
   "nbconvert_exporter": "python",
   "pygments_lexer": "ipython3",
   "version": "3.9.2"
  }
 },
 "nbformat": 4,
 "nbformat_minor": 4
}
