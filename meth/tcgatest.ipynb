{
 "cells": [
  {
   "cell_type": "code",
   "execution_count": 81,
   "metadata": {},
   "outputs": [],
   "source": [
    "import pandas as pd\n",
    "data='/oak/stanford/groups/smontgom/moqri/data/meth/'\n",
    "UCS_f='http://gdac.broadinstitute.org/runs/stddata__2016_01_28/data/UCS/20160128/gdac.broadinstitute.org_UCS.Merge_methylation__humanmethylation450__jhu_usc_edu__Level_3__within_bioassay_data_set_function__data.Level_3.2016012800.0.0.tar.gz'\n",
    "CHOL_file='http://gdac.broadinstitute.org/runs/stddata__2016_01_28/data/CHOL/20160128/gdac.broadinstitute.org_CHOL.Merge_methylation__humanmethylation450__jhu_usc_edu__Level_3__within_bioassay_data_set_function__data.Level_3.2016012800.0.0.tar.gz'"
   ]
  },
  {
   "cell_type": "code",
   "execution_count": 7,
   "metadata": {},
   "outputs": [],
   "source": [
    "!wget -q -nc {CHOL_file} -O {data}CHOL.tar.gz\n",
    "!tar -xf {data}CHOL.tar.gz -C data"
   ]
  },
  {
   "cell_type": "code",
   "execution_count": 82,
   "metadata": {},
   "outputs": [],
   "source": [
    "!wget -q -nc {UCS_f} -O {data}UCS.tar.gz\n",
    "!tar -xf {data}UCS.tar.gz -C data"
   ]
  },
  {
   "cell_type": "code",
   "execution_count": 61,
   "metadata": {},
   "outputs": [],
   "source": [
    "CHOL=pd.read_table(data+'CHOL.methylation__humanmethylation450__jhu_usc_edu__Level_3__within_bioassay_data_set_function__data.data.txt',\n",
    "                   index_col=0,skiprows=1,usecols=[0]+list(range(1,180, 4)))"
   ]
  },
  {
   "cell_type": "code",
   "execution_count": 31,
   "metadata": {},
   "outputs": [
    {
     "data": {
      "text/plain": [
       "Index(['TCGA-3X-AAV9-01A-72D-A418-05', 'TCGA-3X-AAV9-01A-72D-A418-05.1',\n",
       "       'TCGA-3X-AAV9-01A-72D-A418-05.2', 'TCGA-3X-AAV9-01A-72D-A418-05.3',\n",
       "       'TCGA-3X-AAVA-01A-11D-A418-05', 'TCGA-3X-AAVA-01A-11D-A418-05.1',\n",
       "       'TCGA-3X-AAVA-01A-11D-A418-05.2', 'TCGA-3X-AAVA-01A-11D-A418-05.3',\n",
       "       'TCGA-3X-AAVB-01A-31D-A418-05', 'TCGA-3X-AAVB-01A-31D-A418-05.1',\n",
       "       ...\n",
       "       'TCGA-ZH-A8Y8-01A-51D-A418-05.1', 'TCGA-ZH-A8Y8-01A-51D-A418-05.2',\n",
       "       'TCGA-ZH-A8Y8-01A-51D-A418-05.3', 'TCGA-ZU-A8S4-11A-11D-A418-05',\n",
       "       'TCGA-ZU-A8S4-11A-11D-A418-05.1', 'TCGA-ZU-A8S4-11A-11D-A418-05.2',\n",
       "       'TCGA-ZU-A8S4-11A-11D-A418-05.3', 'TCGA-ZU-A8S4-01A-11D-A418-05',\n",
       "       'TCGA-ZU-A8S4-01A-11D-A418-05.1', 'TCGA-ZU-A8S4-01A-11D-A418-05.2'],\n",
       "      dtype='object', length=179)"
      ]
     },
     "execution_count": 31,
     "metadata": {},
     "output_type": "execute_result"
    }
   ],
   "source": [
    "pd.read_table(data+'CHOL.methylation__humanmethylation450__jhu_usc_edu__Level_3__within_bioassay_data_set_function__data.data.txt',\n",
    "              index_col=0,nrows=0,usecols=[0]+list(range(1,180, 4))).columns"
   ]
  },
  {
   "cell_type": "code",
   "execution_count": 83,
   "metadata": {},
   "outputs": [],
   "source": [
    "UCS_f=pd.read_table(data+'gdac.broadinstitute.org_UCS.Merge_methylation__humanmethylation450__jhu_usc_edu__Level_3__within_bioassay_data_set_function__data.Level_3.2016012800.0.0/UCS.methylation__humanmethylation450__jhu_usc_edu__Level_3__within_bioassay_data_set_function__data.data.txt',\n",
    "                   index_col=0,skiprows=1,usecols=[0]+list(range(1,180, 4)))"
   ]
  },
  {
   "cell_type": "code",
   "execution_count": 86,
   "metadata": {},
   "outputs": [
    {
     "data": {
      "text/plain": [
       "<AxesSubplot:>"
      ]
     },
     "execution_count": 86,
     "metadata": {},
     "output_type": "execute_result"
    },
    {
     "data": {
      "image/png": "[encoded data removed]",
      "text/plain": [
       "<Figure size 432x288 with 1 Axes>"
      ]
     },
     "metadata": {
      "needs_background": "light"
     },
     "output_type": "display_data"
    }
   ],
   "source": [
    "UCS_f['Beta_value.20'].hist(bins=100)"
   ]
  },
  {
   "cell_type": "code",
   "execution_count": 87,
   "metadata": {},
   "outputs": [
    {
     "data": {
      "text/plain": [
       "<AxesSubplot:>"
      ]
     },
     "execution_count": 87,
     "metadata": {},
     "output_type": "execute_result"
    },
    {
     "data": {
      "image/png": "[encoded data removed]",
      "text/plain": [
       "<Figure size 432x288 with 1 Axes>"
      ]
     },
     "metadata": {
      "needs_background": "light"
     },
     "output_type": "display_data"
    }
   ],
   "source": [
    "UCS_f['Beta_value.19'].hist(bins=100)"
   ]
  },
  {
   "cell_type": "code",
   "execution_count": 84,
   "metadata": {},
   "outputs": [
    {
     "data": {
      "text/plain": [
       "Beta_value.20    0.216125\n",
       "Beta_value       0.248398\n",
       "Beta_value.6     0.248890\n",
       "Beta_value.16    0.289449\n",
       "Beta_value.26    0.290644\n",
       "Beta_value.24    0.298454\n",
       "Beta_value.11    0.302051\n",
       "Beta_value.8     0.302564\n",
       "Beta_value.10    0.331679\n",
       "Beta_value.2     0.354147\n",
       "Beta_value.27    0.356079\n",
       "Beta_value.9     0.358437\n",
       "Beta_value.35    0.362942\n",
       "Beta_value.13    0.364340\n",
       "Beta_value.17    0.368462\n",
       "Beta_value.31    0.375247\n",
       "Beta_value.12    0.376441\n",
       "Beta_value.22    0.379364\n",
       "Beta_value.44    0.383123\n",
       "Beta_value.40    0.392518\n",
       "Beta_value.37    0.398776\n",
       "Beta_value.1     0.401383\n",
       "Beta_value.15    0.401437\n",
       "Beta_value.39    0.406521\n",
       "Beta_value.4     0.408222\n",
       "Beta_value.32    0.417663\n",
       "Beta_value.14    0.423320\n",
       "Beta_value.33    0.423354\n",
       "Beta_value.7     0.424868\n",
       "Beta_value.34    0.425447\n",
       "Beta_value.21    0.425614\n",
       "Beta_value.18    0.429001\n",
       "Beta_value.5     0.430349\n",
       "Beta_value.3     0.439748\n",
       "Beta_value.30    0.441369\n",
       "Beta_value.38    0.450869\n",
       "Beta_value.41    0.451693\n",
       "Beta_value.28    0.461593\n",
       "Beta_value.42    0.466186\n",
       "Beta_value.43    0.483628\n",
       "Beta_value.29    0.484646\n",
       "Beta_value.23    0.495434\n",
       "Beta_value.25    0.500854\n",
       "Beta_value.36    0.509806\n",
       "Beta_value.19    0.542589\n",
       "dtype: float64"
      ]
     },
     "execution_count": 84,
     "metadata": {},
     "output_type": "execute_result"
    }
   ],
   "source": [
    "UCS_f.median().sort_values()"
   ]
  },
  {
   "cell_type": "code",
   "execution_count": null,
   "metadata": {},
   "outputs": [],
   "source": []
  }
 ],
 "metadata": {
  "kernelspec": {
   "display_name": "stem",
   "language": "python",
   "name": "stem"
  },
  "language_info": {
   "codemirror_mode": {
    "name": "ipython",
    "version": 3
   },
   "file_extension": ".py",
   "mimetype": "text/x-python",
   "name": "python",
   "nbconvert_exporter": "python",
   "pygments_lexer": "ipython3",
   "version": "3.9.2"
  }
 },
 "nbformat": 4,
 "nbformat_minor": 4
}
