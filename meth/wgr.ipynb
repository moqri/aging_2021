{
 "cells": [
  {
   "cell_type": "code",
   "execution_count": 16,
   "metadata": {},
   "outputs": [],
   "source": [
    "import pandas as pd\n",
    "import pyBigWig\n",
    "\n",
    "data='/labs/mpsnyder/moqri/data/meth/'\n",
    "\n",
    "v='38'\n",
    "ezh_pk='https://ftp.ncbi.nlm.nih.gov/geo/series/GSE76nnn/GSE76626/suppl/GSE76626_ChIP-Seq_RPM.txt.gz' #hg38\n",
    "h_bw='http://smithdata.usc.edu/methbase/data/Xie-Human-2013/Human_H9/tracks_hg'+v+'/Human_H9.meth.bw'\n",
    "\n",
    "epic_f='https://ftp.ncbi.nlm.nih.gov/geo/series/GSE111nnn/GSE111165/suppl/GSE111165_data_processed_detection_p_val_EPIC.csv.gz'\n",
    "epic_mf='https://webdata.illumina.com/downloads/productfiles/methylationEPIC/infinium-methylationepic-v-1-0-b5-manifest-file-csv.zip'\n",
    "man450='https://zhouserver.research.chop.edu/InfiniumAnnotation/20180909/HM450/HM450.hg38.manifest.tsv.gz'"
   ]
  },
  {
   "cell_type": "code",
   "execution_count": 48,
   "metadata": {},
   "outputs": [],
   "source": [
    "chr=6"
   ]
  },
  {
   "cell_type": "code",
   "execution_count": 18,
   "metadata": {},
   "outputs": [],
   "source": [
    "h=pyBigWig.open(h_bw)"
   ]
  },
  {
   "cell_type": "code",
   "execution_count": 19,
   "metadata": {},
   "outputs": [
    {
     "data": {
      "text/plain": [
       "186247"
      ]
     },
     "execution_count": 19,
     "metadata": {},
     "output_type": "execute_result"
    }
   ],
   "source": [
    "h1=h.intervals(\"chr\"+str(ch))\n",
    "h1=pd.DataFrame(h1)\n",
    "h1=h1[h1[2]<.5]\n",
    "h1=set(h1[1].tolist())\n",
    "len(h1)"
   ]
  },
  {
   "cell_type": "code",
   "execution_count": 93,
   "metadata": {},
   "outputs": [
    {
     "name": "stderr",
     "output_type": "stream",
     "text": [
      "/home/moqri/anaconda3/envs/stem/lib/python3.9/site-packages/IPython/core/interactiveshell.py:3437: DtypeWarning: Columns (1) have mixed types.Specify dtype option on import or set low_memory=False.\n",
      "  exec(code_obj, self.user_global_ns, self.user_ns)\n"
     ]
    },
    {
     "data": {
      "text/plain": [
       "(3240, 4)"
      ]
     },
     "execution_count": 93,
     "metadata": {},
     "output_type": "execute_result"
    }
   ],
   "source": [
    "ezh=pd.read_table(ezh_pk,index_col=0)\n",
    "ezh=ezh[ezh.Chromosome!='MT']\n",
    "ezh=ezh[['Chromosome','Start','End','WT_EZH2']][ezh['WT_EZH2']>1]\n",
    "ezh.columns=['chrom', 'chromStart', 'chromEnd', 'value']\n",
    "ezh['chrom']=ezh.chrom.astype(str)\n",
    "ezh.shape"
   ]
  },
  {
   "cell_type": "code",
   "execution_count": 119,
   "metadata": {},
   "outputs": [
    {
     "data": {
      "text/html": [
       "<div>\n",
       "<style scoped>\n",
       "    .dataframe tbody tr th:only-of-type {\n",
       "        vertical-align: middle;\n",
       "    }\n",
       "\n",
       "    .dataframe tbody tr th {\n",
       "        vertical-align: top;\n",
       "    }\n",
       "\n",
       "    .dataframe thead th {\n",
       "        text-align: right;\n",
       "    }\n",
       "</style>\n",
       "<table border=\"1\" class=\"dataframe\">\n",
       "  <thead>\n",
       "    <tr style=\"text-align: right;\">\n",
       "      <th></th>\n",
       "      <th>chrom</th>\n",
       "      <th>chromStart</th>\n",
       "      <th>chromEnd</th>\n",
       "      <th>value</th>\n",
       "    </tr>\n",
       "    <tr>\n",
       "      <th>Probe</th>\n",
       "      <th></th>\n",
       "      <th></th>\n",
       "      <th></th>\n",
       "      <th></th>\n",
       "    </tr>\n",
       "  </thead>\n",
       "  <tbody>\n",
       "    <tr>\n",
       "      <th>MDGA1-003_upstream</th>\n",
       "      <td>6</td>\n",
       "      <td>37694311</td>\n",
       "      <td>37699311</td>\n",
       "      <td>2.534737</td>\n",
       "    </tr>\n",
       "    <tr>\n",
       "      <th>MDGA1-001_upstream</th>\n",
       "      <td>6</td>\n",
       "      <td>37695490</td>\n",
       "      <td>37700490</td>\n",
       "      <td>2.576863</td>\n",
       "    </tr>\n",
       "    <tr>\n",
       "      <th>MDGA1-007_upstream</th>\n",
       "      <td>6</td>\n",
       "      <td>37696806</td>\n",
       "      <td>37701806</td>\n",
       "      <td>2.287644</td>\n",
       "    </tr>\n",
       "    <tr>\n",
       "      <th>RP1-244F24.1-001_upstream</th>\n",
       "      <td>6</td>\n",
       "      <td>45419505</td>\n",
       "      <td>45424505</td>\n",
       "      <td>1.949774</td>\n",
       "    </tr>\n",
       "    <tr>\n",
       "      <th>RUNX2-009_upstream</th>\n",
       "      <td>6</td>\n",
       "      <td>45419536</td>\n",
       "      <td>45424536</td>\n",
       "      <td>1.949774</td>\n",
       "    </tr>\n",
       "    <tr>\n",
       "      <th>...</th>\n",
       "      <td>...</td>\n",
       "      <td>...</td>\n",
       "      <td>...</td>\n",
       "      <td>...</td>\n",
       "    </tr>\n",
       "    <tr>\n",
       "      <th>T-004_upstream</th>\n",
       "      <td>6</td>\n",
       "      <td>166166171</td>\n",
       "      <td>166171171</td>\n",
       "      <td>2.443764</td>\n",
       "    </tr>\n",
       "    <tr>\n",
       "      <th>T-002_upstream</th>\n",
       "      <td>6</td>\n",
       "      <td>166166200</td>\n",
       "      <td>166171200</td>\n",
       "      <td>2.443764</td>\n",
       "    </tr>\n",
       "    <tr>\n",
       "      <th>PRR18-001_upstream</th>\n",
       "      <td>6</td>\n",
       "      <td>166305883</td>\n",
       "      <td>166310883</td>\n",
       "      <td>1.652678</td>\n",
       "    </tr>\n",
       "    <tr>\n",
       "      <th>PRR18-002_upstream</th>\n",
       "      <td>6</td>\n",
       "      <td>166305948</td>\n",
       "      <td>166310948</td>\n",
       "      <td>1.652678</td>\n",
       "    </tr>\n",
       "    <tr>\n",
       "      <th>DLL1-001_upstream</th>\n",
       "      <td>6</td>\n",
       "      <td>170287973</td>\n",
       "      <td>170292973</td>\n",
       "      <td>2.284470</td>\n",
       "    </tr>\n",
       "  </tbody>\n",
       "</table>\n",
       "<p>84 rows × 4 columns</p>\n",
       "</div>"
      ],
      "text/plain": [
       "                          chrom  chromStart   chromEnd     value\n",
       "Probe                                                           \n",
       "MDGA1-003_upstream            6    37694311   37699311  2.534737\n",
       "MDGA1-001_upstream            6    37695490   37700490  2.576863\n",
       "MDGA1-007_upstream            6    37696806   37701806  2.287644\n",
       "RP1-244F24.1-001_upstream     6    45419505   45424505  1.949774\n",
       "RUNX2-009_upstream            6    45419536   45424536  1.949774\n",
       "...                         ...         ...        ...       ...\n",
       "T-004_upstream                6   166166171  166171171  2.443764\n",
       "T-002_upstream                6   166166200  166171200  2.443764\n",
       "PRR18-001_upstream            6   166305883  166310883  1.652678\n",
       "PRR18-002_upstream            6   166305948  166310948  1.652678\n",
       "DLL1-001_upstream             6   170287973  170292973  2.284470\n",
       "\n",
       "[84 rows x 4 columns]"
      ]
     },
     "execution_count": 119,
     "metadata": {},
     "output_type": "execute_result"
    }
   ],
   "source": [
    "ezh[(ezh.chrom=='6')&(ezh.chromStart>37000000)]"
   ]
  },
  {
   "cell_type": "code",
   "execution_count": 94,
   "metadata": {},
   "outputs": [
    {
     "name": "stderr",
     "output_type": "stream",
     "text": [
      "/home/moqri/anaconda3/envs/stem/lib/python3.9/site-packages/pandas/core/frame.py:3607: SettingWithCopyWarning: \n",
      "A value is trying to be set on a copy of a slice from a DataFrame.\n",
      "Try using .loc[row_indexer,col_indexer] = value instead\n",
      "\n",
      "See the caveats in the documentation: https://pandas.pydata.org/pandas-docs/stable/user_guide/indexing.html#returning-a-view-versus-a-copy\n",
      "  self._set_item(key, value)\n"
     ]
    }
   ],
   "source": [
    "ezs={}\n",
    "for ch in range(1,23):\n",
    "    dfs=[]\n",
    "    ez=ezh[ezh.chrom==str(ch)]\n",
    "    ez['r']=ez.apply(lambda x:range(x['chromStart'],x['chromEnd']),1)\n",
    "    ez=ez['r'].tolist()\n",
    "    ez=set([item for sublist in ez for item in sublist])    \n",
    "    ezs[ch]=ez"
   ]
  },
  {
   "cell_type": "code",
   "execution_count": 95,
   "metadata": {},
   "outputs": [
    {
     "data": {
      "text/plain": [
       "265750"
      ]
     },
     "execution_count": 95,
     "metadata": {},
     "output_type": "execute_result"
    }
   ],
   "source": [
    "len(ezs[chr])"
   ]
  },
  {
   "cell_type": "code",
   "execution_count": 27,
   "metadata": {},
   "outputs": [],
   "source": [
    "man=pd.read_table(data+'HM450.hg38.manifest.tsv.gz')"
   ]
  },
  {
   "cell_type": "code",
   "execution_count": 30,
   "metadata": {},
   "outputs": [],
   "source": [
    "man.index=man.probeID"
   ]
  },
  {
   "cell_type": "code",
   "execution_count": 34,
   "metadata": {},
   "outputs": [
    {
     "data": {
      "text/plain": [
       "(36613, 57)"
      ]
     },
     "execution_count": 34,
     "metadata": {},
     "output_type": "execute_result"
    }
   ],
   "source": [
    "man=man[man.CpG_chrm=='chr6']\n",
    "man.shape"
   ]
  },
  {
   "cell_type": "code",
   "execution_count": 38,
   "metadata": {},
   "outputs": [],
   "source": [
    "man['c']=man.CpG_beg+1"
   ]
  },
  {
   "cell_type": "code",
   "execution_count": 125,
   "metadata": {},
   "outputs": [
    {
     "data": {
      "text/plain": [
       "False"
      ]
     },
     "execution_count": 125,
     "metadata": {},
     "output_type": "execute_result"
    }
   ],
   "source": [
    "37667555 in ezs[chr]"
   ]
  },
  {
   "cell_type": "code",
   "execution_count": 96,
   "metadata": {},
   "outputs": [
    {
     "data": {
      "text/plain": [
       "(902, 58)"
      ]
     },
     "execution_count": 96,
     "metadata": {},
     "output_type": "execute_result"
    }
   ],
   "source": [
    "e1=man[man.c.isin(ezs[chr])&man.c.isin(h1)]\n",
    "e1.shape"
   ]
  },
  {
   "cell_type": "code",
   "execution_count": 63,
   "metadata": {},
   "outputs": [],
   "source": [
    "cell='t'\n",
    "df=pd.read_feather(data+cell+'.ft')\n",
    "df=df.set_index('index')"
   ]
  },
  {
   "cell_type": "code",
   "execution_count": 97,
   "metadata": {},
   "outputs": [],
   "source": [
    "ii=e1.index.intersection(df.columns)"
   ]
  },
  {
   "cell_type": "code",
   "execution_count": 99,
   "metadata": {},
   "outputs": [],
   "source": [
    "df['m']=df[ii].median(1)"
   ]
  },
  {
   "cell_type": "code",
   "execution_count": 100,
   "metadata": {},
   "outputs": [
    {
     "data": {
      "text/html": [
       "<div>\n",
       "<style scoped>\n",
       "    .dataframe tbody tr th:only-of-type {\n",
       "        vertical-align: middle;\n",
       "    }\n",
       "\n",
       "    .dataframe tbody tr th {\n",
       "        vertical-align: top;\n",
       "    }\n",
       "\n",
       "    .dataframe thead th {\n",
       "        text-align: right;\n",
       "    }\n",
       "</style>\n",
       "<table border=\"1\" class=\"dataframe\">\n",
       "  <thead>\n",
       "    <tr style=\"text-align: right;\">\n",
       "      <th></th>\n",
       "      <th>m</th>\n",
       "      <th>age</th>\n",
       "    </tr>\n",
       "    <tr>\n",
       "      <th>index</th>\n",
       "      <th></th>\n",
       "      <th></th>\n",
       "    </tr>\n",
       "  </thead>\n",
       "  <tbody>\n",
       "    <tr>\n",
       "      <th>100507.Mvalue</th>\n",
       "      <td>0.150409</td>\n",
       "      <td>45</td>\n",
       "    </tr>\n",
       "    <tr>\n",
       "      <th>101075.Mvalue</th>\n",
       "      <td>0.141114</td>\n",
       "      <td>45</td>\n",
       "    </tr>\n",
       "    <tr>\n",
       "      <th>100193.Mvalue</th>\n",
       "      <td>0.147032</td>\n",
       "      <td>45</td>\n",
       "    </tr>\n",
       "    <tr>\n",
       "      <th>101045.Mvalue</th>\n",
       "      <td>0.144775</td>\n",
       "      <td>45</td>\n",
       "    </tr>\n",
       "    <tr>\n",
       "      <th>100934.Mvalue</th>\n",
       "      <td>0.145781</td>\n",
       "      <td>45</td>\n",
       "    </tr>\n",
       "    <tr>\n",
       "      <th>...</th>\n",
       "      <td>...</td>\n",
       "      <td>...</td>\n",
       "    </tr>\n",
       "    <tr>\n",
       "      <th>101240.Mvalue</th>\n",
       "      <td>0.149940</td>\n",
       "      <td>76</td>\n",
       "    </tr>\n",
       "    <tr>\n",
       "      <th>100827.Mvalue</th>\n",
       "      <td>0.146967</td>\n",
       "      <td>77</td>\n",
       "    </tr>\n",
       "    <tr>\n",
       "      <th>100094.Mvalue</th>\n",
       "      <td>0.140396</td>\n",
       "      <td>78</td>\n",
       "    </tr>\n",
       "    <tr>\n",
       "      <th>100251.Mvalue</th>\n",
       "      <td>0.168391</td>\n",
       "      <td>79</td>\n",
       "    </tr>\n",
       "    <tr>\n",
       "      <th>100846.Mvalue</th>\n",
       "      <td>0.144305</td>\n",
       "      <td>79</td>\n",
       "    </tr>\n",
       "  </tbody>\n",
       "</table>\n",
       "<p>214 rows × 2 columns</p>\n",
       "</div>"
      ],
      "text/plain": [
       "                      m  age\n",
       "index                       \n",
       "100507.Mvalue  0.150409   45\n",
       "101075.Mvalue  0.141114   45\n",
       "100193.Mvalue  0.147032   45\n",
       "101045.Mvalue  0.144775   45\n",
       "100934.Mvalue  0.145781   45\n",
       "...                 ...  ...\n",
       "101240.Mvalue  0.149940   76\n",
       "100827.Mvalue  0.146967   77\n",
       "100094.Mvalue  0.140396   78\n",
       "100251.Mvalue  0.168391   79\n",
       "100846.Mvalue  0.144305   79\n",
       "\n",
       "[214 rows x 2 columns]"
      ]
     },
     "execution_count": 100,
     "metadata": {},
     "output_type": "execute_result"
    }
   ],
   "source": [
    "df[['m','age']].sort_values('age')"
   ]
  },
  {
   "cell_type": "code",
   "execution_count": 104,
   "metadata": {},
   "outputs": [
    {
     "data": {
      "text/plain": [
       "cg24217844    0.028636\n",
       "cg25211525    0.029868\n",
       "cg26349375    0.031729\n",
       "cg21530045    0.032862\n",
       "cg10853637    0.032992\n",
       "                ...   \n",
       "cg09986316    0.825457\n",
       "cg13280063    0.847725\n",
       "cg07515565    0.872744\n",
       "cg02037794    0.873141\n",
       "cg04845615    0.888000\n",
       "Length: 902, dtype: float64"
      ]
     },
     "execution_count": 104,
     "metadata": {},
     "output_type": "execute_result"
    }
   ],
   "source": [
    "df[ii].mean().sort_values()"
   ]
  },
  {
   "cell_type": "code",
   "execution_count": 90,
   "metadata": {},
   "outputs": [
    {
     "data": {
      "text/html": [
       "<div>\n",
       "<style scoped>\n",
       "    .dataframe tbody tr th:only-of-type {\n",
       "        vertical-align: middle;\n",
       "    }\n",
       "\n",
       "    .dataframe tbody tr th {\n",
       "        vertical-align: top;\n",
       "    }\n",
       "\n",
       "    .dataframe thead th {\n",
       "        text-align: right;\n",
       "    }\n",
       "</style>\n",
       "<table border=\"1\" class=\"dataframe\">\n",
       "  <thead>\n",
       "    <tr style=\"text-align: right;\">\n",
       "      <th></th>\n",
       "      <th>cg16867657</th>\n",
       "      <th>age</th>\n",
       "    </tr>\n",
       "    <tr>\n",
       "      <th>index</th>\n",
       "      <th></th>\n",
       "      <th></th>\n",
       "    </tr>\n",
       "  </thead>\n",
       "  <tbody>\n",
       "    <tr>\n",
       "      <th>100507.Mvalue</th>\n",
       "      <td>0.669651</td>\n",
       "      <td>45</td>\n",
       "    </tr>\n",
       "    <tr>\n",
       "      <th>101075.Mvalue</th>\n",
       "      <td>0.661906</td>\n",
       "      <td>45</td>\n",
       "    </tr>\n",
       "    <tr>\n",
       "      <th>100193.Mvalue</th>\n",
       "      <td>0.640604</td>\n",
       "      <td>45</td>\n",
       "    </tr>\n",
       "    <tr>\n",
       "      <th>101045.Mvalue</th>\n",
       "      <td>0.613995</td>\n",
       "      <td>45</td>\n",
       "    </tr>\n",
       "    <tr>\n",
       "      <th>100934.Mvalue</th>\n",
       "      <td>0.660750</td>\n",
       "      <td>45</td>\n",
       "    </tr>\n",
       "    <tr>\n",
       "      <th>...</th>\n",
       "      <td>...</td>\n",
       "      <td>...</td>\n",
       "    </tr>\n",
       "    <tr>\n",
       "      <th>101240.Mvalue</th>\n",
       "      <td>0.757095</td>\n",
       "      <td>76</td>\n",
       "    </tr>\n",
       "    <tr>\n",
       "      <th>100827.Mvalue</th>\n",
       "      <td>0.787904</td>\n",
       "      <td>77</td>\n",
       "    </tr>\n",
       "    <tr>\n",
       "      <th>100094.Mvalue</th>\n",
       "      <td>0.746882</td>\n",
       "      <td>78</td>\n",
       "    </tr>\n",
       "    <tr>\n",
       "      <th>100251.Mvalue</th>\n",
       "      <td>0.656197</td>\n",
       "      <td>79</td>\n",
       "    </tr>\n",
       "    <tr>\n",
       "      <th>100846.Mvalue</th>\n",
       "      <td>0.724992</td>\n",
       "      <td>79</td>\n",
       "    </tr>\n",
       "  </tbody>\n",
       "</table>\n",
       "<p>214 rows × 2 columns</p>\n",
       "</div>"
      ],
      "text/plain": [
       "               cg16867657  age\n",
       "index                         \n",
       "100507.Mvalue    0.669651   45\n",
       "101075.Mvalue    0.661906   45\n",
       "100193.Mvalue    0.640604   45\n",
       "101045.Mvalue    0.613995   45\n",
       "100934.Mvalue    0.660750   45\n",
       "...                   ...  ...\n",
       "101240.Mvalue    0.757095   76\n",
       "100827.Mvalue    0.787904   77\n",
       "100094.Mvalue    0.746882   78\n",
       "100251.Mvalue    0.656197   79\n",
       "100846.Mvalue    0.724992   79\n",
       "\n",
       "[214 rows x 2 columns]"
      ]
     },
     "execution_count": 90,
     "metadata": {},
     "output_type": "execute_result"
    }
   ],
   "source": [
    "df[['cg16867657','age']].sort_values('age')"
   ]
  },
  {
   "cell_type": "code",
   "execution_count": 126,
   "metadata": {},
   "outputs": [
    {
     "data": {
      "text/plain": [
       "CpG_chrm                                                                 chr6\n",
       "CpG_beg                                                            37699778.0\n",
       "CpG_end                                                            37699780.0\n",
       "probe_strand                                                                -\n",
       "probeID                                                            cg04845615\n",
       "address_A                                                            31775427\n",
       "address_B                                                                 NaN\n",
       "channel                                                                  Both\n",
       "designType                                                                 II\n",
       "nextBase                                                                  G/A\n",
       "nextBaseRef                                                                 C\n",
       "probeType                                                                  cg\n",
       "orientation                                                              down\n",
       "probeCpGcnt                                                               1.0\n",
       "context35                                                                 1.0\n",
       "probeBeg                                                             37699780\n",
       "probeEnd                                                           37699829.0\n",
       "ProbeSeq_A                  ATTCRTAAATTCACTAAACATATCTACAACTAACATCTACTAAAAA...\n",
       "ProbeSeq_B                                                                NaN\n",
       "gene                                                                    MDGA1\n",
       "gene_HGNC                                                               MDGA1\n",
       "chrm_A                                                                   chr6\n",
       "beg_A                                                              37699780.0\n",
       "flag_A                                                                     16\n",
       "mapQ_A                                                                     60\n",
       "cigar_A                                                                   50M\n",
       "NM_A                                                                      0.0\n",
       "chrm_B                                                                    NaN\n",
       "beg_B                                                                     NaN\n",
       "flag_B                                                                    NaN\n",
       "mapQ_B                                                                    NaN\n",
       "cigar_B                                                                   NaN\n",
       "NM_B                                                                      NaN\n",
       "wDecoy_chrm_A                                                            chr6\n",
       "wDecoy_beg_A                                                       37699780.0\n",
       "wDecoy_flag_A                                                              16\n",
       "wDecoy_mapQ_A                                                              60\n",
       "wDecoy_cigar_A                                                            50M\n",
       "wDecoy_NM_A                                                               0.0\n",
       "wDecoy_chrm_B                                                             NaN\n",
       "wDecoy_beg_B                                                              NaN\n",
       "wDecoy_flag_B                                                             NaN\n",
       "wDecoy_mapQ_B                                                             NaN\n",
       "wDecoy_cigar_B                                                            NaN\n",
       "wDecoy_NM_B                                                               NaN\n",
       "posMatch                                                                  NaN\n",
       "MASK_mapping                                                            False\n",
       "MASK_typeINextBaseSwitch                                                False\n",
       "MASK_rmsk15                                                             False\n",
       "MASK_sub40_copy                                                         False\n",
       "MASK_sub35_copy                                                         False\n",
       "MASK_sub30_copy                                                         False\n",
       "MASK_sub25_copy                                                         False\n",
       "MASK_snp5_common                                                         True\n",
       "MASK_snp5_GMAF1p                                                         True\n",
       "MASK_extBase                                                            False\n",
       "MASK_general                                                             True\n",
       "c                                                                  37699779.0\n",
       "Name: cg04845615, dtype: object"
      ]
     },
     "execution_count": 126,
     "metadata": {},
     "output_type": "execute_result"
    }
   ],
   "source": [
    "man.loc['cg04845615']"
   ]
  },
  {
   "cell_type": "code",
   "execution_count": null,
   "metadata": {},
   "outputs": [],
   "source": []
  },
  {
   "cell_type": "code",
   "execution_count": null,
   "metadata": {},
   "outputs": [],
   "source": []
  },
  {
   "cell_type": "code",
   "execution_count": null,
   "metadata": {},
   "outputs": [],
   "source": [
    "e=pd.read_csv(epic_mf,skiprows=7,index_col=0)\n",
    "e=e[['CHR','Start_hg38','End_hg38']]\n",
    "ch=6\n",
    "len(ezs[ch-1])\n",
    "e1=e[e.CHR==str(ch)]\n",
    "e1['c']=e1.Start_hg38+1\n",
    "e1.shape"
   ]
  },
  {
   "cell_type": "code",
   "execution_count": 2,
   "metadata": {},
   "outputs": [
    {
     "name": "stderr",
     "output_type": "stream",
     "text": [
      "<ipython-input-2-c6c431b17e73>:3: FutureWarning: In a future version of pandas all arguments of DataFrame.drop except for the argument 'labels' will be keyword-only\n",
      "  df=df.drop('ID_REF',1)\n"
     ]
    }
   ],
   "source": [
    "df=pd.read_csv(epic_f,nrows=1000000,index_col=0)\n",
    "df.index=df.ID_REF\n",
    "df=df.drop('ID_REF',1)"
   ]
  },
  {
   "cell_type": "code",
   "execution_count": 142,
   "metadata": {},
   "outputs": [
    {
     "data": {
      "text/plain": [
       "201502810007_R02C01    0.610467\n",
       "200607090089_R08C01    0.630240\n",
       "200607090089_R01C01    0.626962\n",
       "201502850030_R04C01    0.625055\n",
       "dtype: float64"
      ]
     },
     "execution_count": 142,
     "metadata": {},
     "output_type": "execute_result"
    }
   ],
   "source": [
    "l=['201502810007_R02C01','200607090089_R08C01','200607090089_R01C01','201502850030_R04C01']\n",
    "df[l].mean()"
   ]
  },
  {
   "cell_type": "code",
   "execution_count": 143,
   "metadata": {},
   "outputs": [
    {
     "data": {
      "text/plain": [
       "201502810007_R02C01    0.019754\n",
       "200607090089_R08C01    0.017489\n",
       "200607090089_R01C01    0.050277\n",
       "201502850030_R04C01    0.194134\n",
       "Name: cg16867657, dtype: float64"
      ]
     },
     "execution_count": 143,
     "metadata": {},
     "output_type": "execute_result"
    }
   ],
   "source": [
    "df.loc['cg16867657'][l]"
   ]
  },
  {
   "cell_type": "code",
   "execution_count": 70,
   "metadata": {},
   "outputs": [
    {
     "name": "stderr",
     "output_type": "stream",
     "text": [
      "/home/moqri/anaconda3/envs/stem/lib/python3.9/site-packages/IPython/core/interactiveshell.py:3437: DtypeWarning: Columns (2,4,42,47) have mixed types.Specify dtype option on import or set low_memory=False.\n",
      "  exec(code_obj, self.user_global_ns, self.user_ns)\n"
     ]
    }
   ],
   "source": []
  },
  {
   "cell_type": "code",
   "execution_count": 79,
   "metadata": {},
   "outputs": [
    {
     "data": {
      "text/plain": [
       "(943, 4)"
      ]
     },
     "execution_count": 79,
     "metadata": {},
     "output_type": "execute_result"
    }
   ],
   "source": [
    "e1=e1[e1.c.isin(ezs[ch-1])&e1.c.isin(h1)]\n",
    "e1.shape"
   ]
  },
  {
   "cell_type": "code",
   "execution_count": 80,
   "metadata": {},
   "outputs": [],
   "source": [
    "ii=e1.index.intersection(df.index)"
   ]
  },
  {
   "cell_type": "code",
   "execution_count": 81,
   "metadata": {},
   "outputs": [],
   "source": [
    "dfi=df.loc[ii]"
   ]
  },
  {
   "cell_type": "code",
   "execution_count": 135,
   "metadata": {},
   "outputs": [
    {
     "data": {
      "text/plain": [
       "201502800040_R05C01    0.620659\n",
       "201502810041_R04C01    0.617868\n",
       "201502810008_R03C01    0.625173\n",
       "201502800040_R03C01    0.610210\n",
       "200392810139_R08C01    0.630829\n",
       "dtype: float64"
      ]
     },
     "execution_count": 135,
     "metadata": {},
     "output_type": "execute_result"
    }
   ],
   "source": [
    "df[l].mean()"
   ]
  },
  {
   "cell_type": "code",
   "execution_count": 144,
   "metadata": {},
   "outputs": [
    {
     "data": {
      "text/plain": [
       "201502810007_R02C01    0.111631\n",
       "200607090089_R08C01    0.121581\n",
       "200607090089_R01C01    0.126538\n",
       "201502850030_R04C01    0.124365\n",
       "dtype: float64"
      ]
     },
     "execution_count": 144,
     "metadata": {},
     "output_type": "execute_result"
    }
   ],
   "source": [
    "dfi[l].mean()"
   ]
  },
  {
   "cell_type": "code",
   "execution_count": 128,
   "metadata": {},
   "outputs": [
    {
     "data": {
      "text/plain": [
       "201502810041_R04C01    0.325579\n",
       "201502810008_R03C01    0.369649\n",
       "201502800040_R03C01    0.533525\n",
       "200392810139_R08C01    0.747467\n",
       "Name: cg16867657, dtype: float64"
      ]
     },
     "execution_count": 128,
     "metadata": {},
     "output_type": "execute_result"
    }
   ],
   "source": [
    "dfi.loc['cg16867657'][l]"
   ]
  },
  {
   "cell_type": "code",
   "execution_count": 91,
   "metadata": {},
   "outputs": [],
   "source": [
    "dfi['m']=dfi[l].mean(1)"
   ]
  },
  {
   "cell_type": "code",
   "execution_count": 127,
   "metadata": {},
   "outputs": [],
   "source": [
    "dfi=dfi.drop(dfi[dfi[[li+'_Detection_P_value' for li in l]].sum(1)>0].index)"
   ]
  },
  {
   "cell_type": "code",
   "execution_count": null,
   "metadata": {},
   "outputs": [],
   "source": []
  }
 ],
 "metadata": {
  "kernelspec": {
   "display_name": "stem",
   "language": "python",
   "name": "stem"
  },
  "language_info": {
   "codemirror_mode": {
    "name": "ipython",
    "version": 3
   },
   "file_extension": ".py",
   "mimetype": "text/x-python",
   "name": "python",
   "nbconvert_exporter": "python",
   "pygments_lexer": "ipython3",
   "version": "3.9.2"
  }
 },
 "nbformat": 4,
 "nbformat_minor": 4
}
