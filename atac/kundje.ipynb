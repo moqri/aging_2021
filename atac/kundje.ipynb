{
 "cells": [
  {
   "cell_type": "code",
   "execution_count": 1,
   "metadata": {},
   "outputs": [],
   "source": [
    "import pandas as pd\n",
    "import numpy as np\n",
    "data='../../data/kundaje/bulk/croo/'"
   ]
  },
  {
   "cell_type": "code",
   "execution_count": 2,
   "metadata": {},
   "outputs": [],
   "source": [
    "days=['D0','D2','D4','D6','D8','D10','D12','D14','iPSC']\n",
    "peak='/peak/overlap_reproducibility/overlap.optimal_peak.narrowPeak.gz'"
   ]
  },
  {
   "cell_type": "code",
   "execution_count": 3,
   "metadata": {},
   "outputs": [
    {
     "name": "stderr",
     "output_type": "stream",
     "text": [
      "/home/moqri/anaconda3/envs/pyscenic2/lib/python3.7/site-packages/ipykernel_launcher.py:5: UserWarning: Boolean Series key will be reindexed to match DataFrame index.\n",
      "  \"\"\"\n"
     ]
    }
   ],
   "source": [
    "dfs={}\n",
    "for day in days:\n",
    "    df=pd.read_table(data+day+peak,header=None)\n",
    "    df=df[[0,1,2]].drop_duplicates()\n",
    "    df=df[df[0]!='chrY'][df[0]!='chrX']\n",
    "    df[0]=df[0].str.strip('chr').astype(int)\n",
    "    df=df.sort_values([0,1])\n",
    "    df['d']=df[2]-df[1]\n",
    "    dfs[day]=df"
   ]
  },
  {
   "cell_type": "code",
   "execution_count": 4,
   "metadata": {},
   "outputs": [
    {
     "name": "stdout",
     "output_type": "stream",
     "text": [
      "1,2,3,4,5,6,7,8,9,10,11,12,13,14,15,16,17,18,19,20,21,22,"
     ]
    },
    {
     "ename": "AttributeError",
     "evalue": "'method' object has no attribute 'columns'",
     "output_type": "error",
     "traceback": [
      "\u001b[0;31m---------------------------------------------------------------------------\u001b[0m",
      "\u001b[0;31mAttributeError\u001b[0m                            Traceback (most recent call last)",
      "\u001b[0;32m<ipython-input-4-face1c0ce6e3>\u001b[0m in \u001b[0;36m<module>\u001b[0;34m\u001b[0m\n\u001b[1;32m     25\u001b[0m     \u001b[0mlssds\u001b[0m\u001b[0;34m.\u001b[0m\u001b[0mappend\u001b[0m\u001b[0;34m(\u001b[0m\u001b[0mlssd\u001b[0m\u001b[0;34m)\u001b[0m\u001b[0;34m\u001b[0m\u001b[0;34m\u001b[0m\u001b[0m\n\u001b[1;32m     26\u001b[0m \u001b[0mdf0\u001b[0m\u001b[0;34m=\u001b[0m\u001b[0mdfs\u001b[0m\u001b[0;34m[\u001b[0m\u001b[0;34m'D0'\u001b[0m\u001b[0;34m]\u001b[0m\u001b[0;34m.\u001b[0m\u001b[0mcopy\u001b[0m\u001b[0;34m\u001b[0m\u001b[0;34m\u001b[0m\u001b[0m\n\u001b[0;32m---> 27\u001b[0;31m \u001b[0mdf0\u001b[0m\u001b[0;34m.\u001b[0m\u001b[0mcolumns\u001b[0m\u001b[0;34m=\u001b[0m\u001b[0;34m[\u001b[0m\u001b[0;34m'c'\u001b[0m\u001b[0;34m,\u001b[0m\u001b[0;34m'b'\u001b[0m\u001b[0;34m,\u001b[0m\u001b[0;34m'e'\u001b[0m\u001b[0;34m,\u001b[0m\u001b[0;34m'd'\u001b[0m\u001b[0;34m]\u001b[0m\u001b[0;34m\u001b[0m\u001b[0;34m\u001b[0m\u001b[0m\n\u001b[0m\u001b[1;32m     28\u001b[0m \u001b[0mloss\u001b[0m\u001b[0;34m=\u001b[0m\u001b[0mpd\u001b[0m\u001b[0;34m.\u001b[0m\u001b[0mconcat\u001b[0m\u001b[0;34m(\u001b[0m\u001b[0;34m[\u001b[0m\u001b[0mdf0\u001b[0m\u001b[0;34m.\u001b[0m\u001b[0mreset_index\u001b[0m\u001b[0;34m(\u001b[0m\u001b[0mdrop\u001b[0m\u001b[0;34m=\u001b[0m\u001b[0;32mTrue\u001b[0m\u001b[0;34m)\u001b[0m\u001b[0;34m,\u001b[0m\u001b[0mpd\u001b[0m\u001b[0;34m.\u001b[0m\u001b[0mconcat\u001b[0m\u001b[0;34m(\u001b[0m\u001b[0mlssds\u001b[0m\u001b[0;34m)\u001b[0m\u001b[0;34m.\u001b[0m\u001b[0mreset_index\u001b[0m\u001b[0;34m(\u001b[0m\u001b[0mdrop\u001b[0m\u001b[0;34m=\u001b[0m\u001b[0;32mTrue\u001b[0m\u001b[0;34m)\u001b[0m\u001b[0;34m]\u001b[0m\u001b[0;34m,\u001b[0m\u001b[0;36m1\u001b[0m\u001b[0;34m)\u001b[0m\u001b[0;34m\u001b[0m\u001b[0;34m\u001b[0m\u001b[0m\n\u001b[1;32m     29\u001b[0m \u001b[0mloss\u001b[0m\u001b[0;34m.\u001b[0m\u001b[0mto_csv\u001b[0m\u001b[0;34m(\u001b[0m\u001b[0;34m'bulk_loss.csv'\u001b[0m\u001b[0;34m)\u001b[0m\u001b[0;34m\u001b[0m\u001b[0;34m\u001b[0m\u001b[0m\n",
      "\u001b[0;31mAttributeError\u001b[0m: 'method' object has no attribute 'columns'"
     ]
    }
   ],
   "source": [
    "lssds=[]\n",
    "for ch in range(1,23):\n",
    "    print(ch,end=',')\n",
    "    df0=dfs['D0']\n",
    "    df0=df0[df0[0]==ch]\n",
    "    df0=df0.sort_values([1])    \n",
    "    df0=df0[[1,2]].values\n",
    "    lss=[]\n",
    "    for day in days:\n",
    "        df=dfs[day]\n",
    "        df=df[df[0]==ch]\n",
    "        df=df[[1,2]].values\n",
    "        ls=[]\n",
    "        for i in range(len(df0)):\n",
    "            r0=df0[i]\n",
    "            dt=r0.mean()\n",
    "            dfn=df[(df.mean(1)>dt-1000) & (df.mean(1)<dt+1000)]\n",
    "            l=0\n",
    "            for r in dfn:\n",
    "                com=len(set(range(r0[0],r0[1])).intersection(set(range(r[0],r[1]))))\n",
    "                l=max(l,com)    \n",
    "            ls.append(l)    \n",
    "        lss.append(ls)\n",
    "    lssd=pd.DataFrame(lss).T\n",
    "    lssds.append(lssd)\n",
    "df0=dfs['D0'].copy\n",
    "df0.columns=['c','b','e','d']\n",
    "loss=pd.concat([df0.reset_index(drop=True),pd.concat(lssds).reset_index(drop=True)],1)\n",
    "loss.to_csv('bulk_loss.csv')    "
   ]
  },
  {
   "cell_type": "code",
   "execution_count": 65,
   "metadata": {},
   "outputs": [
    {
     "name": "stdout",
     "output_type": "stream",
     "text": [
      "1,2,3,4,5,6,7,8,9,10,11,12,13,14,15,16,17,18,19,20,21,22,"
     ]
    }
   ],
   "source": [
    "lssds=[]\n",
    "for ch in range(1,23):\n",
    "    print(ch,end=',')\n",
    "    df0=dfs['iPSC']\n",
    "    df0=df0[df0[0]==ch]\n",
    "    df0=df0[[1,2]].values\n",
    "    lss=[]\n",
    "    for day in reversed(days):\n",
    "        df=dfs[day]\n",
    "        df=df[df[0]==ch]\n",
    "        df=df[[1,2]].values\n",
    "        ls=[]\n",
    "        for i in range(len(df0)):\n",
    "            r0=df0[i]\n",
    "            dt=r0.mean()\n",
    "            dfn=df[(df.mean(1)>dt-1000) & (df.mean(1)<dt+1000)]\n",
    "            l=0\n",
    "            for r in dfn:\n",
    "                com=len(set(range(r0[0],r0[1])).intersection(set(range(r[0],r[1]))))\n",
    "                l=max(l,com)    \n",
    "            ls.append(l)    \n",
    "        lss.append(ls)\n",
    "    lssd=pd.DataFrame(lss).T\n",
    "    lssds.append(lssd)\n",
    "df0=dfs['iPSC'].copy()\n",
    "df0.columns=['c','b','e','d']\n",
    "gain=pd.concat([df0.reset_index(drop=True),pd.concat(lssds).reset_index(drop=True)],1)\n",
    "gain.to_csv('bulk_gain.csv')    "
   ]
  },
  {
   "cell_type": "code",
   "execution_count": 30,
   "metadata": {},
   "outputs": [],
   "source": [
    "df=pd.read_csv('bulk_loss.csv',index_col=0)\n",
    "df=pd.read_csv('bulk_gain.csv',index_col=0)"
   ]
  },
  {
   "cell_type": "code",
   "execution_count": 59,
   "metadata": {},
   "outputs": [
    {
     "data": {
      "text/plain": [
       "(66414, 3)"
      ]
     },
     "execution_count": 59,
     "metadata": {},
     "output_type": "execute_result"
    }
   ],
   "source": [
    "gi=gain[gain['8']>0][['c','b','e']]\n",
    "gi.shape"
   ]
  },
  {
   "cell_type": "code",
   "execution_count": 60,
   "metadata": {},
   "outputs": [],
   "source": [
    "gi['c']='chr'+gi['c'].astype(str)"
   ]
  },
  {
   "cell_type": "code",
   "execution_count": 61,
   "metadata": {},
   "outputs": [],
   "source": [
    "gi.to_csv('b0.bed',header=False,sep='\\t',index=False)"
   ]
  },
  {
   "cell_type": "code",
   "execution_count": null,
   "metadata": {},
   "outputs": [],
   "source": []
  }
 ],
 "metadata": {
  "kernelspec": {
   "display_name": "Python 3",
   "language": "python",
   "name": "python3"
  },
  "language_info": {
   "codemirror_mode": {
    "name": "ipython",
    "version": 3
   },
   "file_extension": ".py",
   "mimetype": "text/x-python",
   "name": "python",
   "nbconvert_exporter": "python",
   "pygments_lexer": "ipython3",
   "version": "3.7.10"
  }
 },
 "nbformat": 4,
 "nbformat_minor": 4
}
